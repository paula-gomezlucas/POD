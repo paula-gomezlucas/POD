{
 "cells": [
  {
   "cell_type": "markdown",
   "metadata": {},
   "source": [
    "# Proyecto Open Data I\n",
    "## Radares, y su eficiencia en Madrid\n",
    "### Visualización de los datos\n",
    "Este cuaderno pretende enseñar la visualización los datos relativos a los radares en la ciudad de Madrid en mapas y otros objetos visuales.\n",
    "_Paula Gómez Lucas_"
   ]
  },
  {
   "cell_type": "code",
   "execution_count": 1,
   "metadata": {},
   "outputs": [],
   "source": [
    "# Importar librerías\n",
    "import os\n",
    "import json\n",
    "import pandas as pd\n",
    "import numpy as np\n",
    "import matplotlib.pyplot as plt"
   ]
  },
  {
   "cell_type": "code",
   "execution_count": 2,
   "metadata": {},
   "outputs": [],
   "source": [
    "ds = {}\n",
    "folder = \"limpios\"\n",
    "\n",
    "for file in os.listdir(folder):\n",
    "    filename = file[:-4]\n",
    "    filepath = folder + \"/\" + file\n",
    "    ds[filename] = pd.read_csv(filepath, sep=',', decimal='.', encoding='utf-8', low_memory=False)\n",
    "\n",
    "with open('diccionarios/distritoDict.json', 'r') as file:\n",
    "    distritoDict = json.load(file)\n",
    "with open('diccionarios/lesividadDict.json', 'r') as file:\n",
    "    lesividadDict = json.load(file)\n",
    "with open('diccionarios/accidenteDict.json', 'r') as file:\n",
    "    accidenteDict = json.load(file)\n",
    "\n",
    "def get_info(filename):\n",
    "    print(ds[filename].isnull().sum())\n",
    "    print(ds[filename].info())"
   ]
  },
  {
   "cell_type": "code",
   "execution_count": 3,
   "metadata": {},
   "outputs": [
    {
     "name": "stdout",
     "output_type": "stream",
     "text": [
      "padron tipo_vehículo\n",
      "TURISMO          103812\n",
      "MOTOCICLETA       34250\n",
      "CAMION            26312\n",
      "TRACTOR            5844\n",
      "CICLOMOTOR         5830\n",
      "REMOLQUE           3181\n",
      "AUTOBUS            1077\n",
      "SEMIRREMOLQUE        39\n",
      "Name: count, dtype: int64\n",
      "acc tipo_vehiculo\n",
      "turismo        134138\n",
      "Motocicleta     26741\n",
      "otros           16103\n",
      "furgoneta       13059\n",
      "Camión           5567\n",
      "Name: count, dtype: int64\n"
     ]
    }
   ],
   "source": [
    "padron = ds['padron']\n",
    "print('padron', padron['tipo_vehículo'].value_counts())\n",
    "accidentes = ds['accidentalidad']\n",
    "print('acc', accidentes['tipo_vehiculo'].value_counts())\n"
   ]
  },
  {
   "cell_type": "code",
   "execution_count": 4,
   "metadata": {},
   "outputs": [
    {
     "data": {
      "text/plain": [
       "(180345, 5)"
      ]
     },
     "execution_count": 4,
     "metadata": {},
     "output_type": "execute_result"
    }
   ],
   "source": [
    "padron.shape"
   ]
  },
  {
   "cell_type": "code",
   "execution_count": 9,
   "metadata": {},
   "outputs": [],
   "source": [
    "accidentes['año'] = pd.to_datetime(accidentes['fecha']).dt.year\n",
    "accidentes_por_distrito_y_año = accidentes.groupby(['distrito', 'año']).size().reset_index(name='numero_de_accidentes')\n",
    "\n",
    "accidentes_pivoted = accidentes_por_distrito_y_año.pivot_table(index='distrito', columns='año', values='numero_de_accidentes', fill_value=0)\n",
    "accidentes_pivoted.reset_index(inplace=True)\n",
    "accidentes_pivoted.to_csv('accidentes_por_distrito_y_año.csv', index=False)"
   ]
  },
  {
   "cell_type": "markdown",
   "metadata": {},
   "source": [
    "### Mapa de radares y accidentalidad:\n",
    "https://pinea.app.carto.com/map/1b6bf2a3-3da3-4687-94a6-9644dd5897bb\n",
    "\n",
    "### Mapa de iluminación respecto a la renta per cápita media\n",
    "https://pinea.app.carto.com/map/ad38a706-2753-40cf-94c8-52d1d5b99652\n",
    "\n",
    "### Mapa de iluminación respecto a la accidentalidad NOCTURNA:\n",
    "https://pinea.app.carto.com/map/bd972e8a-c642-48ab-bbbc-9b45a7d83761\n",
    "\n",
    "### Infografía Interactiva:\n",
    "https://infogram.com/visualizacionpodi-1h1749wkokdkl2z?live"
   ]
  }
 ],
 "metadata": {
  "kernelspec": {
   "display_name": "Python 3",
   "language": "python",
   "name": "python3"
  },
  "language_info": {
   "codemirror_mode": {
    "name": "ipython",
    "version": 3
   },
   "file_extension": ".py",
   "mimetype": "text/x-python",
   "name": "python",
   "nbconvert_exporter": "python",
   "pygments_lexer": "ipython3",
   "version": "3.12.2"
  }
 },
 "nbformat": 4,
 "nbformat_minor": 2
}
