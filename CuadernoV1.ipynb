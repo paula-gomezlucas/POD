{
 "cells": [
  {
   "cell_type": "markdown",
   "id": "403b90b536e46321",
   "metadata": {
    "collapsed": false
   },
   "source": [
    "# Proyecto Open Data I\n",
    "## Radares, y su eficiencia en la CAM\n",
    "### Recopilación, limpieza y tratamiento de los datos\n",
    "Este cuaderno pretende enseñar el proceso de limpieza de los datos relativos a los radares en la CAM\n",
    "_Paula Gómez Lucas, Alejandro Majado Martínez_"
   ]
  },
  {
   "cell_type": "code",
   "execution_count": 1,
   "id": "44d3e82a2b2af617",
   "metadata": {
    "collapsed": false,
    "ExecuteTime": {
     "end_time": "2023-12-20T10:21:00.738871500Z",
     "start_time": "2023-12-20T10:20:21.135691900Z"
    }
   },
   "outputs": [],
   "source": [
    "# Importar librerías\n",
    "import os\n",
    "import pandas as pd\n",
    "import matplotlib.pyplot as plt\n",
    "from matplotlib.ticker import PercentFormatter\n",
    "import seaborn as sns\n",
    "import numpy as np\n",
    "from pandas_summary import DataFrameSummary\n",
    "\n",
    "from scipy.stats import chisquare"
   ]
  },
  {
   "cell_type": "markdown",
   "id": "ae30c35b38b2cfe",
   "metadata": {
    "collapsed": false
   },
   "source": [
    "A continuación, se muestra la clase que está compuesta de todos los métodos que se encargan de la limpieza y transformación de los datos"
   ]
  },
  {
   "cell_type": "code",
   "execution_count": 2,
   "id": "18d478fe7f47cd57",
   "metadata": {
    "collapsed": false,
    "ExecuteTime": {
     "end_time": "2023-12-20T10:21:00.738871500Z",
     "start_time": "2023-12-20T10:20:21.150522500Z"
    }
   },
   "outputs": [],
   "source": [
    "class CSVDataLoader:\n",
    "    \"\"\"\n",
    "    A class for loading and cleaning CSV data from a specified folder path.\n",
    "\n",
    "    Attributes:\n",
    "    -----------\n",
    "    folder_path : str\n",
    "        The path to the folder containing the CSV files to be loaded.\n",
    "\n",
    "    data : dict\n",
    "        A dictionary containing the loaded CSV data, where the keys are the file names and the values are the corresponding dataframes.\n",
    "    \"\"\"\n",
    "\n",
    "    def __init__(self, folder_path):\n",
    "        \"\"\"\n",
    "        Initializes a CSVDataLoader object with the specified folder path.\n",
    "\n",
    "        Parameters:\n",
    "        -----------\n",
    "        folder_path : str\n",
    "            The path to the folder containing the CSV files to be loaded.\n",
    "        \"\"\"\n",
    "        self.folder_path = folder_path\n",
    "        self.data = {}\n",
    "        self.filename = []\n",
    "        self.keys = []\n",
    "\n",
    "    def load_data(self):\n",
    "        \"\"\"\n",
    "        Loads CSV data from the specified folder path into a dictionary.\n",
    "\n",
    "        Returns:\n",
    "        --------\n",
    "        None\n",
    "        \"\"\"\n",
    "        csv_files = [f for f in os.listdir(self.folder_path) if f.endswith('.csv')]\n",
    "        folders = (\"datasets/actuacionesBomberos\", \"datasets/estaciones\", \"datasets/accidentalidad\")\n",
    "        for folder in folders:\n",
    "            df = None\n",
    "            for file in os.listdir(folder):\n",
    "                filepath = folder + \"/\" + file\n",
    "                df1 = pd.read_csv(filepath, sep=';', encoding='utf-8', low_memory=False)\n",
    "                df = pd.concat([df, df1])\n",
    "            self.data[str(folder)] = df\n",
    "\n",
    "        for file_name in csv_files:\n",
    "            file_path = os.path.join(self.folder_path, file_name)\n",
    "            try:\n",
    "                df = pd.read_csv(file_path, sep=';', encoding='latin-1', low_memory=False)\n",
    "                self.data[str(file_name)] = df\n",
    "                self.filename.append(file_name)\n",
    "            except Exception as e:\n",
    "                print(f\"Error al leer {file_name}: {str(e)}\")\n",
    "\n",
    "        for value in self.data.keys():\n",
    "            self.keys.append(value)\n",
    "\n",
    "    def clean_data(self):\n",
    "        \"\"\"\n",
    "        Cleans the loaded CSV data by renaming columns, removing whitespace, dropping null values and duplicates, and converting date columns to datetime format.\n",
    "\n",
    "        Returns:\n",
    "        --------\n",
    "        None\n",
    "        \"\"\"\n",
    "        columna_borrar = \"Unnamed\"\n",
    "        for df in self.data:\n",
    "            for j in self.data[df].columns:\n",
    "                if columna_borrar in j:\n",
    "                    while j in self.data[df].columns:\n",
    "                        self.data[df] = self.data[df].drop(j, axis=1)\n",
    "                        self.data[df] = self.data[df].dropna(how='all', axis=0)\n",
    "                        \n",
    "            self.data[df] = self.data[df].rename(columns = lambda x: x.strip().lower().replace(' ', '_'))\n",
    "            self.data[df] = self.data[df].map(lambda x: x.strip() if isinstance(x, str) else x)\n",
    "            self.data[df] = self.data[df].dropna(how='all', axis=0)\n",
    "            self.data[df] = self.data[df].drop_duplicates()\n",
    "            self.data[df] = self.data[df].loc[:, ~self.data[df].columns.duplicated()]\n",
    "            self.data[df].columns = map(str.upper, self.data[df].columns)\n",
    "\n",
    "            if 'FECHA' in self.data[df].columns:\n",
    "                self.data[df]['FECHA'] = pd.to_datetime(self.data[df]['FECHA'], format='%d/%m/%Y')\n",
    "\n",
    "#           num_cols = self.data[i].select_dtypes(include='number').columns\n",
    "#           for col in num_cols:\n",
    "#               self.data[i][col] = self.data[i][col].fillna(self.data[i][col].mean())\n",
    "\n",
    "    def get_info(self, filename):\n",
    "        print(self.data[filename].isnull().sum())\n",
    "        print(self.data[filename].info())\n",
    "        \n",
    "    def get_nan_columns(self):\n",
    "        j = 0\n",
    "        for i in self.data:\n",
    "            print(self.keys[j])\n",
    "            self.get_info(i)\n",
    "            j+=1\n",
    "      \n",
    "    def get_cleaned_data(self):\n",
    "        \"\"\"\n",
    "        Returns the cleaned CSV data as a dictionary.\n",
    "\n",
    "        Returns:\n",
    "        --------\n",
    "        dict\n",
    "            A dictionary containing the cleaned CSV data, where the keys are the file names and the values are the corresponding dataframes.\n",
    "        \"\"\"\n",
    "        return self.data\n",
    "\n",
    "    def create_graph(df, colummn, name):\n",
    "        frec = df[''+str(colummn)].value_counts()\n",
    "        aux_df = pd.DataFrame(frec)\n",
    "        aux_df.columns = [\"Frecuencia absoluta\"]\n",
    "        aux_df[\"Frecuencia relativa\"] = 100*aux_df[\"Frecuencia absoluta\"] / len(df)\n",
    "        frec_rel_cumsum = aux_df[\"Frecuencia relativa\"].cumsum()\n",
    "        aux_df[\"Frecuencia relativa acumulada\"] = frec_rel_cumsum\n",
    "        fig = plt.figure()\n",
    "        ax = fig.add_subplot(1,1,1)\n",
    "        ax.set_title('Distribución de '+ str(name))\n",
    "        ax.bar(aux_df.index, aux_df['Frecuencia absoluta'], color='blue')\n",
    "        ax2 = ax.twinx()\n",
    "        ax2.plot(aux_df.index, aux_df['Frecuencia relativa acumulada'], color='red', marker='o', ms = 5)\n",
    "        ax2.yaxis.set_major_formatter(PercentFormatter())\n",
    "        ax.tick_params(axis='y', color = 'blue')\n",
    "        ax2.tick_params(axis='y', color = 'red')\n",
    "        ax.set_xticklabels(aux_df.index, rotation=90)\n",
    "        plt.show()\n",
    "\n",
    "    def dataframe_summary(self, filename):\n",
    "\n",
    "        numeric_mask = self.data[filename].select_dtypes(include='number').columns\n",
    "\n",
    "        # Create a DataFrameSummary object\n",
    "        summary = DataFrameSummary(self.data[filename][numeric_mask])\n",
    "    \n",
    "        # Display summary statistics\n",
    "        summary_stats = summary.summary()\n",
    "    \n",
    "        # Plot correlation matrix for all numeric columns\n",
    "        self.data[filename][numeric_mask].corr(method='pearson', numeric_only=True)\n",
    "\n",
    "        # Boxplot of each variable\n",
    "        #self.data[filename][numeric_mask].boxplot(figsize=(10, 8))\n",
    "\n",
    "        return summary_stats"
   ]
  },
  {
   "cell_type": "markdown",
   "id": "dd85edb70ad193c8",
   "metadata": {
    "collapsed": false
   },
   "source": [
    "Una vez está definida la clase con sus métodos, procedemos a declarar las variables que nos permiten trabajar con ello"
   ]
  },
  {
   "cell_type": "code",
   "execution_count": 3,
   "id": "283a71997af30bfb",
   "metadata": {
    "collapsed": false,
    "ExecuteTime": {
     "end_time": "2023-12-20T10:21:00.738871500Z",
     "start_time": "2023-12-20T10:20:21.156067400Z"
    }
   },
   "outputs": [],
   "source": [
    "folder_path = \"datasets\"\n",
    "data_loader = CSVDataLoader(folder_path)"
   ]
  },
  {
   "cell_type": "markdown",
   "id": "63352d6285012f0e",
   "metadata": {
    "collapsed": false
   },
   "source": [
    "La siguiente función carga los datos de los csv a los dataframes"
   ]
  },
  {
   "cell_type": "code",
   "execution_count": 4,
   "id": "665ff0b29c363cd8",
   "metadata": {
    "collapsed": false,
    "ExecuteTime": {
     "end_time": "2023-12-20T10:21:00.738871500Z",
     "start_time": "2023-12-20T10:20:21.161132500Z"
    }
   },
   "outputs": [],
   "source": [
    "data_loader.load_data()"
   ]
  },
  {
   "cell_type": "markdown",
   "id": "aa768687373638fb",
   "metadata": {
    "collapsed": false
   },
   "source": [
    "Limpiamos los datos eliminando las columnas autogeneradas con NaNs, renombramos las columnas para que sean uniformes (minúsculas y con barra bajas), eliminamos las filas de NaNs, eliminamos las filas duplicadas, formateamos todas las variables fecha para que sean consistentes (dd/mm/aaaa), sustituimos los NaNs de las variables numéricas con la media correspondiente a su variable."
   ]
  },
  {
   "cell_type": "code",
   "execution_count": 5,
   "id": "f1f338f27e9e6e88",
   "metadata": {
    "collapsed": false,
    "ExecuteTime": {
     "end_time": "2023-12-20T10:21:00.738871500Z",
     "start_time": "2023-12-20T10:20:24.208644900Z"
    }
   },
   "outputs": [],
   "source": [
    "data_loader.clean_data()\n",
    "data = data_loader.get_cleaned_data()"
   ]
  },
  {
   "cell_type": "markdown",
   "id": "5c4457e965ecfd44",
   "metadata": {
    "collapsed": false
   },
   "source": [
    "Por último, para confirmar que los datos se han cargado bien, utilizamos el método get_nan_columns para ver cuántos datos en cada columna quedan nulos, así como usamos el método info() de pandas para ver un resumen de todas las columnas y comprobamos también que todo el formateo de las columnas se ha realizado sin problema."
   ]
  },
  {
   "cell_type": "code",
   "execution_count": 6,
   "id": "6f5f32ab8fbcc715",
   "metadata": {
    "collapsed": false,
    "ExecuteTime": {
     "end_time": "2023-12-20T10:21:00.738871500Z",
     "start_time": "2023-12-20T10:20:29.594876200Z"
    }
   },
   "outputs": [
    {
     "name": "stdout",
     "output_type": "stream",
     "text": [
      "datasets/actuacionesBomberos\n",
      "AÑO                         0\n",
      "MES                         0\n",
      "DISTRITO                    0\n",
      "FUEGOS                      0\n",
      "DAÑOS_EN_CONSTRUCCION       0\n",
      "SALVAMENTOS_Y_RESCATES      0\n",
      "DAÑOS_POR_AGUA              0\n",
      "INCIDENTES_DIVERSOS         0\n",
      "SALIDAS_SIN_INTERVENCION    0\n",
      "SERVICIOS_VARIOS            0\n",
      "TOTAL                       0\n",
      "dtype: int64\n",
      "<class 'pandas.core.frame.DataFrame'>\n",
      "Index: 439 entries, 0 to 175\n",
      "Data columns (total 11 columns):\n",
      " #   Column                    Non-Null Count  Dtype \n",
      "---  ------                    --------------  ----- \n",
      " 0   AÑO                       439 non-null    int64 \n",
      " 1   MES                       439 non-null    object\n",
      " 2   DISTRITO                  439 non-null    object\n",
      " 3   FUEGOS                    439 non-null    int64 \n",
      " 4   DAÑOS_EN_CONSTRUCCION     439 non-null    int64 \n",
      " 5   SALVAMENTOS_Y_RESCATES    439 non-null    int64 \n",
      " 6   DAÑOS_POR_AGUA            439 non-null    int64 \n",
      " 7   INCIDENTES_DIVERSOS       439 non-null    int64 \n",
      " 8   SALIDAS_SIN_INTERVENCION  439 non-null    int64 \n",
      " 9   SERVICIOS_VARIOS          439 non-null    int64 \n",
      " 10  TOTAL                     439 non-null    int64 \n",
      "dtypes: int64(9), object(2)\n",
      "memory usage: 41.2+ KB\n",
      "None\n",
      "datasets/estaciones\n",
      "FDIA     0\n",
      "FEST     0\n",
      "FSEN     0\n",
      "HOR1     0\n",
      "HOR2     0\n",
      "HOR3     0\n",
      "HOR4     0\n",
      "HOR5     0\n",
      "HOR6     0\n",
      "HOR7     0\n",
      "HOR8     0\n",
      "HOR9     0\n",
      "HOR10    0\n",
      "HOR11    0\n",
      "HOR12    0\n",
      "dtype: int64\n",
      "<class 'pandas.core.frame.DataFrame'>\n",
      "Index: 86140 entries, 0 to 7079\n",
      "Data columns (total 15 columns):\n",
      " #   Column  Non-Null Count  Dtype  \n",
      "---  ------  --------------  -----  \n",
      " 0   FDIA    86140 non-null  object \n",
      " 1   FEST    86140 non-null  object \n",
      " 2   FSEN    86140 non-null  object \n",
      " 3   HOR1    86140 non-null  float64\n",
      " 4   HOR2    86140 non-null  float64\n",
      " 5   HOR3    86140 non-null  float64\n",
      " 6   HOR4    86140 non-null  float64\n",
      " 7   HOR5    86140 non-null  float64\n",
      " 8   HOR6    86140 non-null  float64\n",
      " 9   HOR7    86140 non-null  float64\n",
      " 10  HOR8    86140 non-null  float64\n",
      " 11  HOR9    86140 non-null  float64\n",
      " 12  HOR10   86140 non-null  float64\n",
      " 13  HOR11   86140 non-null  float64\n",
      " 14  HOR12   86140 non-null  float64\n",
      "dtypes: float64(12), object(3)\n",
      "memory usage: 10.5+ MB\n",
      "None\n",
      "datasets/accidentalidad\n",
      "NUM_EXPEDIENTE               0\n",
      "FECHA                        0\n",
      "HORA                         0\n",
      "LOCALIZACION                 0\n",
      "NUMERO                       6\n",
      "COD_DISTRITO                 6\n",
      "DISTRITO                     6\n",
      "TIPO_ACCIDENTE               5\n",
      "ESTADO_METEOROLÓGICO     20120\n",
      "TIPO_VEHICULO              816\n",
      "TIPO_PERSONA                 3\n",
      "RANGO_EDAD                   0\n",
      "SEXO                         0\n",
      "COD_LESIVIDAD            85278\n",
      "LESIVIDAD                85278\n",
      "COORDENADA_X_UTM             3\n",
      "COORDENADA_Y_UTM             3\n",
      "POSITIVA_ALCOHOL           718\n",
      "POSITIVA_DROGA          195001\n",
      "dtype: int64\n",
      "<class 'pandas.core.frame.DataFrame'>\n",
      "Index: 195610 entries, 0 to 31157\n",
      "Data columns (total 19 columns):\n",
      " #   Column                Non-Null Count   Dtype         \n",
      "---  ------                --------------   -----         \n",
      " 0   NUM_EXPEDIENTE        195610 non-null  object        \n",
      " 1   FECHA                 195610 non-null  datetime64[ns]\n",
      " 2   HORA                  195610 non-null  object        \n",
      " 3   LOCALIZACION          195610 non-null  object        \n",
      " 4   NUMERO                195604 non-null  object        \n",
      " 5   COD_DISTRITO          195604 non-null  float64       \n",
      " 6   DISTRITO              195604 non-null  object        \n",
      " 7   TIPO_ACCIDENTE        195605 non-null  object        \n",
      " 8   ESTADO_METEOROLÓGICO  175490 non-null  object        \n",
      " 9   TIPO_VEHICULO         194794 non-null  object        \n",
      " 10  TIPO_PERSONA          195607 non-null  object        \n",
      " 11  RANGO_EDAD            195610 non-null  object        \n",
      " 12  SEXO                  195610 non-null  object        \n",
      " 13  COD_LESIVIDAD         110332 non-null  float64       \n",
      " 14  LESIVIDAD             110332 non-null  object        \n",
      " 15  COORDENADA_X_UTM      195607 non-null  object        \n",
      " 16  COORDENADA_Y_UTM      195607 non-null  object        \n",
      " 17  POSITIVA_ALCOHOL      194892 non-null  object        \n",
      " 18  POSITIVA_DROGA        609 non-null     float64       \n",
      "dtypes: datetime64[ns](1), float64(3), object(15)\n",
      "memory usage: 29.8+ MB\n",
      "None\n",
      "calendario.csv\n",
      "Ï»¿DIA                                      0\n",
      "DIA_SEMANA                                  0\n",
      "LABORABLE_/_FESTIVO_/_DOMINGO_FESTIVO    2103\n",
      "TIPO_DE_FESTIVO                          4211\n",
      "FESTIVIDAD                               4211\n",
      "dtype: int64\n",
      "<class 'pandas.core.frame.DataFrame'>\n",
      "RangeIndex: 4382 entries, 0 to 4381\n",
      "Data columns (total 5 columns):\n",
      " #   Column                                 Non-Null Count  Dtype \n",
      "---  ------                                 --------------  ----- \n",
      " 0   Ï»¿DIA                                 4382 non-null   object\n",
      " 1   DIA_SEMANA                             4382 non-null   object\n",
      " 2   LABORABLE_/_FESTIVO_/_DOMINGO_FESTIVO  2279 non-null   object\n",
      " 3   TIPO_DE_FESTIVO                        171 non-null    object\n",
      " 4   FESTIVIDAD                             171 non-null    object\n",
      "dtypes: object(5)\n",
      "memory usage: 171.3+ KB\n",
      "None\n",
      "DireccionesEvolucionHistorica_20231004.csv\n",
      "COD_VIA                    0\n",
      "VIA_SQC               371584\n",
      "VIA_CLASE                  0\n",
      "VIA_PAR                17997\n",
      "VIA_NOMBRE                 0\n",
      "VIA_NOMBRE_ACENTOS         0\n",
      "COD_NDP                    0\n",
      "CLASE_NDP                  0\n",
      "NÚMERO                     0\n",
      "CALIFICADOR           322826\n",
      "FECHA_DE_ALTA              0\n",
      "FECHA_DE_BAJA         211657\n",
      "TIPO_NDP               16248\n",
      "UTMX_ED                    0\n",
      "UTMY_ED                    0\n",
      "UTMX_ETRS                  0\n",
      "UTMY_ETRS                  0\n",
      "LATITUD                    0\n",
      "LONGITUD                   0\n",
      "ANGULO_ROTULACION          0\n",
      "dtype: int64\n",
      "<class 'pandas.core.frame.DataFrame'>\n",
      "RangeIndex: 371584 entries, 0 to 371583\n",
      "Data columns (total 20 columns):\n",
      " #   Column              Non-Null Count   Dtype  \n",
      "---  ------              --------------   -----  \n",
      " 0   COD_VIA             371584 non-null  int64  \n",
      " 1   VIA_SQC             0 non-null       float64\n",
      " 2   VIA_CLASE           371584 non-null  object \n",
      " 3   VIA_PAR             353587 non-null  object \n",
      " 4   VIA_NOMBRE          371584 non-null  object \n",
      " 5   VIA_NOMBRE_ACENTOS  371584 non-null  object \n",
      " 6   COD_NDP             371584 non-null  int64  \n",
      " 7   CLASE_NDP           371584 non-null  object \n",
      " 8   NÚMERO              371584 non-null  int64  \n",
      " 9   CALIFICADOR         48758 non-null   object \n",
      " 10  FECHA_DE_ALTA       371584 non-null  object \n",
      " 11  FECHA_DE_BAJA       159927 non-null  object \n",
      " 12  TIPO_NDP            355336 non-null  object \n",
      " 13  UTMX_ED             371584 non-null  object \n",
      " 14  UTMY_ED             371584 non-null  object \n",
      " 15  UTMX_ETRS           371584 non-null  object \n",
      " 16  UTMY_ETRS           371584 non-null  object \n",
      " 17  LATITUD             371584 non-null  object \n",
      " 18  LONGITUD            371584 non-null  object \n",
      " 19  ANGULO_ROTULACION   371584 non-null  object \n",
      "dtypes: float64(1), int64(3), object(16)\n",
      "memory usage: 56.7+ MB\n",
      "None\n",
      "DireccionesVigentes_20231004.csv\n",
      "COD_VIA                    0\n",
      "VIA_CLASE                  0\n",
      "VIA_PAR                 3381\n",
      "VIA_NOMBRE                 0\n",
      "VIA_NOMBRE_ACENTOS         0\n",
      "CLASE_APP                  0\n",
      "NUMERO                     0\n",
      "CALIFICADOR           178838\n",
      "TIPO_NDP                   0\n",
      "COD_NDP                    0\n",
      "DISTRITO                   0\n",
      "BARRIO                     0\n",
      "COD_POSTAL                 0\n",
      "UTMX_ED                    0\n",
      "UTMY_ED                    0\n",
      "UTMX_ETRS                  0\n",
      "UTMY_ETRS                  0\n",
      "LATITUD                    0\n",
      "LONGITUD                   0\n",
      "ANGULO_ROTULACION          0\n",
      "dtype: int64\n",
      "<class 'pandas.core.frame.DataFrame'>\n",
      "Index: 210384 entries, 0 to 210663\n",
      "Data columns (total 20 columns):\n",
      " #   Column              Non-Null Count   Dtype  \n",
      "---  ------              --------------   -----  \n",
      " 0   COD_VIA             210384 non-null  int64  \n",
      " 1   VIA_CLASE           210384 non-null  object \n",
      " 2   VIA_PAR             207003 non-null  object \n",
      " 3   VIA_NOMBRE          210384 non-null  object \n",
      " 4   VIA_NOMBRE_ACENTOS  210384 non-null  object \n",
      " 5   CLASE_APP           210384 non-null  object \n",
      " 6   NUMERO              210384 non-null  int64  \n",
      " 7   CALIFICADOR         31546 non-null   object \n",
      " 8   TIPO_NDP            210384 non-null  object \n",
      " 9   COD_NDP             210384 non-null  int64  \n",
      " 10  DISTRITO            210384 non-null  int64  \n",
      " 11  BARRIO              210384 non-null  int64  \n",
      " 12  COD_POSTAL          210384 non-null  int64  \n",
      " 13  UTMX_ED             210384 non-null  object \n",
      " 14  UTMY_ED             210384 non-null  object \n",
      " 15  UTMX_ETRS           210384 non-null  object \n",
      " 16  UTMY_ETRS           210384 non-null  object \n",
      " 17  LATITUD             210384 non-null  object \n",
      " 18  LONGITUD            210384 non-null  object \n",
      " 19  ANGULO_ROTULACION   210384 non-null  float64\n",
      "dtypes: float64(1), int64(6), object(13)\n",
      "memory usage: 33.7+ MB\n",
      "None\n",
      "iluminacion.csv\n",
      "Ï»¿TIPO_BLOQU,C,50       0\n",
      "TIPOL,C,254              0\n",
      "VIA_CLASE,C,254          0\n",
      "VIA_PAR,C,254         8582\n",
      "VIA_NOMBRE,C,254         0\n",
      "CLASE_APP,C,254          0\n",
      "NUMERO,N,10,0            0\n",
      "COD_NDP,N,10,0           0\n",
      "DISTRITO,N,10,0          0\n",
      "BARRIO,N,10,0            0\n",
      "X_UTM,N,19,11            0\n",
      "Y_UTM,N,19,11            0\n",
      "dtype: int64\n",
      "<class 'pandas.core.frame.DataFrame'>\n",
      "Index: 231852 entries, 0 to 233308\n",
      "Data columns (total 12 columns):\n",
      " #   Column              Non-Null Count   Dtype \n",
      "---  ------              --------------   ----- \n",
      " 0   Ï»¿TIPO_BLOQU,C,50  231852 non-null  object\n",
      " 1   TIPOL,C,254         231852 non-null  object\n",
      " 2   VIA_CLASE,C,254     231852 non-null  object\n",
      " 3   VIA_PAR,C,254       223270 non-null  object\n",
      " 4   VIA_NOMBRE,C,254    231852 non-null  object\n",
      " 5   CLASE_APP,C,254     231852 non-null  object\n",
      " 6   NUMERO,N,10,0       231852 non-null  int64 \n",
      " 7   COD_NDP,N,10,0      231852 non-null  int64 \n",
      " 8   DISTRITO,N,10,0     231852 non-null  int64 \n",
      " 9   BARRIO,N,10,0       231852 non-null  int64 \n",
      " 10  X_UTM,N,19,11       231852 non-null  object\n",
      " 11  Y_UTM,N,19,11       231852 non-null  object\n",
      "dtypes: int64(4), object(8)\n",
      "memory usage: 23.0+ MB\n",
      "None\n",
      "padron22.csv\n",
      "Ï»¿EJERICIO                 0\n",
      "COD_TIPO_PERSONA            0\n",
      "TIPO_PERSONA                0\n",
      "COD_DISTRITO                0\n",
      "DISTRITO                    0\n",
      "COD_BARRIO                  0\n",
      "BARRIO                      0\n",
      "COD_TIPO_VEHÃCULO          0\n",
      "TIPO_VEHÃCULO              0\n",
      "ETIQUETA_MEDIOAMBIENTAL     0\n",
      "CLASIFICACIÃN_AMBIENTAL    0\n",
      "CUOTA                       0\n",
      "TIPO_CARBURANTE             0\n",
      "AÃO_MATRICULACIÃN         0\n",
      "CONTADOR                    0\n",
      "dtype: int64\n",
      "<class 'pandas.core.frame.DataFrame'>\n",
      "RangeIndex: 180345 entries, 0 to 180344\n",
      "Data columns (total 15 columns):\n",
      " #   Column                    Non-Null Count   Dtype \n",
      "---  ------                    --------------   ----- \n",
      " 0   Ï»¿EJERICIO               180345 non-null  int64 \n",
      " 1   COD_TIPO_PERSONA          180345 non-null  object\n",
      " 2   TIPO_PERSONA              180345 non-null  object\n",
      " 3   COD_DISTRITO              180345 non-null  int64 \n",
      " 4   DISTRITO                  180345 non-null  object\n",
      " 5   COD_BARRIO                180345 non-null  int64 \n",
      " 6   BARRIO                    180345 non-null  object\n",
      " 7   COD_TIPO_VEHÃCULO        180345 non-null  object\n",
      " 8   TIPO_VEHÃCULO            180345 non-null  object\n",
      " 9   ETIQUETA_MEDIOAMBIENTAL   180345 non-null  object\n",
      " 10  CLASIFICACIÃN_AMBIENTAL  180345 non-null  object\n",
      " 11  CUOTA                     180345 non-null  object\n",
      " 12  TIPO_CARBURANTE           180345 non-null  object\n",
      " 13  AÃO_MATRICULACIÃN       180345 non-null  object\n",
      " 14  CONTADOR                  180345 non-null  int64 \n",
      "dtypes: int64(4), object(11)\n",
      "memory usage: 20.6+ MB\n",
      "None\n",
      "RADARES_FIJOS_vDTT.csv\n",
      "Nº\\nRADAR               0\n",
      "UBICACION               0\n",
      "CARRETARA_O_VIAL        1\n",
      "UBICACIÓN\\nCALLE_30     8\n",
      "PK                      1\n",
      "SENTIDO                 3\n",
      "TIPO                    3\n",
      "X_(WGS84)              13\n",
      "Y_(WGS84)              13\n",
      "LONGITUD                0\n",
      "LATITUD                 0\n",
      "COORDENADAS             0\n",
      "dtype: int64\n",
      "<class 'pandas.core.frame.DataFrame'>\n",
      "RangeIndex: 29 entries, 0 to 28\n",
      "Data columns (total 12 columns):\n",
      " #   Column              Non-Null Count  Dtype \n",
      "---  ------              --------------  ----- \n",
      " 0   Nº\n",
      "RADAR            29 non-null     int64 \n",
      " 1   UBICACION           29 non-null     object\n",
      " 2   CARRETARA_O_VIAL    28 non-null     object\n",
      " 3   UBICACIÓN\n",
      "CALLE_30  21 non-null     object\n",
      " 4   PK                  28 non-null     object\n",
      " 5   SENTIDO             26 non-null     object\n",
      " 6   TIPO                26 non-null     object\n",
      " 7   X_(WGS84)           16 non-null     object\n",
      " 8   Y_(WGS84)           16 non-null     object\n",
      " 9   LONGITUD            29 non-null     object\n",
      " 10  LATITUD             29 non-null     object\n",
      " 11  COORDENADAS         29 non-null     object\n",
      "dtypes: int64(1), object(11)\n",
      "memory usage: 2.8+ KB\n",
      "None\n",
      "VialesEvolucionHistorica_20231004.csv\n",
      "COD_VIA                  0\n",
      "VIA_SQC                  0\n",
      "VIA_CLASE                0\n",
      "VIA_PAR               1724\n",
      "VIA_NOMBRE               0\n",
      "VIA_NOMBRE_ACENTOS       0\n",
      "FECHA_DE_ALTA            0\n",
      "FECHA_DE_BAJA         9354\n",
      "VIA_ESTADO               0\n",
      "dtype: int64\n",
      "<class 'pandas.core.frame.DataFrame'>\n",
      "RangeIndex: 16446 entries, 0 to 16445\n",
      "Data columns (total 9 columns):\n",
      " #   Column              Non-Null Count  Dtype \n",
      "---  ------              --------------  ----- \n",
      " 0   COD_VIA             16446 non-null  int64 \n",
      " 1   VIA_SQC             16446 non-null  int64 \n",
      " 2   VIA_CLASE           16446 non-null  object\n",
      " 3   VIA_PAR             14722 non-null  object\n",
      " 4   VIA_NOMBRE          16446 non-null  object\n",
      " 5   VIA_NOMBRE_ACENTOS  16446 non-null  object\n",
      " 6   FECHA_DE_ALTA       16446 non-null  object\n",
      " 7   FECHA_DE_BAJA       7092 non-null   object\n",
      " 8   VIA_ESTADO          16446 non-null  object\n",
      "dtypes: int64(2), object(7)\n",
      "memory usage: 1.1+ MB\n",
      "None\n",
      "VialesVigentesDistritosBarrios_20231004.csv\n",
      "COD_VIA                  0\n",
      "VIA_CLASE                0\n",
      "VIA_PAR                601\n",
      "VIA_NOMBRE               0\n",
      "VIA_NOMBRE_ACENTOS       0\n",
      "DISTRITO                24\n",
      "BARRIO                  24\n",
      "IMPAR_MIN             2719\n",
      "IMPAR_MAX             2719\n",
      "PAR_MIN               2558\n",
      "PAR_MAX               2558\n",
      "dtype: int64\n",
      "<class 'pandas.core.frame.DataFrame'>\n",
      "Index: 11014 entries, 0 to 11025\n",
      "Data columns (total 11 columns):\n",
      " #   Column              Non-Null Count  Dtype  \n",
      "---  ------              --------------  -----  \n",
      " 0   COD_VIA             11014 non-null  int64  \n",
      " 1   VIA_CLASE           11014 non-null  object \n",
      " 2   VIA_PAR             10413 non-null  object \n",
      " 3   VIA_NOMBRE          11014 non-null  object \n",
      " 4   VIA_NOMBRE_ACENTOS  11014 non-null  object \n",
      " 5   DISTRITO            10990 non-null  float64\n",
      " 6   BARRIO              10990 non-null  float64\n",
      " 7   IMPAR_MIN           8295 non-null   float64\n",
      " 8   IMPAR_MAX           8295 non-null   float64\n",
      " 9   PAR_MIN             8456 non-null   float64\n",
      " 10  PAR_MAX             8456 non-null   float64\n",
      "dtypes: float64(6), int64(1), object(4)\n",
      "memory usage: 1.0+ MB\n",
      "None\n",
      "VialesVigentesDistritos_20231004.csv\n",
      "COD_VIA                  0\n",
      "VIA_CLASE                0\n",
      "VIA_PAR                472\n",
      "VIA_NOMBRE               0\n",
      "VIA_NOMBRE_ACENTOS       0\n",
      "DISTRITO                24\n",
      "IMPAR_MIN             1762\n",
      "IMPAR_MAX             1762\n",
      "PAR_MIN               1666\n",
      "PAR_MAX               1666\n",
      "dtype: int64\n",
      "<class 'pandas.core.frame.DataFrame'>\n",
      "Index: 9839 entries, 0 to 11025\n",
      "Data columns (total 10 columns):\n",
      " #   Column              Non-Null Count  Dtype  \n",
      "---  ------              --------------  -----  \n",
      " 0   COD_VIA             9839 non-null   int64  \n",
      " 1   VIA_CLASE           9839 non-null   object \n",
      " 2   VIA_PAR             9367 non-null   object \n",
      " 3   VIA_NOMBRE          9839 non-null   object \n",
      " 4   VIA_NOMBRE_ACENTOS  9839 non-null   object \n",
      " 5   DISTRITO            9815 non-null   float64\n",
      " 6   IMPAR_MIN           8077 non-null   float64\n",
      " 7   IMPAR_MAX           8077 non-null   float64\n",
      " 8   PAR_MIN             8173 non-null   float64\n",
      " 9   PAR_MAX             8173 non-null   float64\n",
      "dtypes: float64(5), int64(1), object(4)\n",
      "memory usage: 845.5+ KB\n",
      "None\n",
      "VialesVigentes_20231004.csv\n",
      "COD_VIA                      0\n",
      "VIA_CLASE                    0\n",
      "VIA_PAR                    402\n",
      "VIA_NOMBRE                   0\n",
      "VIA_NOMBRE_ACENTOS           0\n",
      "COD_VIA_COMIENZA             0\n",
      "CLASE_COMIENZA               0\n",
      "PARTICULA_COMIENZA         545\n",
      "NOMBRE_COMIENZA              0\n",
      "NOMBRE_ACENTOS_COMIENZA      0\n",
      "COD_VIA_TERMINA              0\n",
      "CLASE_TERMINA                0\n",
      "PARTICULA_TERMINA          917\n",
      "NOMBRE_TERMINA               0\n",
      "NOMBRE_ACENTOS_TERMINA       0\n",
      "dtype: int64\n",
      "<class 'pandas.core.frame.DataFrame'>\n",
      "RangeIndex: 9388 entries, 0 to 9387\n",
      "Data columns (total 15 columns):\n",
      " #   Column                   Non-Null Count  Dtype \n",
      "---  ------                   --------------  ----- \n",
      " 0   COD_VIA                  9388 non-null   int64 \n",
      " 1   VIA_CLASE                9388 non-null   object\n",
      " 2   VIA_PAR                  8986 non-null   object\n",
      " 3   VIA_NOMBRE               9388 non-null   object\n",
      " 4   VIA_NOMBRE_ACENTOS       9388 non-null   object\n",
      " 5   COD_VIA_COMIENZA         9388 non-null   int64 \n",
      " 6   CLASE_COMIENZA           9388 non-null   object\n",
      " 7   PARTICULA_COMIENZA       8843 non-null   object\n",
      " 8   NOMBRE_COMIENZA          9388 non-null   object\n",
      " 9   NOMBRE_ACENTOS_COMIENZA  9388 non-null   object\n",
      " 10  COD_VIA_TERMINA          9388 non-null   int64 \n",
      " 11  CLASE_TERMINA            9388 non-null   object\n",
      " 12  PARTICULA_TERMINA        8471 non-null   object\n",
      " 13  NOMBRE_TERMINA           9388 non-null   object\n",
      " 14  NOMBRE_ACENTOS_TERMINA   9388 non-null   object\n",
      "dtypes: int64(3), object(12)\n",
      "memory usage: 1.1+ MB\n",
      "None\n"
     ]
    }
   ],
   "source": [
    "data_loader.get_nan_columns()"
   ]
  },
  {
   "cell_type": "markdown",
   "id": "3c50537c6d13dcad",
   "metadata": {
    "collapsed": false
   },
   "source": [
    "Efectivamente, se realiza sin problemas. El siguiente paso es el análisis de los datasets columna a columna para revisar qué método usar para rellenar los datos faltantes dependiendo de cada atributo.  "
   ]
  },
  {
   "cell_type": "markdown",
   "id": "806080163c94c164",
   "metadata": {
    "collapsed": false
   },
   "source": [
    "### Sustitución de valores faltantes\n",
    "Los datasets actuaciones bomberos y estaciones no tienen datos faltantes, por lo que sólo nos queda trabajar con los otros 8 datasets, que podemos observar aquí:"
   ]
  },
  {
   "cell_type": "code",
   "execution_count": 7,
   "id": "f3082c6e4ff58ef7",
   "metadata": {
    "collapsed": false,
    "ExecuteTime": {
     "end_time": "2023-12-20T10:21:00.738871500Z",
     "start_time": "2023-12-20T10:20:30.219255100Z"
    }
   },
   "outputs": [
    {
     "name": "stdout",
     "output_type": "stream",
     "text": [
      "datasets/actuacionesBomberos\n",
      "datasets/estaciones\n",
      "datasets/accidentalidad\n",
      "calendario.csv\n",
      "DireccionesEvolucionHistorica_20231004.csv\n",
      "DireccionesVigentes_20231004.csv\n",
      "iluminacion.csv\n",
      "padron22.csv\n",
      "RADARES_FIJOS_vDTT.csv\n",
      "VialesEvolucionHistorica_20231004.csv\n",
      "VialesVigentesDistritosBarrios_20231004.csv\n",
      "VialesVigentesDistritos_20231004.csv\n",
      "VialesVigentes_20231004.csv\n"
     ]
    }
   ],
   "source": [
    "for i in data.keys():\n",
    "    print(i)"
   ]
  },
  {
   "cell_type": "markdown",
   "id": "861c0394be81dc0e",
   "metadata": {
    "collapsed": false
   },
   "source": [
    "Empecemos con accidentalidad: "
   ]
  },
  {
   "cell_type": "code",
   "execution_count": 8,
   "id": "587e7d49e462e29",
   "metadata": {
    "collapsed": false,
    "ExecuteTime": {
     "end_time": "2023-12-20T10:21:00.738871500Z",
     "start_time": "2023-12-20T10:20:30.219858800Z"
    }
   },
   "outputs": [
    {
     "name": "stdout",
     "output_type": "stream",
     "text": [
      "NUM_EXPEDIENTE               0\n",
      "FECHA                        0\n",
      "HORA                         0\n",
      "LOCALIZACION                 0\n",
      "NUMERO                       6\n",
      "COD_DISTRITO                 6\n",
      "DISTRITO                     6\n",
      "TIPO_ACCIDENTE               5\n",
      "ESTADO_METEOROLÓGICO     20120\n",
      "TIPO_VEHICULO              816\n",
      "TIPO_PERSONA                 3\n",
      "RANGO_EDAD                   0\n",
      "SEXO                         0\n",
      "COD_LESIVIDAD            85278\n",
      "LESIVIDAD                85278\n",
      "COORDENADA_X_UTM             3\n",
      "COORDENADA_Y_UTM             3\n",
      "POSITIVA_ALCOHOL           718\n",
      "POSITIVA_DROGA          195001\n",
      "dtype: int64\n",
      "<class 'pandas.core.frame.DataFrame'>\n",
      "Index: 195610 entries, 0 to 31157\n",
      "Data columns (total 19 columns):\n",
      " #   Column                Non-Null Count   Dtype         \n",
      "---  ------                --------------   -----         \n",
      " 0   NUM_EXPEDIENTE        195610 non-null  object        \n",
      " 1   FECHA                 195610 non-null  datetime64[ns]\n",
      " 2   HORA                  195610 non-null  object        \n",
      " 3   LOCALIZACION          195610 non-null  object        \n",
      " 4   NUMERO                195604 non-null  object        \n",
      " 5   COD_DISTRITO          195604 non-null  float64       \n",
      " 6   DISTRITO              195604 non-null  object        \n",
      " 7   TIPO_ACCIDENTE        195605 non-null  object        \n",
      " 8   ESTADO_METEOROLÓGICO  175490 non-null  object        \n",
      " 9   TIPO_VEHICULO         194794 non-null  object        \n",
      " 10  TIPO_PERSONA          195607 non-null  object        \n",
      " 11  RANGO_EDAD            195610 non-null  object        \n",
      " 12  SEXO                  195610 non-null  object        \n",
      " 13  COD_LESIVIDAD         110332 non-null  float64       \n",
      " 14  LESIVIDAD             110332 non-null  object        \n",
      " 15  COORDENADA_X_UTM      195607 non-null  object        \n",
      " 16  COORDENADA_Y_UTM      195607 non-null  object        \n",
      " 17  POSITIVA_ALCOHOL      194892 non-null  object        \n",
      " 18  POSITIVA_DROGA        609 non-null     float64       \n",
      "dtypes: datetime64[ns](1), float64(3), object(15)\n",
      "memory usage: 29.8+ MB\n",
      "None\n"
     ]
    },
    {
     "data": {
      "text/plain": "      NUM_EXPEDIENTE      FECHA      HORA  \\\n0        2018S017842 2019-02-04   9:10:00   \n1        2018S017842 2019-02-04   9:10:00   \n2        2019S000001 2019-01-01   3:45:00   \n3        2019S000001 2019-01-01   3:45:00   \n4        2019S000001 2019-01-01   3:45:00   \n...              ...        ...       ...   \n31153    2023S028337 2023-08-31  23:20:00   \n31154    2023S028341 2023-08-31  22:30:00   \n31155    2023S028341 2023-08-31  22:30:00   \n31156    2023S028352 2023-08-31  14:40:00   \n31157    2023S029136 2023-08-02  22:10:00   \n\n                                            LOCALIZACION  NUMERO  \\\n0                              CALL. ALBERTO AGUILERA, 1       1   \n1                              CALL. ALBERTO AGUILERA, 1       1   \n2      PASEO. SANTA MARIA DE LA CABEZA / PLAZA. ELIPTICA     168   \n3      PASEO. SANTA MARIA DE LA CABEZA / PLAZA. ELIPTICA     168   \n4      PASEO. SANTA MARIA DE LA CABEZA / PLAZA. ELIPTICA     168   \n...                                                  ...     ...   \n31153                        CALL. GOLFO DE SALONICA, 12      12   \n31154                                  CALLE SAN SERAPIO       1   \n31155                                  CALLE SAN SERAPIO       1   \n31156                                AUTOV. M-30, 00NC06  00NC06   \n31157                    AVDA. CARDENAL HERRERA ORIA, 80      80   \n\n       COD_DISTRITO             DISTRITO                TIPO_ACCIDENTE  \\\n0               1.0               CENTRO              Colisión lateral   \n1               1.0               CENTRO              Colisión lateral   \n2              11.0          CARABANCHEL                       Alcance   \n3              11.0          CARABANCHEL                       Alcance   \n4              11.0          CARABANCHEL                       Alcance   \n...             ...                  ...                           ...   \n31153          16.0            HORTALEZA                          Otro   \n31154          12.0                USERA                       Alcance   \n31155          12.0                USERA                       Alcance   \n31156           5.0            CHAMARTÍN                         Caída   \n31157           8.0  FUENCARRAL-EL PARDO  Choque contra obstáculo fijo   \n\n      ESTADO_METEOROLÓGICO            TIPO_VEHICULO TIPO_PERSONA  \\\n0                Despejado      Motocicleta > 125cc    Conductor   \n1                Despejado                  Turismo    Conductor   \n2                      NaN                Furgoneta    Conductor   \n3                      NaN                  Turismo    Conductor   \n4                      NaN                  Turismo    Conductor   \n...                    ...                      ...          ...   \n31153            Despejado                  Turismo     Pasajero   \n31154            Despejado  Motocicleta hasta 125cc    Conductor   \n31155            Despejado                  Turismo    Conductor   \n31156            Despejado  Motocicleta hasta 125cc    Conductor   \n31157                  NaN                  Turismo    Conductor   \n\n            RANGO_EDAD    SEXO  COD_LESIVIDAD  \\\n0      De 45 a 49 años  Hombre            7.0   \n1      De 30 a 34 años   Mujer            7.0   \n2      De 40 a 44 años  Hombre            NaN   \n3      De 40 a 44 años   Mujer            NaN   \n4      De 45 a 49 años   Mujer            NaN   \n...                ...     ...            ...   \n31153  De 55 a 59 años   Mujer           14.0   \n31154  De 30 a 34 años  Hombre            7.0   \n31155  De 35 a 39 años  Hombre           14.0   \n31156  De 40 a 44 años  Hombre            1.0   \n31157  De 35 a 39 años  Hombre            NaN   \n\n                                               LESIVIDAD COORDENADA_X_UTM  \\\n0      Asistencia sanitaria sólo en el lugar del acci...       440068,049   \n1      Asistencia sanitaria sólo en el lugar del acci...       440068,049   \n2                                                    NaN       439139,603   \n3                                                    NaN       439139,603   \n4                                                    NaN       439139,603   \n...                                                  ...              ...   \n31153                           Sin asistencia sanitaria       443580.365   \n31154  Asistencia sanitaria sólo en el lugar del acci...        440795.55   \n31155                           Sin asistencia sanitaria        440795.55   \n31156        Atención en urgencias sin posterior ingreso         442825.5   \n31157                                                NaN       441491.437   \n\n      COORDENADA_Y_UTM POSITIVA_ALCOHOL  POSITIVA_DROGA  \n0           4475679,17                N             NaN  \n1           4475679,17                N             NaN  \n2          4470836,854                S             NaN  \n3          4470836,854                N             NaN  \n4          4470836,854                N             NaN  \n...                ...              ...             ...  \n31153      4480912.376                N             NaN  \n31154      4471044.789                N             NaN  \n31155      4471044.789                N             NaN  \n31156      4481003.193                N             NaN  \n31157       4482518.59                N             NaN  \n\n[195610 rows x 19 columns]",
      "text/html": "<div>\n<style scoped>\n    .dataframe tbody tr th:only-of-type {\n        vertical-align: middle;\n    }\n\n    .dataframe tbody tr th {\n        vertical-align: top;\n    }\n\n    .dataframe thead th {\n        text-align: right;\n    }\n</style>\n<table border=\"1\" class=\"dataframe\">\n  <thead>\n    <tr style=\"text-align: right;\">\n      <th></th>\n      <th>NUM_EXPEDIENTE</th>\n      <th>FECHA</th>\n      <th>HORA</th>\n      <th>LOCALIZACION</th>\n      <th>NUMERO</th>\n      <th>COD_DISTRITO</th>\n      <th>DISTRITO</th>\n      <th>TIPO_ACCIDENTE</th>\n      <th>ESTADO_METEOROLÓGICO</th>\n      <th>TIPO_VEHICULO</th>\n      <th>TIPO_PERSONA</th>\n      <th>RANGO_EDAD</th>\n      <th>SEXO</th>\n      <th>COD_LESIVIDAD</th>\n      <th>LESIVIDAD</th>\n      <th>COORDENADA_X_UTM</th>\n      <th>COORDENADA_Y_UTM</th>\n      <th>POSITIVA_ALCOHOL</th>\n      <th>POSITIVA_DROGA</th>\n    </tr>\n  </thead>\n  <tbody>\n    <tr>\n      <th>0</th>\n      <td>2018S017842</td>\n      <td>2019-02-04</td>\n      <td>9:10:00</td>\n      <td>CALL. ALBERTO AGUILERA, 1</td>\n      <td>1</td>\n      <td>1.0</td>\n      <td>CENTRO</td>\n      <td>Colisión lateral</td>\n      <td>Despejado</td>\n      <td>Motocicleta &gt; 125cc</td>\n      <td>Conductor</td>\n      <td>De 45 a 49 años</td>\n      <td>Hombre</td>\n      <td>7.0</td>\n      <td>Asistencia sanitaria sólo en el lugar del acci...</td>\n      <td>440068,049</td>\n      <td>4475679,17</td>\n      <td>N</td>\n      <td>NaN</td>\n    </tr>\n    <tr>\n      <th>1</th>\n      <td>2018S017842</td>\n      <td>2019-02-04</td>\n      <td>9:10:00</td>\n      <td>CALL. ALBERTO AGUILERA, 1</td>\n      <td>1</td>\n      <td>1.0</td>\n      <td>CENTRO</td>\n      <td>Colisión lateral</td>\n      <td>Despejado</td>\n      <td>Turismo</td>\n      <td>Conductor</td>\n      <td>De 30 a 34 años</td>\n      <td>Mujer</td>\n      <td>7.0</td>\n      <td>Asistencia sanitaria sólo en el lugar del acci...</td>\n      <td>440068,049</td>\n      <td>4475679,17</td>\n      <td>N</td>\n      <td>NaN</td>\n    </tr>\n    <tr>\n      <th>2</th>\n      <td>2019S000001</td>\n      <td>2019-01-01</td>\n      <td>3:45:00</td>\n      <td>PASEO. SANTA MARIA DE LA CABEZA / PLAZA. ELIPTICA</td>\n      <td>168</td>\n      <td>11.0</td>\n      <td>CARABANCHEL</td>\n      <td>Alcance</td>\n      <td>NaN</td>\n      <td>Furgoneta</td>\n      <td>Conductor</td>\n      <td>De 40 a 44 años</td>\n      <td>Hombre</td>\n      <td>NaN</td>\n      <td>NaN</td>\n      <td>439139,603</td>\n      <td>4470836,854</td>\n      <td>S</td>\n      <td>NaN</td>\n    </tr>\n    <tr>\n      <th>3</th>\n      <td>2019S000001</td>\n      <td>2019-01-01</td>\n      <td>3:45:00</td>\n      <td>PASEO. SANTA MARIA DE LA CABEZA / PLAZA. ELIPTICA</td>\n      <td>168</td>\n      <td>11.0</td>\n      <td>CARABANCHEL</td>\n      <td>Alcance</td>\n      <td>NaN</td>\n      <td>Turismo</td>\n      <td>Conductor</td>\n      <td>De 40 a 44 años</td>\n      <td>Mujer</td>\n      <td>NaN</td>\n      <td>NaN</td>\n      <td>439139,603</td>\n      <td>4470836,854</td>\n      <td>N</td>\n      <td>NaN</td>\n    </tr>\n    <tr>\n      <th>4</th>\n      <td>2019S000001</td>\n      <td>2019-01-01</td>\n      <td>3:45:00</td>\n      <td>PASEO. SANTA MARIA DE LA CABEZA / PLAZA. ELIPTICA</td>\n      <td>168</td>\n      <td>11.0</td>\n      <td>CARABANCHEL</td>\n      <td>Alcance</td>\n      <td>NaN</td>\n      <td>Turismo</td>\n      <td>Conductor</td>\n      <td>De 45 a 49 años</td>\n      <td>Mujer</td>\n      <td>NaN</td>\n      <td>NaN</td>\n      <td>439139,603</td>\n      <td>4470836,854</td>\n      <td>N</td>\n      <td>NaN</td>\n    </tr>\n    <tr>\n      <th>...</th>\n      <td>...</td>\n      <td>...</td>\n      <td>...</td>\n      <td>...</td>\n      <td>...</td>\n      <td>...</td>\n      <td>...</td>\n      <td>...</td>\n      <td>...</td>\n      <td>...</td>\n      <td>...</td>\n      <td>...</td>\n      <td>...</td>\n      <td>...</td>\n      <td>...</td>\n      <td>...</td>\n      <td>...</td>\n      <td>...</td>\n      <td>...</td>\n    </tr>\n    <tr>\n      <th>31153</th>\n      <td>2023S028337</td>\n      <td>2023-08-31</td>\n      <td>23:20:00</td>\n      <td>CALL. GOLFO DE SALONICA, 12</td>\n      <td>12</td>\n      <td>16.0</td>\n      <td>HORTALEZA</td>\n      <td>Otro</td>\n      <td>Despejado</td>\n      <td>Turismo</td>\n      <td>Pasajero</td>\n      <td>De 55 a 59 años</td>\n      <td>Mujer</td>\n      <td>14.0</td>\n      <td>Sin asistencia sanitaria</td>\n      <td>443580.365</td>\n      <td>4480912.376</td>\n      <td>N</td>\n      <td>NaN</td>\n    </tr>\n    <tr>\n      <th>31154</th>\n      <td>2023S028341</td>\n      <td>2023-08-31</td>\n      <td>22:30:00</td>\n      <td>CALLE SAN SERAPIO</td>\n      <td>1</td>\n      <td>12.0</td>\n      <td>USERA</td>\n      <td>Alcance</td>\n      <td>Despejado</td>\n      <td>Motocicleta hasta 125cc</td>\n      <td>Conductor</td>\n      <td>De 30 a 34 años</td>\n      <td>Hombre</td>\n      <td>7.0</td>\n      <td>Asistencia sanitaria sólo en el lugar del acci...</td>\n      <td>440795.55</td>\n      <td>4471044.789</td>\n      <td>N</td>\n      <td>NaN</td>\n    </tr>\n    <tr>\n      <th>31155</th>\n      <td>2023S028341</td>\n      <td>2023-08-31</td>\n      <td>22:30:00</td>\n      <td>CALLE SAN SERAPIO</td>\n      <td>1</td>\n      <td>12.0</td>\n      <td>USERA</td>\n      <td>Alcance</td>\n      <td>Despejado</td>\n      <td>Turismo</td>\n      <td>Conductor</td>\n      <td>De 35 a 39 años</td>\n      <td>Hombre</td>\n      <td>14.0</td>\n      <td>Sin asistencia sanitaria</td>\n      <td>440795.55</td>\n      <td>4471044.789</td>\n      <td>N</td>\n      <td>NaN</td>\n    </tr>\n    <tr>\n      <th>31156</th>\n      <td>2023S028352</td>\n      <td>2023-08-31</td>\n      <td>14:40:00</td>\n      <td>AUTOV. M-30, 00NC06</td>\n      <td>00NC06</td>\n      <td>5.0</td>\n      <td>CHAMARTÍN</td>\n      <td>Caída</td>\n      <td>Despejado</td>\n      <td>Motocicleta hasta 125cc</td>\n      <td>Conductor</td>\n      <td>De 40 a 44 años</td>\n      <td>Hombre</td>\n      <td>1.0</td>\n      <td>Atención en urgencias sin posterior ingreso</td>\n      <td>442825.5</td>\n      <td>4481003.193</td>\n      <td>N</td>\n      <td>NaN</td>\n    </tr>\n    <tr>\n      <th>31157</th>\n      <td>2023S029136</td>\n      <td>2023-08-02</td>\n      <td>22:10:00</td>\n      <td>AVDA. CARDENAL HERRERA ORIA, 80</td>\n      <td>80</td>\n      <td>8.0</td>\n      <td>FUENCARRAL-EL PARDO</td>\n      <td>Choque contra obstáculo fijo</td>\n      <td>NaN</td>\n      <td>Turismo</td>\n      <td>Conductor</td>\n      <td>De 35 a 39 años</td>\n      <td>Hombre</td>\n      <td>NaN</td>\n      <td>NaN</td>\n      <td>441491.437</td>\n      <td>4482518.59</td>\n      <td>N</td>\n      <td>NaN</td>\n    </tr>\n  </tbody>\n</table>\n<p>195610 rows × 19 columns</p>\n</div>"
     },
     "execution_count": 8,
     "metadata": {},
     "output_type": "execute_result"
    }
   ],
   "source": [
    "data_loader.get_info('datasets/accidentalidad')\n",
    "data_loader.data['datasets/accidentalidad']"
   ]
  },
  {
   "cell_type": "markdown",
   "id": "34a3185975249614",
   "metadata": {
    "collapsed": false
   },
   "source": [
    "Hay algunos datos faltantes que tiene sentido que lo sean, y podemos sustituir por un buzzword de algún tipo que nos haga saber que se trate de esto, como lo es que en un accidente en el que no se han producido lesiones, la lesividad sea nula y tampoco haya código de la misma, y como ambas cifras coinciden, es lógico pensar que se trata de las mismas situaciones. Podemos sustituir entonces todos los NaNs de Lesividad faltantes por 'Se desconoce' y el código por 77."
   ]
  },
  {
   "cell_type": "code",
   "execution_count": 9,
   "metadata": {
    "ExecuteTime": {
     "end_time": "2023-12-20T10:21:00.738871500Z",
     "start_time": "2023-12-20T10:20:30.346172600Z"
    }
   },
   "outputs": [
    {
     "name": "stdout",
     "output_type": "stream",
     "text": [
      "[ 7. nan  2. 14.  5.  3.  1.  6.  4. 77.]\n"
     ]
    }
   ],
   "source": [
    "print(data_loader.data['datasets/accidentalidad']['COD_LESIVIDAD'].unique())"
   ],
   "id": "7c2fcca273dee177"
  },
  {
   "cell_type": "code",
   "execution_count": 10,
   "id": "c0cb2e35",
   "metadata": {
    "ExecuteTime": {
     "end_time": "2023-12-20T10:21:00.738871500Z",
     "start_time": "2023-12-20T10:20:30.352940900Z"
    }
   },
   "outputs": [
    {
     "data": {
      "text/plain": "0                                                NaN\n1                                                NaN\n2                                                NaN\n3                                                NaN\n4                                                NaN\n                            ...                     \n31153                                            NaN\n31154                                            NaN\n31155                                            NaN\n31156    Atención en urgencias sin posterior ingreso\n31157                                            NaN\nName: LESIVIDAD, Length: 195610, dtype: object"
     },
     "execution_count": 10,
     "metadata": {},
     "output_type": "execute_result"
    }
   ],
   "source": [
    "data_loader.data['datasets/accidentalidad']['LESIVIDAD'].where(data_loader.data['datasets/accidentalidad']['COD_LESIVIDAD']==1)\n"
   ]
  },
  {
   "cell_type": "code",
   "execution_count": 11,
   "outputs": [
    {
     "data": {
      "text/plain": "0        NaN\n1        NaN\n2        NaN\n3        NaN\n4        NaN\n        ... \n31153    NaN\n31154    NaN\n31155    NaN\n31156    NaN\n31157    NaN\nName: LESIVIDAD, Length: 195610, dtype: object"
     },
     "execution_count": 11,
     "metadata": {},
     "output_type": "execute_result"
    }
   ],
   "source": [
    "data_loader.data['datasets/accidentalidad']['LESIVIDAD'].where(data_loader.data['datasets/accidentalidad']['COD_LESIVIDAD']==2)"
   ],
   "metadata": {
    "collapsed": false,
    "ExecuteTime": {
     "end_time": "2023-12-20T10:21:00.738871500Z",
     "start_time": "2023-12-20T10:20:30.363282300Z"
    }
   },
   "id": "db73e37a9c97118d"
  },
  {
   "cell_type": "code",
   "execution_count": 12,
   "outputs": [
    {
     "data": {
      "text/plain": "0        NaN\n1        NaN\n2        NaN\n3        NaN\n4        NaN\n        ... \n31153    NaN\n31154    NaN\n31155    NaN\n31156    NaN\n31157    NaN\nName: LESIVIDAD, Length: 195610, dtype: object"
     },
     "execution_count": 12,
     "metadata": {},
     "output_type": "execute_result"
    }
   ],
   "source": [
    "data_loader.data['datasets/accidentalidad']['LESIVIDAD'].where(data_loader.data['datasets/accidentalidad']['COD_LESIVIDAD']==3)"
   ],
   "metadata": {
    "collapsed": false,
    "ExecuteTime": {
     "end_time": "2023-12-20T10:21:00.738871500Z",
     "start_time": "2023-12-20T10:20:30.369975400Z"
    }
   },
   "id": "9bd5d7f494a15bd3"
  },
  {
   "cell_type": "code",
   "execution_count": 13,
   "outputs": [
    {
     "data": {
      "text/plain": "0        NaN\n1        NaN\n2        NaN\n3        NaN\n4        NaN\n        ... \n31153    NaN\n31154    NaN\n31155    NaN\n31156    NaN\n31157    NaN\nName: LESIVIDAD, Length: 195610, dtype: object"
     },
     "execution_count": 13,
     "metadata": {},
     "output_type": "execute_result"
    }
   ],
   "source": [
    "data_loader.data['datasets/accidentalidad']['LESIVIDAD'].where(data_loader.data['datasets/accidentalidad']['COD_LESIVIDAD']==4)"
   ],
   "metadata": {
    "collapsed": false,
    "ExecuteTime": {
     "end_time": "2023-12-20T10:21:00.738871500Z",
     "start_time": "2023-12-20T10:20:30.378848Z"
    }
   },
   "id": "bbd88d206769050c"
  },
  {
   "cell_type": "code",
   "execution_count": 14,
   "outputs": [
    {
     "data": {
      "text/plain": "0        NaN\n1        NaN\n2        NaN\n3        NaN\n4        NaN\n        ... \n31153    NaN\n31154    NaN\n31155    NaN\n31156    NaN\n31157    NaN\nName: LESIVIDAD, Length: 195610, dtype: object"
     },
     "execution_count": 14,
     "metadata": {},
     "output_type": "execute_result"
    }
   ],
   "source": [
    "data_loader.data['datasets/accidentalidad']['LESIVIDAD'].where(data_loader.data['datasets/accidentalidad']['COD_LESIVIDAD']==5)"
   ],
   "metadata": {
    "collapsed": false,
    "ExecuteTime": {
     "end_time": "2023-12-20T10:21:00.738871500Z",
     "start_time": "2023-12-20T10:20:30.385032900Z"
    }
   },
   "id": "bc004c773d928874"
  },
  {
   "cell_type": "code",
   "execution_count": 15,
   "outputs": [
    {
     "data": {
      "text/plain": "0        NaN\n1        NaN\n2        NaN\n3        NaN\n4        NaN\n        ... \n31153    NaN\n31154    NaN\n31155    NaN\n31156    NaN\n31157    NaN\nName: LESIVIDAD, Length: 195610, dtype: object"
     },
     "execution_count": 15,
     "metadata": {},
     "output_type": "execute_result"
    }
   ],
   "source": [
    "data_loader.data['datasets/accidentalidad']['LESIVIDAD'].where(data_loader.data['datasets/accidentalidad']['COD_LESIVIDAD']==6)"
   ],
   "metadata": {
    "collapsed": false,
    "ExecuteTime": {
     "end_time": "2023-12-20T10:21:00.738871500Z",
     "start_time": "2023-12-20T10:20:30.393266900Z"
    }
   },
   "id": "49c0af8f7e1dffe4"
  },
  {
   "cell_type": "code",
   "execution_count": 16,
   "outputs": [
    {
     "data": {
      "text/plain": "0        Asistencia sanitaria sólo en el lugar del acci...\n1        Asistencia sanitaria sólo en el lugar del acci...\n2                                                      NaN\n3                                                      NaN\n4                                                      NaN\n                               ...                        \n31153                                                  NaN\n31154    Asistencia sanitaria sólo en el lugar del acci...\n31155                                                  NaN\n31156                                                  NaN\n31157                                                  NaN\nName: LESIVIDAD, Length: 195610, dtype: object"
     },
     "execution_count": 16,
     "metadata": {},
     "output_type": "execute_result"
    }
   ],
   "source": [
    "data_loader.data['datasets/accidentalidad']['LESIVIDAD'].where(data_loader.data['datasets/accidentalidad']['COD_LESIVIDAD']==7)"
   ],
   "metadata": {
    "collapsed": false,
    "ExecuteTime": {
     "end_time": "2023-12-20T10:21:00.738871500Z",
     "start_time": "2023-12-20T10:20:30.397586200Z"
    }
   },
   "id": "9313599b81855c77"
  },
  {
   "cell_type": "code",
   "execution_count": 17,
   "outputs": [
    {
     "data": {
      "text/plain": "0                             NaN\n1                             NaN\n2                             NaN\n3                             NaN\n4                             NaN\n                   ...           \n31153    Sin asistencia sanitaria\n31154                         NaN\n31155    Sin asistencia sanitaria\n31156                         NaN\n31157                         NaN\nName: LESIVIDAD, Length: 195610, dtype: object"
     },
     "execution_count": 17,
     "metadata": {},
     "output_type": "execute_result"
    }
   ],
   "source": [
    "data_loader.data['datasets/accidentalidad']['LESIVIDAD'].where(data_loader.data['datasets/accidentalidad']['COD_LESIVIDAD']==14)"
   ],
   "metadata": {
    "collapsed": false,
    "ExecuteTime": {
     "end_time": "2023-12-20T10:21:00.738871500Z",
     "start_time": "2023-12-20T10:20:30.404455600Z"
    }
   },
   "id": "cb90af5352dc3e6"
  },
  {
   "cell_type": "code",
   "execution_count": 18,
   "outputs": [
    {
     "data": {
      "text/plain": "0        NaN\n1        NaN\n2        NaN\n3        NaN\n4        NaN\n        ... \n31153    NaN\n31154    NaN\n31155    NaN\n31156    NaN\n31157    NaN\nName: LESIVIDAD, Length: 195610, dtype: object"
     },
     "execution_count": 18,
     "metadata": {},
     "output_type": "execute_result"
    }
   ],
   "source": [
    "data_loader.data['datasets/accidentalidad']['LESIVIDAD'].where(data_loader.data['datasets/accidentalidad']['COD_LESIVIDAD']==77)"
   ],
   "metadata": {
    "collapsed": false,
    "ExecuteTime": {
     "end_time": "2023-12-20T10:21:00.738871500Z",
     "start_time": "2023-12-20T10:20:30.411668200Z"
    }
   },
   "id": "b4d61119ab1b9a45"
  },
  {
   "cell_type": "code",
   "execution_count": 19,
   "id": "62ad54e1",
   "metadata": {
    "ExecuteTime": {
     "end_time": "2023-12-20T10:21:00.738871500Z",
     "start_time": "2023-12-20T10:20:30.417888600Z"
    }
   },
   "outputs": [],
   "source": [
    "# Mapping dictionary\n",
    "mapping_dict = {\n",
    "    1: 'Atención en urgencias sin posterior ingreso',\n",
    "    2: 'Ingreso inferior o igual a 24 horas',\n",
    "    3: 'Ingreso superior a 24 horas',\n",
    "    4: 'Fallecido 24 horas',\n",
    "    5: 'Asistencia sanitaria ambulatoria con posterioridad',\n",
    "    6: 'Asistencia sanitaria inmediata en centro de salud o mutua',\n",
    "    7: 'Asistencia sanitaria sólo en el lugar del accidente',\n",
    "    14: 'Sin asistencia sanitaria',\n",
    "    77: 'Se desconoce',\n",
    "}\n",
    "\n",
    "# Fill missing values using the mapping dictionary\n",
    "data_loader.data['datasets/accidentalidad']['LESIVIDAD'] = data_loader.data['datasets/accidentalidad']['LESIVIDAD'].fillna(data_loader.data['datasets/accidentalidad']['COD_LESIVIDAD'].map(mapping_dict))\n",
    "data_loader.data['datasets/accidentalidad']['COD_LESIVIDAD'] = data_loader.data['datasets/accidentalidad']['COD_LESIVIDAD'].fillna(data_loader.data['datasets/accidentalidad']['LESIVIDAD'].map({v: k for k, v in mapping_dict.items()}))\n",
    "\n",
    "data_loader.data['datasets/accidentalidad']['LESIVIDAD'].fillna('Se desconoce', inplace=True)\n",
    "data_loader.data['datasets/accidentalidad']['COD_LESIVIDAD'].fillna(77, inplace=True)\n"
   ]
  },
  {
   "cell_type": "markdown",
   "id": "2d6a142e6af20ddc",
   "metadata": {
    "collapsed": false
   },
   "source": [
    "Por otro lado, positivo en droga tiene valor sólo si daba positivo, por lo que rellenar los valores faltantes con 0 es lo más lógico (siendo 0 negativo en droga). "
   ]
  },
  {
   "cell_type": "code",
   "execution_count": 20,
   "id": "6f0770e842c6602b",
   "metadata": {
    "collapsed": false,
    "ExecuteTime": {
     "end_time": "2023-12-20T10:21:00.738871500Z",
     "start_time": "2023-12-20T10:20:30.451481700Z"
    }
   },
   "outputs": [],
   "source": [
    "data_loader.data['datasets/accidentalidad']['POSITIVA_DROGA'] = data_loader.data['datasets/accidentalidad']['POSITIVA_DROGA'].fillna(0)"
   ]
  },
  {
   "cell_type": "markdown",
   "id": "cfef480eb314978e",
   "metadata": {
    "collapsed": false
   },
   "source": [
    "Número, código de distrito, tipo de accidente, coordenadas (x e y), son atributos a los que sólo les falta un dato cada uno, por lo que no es representativo esta falta de datos y podemos rellenarlos con el valor más habitual. "
   ]
  },
  {
   "cell_type": "code",
   "execution_count": 21,
   "id": "523ced2bbb542e56",
   "metadata": {
    "collapsed": false,
    "ExecuteTime": {
     "end_time": "2023-12-20T10:21:00.738871500Z",
     "start_time": "2023-12-20T10:20:30.458542400Z"
    }
   },
   "outputs": [],
   "source": [
    "numero = data_loader.data['datasets/accidentalidad']['COD_DISTRITO'].mode().iat[0]\n",
    "codDistrito = data_loader.data['datasets/accidentalidad']['COD_DISTRITO'].mode().iat[0]\n",
    "distrito = data_loader.data['datasets/accidentalidad']['COD_DISTRITO'].mode().iat[0]\n",
    "accidente = data_loader.data['datasets/accidentalidad']['COD_DISTRITO'].mode().iat[0]\n",
    "coorX = data_loader.data['datasets/accidentalidad']['COD_DISTRITO'].mode().iat[0]\n",
    "coorY = data_loader.data['datasets/accidentalidad']['COD_DISTRITO'].mode().iat[0]\n",
    "\n",
    "\n",
    "data_loader.data['datasets/accidentalidad']['NUMERO'] = data_loader.data['datasets/accidentalidad']['NUMERO'].fillna(numero)\n",
    "data_loader.data['datasets/accidentalidad']['COD_DISTRITO'] = data_loader.data['datasets/accidentalidad']['COD_DISTRITO'].fillna(codDistrito)\n",
    "data_loader.data['datasets/accidentalidad']['DISTRITO'] = data_loader.data['datasets/accidentalidad']['DISTRITO'].fillna(distrito)\n",
    "data_loader.data['datasets/accidentalidad']['TIPO_ACCIDENTE'] = data_loader.data['datasets/accidentalidad']['TIPO_ACCIDENTE'].fillna(accidente)\n",
    "data_loader.data['datasets/accidentalidad']['COORDENADA_X_UTM'] = data_loader.data['datasets/accidentalidad']['COORDENADA_X_UTM'].fillna(coorX)\n",
    "data_loader.data['datasets/accidentalidad']['COORDENADA_Y_UTM'] = data_loader.data['datasets/accidentalidad']['COORDENADA_Y_UTM'].fillna(coorY)\n"
   ]
  },
  {
   "cell_type": "markdown",
   "id": "c1ffcefbaed71bb7",
   "metadata": {
    "collapsed": false
   },
   "source": [
    "Por último, donde queda dilema es en positivo alcohol, tipo de vehículo y estado meteorológico. En esta situación, lo más apropiado es ver si, relacionando estos atributos con algún otro, es más probable que los atributos valgan uno u otro valor.\n",
    "\n",
    "- Estado meteorológico. Hay 7 valores posibles: despejado, lluvia débil, lluvia intensa, granizando, nevando, nublado, se desconoce. Aquí, por lo tanto, hay 3 vías de actuación:\n",
    "    - Rellenar con \"se desconoce\", i.e.: ser fieles a lo que se sabe, reducir la proporción de datos artificiales (hay un 11% de datos faltantes), solución sencilla.\n",
    "    - Rellenar con el valor más frecuente: despejado (representa el 75% de los datos), i.e.: solución con datos artificiales más sencilla.\n",
    "    - Rellenar con valores aleatorios según la proporción en la que aparecen los datos, i.e.: el 75% de los datos faltantes se rellenan arbitrariamente con \"Despejado\".\n",
    "\n",
    "    Lo que mejor preserva los datos es, rellenar con \"se desconoce\", pues la variable existe previamente."
   ]
  },
  {
   "cell_type": "code",
   "execution_count": 22,
   "id": "b19e895537b3fefc",
   "metadata": {
    "collapsed": false,
    "ExecuteTime": {
     "end_time": "2023-12-20T10:21:00.738871500Z",
     "start_time": "2023-12-20T10:20:30.498177200Z"
    }
   },
   "outputs": [],
   "source": [
    "data_loader.data['datasets/accidentalidad']['ESTADO_METEOROLÓGICO'] = data_loader.data['datasets/accidentalidad']['ESTADO_METEOROLÓGICO'].fillna('Se desconoce')"
   ]
  },
  {
   "cell_type": "markdown",
   "id": "a1c3ed47a75517d2",
   "metadata": {
    "collapsed": false
   },
   "source": [
    "- Tipo de vehículo. Hay 34 valores posibles: Ambulancia SAMUR, autobús EMT, autobús, autobús articulado, autobús articulado EMT, autocaravana, bicicleta, bicicleta EPAC (pedaleo asistido), camión de bomberos, camión rígido, ciclo, ciclomotor, ciclomotor de dos ruedas L1e-B, cuadriciclo ligero, cuadriciclo no ligero, furgoneta, maquinaria de obras, microbús <= 17 plazas, moto de tres ruedas > 125cc, moto de tres ruedas hasta 125cc, motocicleta > 125cc, motocicleta hasta 125cc, otros vehículos con motor, otros vehículos sin motor, patinete no eléctrico, remolque, semirremolque, sin especificar, todo terreno, tractocamión, tren/metro, turismo (68%), VMU eléctrico, vehículo articulado. En esta variable hay 0.6% de valores faltantes, lo cual no es significativo, i.e.: la sustitución que elijamos tendrá menos repercusión en el estudio final. Aquí, por lo tanto, hay 2 vías de actuación:\n",
    "    - Rellenar con \"sin especificar\", i.e.: solución sencilla y descriptiva pero que puede dar lugar a interpretaciones erróneas, pues puede haber sido otro tipo de vehículo que no se había registrado.\n",
    "    - Rellenar con el valor más probable según otro atributo (por ejemplo, código de lesividad).\n",
    "    \n",
    "    La solución más apropiada es rellenar con el valor más probable según código de lesividad, por lo que vamos a ver primero cómo se relacionan ambos atributos y después rellenaremos los valores faltantes con el valor más probable."
   ]
  },
  {
   "cell_type": "code",
   "execution_count": 23,
   "id": "7cab20107357cf63",
   "metadata": {
    "collapsed": false,
    "ExecuteTime": {
     "end_time": "2023-12-20T10:21:00.738871500Z",
     "start_time": "2023-12-20T10:20:30.511407400Z"
    }
   },
   "outputs": [],
   "source": [
    "data_loader.data['datasets/accidentalidad']['TIPO_VEHICULO'] = data_loader.data['datasets/accidentalidad']['TIPO_VEHICULO'].fillna(data_loader.data['datasets/accidentalidad'].groupby('COD_LESIVIDAD')['TIPO_VEHICULO'].transform(lambda x:x.mode().iat[0]))"
   ]
  },
  {
   "cell_type": "markdown",
   "id": "1327182514854e40",
   "metadata": {
    "collapsed": false
   },
   "source": [
    "Para rellenar los datos de positivo en alcohol, usaremos lo más habitual según grupo de edad, sexo y lesividad de la persona"
   ]
  },
  {
   "cell_type": "code",
   "execution_count": 24,
   "id": "d5616191f4311771",
   "metadata": {
    "collapsed": false,
    "ExecuteTime": {
     "end_time": "2023-12-20T10:21:00.738871500Z",
     "start_time": "2023-12-20T10:20:30.552994200Z"
    }
   },
   "outputs": [],
   "source": [
    "data_loader.data['datasets/accidentalidad'][\"POSITIVA_ALCOHOL\"] = data_loader.data['datasets/accidentalidad'].groupby(['RANGO_EDAD','SEXO','LESIVIDAD'])['POSITIVA_ALCOHOL'].transform(lambda x: x.fillna(x.mode()[0] if not x.mode().empty                                                                                                        else \"Empty\"))"
   ]
  },
  {
   "cell_type": "markdown",
   "id": "454c21c49c4303b3",
   "metadata": {
    "collapsed": false
   },
   "source": [
    "Para determinar el tipo de persona, usaremos de criterio el rango de edad y la lesividad -si bien sólo faltan 3 datos, en esta situación podemos realizar un ajuste más específico-"
   ]
  },
  {
   "cell_type": "code",
   "execution_count": 25,
   "id": "4b1a47a31c2d409e",
   "metadata": {
    "collapsed": false,
    "ExecuteTime": {
     "end_time": "2023-12-20T10:21:00.738871500Z",
     "start_time": "2023-12-20T10:20:30.693103300Z"
    }
   },
   "outputs": [],
   "source": [
    "data_loader.data['datasets/accidentalidad'][\"TIPO_PERSONA\"] = data_loader.data['datasets/accidentalidad'].groupby(['RANGO_EDAD','LESIVIDAD'])['TIPO_PERSONA'].transform(lambda x: x.fillna(x.mode()[0] if not x.mode().empty                                                                                                        else \"Empty\"))"
   ]
  },
  {
   "cell_type": "code",
   "execution_count": 26,
   "id": "c790703d72ed5412",
   "metadata": {
    "collapsed": false,
    "ExecuteTime": {
     "end_time": "2023-12-20T10:21:00.738871500Z",
     "start_time": "2023-12-20T10:20:30.792137400Z"
    }
   },
   "outputs": [
    {
     "name": "stdout",
     "output_type": "stream",
     "text": [
      "NUM_EXPEDIENTE          0\n",
      "FECHA                   0\n",
      "HORA                    0\n",
      "LOCALIZACION            0\n",
      "NUMERO                  0\n",
      "COD_DISTRITO            0\n",
      "DISTRITO                0\n",
      "TIPO_ACCIDENTE          0\n",
      "ESTADO_METEOROLÓGICO    0\n",
      "TIPO_VEHICULO           0\n",
      "TIPO_PERSONA            0\n",
      "RANGO_EDAD              0\n",
      "SEXO                    0\n",
      "COD_LESIVIDAD           0\n",
      "LESIVIDAD               0\n",
      "COORDENADA_X_UTM        3\n",
      "COORDENADA_Y_UTM        3\n",
      "POSITIVA_ALCOHOL        0\n",
      "POSITIVA_DROGA          0\n",
      "dtype: int64\n",
      "<class 'pandas.core.frame.DataFrame'>\n",
      "Index: 195610 entries, 0 to 31157\n",
      "Data columns (total 19 columns):\n",
      " #   Column                Non-Null Count   Dtype         \n",
      "---  ------                --------------   -----         \n",
      " 0   NUM_EXPEDIENTE        195610 non-null  object        \n",
      " 1   FECHA                 195610 non-null  datetime64[ns]\n",
      " 2   HORA                  195610 non-null  object        \n",
      " 3   LOCALIZACION          195610 non-null  object        \n",
      " 4   NUMERO                195610 non-null  object        \n",
      " 5   COD_DISTRITO          195610 non-null  float64       \n",
      " 6   DISTRITO              195610 non-null  object        \n",
      " 7   TIPO_ACCIDENTE        195610 non-null  object        \n",
      " 8   ESTADO_METEOROLÓGICO  195610 non-null  object        \n",
      " 9   TIPO_VEHICULO         195610 non-null  object        \n",
      " 10  TIPO_PERSONA          195610 non-null  object        \n",
      " 11  RANGO_EDAD            195610 non-null  object        \n",
      " 12  SEXO                  195610 non-null  object        \n",
      " 13  COD_LESIVIDAD         195610 non-null  float64       \n",
      " 14  LESIVIDAD             195610 non-null  object        \n",
      " 15  COORDENADA_X_UTM      195607 non-null  object        \n",
      " 16  COORDENADA_Y_UTM      195607 non-null  object        \n",
      " 17  POSITIVA_ALCOHOL      195610 non-null  object        \n",
      " 18  POSITIVA_DROGA        195610 non-null  float64       \n",
      "dtypes: datetime64[ns](1), float64(3), object(15)\n",
      "memory usage: 29.8+ MB\n",
      "None\n"
     ]
    }
   ],
   "source": [
    "data_loader.get_info('datasets/accidentalidad')"
   ]
  },
  {
   "cell_type": "markdown",
   "id": "4f8ee4fcf06fd0e",
   "metadata": {
    "collapsed": false
   },
   "source": [
    "Como podemos comprobar, no quedan datos faltantes. Pasamos a Actuaciones Bomberos:"
   ]
  },
  {
   "cell_type": "code",
   "execution_count": null,
   "id": "7ac790cf4043dacd",
   "metadata": {
    "collapsed": false
   },
   "outputs": [],
   "source": [
    "data_loader.get_info('datasets/actuacionesBomberos')"
   ]
  },
  {
   "cell_type": "markdown",
   "id": "15497bda9537b85",
   "metadata": {
    "collapsed": false,
    "ExecuteTime": {
     "end_time": "2023-12-20T10:21:00.738871500Z",
     "start_time": "2023-12-20T10:20:30.905663800Z"
    }
   },
   "source": [
    "Este dataset no tiene datos faltantes, pasamos al siguiente. Estaciones:"
   ]
  },
  {
   "cell_type": "code",
   "execution_count": null,
   "id": "f00a27c56abd08bc",
   "metadata": {
    "collapsed": false
   },
   "outputs": [],
   "source": [
    "data_loader.get_info('datasets/estaciones')\n",
    "data_loader.data['datasets/estaciones']"
   ]
  },
  {
   "cell_type": "markdown",
   "id": "c59a84bcb078339c",
   "metadata": {
    "collapsed": false,
    "ExecuteTime": {
     "end_time": "2023-12-20T10:21:00.738871500Z",
     "start_time": "2023-12-20T10:20:30.914326Z"
    }
   },
   "source": [
    "Este dataset tampoco tiene datos faltantes. Apreciamos que FSEN, aparte de indicar el sentido del tráfico, también indica si son las primeras 12h del día (1- y 2-), o las últimas (1=, 2=). Hacemos 12 nuevos atributos para suplir esto en un formato 24h que es más cómodo."
   ]
  },
  {
   "cell_type": "code",
   "execution_count": null,
   "id": "c8894e7acc85e84b",
   "metadata": {
    "collapsed": false
   },
   "outputs": [],
   "source": [
    "# Convert 'date' column to datetime if it's not already\n",
    "data_loader.data['datasets/estaciones']['FDIA'] = pd.to_datetime(data_loader.data['datasets/estaciones']['FDIA'], format='mixed', dayfirst=True)"
   ]
  },
  {
   "cell_type": "code",
   "execution_count": 29,
   "id": "8f1b7c4c5894715c",
   "metadata": {
    "collapsed": false,
    "ExecuteTime": {
     "end_time": "2023-12-20T10:21:00.738871500Z",
     "start_time": "2023-12-20T10:20:30.945791400Z"
    }
   },
   "outputs": [],
   "source": [
    "data_loader.get_info('datasets/estaciones')"
   ]
  },
  {
   "cell_type": "code",
   "execution_count": 30,
   "id": "5b39986ae60da02a",
   "metadata": {
    "collapsed": false,
    "ExecuteTime": {
     "end_time": "2023-12-20T10:21:00.738871500Z",
     "start_time": "2023-12-20T10:20:30.961615600Z"
    }
   },
   "outputs": [
    {
     "name": "stdout",
     "output_type": "stream",
     "text": [
      "FDIA     0\n",
      "FEST     0\n",
      "FSEN     0\n",
      "HOR1     0\n",
      "HOR2     0\n",
      "HOR3     0\n",
      "HOR4     0\n",
      "HOR5     0\n",
      "HOR6     0\n",
      "HOR7     0\n",
      "HOR8     0\n",
      "HOR9     0\n",
      "HOR10    0\n",
      "HOR11    0\n",
      "HOR12    0\n",
      "dtype: int64\n",
      "<class 'pandas.core.frame.DataFrame'>\n",
      "Index: 86140 entries, 0 to 7079\n",
      "Data columns (total 15 columns):\n",
      " #   Column  Non-Null Count  Dtype         \n",
      "---  ------  --------------  -----         \n",
      " 0   FDIA    86140 non-null  datetime64[ns]\n",
      " 1   FEST    86140 non-null  object        \n",
      " 2   FSEN    86140 non-null  object        \n",
      " 3   HOR1    86140 non-null  float64       \n",
      " 4   HOR2    86140 non-null  float64       \n",
      " 5   HOR3    86140 non-null  float64       \n",
      " 6   HOR4    86140 non-null  float64       \n",
      " 7   HOR5    86140 non-null  float64       \n",
      " 8   HOR6    86140 non-null  float64       \n",
      " 9   HOR7    86140 non-null  float64       \n",
      " 10  HOR8    86140 non-null  float64       \n",
      " 11  HOR9    86140 non-null  float64       \n",
      " 12  HOR10   86140 non-null  float64       \n",
      " 13  HOR11   86140 non-null  float64       \n",
      " 14  HOR12   86140 non-null  float64       \n",
      "dtypes: datetime64[ns](1), float64(12), object(2)\n",
      "memory usage: 10.5+ MB\n",
      "None\n"
     ]
    }
   ],
   "source": [
    "df = data_loader.data['datasets/estaciones']\n",
    "# Split the FSEN values into direction and hour parts\n",
    "df[['FSEN_DIRECTION', 'FSEN_AMPM']] = df['FSEN'].str.extract(r'(\\d)([=-])')\n",
    "\n",
    "# Drop unnecessary columns\n",
    "df.drop(['FSEN'], axis=1, inplace=True)\n",
    "\n",
    "index = ['FDIA', 'FEST', 'FSEN_DIRECTION', 'FSEN_AMPM', 'HOR1', 'HOR2', 'HOR3', 'HOR4', 'HOR5', 'HOR6', 'HOR7', 'HOR8', 'HOR9', 'HOR10', 'HOR11', 'HOR12', 'HOR13', 'HOR14', 'HOR15', 'HOR16', 'HOR17', 'HOR18', 'HOR19', 'HOR20', 'HOR21', 'HOR22', 'HOR23', 'HOR24']\n",
    "\n",
    "df.reindex(columns=index)"
   ]
  },
  {
   "cell_type": "code",
   "execution_count": 31,
   "id": "2748eab1e83d0af0",
   "metadata": {
    "collapsed": false,
    "ExecuteTime": {
     "end_time": "2023-12-20T10:21:00.754515400Z",
     "start_time": "2023-12-20T10:20:30.977267200Z"
    }
   },
   "outputs": [
    {
     "data": {
      "text/plain": "           FDIA  FEST FSEN_DIRECTION FSEN_AMPM    HOR1    HOR2   HOR3   HOR4  \\\n0    2023-04-01  ES01              1         -   819.0   572.0  467.0  397.0   \n1    2023-04-01  ES01              1         =  1223.0  1165.0  832.0  884.0   \n2    2023-04-01  ES01              2         -   683.0   464.0  361.0  298.0   \n3    2023-04-01  ES01              2         =  1206.0  1077.0  748.0  923.0   \n4    2023-04-01  ES02              1         -   312.0   309.0  262.0  213.0   \n...         ...   ...            ...       ...     ...     ...    ...    ...   \n7075 2022-09-30  ES59              2         =   198.0   193.0  169.0  202.0   \n7076 2022-09-30  ES60              1         -    48.0    35.0   28.0   34.0   \n7077 2022-09-30  ES60              1         =   472.0   543.0  489.0  488.0   \n7078 2022-09-30  ES60              2         -    57.0    51.0   26.0   19.0   \n7079 2022-09-30  ES60              2         =   669.0   725.0  693.0  678.0   \n\n        HOR5    HOR6  ...  HOR15  HOR16  HOR17  HOR18  HOR19  HOR20  HOR21  \\\n0      373.0   393.0  ...    NaN    NaN    NaN    NaN    NaN    NaN    NaN   \n1     1016.0  1058.0  ...    NaN    NaN    NaN    NaN    NaN    NaN    NaN   \n2      297.0   416.0  ...    NaN    NaN    NaN    NaN    NaN    NaN    NaN   \n3      964.0  1104.0  ...    NaN    NaN    NaN    NaN    NaN    NaN    NaN   \n4      187.0   129.0  ...    NaN    NaN    NaN    NaN    NaN    NaN    NaN   \n...      ...     ...  ...    ...    ...    ...    ...    ...    ...    ...   \n7075   248.0   249.0  ...    NaN    NaN    NaN    NaN    NaN    NaN    NaN   \n7076    74.0   166.0  ...    NaN    NaN    NaN    NaN    NaN    NaN    NaN   \n7077   618.0   577.0  ...    NaN    NaN    NaN    NaN    NaN    NaN    NaN   \n7078    48.0   117.0  ...    NaN    NaN    NaN    NaN    NaN    NaN    NaN   \n7079   690.0   628.0  ...    NaN    NaN    NaN    NaN    NaN    NaN    NaN   \n\n      HOR22  HOR23  HOR24  \n0       NaN    NaN    NaN  \n1       NaN    NaN    NaN  \n2       NaN    NaN    NaN  \n3       NaN    NaN    NaN  \n4       NaN    NaN    NaN  \n...     ...    ...    ...  \n7075    NaN    NaN    NaN  \n7076    NaN    NaN    NaN  \n7077    NaN    NaN    NaN  \n7078    NaN    NaN    NaN  \n7079    NaN    NaN    NaN  \n\n[86140 rows x 28 columns]",
      "text/html": "<div>\n<style scoped>\n    .dataframe tbody tr th:only-of-type {\n        vertical-align: middle;\n    }\n\n    .dataframe tbody tr th {\n        vertical-align: top;\n    }\n\n    .dataframe thead th {\n        text-align: right;\n    }\n</style>\n<table border=\"1\" class=\"dataframe\">\n  <thead>\n    <tr style=\"text-align: right;\">\n      <th></th>\n      <th>FDIA</th>\n      <th>FEST</th>\n      <th>FSEN_DIRECTION</th>\n      <th>FSEN_AMPM</th>\n      <th>HOR1</th>\n      <th>HOR2</th>\n      <th>HOR3</th>\n      <th>HOR4</th>\n      <th>HOR5</th>\n      <th>HOR6</th>\n      <th>...</th>\n      <th>HOR15</th>\n      <th>HOR16</th>\n      <th>HOR17</th>\n      <th>HOR18</th>\n      <th>HOR19</th>\n      <th>HOR20</th>\n      <th>HOR21</th>\n      <th>HOR22</th>\n      <th>HOR23</th>\n      <th>HOR24</th>\n    </tr>\n  </thead>\n  <tbody>\n    <tr>\n      <th>0</th>\n      <td>2023-04-01</td>\n      <td>ES01</td>\n      <td>1</td>\n      <td>-</td>\n      <td>819.0</td>\n      <td>572.0</td>\n      <td>467.0</td>\n      <td>397.0</td>\n      <td>373.0</td>\n      <td>393.0</td>\n      <td>...</td>\n      <td>NaN</td>\n      <td>NaN</td>\n      <td>NaN</td>\n      <td>NaN</td>\n      <td>NaN</td>\n      <td>NaN</td>\n      <td>NaN</td>\n      <td>NaN</td>\n      <td>NaN</td>\n      <td>NaN</td>\n    </tr>\n    <tr>\n      <th>1</th>\n      <td>2023-04-01</td>\n      <td>ES01</td>\n      <td>1</td>\n      <td>=</td>\n      <td>1223.0</td>\n      <td>1165.0</td>\n      <td>832.0</td>\n      <td>884.0</td>\n      <td>1016.0</td>\n      <td>1058.0</td>\n      <td>...</td>\n      <td>NaN</td>\n      <td>NaN</td>\n      <td>NaN</td>\n      <td>NaN</td>\n      <td>NaN</td>\n      <td>NaN</td>\n      <td>NaN</td>\n      <td>NaN</td>\n      <td>NaN</td>\n      <td>NaN</td>\n    </tr>\n    <tr>\n      <th>2</th>\n      <td>2023-04-01</td>\n      <td>ES01</td>\n      <td>2</td>\n      <td>-</td>\n      <td>683.0</td>\n      <td>464.0</td>\n      <td>361.0</td>\n      <td>298.0</td>\n      <td>297.0</td>\n      <td>416.0</td>\n      <td>...</td>\n      <td>NaN</td>\n      <td>NaN</td>\n      <td>NaN</td>\n      <td>NaN</td>\n      <td>NaN</td>\n      <td>NaN</td>\n      <td>NaN</td>\n      <td>NaN</td>\n      <td>NaN</td>\n      <td>NaN</td>\n    </tr>\n    <tr>\n      <th>3</th>\n      <td>2023-04-01</td>\n      <td>ES01</td>\n      <td>2</td>\n      <td>=</td>\n      <td>1206.0</td>\n      <td>1077.0</td>\n      <td>748.0</td>\n      <td>923.0</td>\n      <td>964.0</td>\n      <td>1104.0</td>\n      <td>...</td>\n      <td>NaN</td>\n      <td>NaN</td>\n      <td>NaN</td>\n      <td>NaN</td>\n      <td>NaN</td>\n      <td>NaN</td>\n      <td>NaN</td>\n      <td>NaN</td>\n      <td>NaN</td>\n      <td>NaN</td>\n    </tr>\n    <tr>\n      <th>4</th>\n      <td>2023-04-01</td>\n      <td>ES02</td>\n      <td>1</td>\n      <td>-</td>\n      <td>312.0</td>\n      <td>309.0</td>\n      <td>262.0</td>\n      <td>213.0</td>\n      <td>187.0</td>\n      <td>129.0</td>\n      <td>...</td>\n      <td>NaN</td>\n      <td>NaN</td>\n      <td>NaN</td>\n      <td>NaN</td>\n      <td>NaN</td>\n      <td>NaN</td>\n      <td>NaN</td>\n      <td>NaN</td>\n      <td>NaN</td>\n      <td>NaN</td>\n    </tr>\n    <tr>\n      <th>...</th>\n      <td>...</td>\n      <td>...</td>\n      <td>...</td>\n      <td>...</td>\n      <td>...</td>\n      <td>...</td>\n      <td>...</td>\n      <td>...</td>\n      <td>...</td>\n      <td>...</td>\n      <td>...</td>\n      <td>...</td>\n      <td>...</td>\n      <td>...</td>\n      <td>...</td>\n      <td>...</td>\n      <td>...</td>\n      <td>...</td>\n      <td>...</td>\n      <td>...</td>\n      <td>...</td>\n    </tr>\n    <tr>\n      <th>7075</th>\n      <td>2022-09-30</td>\n      <td>ES59</td>\n      <td>2</td>\n      <td>=</td>\n      <td>198.0</td>\n      <td>193.0</td>\n      <td>169.0</td>\n      <td>202.0</td>\n      <td>248.0</td>\n      <td>249.0</td>\n      <td>...</td>\n      <td>NaN</td>\n      <td>NaN</td>\n      <td>NaN</td>\n      <td>NaN</td>\n      <td>NaN</td>\n      <td>NaN</td>\n      <td>NaN</td>\n      <td>NaN</td>\n      <td>NaN</td>\n      <td>NaN</td>\n    </tr>\n    <tr>\n      <th>7076</th>\n      <td>2022-09-30</td>\n      <td>ES60</td>\n      <td>1</td>\n      <td>-</td>\n      <td>48.0</td>\n      <td>35.0</td>\n      <td>28.0</td>\n      <td>34.0</td>\n      <td>74.0</td>\n      <td>166.0</td>\n      <td>...</td>\n      <td>NaN</td>\n      <td>NaN</td>\n      <td>NaN</td>\n      <td>NaN</td>\n      <td>NaN</td>\n      <td>NaN</td>\n      <td>NaN</td>\n      <td>NaN</td>\n      <td>NaN</td>\n      <td>NaN</td>\n    </tr>\n    <tr>\n      <th>7077</th>\n      <td>2022-09-30</td>\n      <td>ES60</td>\n      <td>1</td>\n      <td>=</td>\n      <td>472.0</td>\n      <td>543.0</td>\n      <td>489.0</td>\n      <td>488.0</td>\n      <td>618.0</td>\n      <td>577.0</td>\n      <td>...</td>\n      <td>NaN</td>\n      <td>NaN</td>\n      <td>NaN</td>\n      <td>NaN</td>\n      <td>NaN</td>\n      <td>NaN</td>\n      <td>NaN</td>\n      <td>NaN</td>\n      <td>NaN</td>\n      <td>NaN</td>\n    </tr>\n    <tr>\n      <th>7078</th>\n      <td>2022-09-30</td>\n      <td>ES60</td>\n      <td>2</td>\n      <td>-</td>\n      <td>57.0</td>\n      <td>51.0</td>\n      <td>26.0</td>\n      <td>19.0</td>\n      <td>48.0</td>\n      <td>117.0</td>\n      <td>...</td>\n      <td>NaN</td>\n      <td>NaN</td>\n      <td>NaN</td>\n      <td>NaN</td>\n      <td>NaN</td>\n      <td>NaN</td>\n      <td>NaN</td>\n      <td>NaN</td>\n      <td>NaN</td>\n      <td>NaN</td>\n    </tr>\n    <tr>\n      <th>7079</th>\n      <td>2022-09-30</td>\n      <td>ES60</td>\n      <td>2</td>\n      <td>=</td>\n      <td>669.0</td>\n      <td>725.0</td>\n      <td>693.0</td>\n      <td>678.0</td>\n      <td>690.0</td>\n      <td>628.0</td>\n      <td>...</td>\n      <td>NaN</td>\n      <td>NaN</td>\n      <td>NaN</td>\n      <td>NaN</td>\n      <td>NaN</td>\n      <td>NaN</td>\n      <td>NaN</td>\n      <td>NaN</td>\n      <td>NaN</td>\n      <td>NaN</td>\n    </tr>\n  </tbody>\n</table>\n<p>86140 rows × 28 columns</p>\n</div>"
     },
     "execution_count": 31,
     "metadata": {},
     "output_type": "execute_result"
    }
   ],
   "source": [
    "def group_fn(dff: pd.DataFrame):\n",
    "    # dff contiene 2 rows de am y pm\n",
    "    am = dff.loc[dff['FSEN_AMPM'] == \"-\"].iloc[0]\n",
    "    pm = dff.loc[dff['FSEN_AMPM'] == \"=\"].iloc[0]\n",
    "    par = am[['HOR1', 'HOR2', 'HOR3', 'HOR4', 'HOR5', 'HOR6', 'HOR7', 'HOR8', 'HOR9', 'HOR10', 'HOR11', 'HOR12']].copy()\n",
    "    \n",
    "    par['HOR13'] = pm['HOR1']\n",
    "    par['HOR14'] = pm['HOR2']\n",
    "    par['HOR15'] = pm['HOR3']\n",
    "    par['HOR16'] = pm['HOR4']\n",
    "    par['HOR17'] = pm['HOR5']\n",
    "    par['HOR18'] = pm['HOR6']\n",
    "    par['HOR19'] = pm['HOR7']\n",
    "    par['HOR20'] = pm['HOR8']\n",
    "    par['HOR21'] = pm['HOR9']\n",
    "    par['HOR22'] = pm['HOR10']\n",
    "    par['HOR23'] = pm['HOR11']\n",
    "    par['HOR24'] = pm['HOR12']\n",
    "\n",
    "    return par"
   ]
  },
  {
   "cell_type": "code",
   "execution_count": 32,
   "id": "558dcca8006dc4d3",
   "metadata": {
    "collapsed": false,
    "ExecuteTime": {
     "end_time": "2023-12-20T10:21:00.754515400Z",
     "start_time": "2023-12-20T10:20:31.123274700Z"
    }
   },
   "outputs": [],
   "source": [
    "data_loader.data['datasets/estaciones'] = df.groupby(['FEST', 'FDIA', 'FSEN_DIRECTION']).apply(group_fn)\n",
    "data_loader.data['datasets/estaciones']"
   ]
  },
  {
   "cell_type": "code",
   "execution_count": 33,
   "id": "5eae3a39",
   "metadata": {
    "ExecuteTime": {
     "end_time": "2023-12-20T10:24:07.611294800Z",
     "start_time": "2023-12-20T10:20:31.128623800Z"
    }
   },
   "outputs": [
    {
     "data": {
      "text/plain": "                                 HOR1   HOR2   HOR3  HOR4   HOR5   HOR6  \\\nFEST FDIA       FSEN_DIRECTION                                            \nES01 2022-08-01 1               183.0  128.0  104.0  78.0  164.0  593.0   \n                2               205.0  155.0  108.0  78.0  116.0  236.0   \n     2022-08-02 1               221.0  111.0   85.0  77.0  166.0  506.0   \n                2               117.0  107.0   75.0  59.0  133.0  259.0   \n     2022-08-03 1               241.0  125.0   88.0  84.0  144.0  511.0   \n...                               ...    ...    ...   ...    ...    ...   \nES60 2023-07-29 2                86.0   65.0   56.0  41.0   40.0   57.0   \n     2023-07-30 1                86.0   82.0   56.0  41.0   52.0   77.0   \n                2               128.0   88.0   57.0  44.0   49.0   55.0   \n     2023-07-31 1                45.0   26.0   25.0  22.0   42.0  138.0   \n                2                67.0   45.0   26.0  35.0   22.0   85.0   \n\n                                  HOR7    HOR8    HOR9   HOR10  ...   HOR15  \\\nFEST FDIA       FSEN_DIRECTION                                  ...           \nES01 2022-08-01 1               1379.0  1483.0  1384.0  1226.0  ...  1232.0   \n                2                528.0   948.0   918.0   915.0  ...  1028.0   \n     2022-08-02 1               1414.0  1513.0  1335.0  1263.0  ...  1178.0   \n                2                561.0   929.0   949.0   871.0  ...  1115.0   \n     2022-08-03 1               1373.0  1431.0  1322.0  1175.0  ...  1164.0   \n...                                ...     ...     ...     ...  ...     ...   \nES60 2023-07-29 2                 78.0   109.0   206.0   313.0  ...   226.0   \n     2023-07-30 1                 74.0   113.0   203.0   301.0  ...   157.0   \n                2                 60.0    72.0   126.0   182.0  ...   235.0   \n     2023-07-31 1                331.0   413.0   409.0   402.0  ...   277.0   \n                2                192.0   253.0   342.0   357.0  ...   423.0   \n\n                                 HOR16   HOR17   HOR18   HOR19  HOR20  HOR21  \\\nFEST FDIA       FSEN_DIRECTION                                                 \nES01 2022-08-01 1                945.0   993.0  1109.0   924.0  944.0  677.0   \n                2                891.0   940.0   957.0   849.0  790.0  572.0   \n     2022-08-02 1               1012.0   957.0  1025.0  1024.0  890.0  684.0   \n                2                878.0   944.0  1016.0   873.0  876.0  721.0   \n     2022-08-03 1                960.0  1015.0  1049.0   986.0  974.0  698.0   \n...                                ...     ...     ...     ...    ...    ...   \nES60 2023-07-29 2                224.0   173.0   239.0   270.0  296.0  298.0   \n     2023-07-30 1                154.0   196.0   253.0   283.0  267.0  191.0   \n                2                221.0   234.0   258.0   312.0  396.0  391.0   \n     2023-07-31 1                272.0   347.0   374.0   394.0  323.0  240.0   \n                2                340.0   355.0   424.0   415.0  427.0  323.0   \n\n                                HOR22  HOR23  HOR24  \nFEST FDIA       FSEN_DIRECTION                       \nES01 2022-08-01 1               556.0  552.0  386.0  \n                2               487.0  348.0  275.0  \n     2022-08-02 1               486.0  568.0  430.0  \n                2               504.0  413.0  312.0  \n     2022-08-03 1               540.0  602.0  537.0  \n...                               ...    ...    ...  \nES60 2023-07-29 2               231.0  174.0  190.0  \n     2023-07-30 1               181.0  109.0   70.0  \n                2               273.0  190.0  111.0  \n     2023-07-31 1               130.0  102.0   64.0  \n                2               228.0  159.0   93.0  \n\n[43070 rows x 24 columns]",
      "text/html": "<div>\n<style scoped>\n    .dataframe tbody tr th:only-of-type {\n        vertical-align: middle;\n    }\n\n    .dataframe tbody tr th {\n        vertical-align: top;\n    }\n\n    .dataframe thead th {\n        text-align: right;\n    }\n</style>\n<table border=\"1\" class=\"dataframe\">\n  <thead>\n    <tr style=\"text-align: right;\">\n      <th></th>\n      <th></th>\n      <th></th>\n      <th>HOR1</th>\n      <th>HOR2</th>\n      <th>HOR3</th>\n      <th>HOR4</th>\n      <th>HOR5</th>\n      <th>HOR6</th>\n      <th>HOR7</th>\n      <th>HOR8</th>\n      <th>HOR9</th>\n      <th>HOR10</th>\n      <th>...</th>\n      <th>HOR15</th>\n      <th>HOR16</th>\n      <th>HOR17</th>\n      <th>HOR18</th>\n      <th>HOR19</th>\n      <th>HOR20</th>\n      <th>HOR21</th>\n      <th>HOR22</th>\n      <th>HOR23</th>\n      <th>HOR24</th>\n    </tr>\n    <tr>\n      <th>FEST</th>\n      <th>FDIA</th>\n      <th>FSEN_DIRECTION</th>\n      <th></th>\n      <th></th>\n      <th></th>\n      <th></th>\n      <th></th>\n      <th></th>\n      <th></th>\n      <th></th>\n      <th></th>\n      <th></th>\n      <th></th>\n      <th></th>\n      <th></th>\n      <th></th>\n      <th></th>\n      <th></th>\n      <th></th>\n      <th></th>\n      <th></th>\n      <th></th>\n      <th></th>\n    </tr>\n  </thead>\n  <tbody>\n    <tr>\n      <th rowspan=\"5\" valign=\"top\">ES01</th>\n      <th rowspan=\"2\" valign=\"top\">2022-08-01</th>\n      <th>1</th>\n      <td>183.0</td>\n      <td>128.0</td>\n      <td>104.0</td>\n      <td>78.0</td>\n      <td>164.0</td>\n      <td>593.0</td>\n      <td>1379.0</td>\n      <td>1483.0</td>\n      <td>1384.0</td>\n      <td>1226.0</td>\n      <td>...</td>\n      <td>1232.0</td>\n      <td>945.0</td>\n      <td>993.0</td>\n      <td>1109.0</td>\n      <td>924.0</td>\n      <td>944.0</td>\n      <td>677.0</td>\n      <td>556.0</td>\n      <td>552.0</td>\n      <td>386.0</td>\n    </tr>\n    <tr>\n      <th>2</th>\n      <td>205.0</td>\n      <td>155.0</td>\n      <td>108.0</td>\n      <td>78.0</td>\n      <td>116.0</td>\n      <td>236.0</td>\n      <td>528.0</td>\n      <td>948.0</td>\n      <td>918.0</td>\n      <td>915.0</td>\n      <td>...</td>\n      <td>1028.0</td>\n      <td>891.0</td>\n      <td>940.0</td>\n      <td>957.0</td>\n      <td>849.0</td>\n      <td>790.0</td>\n      <td>572.0</td>\n      <td>487.0</td>\n      <td>348.0</td>\n      <td>275.0</td>\n    </tr>\n    <tr>\n      <th rowspan=\"2\" valign=\"top\">2022-08-02</th>\n      <th>1</th>\n      <td>221.0</td>\n      <td>111.0</td>\n      <td>85.0</td>\n      <td>77.0</td>\n      <td>166.0</td>\n      <td>506.0</td>\n      <td>1414.0</td>\n      <td>1513.0</td>\n      <td>1335.0</td>\n      <td>1263.0</td>\n      <td>...</td>\n      <td>1178.0</td>\n      <td>1012.0</td>\n      <td>957.0</td>\n      <td>1025.0</td>\n      <td>1024.0</td>\n      <td>890.0</td>\n      <td>684.0</td>\n      <td>486.0</td>\n      <td>568.0</td>\n      <td>430.0</td>\n    </tr>\n    <tr>\n      <th>2</th>\n      <td>117.0</td>\n      <td>107.0</td>\n      <td>75.0</td>\n      <td>59.0</td>\n      <td>133.0</td>\n      <td>259.0</td>\n      <td>561.0</td>\n      <td>929.0</td>\n      <td>949.0</td>\n      <td>871.0</td>\n      <td>...</td>\n      <td>1115.0</td>\n      <td>878.0</td>\n      <td>944.0</td>\n      <td>1016.0</td>\n      <td>873.0</td>\n      <td>876.0</td>\n      <td>721.0</td>\n      <td>504.0</td>\n      <td>413.0</td>\n      <td>312.0</td>\n    </tr>\n    <tr>\n      <th>2022-08-03</th>\n      <th>1</th>\n      <td>241.0</td>\n      <td>125.0</td>\n      <td>88.0</td>\n      <td>84.0</td>\n      <td>144.0</td>\n      <td>511.0</td>\n      <td>1373.0</td>\n      <td>1431.0</td>\n      <td>1322.0</td>\n      <td>1175.0</td>\n      <td>...</td>\n      <td>1164.0</td>\n      <td>960.0</td>\n      <td>1015.0</td>\n      <td>1049.0</td>\n      <td>986.0</td>\n      <td>974.0</td>\n      <td>698.0</td>\n      <td>540.0</td>\n      <td>602.0</td>\n      <td>537.0</td>\n    </tr>\n    <tr>\n      <th>...</th>\n      <th>...</th>\n      <th>...</th>\n      <td>...</td>\n      <td>...</td>\n      <td>...</td>\n      <td>...</td>\n      <td>...</td>\n      <td>...</td>\n      <td>...</td>\n      <td>...</td>\n      <td>...</td>\n      <td>...</td>\n      <td>...</td>\n      <td>...</td>\n      <td>...</td>\n      <td>...</td>\n      <td>...</td>\n      <td>...</td>\n      <td>...</td>\n      <td>...</td>\n      <td>...</td>\n      <td>...</td>\n      <td>...</td>\n    </tr>\n    <tr>\n      <th rowspan=\"5\" valign=\"top\">ES60</th>\n      <th>2023-07-29</th>\n      <th>2</th>\n      <td>86.0</td>\n      <td>65.0</td>\n      <td>56.0</td>\n      <td>41.0</td>\n      <td>40.0</td>\n      <td>57.0</td>\n      <td>78.0</td>\n      <td>109.0</td>\n      <td>206.0</td>\n      <td>313.0</td>\n      <td>...</td>\n      <td>226.0</td>\n      <td>224.0</td>\n      <td>173.0</td>\n      <td>239.0</td>\n      <td>270.0</td>\n      <td>296.0</td>\n      <td>298.0</td>\n      <td>231.0</td>\n      <td>174.0</td>\n      <td>190.0</td>\n    </tr>\n    <tr>\n      <th rowspan=\"2\" valign=\"top\">2023-07-30</th>\n      <th>1</th>\n      <td>86.0</td>\n      <td>82.0</td>\n      <td>56.0</td>\n      <td>41.0</td>\n      <td>52.0</td>\n      <td>77.0</td>\n      <td>74.0</td>\n      <td>113.0</td>\n      <td>203.0</td>\n      <td>301.0</td>\n      <td>...</td>\n      <td>157.0</td>\n      <td>154.0</td>\n      <td>196.0</td>\n      <td>253.0</td>\n      <td>283.0</td>\n      <td>267.0</td>\n      <td>191.0</td>\n      <td>181.0</td>\n      <td>109.0</td>\n      <td>70.0</td>\n    </tr>\n    <tr>\n      <th>2</th>\n      <td>128.0</td>\n      <td>88.0</td>\n      <td>57.0</td>\n      <td>44.0</td>\n      <td>49.0</td>\n      <td>55.0</td>\n      <td>60.0</td>\n      <td>72.0</td>\n      <td>126.0</td>\n      <td>182.0</td>\n      <td>...</td>\n      <td>235.0</td>\n      <td>221.0</td>\n      <td>234.0</td>\n      <td>258.0</td>\n      <td>312.0</td>\n      <td>396.0</td>\n      <td>391.0</td>\n      <td>273.0</td>\n      <td>190.0</td>\n      <td>111.0</td>\n    </tr>\n    <tr>\n      <th rowspan=\"2\" valign=\"top\">2023-07-31</th>\n      <th>1</th>\n      <td>45.0</td>\n      <td>26.0</td>\n      <td>25.0</td>\n      <td>22.0</td>\n      <td>42.0</td>\n      <td>138.0</td>\n      <td>331.0</td>\n      <td>413.0</td>\n      <td>409.0</td>\n      <td>402.0</td>\n      <td>...</td>\n      <td>277.0</td>\n      <td>272.0</td>\n      <td>347.0</td>\n      <td>374.0</td>\n      <td>394.0</td>\n      <td>323.0</td>\n      <td>240.0</td>\n      <td>130.0</td>\n      <td>102.0</td>\n      <td>64.0</td>\n    </tr>\n    <tr>\n      <th>2</th>\n      <td>67.0</td>\n      <td>45.0</td>\n      <td>26.0</td>\n      <td>35.0</td>\n      <td>22.0</td>\n      <td>85.0</td>\n      <td>192.0</td>\n      <td>253.0</td>\n      <td>342.0</td>\n      <td>357.0</td>\n      <td>...</td>\n      <td>423.0</td>\n      <td>340.0</td>\n      <td>355.0</td>\n      <td>424.0</td>\n      <td>415.0</td>\n      <td>427.0</td>\n      <td>323.0</td>\n      <td>228.0</td>\n      <td>159.0</td>\n      <td>93.0</td>\n    </tr>\n  </tbody>\n</table>\n<p>43070 rows × 24 columns</p>\n</div>"
     },
     "execution_count": 33,
     "metadata": {},
     "output_type": "execute_result"
    }
   ],
   "source": [
    "data_loader.get_info('datasets/estaciones')"
   ]
  },
  {
   "cell_type": "code",
   "execution_count": 34,
   "id": "711f8cc4bd68c162",
   "metadata": {
    "collapsed": false,
    "ExecuteTime": {
     "end_time": "2023-12-20T10:24:07.696787800Z",
     "start_time": "2023-12-20T10:24:07.608670Z"
    }
   },
   "outputs": [
    {
     "name": "stdout",
     "output_type": "stream",
     "text": [
      "HOR1     0\n",
      "HOR2     0\n",
      "HOR3     0\n",
      "HOR4     0\n",
      "HOR5     0\n",
      "HOR6     0\n",
      "HOR7     0\n",
      "HOR8     0\n",
      "HOR9     0\n",
      "HOR10    0\n",
      "HOR11    0\n",
      "HOR12    0\n",
      "HOR13    0\n",
      "HOR14    0\n",
      "HOR15    0\n",
      "HOR16    0\n",
      "HOR17    0\n",
      "HOR18    0\n",
      "HOR19    0\n",
      "HOR20    0\n",
      "HOR21    0\n",
      "HOR22    0\n",
      "HOR23    0\n",
      "HOR24    0\n",
      "dtype: int64\n",
      "<class 'pandas.core.frame.DataFrame'>\n",
      "MultiIndex: 43070 entries, ('ES01', Timestamp('2022-08-01 00:00:00'), '1') to ('ES60', Timestamp('2023-07-31 00:00:00'), '2')\n",
      "Data columns (total 24 columns):\n",
      " #   Column  Non-Null Count  Dtype  \n",
      "---  ------  --------------  -----  \n",
      " 0   HOR1    43070 non-null  float64\n",
      " 1   HOR2    43070 non-null  float64\n",
      " 2   HOR3    43070 non-null  float64\n",
      " 3   HOR4    43070 non-null  float64\n",
      " 4   HOR5    43070 non-null  float64\n",
      " 5   HOR6    43070 non-null  float64\n",
      " 6   HOR7    43070 non-null  float64\n",
      " 7   HOR8    43070 non-null  float64\n",
      " 8   HOR9    43070 non-null  float64\n",
      " 9   HOR10   43070 non-null  float64\n",
      " 10  HOR11   43070 non-null  float64\n",
      " 11  HOR12   43070 non-null  float64\n",
      " 12  HOR13   43070 non-null  float64\n",
      " 13  HOR14   43070 non-null  float64\n",
      " 14  HOR15   43070 non-null  float64\n",
      " 15  HOR16   43070 non-null  float64\n",
      " 16  HOR17   43070 non-null  float64\n",
      " 17  HOR18   43070 non-null  float64\n",
      " 18  HOR19   43070 non-null  float64\n",
      " 19  HOR20   43070 non-null  float64\n",
      " 20  HOR21   43070 non-null  float64\n",
      " 21  HOR22   43070 non-null  float64\n",
      " 22  HOR23   43070 non-null  float64\n",
      " 23  HOR24   43070 non-null  float64\n",
      "dtypes: float64(24)\n",
      "memory usage: 8.1+ MB\n",
      "None\n"
     ]
    }
   ],
   "source": [
    "data_loader.dataframe_summary('datasets/estaciones')"
   ]
  },
  {
   "cell_type": "code",
   "execution_count": 35,
   "id": "2eba0393162bfffc",
   "metadata": {
    "collapsed": false,
    "ExecuteTime": {
     "end_time": "2023-12-20T10:24:08.173763500Z",
     "start_time": "2023-12-20T10:24:07.627915500Z"
    }
   },
   "outputs": [
    {
     "data": {
      "text/plain": "                    HOR1        HOR2        HOR3        HOR4        HOR5  \\\ncount            43070.0     43070.0     43070.0     43070.0     43070.0   \nmean          349.353866  249.446738  178.583074  143.306919  143.192686   \nstd           586.664755  435.311425  304.584859  223.363963  181.366051   \nmin                  0.0         0.0         0.0         0.0         0.0   \n25%                 74.0        46.0        34.0        30.0        38.0   \n50%                170.0       115.0        84.0        73.0        85.0   \n75%                378.0       264.0       195.0       158.0       179.0   \nmax               9999.0      7854.0      9999.0      5805.0      3610.0   \ncounts             43070       43070       43070       43070       43070   \nuniques             2444        2060        1594        1331        1192   \nmissing                0           0           0           0           0   \nmissing_perc          0%          0%          0%          0%          0%   \ntypes            numeric     numeric     numeric     numeric     numeric   \n\n                    HOR6        HOR7         HOR8         HOR9        HOR10  \\\ncount            43070.0     43070.0      43070.0      43070.0      43070.0   \nmean          228.891688  470.235663   770.226863   898.403065   897.940446   \nstd           253.470562  572.285139  1065.301401  1223.765007  1218.726208   \nmin                  0.0         0.0          0.0          0.0          0.0   \n25%                 56.0        98.0        171.0        232.0        274.0   \n50%                142.0       244.0        432.0        545.0        570.0   \n75%                323.0       625.0       1017.0       1089.0       1046.0   \nmax               6234.0      5985.0       9999.0       9999.0       9999.0   \ncounts             43070       43070        43070        43070        43070   \nuniques             1386        2647         3614         3986         3948   \nmissing                0           0            0            0            0   \nmissing_perc          0%          0%           0%           0%           0%   \ntypes            numeric     numeric      numeric      numeric      numeric   \n\n              ...        HOR15       HOR16        HOR17        HOR18  \\\ncount         ...      43070.0     43070.0      43070.0      43070.0   \nmean          ...  1006.635106   980.84632   959.616647   991.763594   \nstd           ...  1356.291987  1391.08328  1288.042121  1251.292668   \nmin           ...          0.0         0.0          0.0          0.0   \n25%           ...        333.0       303.0        308.0        334.0   \n50%           ...        628.0       603.0        623.0        662.0   \n75%           ...       1224.0      1143.0       1138.0       1216.0   \nmax           ...       9999.0      9999.0       9999.0       9999.0   \ncounts        ...        43070       43070        43070        43070   \nuniques       ...         3942        3833         3630         3863   \nmissing       ...            0           0            0            0   \nmissing_perc  ...           0%          0%           0%           0%   \ntypes         ...      numeric     numeric      numeric      numeric   \n\n                    HOR19        HOR20        HOR21        HOR22       HOR23  \\\ncount             43070.0      43070.0      43070.0      43070.0     43070.0   \nmean          1009.949269   987.990504   882.815997   734.660088  589.956675   \nstd            1302.56987  1322.411338  1267.157291  1184.800883  973.216178   \nmin                   0.0          0.0          0.0          0.0         0.0   \n25%                 344.0        335.0        290.0        223.0       162.0   \n50%                 661.0        624.0        522.0        409.0       318.0   \n75%                1245.0       1205.0       1032.0        815.0       672.0   \nmax                9999.0       9999.0       9999.0       9999.0      9991.0   \ncounts              43070        43070        43070        43070       43070   \nuniques              3924         3843         3789         3458        3096   \nmissing                 0            0            0            0           0   \nmissing_perc           0%           0%           0%           0%          0%   \ntypes             numeric      numeric      numeric      numeric     numeric   \n\n                   HOR24  \ncount            43070.0  \nmean          462.854516  \nstd           742.784157  \nmin                  0.0  \n25%                118.0  \n50%                245.0  \n75%                533.0  \nmax               7557.0  \ncounts             43070  \nuniques             2682  \nmissing                0  \nmissing_perc          0%  \ntypes            numeric  \n\n[13 rows x 24 columns]",
      "text/html": "<div>\n<style scoped>\n    .dataframe tbody tr th:only-of-type {\n        vertical-align: middle;\n    }\n\n    .dataframe tbody tr th {\n        vertical-align: top;\n    }\n\n    .dataframe thead th {\n        text-align: right;\n    }\n</style>\n<table border=\"1\" class=\"dataframe\">\n  <thead>\n    <tr style=\"text-align: right;\">\n      <th></th>\n      <th>HOR1</th>\n      <th>HOR2</th>\n      <th>HOR3</th>\n      <th>HOR4</th>\n      <th>HOR5</th>\n      <th>HOR6</th>\n      <th>HOR7</th>\n      <th>HOR8</th>\n      <th>HOR9</th>\n      <th>HOR10</th>\n      <th>...</th>\n      <th>HOR15</th>\n      <th>HOR16</th>\n      <th>HOR17</th>\n      <th>HOR18</th>\n      <th>HOR19</th>\n      <th>HOR20</th>\n      <th>HOR21</th>\n      <th>HOR22</th>\n      <th>HOR23</th>\n      <th>HOR24</th>\n    </tr>\n  </thead>\n  <tbody>\n    <tr>\n      <th>count</th>\n      <td>43070.0</td>\n      <td>43070.0</td>\n      <td>43070.0</td>\n      <td>43070.0</td>\n      <td>43070.0</td>\n      <td>43070.0</td>\n      <td>43070.0</td>\n      <td>43070.0</td>\n      <td>43070.0</td>\n      <td>43070.0</td>\n      <td>...</td>\n      <td>43070.0</td>\n      <td>43070.0</td>\n      <td>43070.0</td>\n      <td>43070.0</td>\n      <td>43070.0</td>\n      <td>43070.0</td>\n      <td>43070.0</td>\n      <td>43070.0</td>\n      <td>43070.0</td>\n      <td>43070.0</td>\n    </tr>\n    <tr>\n      <th>mean</th>\n      <td>349.353866</td>\n      <td>249.446738</td>\n      <td>178.583074</td>\n      <td>143.306919</td>\n      <td>143.192686</td>\n      <td>228.891688</td>\n      <td>470.235663</td>\n      <td>770.226863</td>\n      <td>898.403065</td>\n      <td>897.940446</td>\n      <td>...</td>\n      <td>1006.635106</td>\n      <td>980.84632</td>\n      <td>959.616647</td>\n      <td>991.763594</td>\n      <td>1009.949269</td>\n      <td>987.990504</td>\n      <td>882.815997</td>\n      <td>734.660088</td>\n      <td>589.956675</td>\n      <td>462.854516</td>\n    </tr>\n    <tr>\n      <th>std</th>\n      <td>586.664755</td>\n      <td>435.311425</td>\n      <td>304.584859</td>\n      <td>223.363963</td>\n      <td>181.366051</td>\n      <td>253.470562</td>\n      <td>572.285139</td>\n      <td>1065.301401</td>\n      <td>1223.765007</td>\n      <td>1218.726208</td>\n      <td>...</td>\n      <td>1356.291987</td>\n      <td>1391.08328</td>\n      <td>1288.042121</td>\n      <td>1251.292668</td>\n      <td>1302.56987</td>\n      <td>1322.411338</td>\n      <td>1267.157291</td>\n      <td>1184.800883</td>\n      <td>973.216178</td>\n      <td>742.784157</td>\n    </tr>\n    <tr>\n      <th>min</th>\n      <td>0.0</td>\n      <td>0.0</td>\n      <td>0.0</td>\n      <td>0.0</td>\n      <td>0.0</td>\n      <td>0.0</td>\n      <td>0.0</td>\n      <td>0.0</td>\n      <td>0.0</td>\n      <td>0.0</td>\n      <td>...</td>\n      <td>0.0</td>\n      <td>0.0</td>\n      <td>0.0</td>\n      <td>0.0</td>\n      <td>0.0</td>\n      <td>0.0</td>\n      <td>0.0</td>\n      <td>0.0</td>\n      <td>0.0</td>\n      <td>0.0</td>\n    </tr>\n    <tr>\n      <th>25%</th>\n      <td>74.0</td>\n      <td>46.0</td>\n      <td>34.0</td>\n      <td>30.0</td>\n      <td>38.0</td>\n      <td>56.0</td>\n      <td>98.0</td>\n      <td>171.0</td>\n      <td>232.0</td>\n      <td>274.0</td>\n      <td>...</td>\n      <td>333.0</td>\n      <td>303.0</td>\n      <td>308.0</td>\n      <td>334.0</td>\n      <td>344.0</td>\n      <td>335.0</td>\n      <td>290.0</td>\n      <td>223.0</td>\n      <td>162.0</td>\n      <td>118.0</td>\n    </tr>\n    <tr>\n      <th>50%</th>\n      <td>170.0</td>\n      <td>115.0</td>\n      <td>84.0</td>\n      <td>73.0</td>\n      <td>85.0</td>\n      <td>142.0</td>\n      <td>244.0</td>\n      <td>432.0</td>\n      <td>545.0</td>\n      <td>570.0</td>\n      <td>...</td>\n      <td>628.0</td>\n      <td>603.0</td>\n      <td>623.0</td>\n      <td>662.0</td>\n      <td>661.0</td>\n      <td>624.0</td>\n      <td>522.0</td>\n      <td>409.0</td>\n      <td>318.0</td>\n      <td>245.0</td>\n    </tr>\n    <tr>\n      <th>75%</th>\n      <td>378.0</td>\n      <td>264.0</td>\n      <td>195.0</td>\n      <td>158.0</td>\n      <td>179.0</td>\n      <td>323.0</td>\n      <td>625.0</td>\n      <td>1017.0</td>\n      <td>1089.0</td>\n      <td>1046.0</td>\n      <td>...</td>\n      <td>1224.0</td>\n      <td>1143.0</td>\n      <td>1138.0</td>\n      <td>1216.0</td>\n      <td>1245.0</td>\n      <td>1205.0</td>\n      <td>1032.0</td>\n      <td>815.0</td>\n      <td>672.0</td>\n      <td>533.0</td>\n    </tr>\n    <tr>\n      <th>max</th>\n      <td>9999.0</td>\n      <td>7854.0</td>\n      <td>9999.0</td>\n      <td>5805.0</td>\n      <td>3610.0</td>\n      <td>6234.0</td>\n      <td>5985.0</td>\n      <td>9999.0</td>\n      <td>9999.0</td>\n      <td>9999.0</td>\n      <td>...</td>\n      <td>9999.0</td>\n      <td>9999.0</td>\n      <td>9999.0</td>\n      <td>9999.0</td>\n      <td>9999.0</td>\n      <td>9999.0</td>\n      <td>9999.0</td>\n      <td>9999.0</td>\n      <td>9991.0</td>\n      <td>7557.0</td>\n    </tr>\n    <tr>\n      <th>counts</th>\n      <td>43070</td>\n      <td>43070</td>\n      <td>43070</td>\n      <td>43070</td>\n      <td>43070</td>\n      <td>43070</td>\n      <td>43070</td>\n      <td>43070</td>\n      <td>43070</td>\n      <td>43070</td>\n      <td>...</td>\n      <td>43070</td>\n      <td>43070</td>\n      <td>43070</td>\n      <td>43070</td>\n      <td>43070</td>\n      <td>43070</td>\n      <td>43070</td>\n      <td>43070</td>\n      <td>43070</td>\n      <td>43070</td>\n    </tr>\n    <tr>\n      <th>uniques</th>\n      <td>2444</td>\n      <td>2060</td>\n      <td>1594</td>\n      <td>1331</td>\n      <td>1192</td>\n      <td>1386</td>\n      <td>2647</td>\n      <td>3614</td>\n      <td>3986</td>\n      <td>3948</td>\n      <td>...</td>\n      <td>3942</td>\n      <td>3833</td>\n      <td>3630</td>\n      <td>3863</td>\n      <td>3924</td>\n      <td>3843</td>\n      <td>3789</td>\n      <td>3458</td>\n      <td>3096</td>\n      <td>2682</td>\n    </tr>\n    <tr>\n      <th>missing</th>\n      <td>0</td>\n      <td>0</td>\n      <td>0</td>\n      <td>0</td>\n      <td>0</td>\n      <td>0</td>\n      <td>0</td>\n      <td>0</td>\n      <td>0</td>\n      <td>0</td>\n      <td>...</td>\n      <td>0</td>\n      <td>0</td>\n      <td>0</td>\n      <td>0</td>\n      <td>0</td>\n      <td>0</td>\n      <td>0</td>\n      <td>0</td>\n      <td>0</td>\n      <td>0</td>\n    </tr>\n    <tr>\n      <th>missing_perc</th>\n      <td>0%</td>\n      <td>0%</td>\n      <td>0%</td>\n      <td>0%</td>\n      <td>0%</td>\n      <td>0%</td>\n      <td>0%</td>\n      <td>0%</td>\n      <td>0%</td>\n      <td>0%</td>\n      <td>...</td>\n      <td>0%</td>\n      <td>0%</td>\n      <td>0%</td>\n      <td>0%</td>\n      <td>0%</td>\n      <td>0%</td>\n      <td>0%</td>\n      <td>0%</td>\n      <td>0%</td>\n      <td>0%</td>\n    </tr>\n    <tr>\n      <th>types</th>\n      <td>numeric</td>\n      <td>numeric</td>\n      <td>numeric</td>\n      <td>numeric</td>\n      <td>numeric</td>\n      <td>numeric</td>\n      <td>numeric</td>\n      <td>numeric</td>\n      <td>numeric</td>\n      <td>numeric</td>\n      <td>...</td>\n      <td>numeric</td>\n      <td>numeric</td>\n      <td>numeric</td>\n      <td>numeric</td>\n      <td>numeric</td>\n      <td>numeric</td>\n      <td>numeric</td>\n      <td>numeric</td>\n      <td>numeric</td>\n      <td>numeric</td>\n    </tr>\n  </tbody>\n</table>\n<p>13 rows × 24 columns</p>\n</div>"
     },
     "execution_count": 35,
     "metadata": {},
     "output_type": "execute_result"
    }
   ],
   "source": [
    "data_loader.get_info('DireccionesEvolucionHistorica_20231004.csv')"
   ]
  },
  {
   "cell_type": "markdown",
   "id": "71335ecc8091c383",
   "metadata": {
    "collapsed": false,
    "ExecuteTime": {
     "end_time": "2023-12-20T10:24:09.118649900Z",
     "start_time": "2023-12-20T10:24:08.122750300Z"
    }
   },
   "source": [
    "Como podemos observar, faltan datos de las columnas VIA_SQC (secuencia de la denominación), con 371584 NaNs; VIA_PAR (partícula de la denominación), con 17997; CALIFICADOR (del número de la policía), con 322826; FECHA_DE_BAJA (de la dirección), con 211657; y TIPO_NDP (tipo de número: portal, garaje, fachada, etc.) con 16248."
   ]
  },
  {
   "cell_type": "code",
   "execution_count": null,
   "id": "53ad97490c0d3bf6",
   "metadata": {
    "collapsed": false
   },
   "outputs": [],
   "source": [
    "data_loader.data['DireccionesEvolucionHistorica_20231004.csv']"
   ]
  },
  {
   "cell_type": "markdown",
   "id": "8fdb88335b0cb04a",
   "metadata": {
    "collapsed": false,
    "ExecuteTime": {
     "end_time": "2023-12-20T10:24:09.120643600Z",
     "start_time": "2023-12-20T10:24:09.026926700Z"
    }
   },
   "source": [
    "La secuencia de denominación (VIA_SQC) es solo NaNs, por lo que lo más lógico es eliminar la columna directamente"
   ]
  },
  {
   "cell_type": "code",
   "execution_count": null,
   "id": "33e322239ade1660",
   "metadata": {
    "collapsed": false
   },
   "outputs": [],
   "source": [
    "data_loader.data['DireccionesEvolucionHistorica_20231004.csv'] = data_loader.data['DireccionesEvolucionHistorica_20231004.csv'].drop('VIA_SQC', axis=1)"
   ]
  },
  {
   "cell_type": "markdown",
   "id": "7af35e4df35809c5",
   "metadata": {
    "collapsed": false,
    "ExecuteTime": {
     "end_time": "2023-12-20T10:24:09.314861Z",
     "start_time": "2023-12-20T10:24:09.073864900Z"
    }
   },
   "source": [
    "Ahora, pasamos a la partícula de denominación (VIA_PAR), hay 7 valores distintos de entre la lista posible de 20 (DE, EL, A, DEL, LA, AL, DE LA, LAS, A LA, DE LAS, LO, A LAS, DE LO, LOS, A LO, DE LO, DE LOS, POR EL, A LOS, POR LA), de los cuales el primero es A LA y el último es DEL. Por lo tanto, parece que no se ha rellenado con Null o espacio vacío aquellas direcciones en las que no hay partícula:"
   ]
  },
  {
   "cell_type": "code",
   "execution_count": null,
   "id": "d202e69235d0ab01",
   "metadata": {
    "collapsed": false
   },
   "outputs": [],
   "source": [
    "data_loader.data['DireccionesEvolucionHistorica_20231004.csv']['VIA_PAR'] = data_loader.data['DireccionesEvolucionHistorica_20231004.csv']['VIA_PAR'].fillna(' ')"
   ]
  },
  {
   "cell_type": "markdown",
   "id": "1db212a61b1e1bd3",
   "metadata": {
    "collapsed": false,
    "ExecuteTime": {
     "end_time": "2023-12-20T10:24:09.367168200Z",
     "start_time": "2023-12-20T10:24:09.267648900Z"
    }
   },
   "source": [
    "Fecha de baja, si no hay valor, es que está aún de alta, así que también sustituimos por un valor que represente que sigue dado de alta:"
   ]
  },
  {
   "cell_type": "code",
   "execution_count": null,
   "id": "9b8f7fad32ae837d",
   "metadata": {
    "collapsed": false
   },
   "outputs": [],
   "source": [
    "data_loader.data['DireccionesEvolucionHistorica_20231004.csv']['FECHA_DE_BAJA'] = data_loader.data['DireccionesEvolucionHistorica_20231004.csv']['FECHA_DE_BAJA'].fillna('--/--/----')"
   ]
  },
  {
   "cell_type": "markdown",
   "id": "44d148bf682fc67a",
   "metadata": {
    "collapsed": false,
    "ExecuteTime": {
     "end_time": "2023-12-20T10:24:09.515437100Z",
     "start_time": "2023-12-20T10:24:09.328000900Z"
    }
   },
   "source": [
    "Para Tipo de número de policía, rellenaremos con el dato más habitual: PORTAL"
   ]
  },
  {
   "cell_type": "code",
   "execution_count": null,
   "id": "ae4df31ebd3ffe4d",
   "metadata": {
    "collapsed": false
   },
   "outputs": [],
   "source": [
    "tipoNDP = data_loader.data['DireccionesEvolucionHistorica_20231004.csv']['TIPO_NDP'].mode().iat[0]\n",
    "data_loader.data['DireccionesEvolucionHistorica_20231004.csv']['TIPO_NDP'] = data_loader.data['DireccionesEvolucionHistorica_20231004.csv']['TIPO_NDP'].fillna(tipoNDP)"
   ]
  },
  {
   "cell_type": "markdown",
   "id": "b163ec9c56e9997d",
   "metadata": {
    "collapsed": false,
    "ExecuteTime": {
     "end_time": "2023-12-20T10:24:09.517430600Z",
     "start_time": "2023-12-20T10:24:09.392993700Z"
    }
   },
   "source": [
    "Para Calificador, como no sabemos realmente cuál es el criterio y la mayoría de datos son faltantes (322826 faltan de 371584), lo más prudente es eliminar la columna directamente"
   ]
  },
  {
   "cell_type": "code",
   "execution_count": null,
   "id": "bba9f65e884e8e32",
   "metadata": {
    "collapsed": false
   },
   "outputs": [],
   "source": [
    "data_loader.data['DireccionesEvolucionHistorica_20231004.csv'] = data_loader.data['DireccionesEvolucionHistorica_20231004.csv'].drop('CALIFICADOR', axis=1)"
   ]
  },
  {
   "cell_type": "code",
   "execution_count": 42,
   "id": "8e0bcbee8072aedf",
   "metadata": {
    "collapsed": false,
    "ExecuteTime": {
     "end_time": "2023-12-20T10:24:09.708214100Z",
     "start_time": "2023-12-20T10:24:09.477148500Z"
    }
   },
   "outputs": [],
   "source": [
    "data_loader.get_info('DireccionesEvolucionHistorica_20231004.csv')"
   ]
  },
  {
   "cell_type": "markdown",
   "id": "b9ef6c57a553c5c8",
   "metadata": {
    "collapsed": false,
    "ExecuteTime": {
     "end_time": "2023-12-20T10:24:10.368287400Z",
     "start_time": "2023-12-20T10:24:09.618008600Z"
    }
   },
   "source": [
    "Efectivamente no quedan Missing Values. Pasamos a las direcciones vigentes:"
   ]
  },
  {
   "cell_type": "code",
   "execution_count": null,
   "id": "4f82e37e67a7882f",
   "metadata": {
    "collapsed": false
   },
   "outputs": [],
   "source": [
    "data_loader.get_info('DireccionesVigentes_20231004.csv')"
   ]
  },
  {
   "cell_type": "markdown",
   "id": "aeb871bbb35080c3",
   "metadata": {
    "collapsed": false,
    "ExecuteTime": {
     "end_time": "2023-12-20T10:24:10.786415300Z",
     "start_time": "2023-12-20T10:24:10.342056500Z"
    }
   },
   "source": [
    "Faltan valores en Vía Par (3381) y en Calificador (178838), los sustituimos con el mismo criterio que en el dataset anterior:"
   ]
  },
  {
   "cell_type": "code",
   "execution_count": null,
   "id": "a0e93663ef57a9d0",
   "metadata": {
    "collapsed": false
   },
   "outputs": [],
   "source": [
    "data_loader.data['DireccionesVigentes_20231004.csv']['VIA_PAR'] = data_loader.data['DireccionesVigentes_20231004.csv']['VIA_PAR'].fillna(' ')"
   ]
  },
  {
   "cell_type": "code",
   "execution_count": 45,
   "id": "e50e3f26ec95b96c",
   "metadata": {
    "collapsed": false,
    "ExecuteTime": {
     "end_time": "2023-12-20T10:24:10.852448700Z",
     "start_time": "2023-12-20T10:24:10.777973600Z"
    }
   },
   "outputs": [],
   "source": [
    "data_loader.data['DireccionesVigentes_20231004.csv'] = data_loader.data['DireccionesVigentes_20231004.csv'].drop('CALIFICADOR', axis=1)"
   ]
  },
  {
   "cell_type": "code",
   "execution_count": 46,
   "id": "3411e74e317e1a85",
   "metadata": {
    "collapsed": false,
    "ExecuteTime": {
     "end_time": "2023-12-20T10:24:10.947328500Z",
     "start_time": "2023-12-20T10:24:10.815806600Z"
    }
   },
   "outputs": [],
   "source": [
    "data_loader.get_info('DireccionesVigentes_20231004.csv')"
   ]
  },
  {
   "cell_type": "markdown",
   "id": "df40afa8bfe1448a",
   "metadata": {
    "collapsed": false,
    "ExecuteTime": {
     "end_time": "2023-12-20T10:24:11.283087900Z",
     "start_time": "2023-12-20T10:24:10.894079200Z"
    }
   },
   "source": [
    "Pasamos al dataset estrella: radares."
   ]
  },
  {
   "cell_type": "code",
   "execution_count": null,
   "id": "87ebf931090f5b36",
   "metadata": {
    "collapsed": false
   },
   "outputs": [],
   "source": [
    "data_loader.get_info('RADARES_FIJOS_vDTT.csv')\n",
    "data_loader.data['RADARES_FIJOS_vDTT.csv']"
   ]
  },
  {
   "cell_type": "markdown",
   "id": "2d905c8e47009d00",
   "metadata": {
    "collapsed": false,
    "ExecuteTime": {
     "end_time": "2023-12-20T10:24:11.355667800Z",
     "start_time": "2023-12-20T10:24:11.276738Z"
    }
   },
   "source": [
    "Carretera o vial, PK, sentido y tipo tienen muy poca frecuencia de NaNs, por lo que solo sustituimos por los valores más frecuentes"
   ]
  },
  {
   "cell_type": "code",
   "execution_count": null,
   "id": "26e0c08228f8afa9",
   "metadata": {
    "collapsed": false
   },
   "outputs": [],
   "source": [
    "carretera = data_loader.data['RADARES_FIJOS_vDTT.csv']['CARRETARA_O_VIAL'].mode().iat[0]\n",
    "pk = data_loader.data['RADARES_FIJOS_vDTT.csv']['PK'].mode().iat[0]\n",
    "sentido = data_loader.data['RADARES_FIJOS_vDTT.csv']['SENTIDO'].mode().iat[0]\n",
    "tipo = data_loader.data['RADARES_FIJOS_vDTT.csv']['TIPO'].mode().iat[0]\n",
    "\n",
    "data_loader.data['RADARES_FIJOS_vDTT.csv']['CARRETARA_O_VIAL'] = data_loader.data['RADARES_FIJOS_vDTT.csv']['CARRETARA_O_VIAL'].fillna(carretera)\n",
    "data_loader.data['RADARES_FIJOS_vDTT.csv']['PK'] = data_loader.data['RADARES_FIJOS_vDTT.csv']['PK'].fillna(pk)\n",
    "data_loader.data['RADARES_FIJOS_vDTT.csv']['SENTIDO'] = data_loader.data['RADARES_FIJOS_vDTT.csv']['SENTIDO'].fillna(sentido)\n",
    "data_loader.data['RADARES_FIJOS_vDTT.csv']['TIPO'] = data_loader.data['RADARES_FIJOS_vDTT.csv']['TIPO'].fillna(tipo)"
   ]
  },
  {
   "cell_type": "code",
   "execution_count": 49,
   "id": "3ca4f5a1e0c803c8",
   "metadata": {
    "collapsed": false,
    "ExecuteTime": {
     "end_time": "2023-12-20T10:24:11.358527300Z",
     "start_time": "2023-12-20T10:24:11.326162700Z"
    }
   },
   "outputs": [],
   "source": [
    "data_loader.get_info('RADARES_FIJOS_vDTT.csv')"
   ]
  },
  {
   "cell_type": "code",
   "execution_count": 50,
   "id": "e3b3221a",
   "metadata": {
    "ExecuteTime": {
     "end_time": "2023-12-20T10:24:11.359535200Z",
     "start_time": "2023-12-20T10:24:11.336803700Z"
    }
   },
   "outputs": [
    {
     "name": "stdout",
     "output_type": "stream",
     "text": [
      "Nº\\nRADAR               0\n",
      "UBICACION               0\n",
      "CARRETARA_O_VIAL        0\n",
      "UBICACIÓN\\nCALLE_30     8\n",
      "PK                      0\n",
      "SENTIDO                 0\n",
      "TIPO                    0\n",
      "X_(WGS84)              13\n",
      "Y_(WGS84)              13\n",
      "LONGITUD                0\n",
      "LATITUD                 0\n",
      "COORDENADAS             0\n",
      "dtype: int64\n",
      "<class 'pandas.core.frame.DataFrame'>\n",
      "RangeIndex: 29 entries, 0 to 28\n",
      "Data columns (total 12 columns):\n",
      " #   Column              Non-Null Count  Dtype \n",
      "---  ------              --------------  ----- \n",
      " 0   Nº\n",
      "RADAR            29 non-null     int64 \n",
      " 1   UBICACION           29 non-null     object\n",
      " 2   CARRETARA_O_VIAL    29 non-null     object\n",
      " 3   UBICACIÓN\n",
      "CALLE_30  21 non-null     object\n",
      " 4   PK                  29 non-null     object\n",
      " 5   SENTIDO             29 non-null     object\n",
      " 6   TIPO                29 non-null     object\n",
      " 7   X_(WGS84)           16 non-null     object\n",
      " 8   Y_(WGS84)           16 non-null     object\n",
      " 9   LONGITUD            29 non-null     object\n",
      " 10  LATITUD             29 non-null     object\n",
      " 11  COORDENADAS         29 non-null     object\n",
      "dtypes: int64(1), object(11)\n",
      "memory usage: 2.8+ KB\n",
      "None\n"
     ]
    }
   ],
   "source": [
    "data_loader.data['RADARES_FIJOS_vDTT.csv'].loc[11, 'X (WGS84)'] = 441011.00\n",
    "data_loader.data['RADARES_FIJOS_vDTT.csv'].loc[11, 'Y (WGS84)'] = 4470920.00\n",
    "\n",
    "data_loader.data['RADARES_FIJOS_vDTT.csv'].loc[14, 'X (WGS84)'] = 439732.00\n",
    "data_loader.data['RADARES_FIJOS_vDTT.csv'].loc[14, 'Y (WGS84)'] = 4470920.00"
   ]
  },
  {
   "cell_type": "markdown",
   "id": "38e979c862be7478",
   "metadata": {
    "collapsed": false,
    "ExecuteTime": {
     "end_time": "2023-12-20T10:24:11.526423600Z",
     "start_time": "2023-12-20T10:24:11.351636300Z"
    }
   },
   "source": [
    "A continuación identificamos los faltantes en la evolución histórica de viales:\n"
   ]
  },
  {
   "cell_type": "code",
   "execution_count": null,
   "id": "739ceaa025ea1e68",
   "metadata": {
    "collapsed": false
   },
   "outputs": [],
   "source": [
    "data_loader.get_info('VialesEvolucionHistorica_20231004.csv')\n",
    "data_loader.data['VialesEvolucionHistorica_20231004.csv']"
   ]
  },
  {
   "cell_type": "markdown",
   "id": "d0d8a01fa01d3990",
   "metadata": {
    "collapsed": false,
    "ExecuteTime": {
     "end_time": "2023-12-20T10:24:11.694178100Z",
     "start_time": "2023-12-20T10:24:11.364035300Z"
    }
   },
   "source": [
    "Faltan VIA_PAR y FECHA_DE_BAJA, que ya se han tratado en dataframes previos y manejaremos de la misma manera:"
   ]
  },
  {
   "cell_type": "code",
   "execution_count": null,
   "id": "e955cbac059f661a",
   "metadata": {
    "collapsed": false
   },
   "outputs": [],
   "source": [
    "data_loader.data['VialesEvolucionHistorica_20231004.csv']['VIA_PAR'] = data_loader.data['VialesEvolucionHistorica_20231004.csv']['VIA_PAR'].fillna(' ')\n",
    "data_loader.data['VialesEvolucionHistorica_20231004.csv']['FECHA_DE_BAJA'] = data_loader.data['VialesEvolucionHistorica_20231004.csv']['FECHA_DE_BAJA'].fillna('--/--/----')"
   ]
  },
  {
   "cell_type": "code",
   "execution_count": 53,
   "id": "644265a90f2738f4",
   "metadata": {
    "collapsed": false,
    "ExecuteTime": {
     "end_time": "2023-12-20T10:24:11.694178100Z",
     "start_time": "2023-12-20T10:24:11.410433600Z"
    }
   },
   "outputs": [],
   "source": [
    "data_loader.get_info('VialesEvolucionHistorica_20231004.csv')"
   ]
  },
  {
   "cell_type": "markdown",
   "id": "c0c1cf0193600a6a",
   "metadata": {
    "collapsed": false,
    "ExecuteTime": {
     "end_time": "2023-12-20T10:24:11.748696600Z",
     "start_time": "2023-12-20T10:24:11.426211Z"
    }
   },
   "source": [
    "Pasamos al dataframe de viales vigentes distritos barrios:"
   ]
  },
  {
   "cell_type": "code",
   "execution_count": null,
   "id": "cf24c803b1fda249",
   "metadata": {
    "collapsed": false
   },
   "outputs": [],
   "source": [
    "data_loader.get_info('VialesVigentesDistritosBarrios_20231004.csv')\n",
    "data_loader.data['VialesVigentesDistritosBarrios_20231004.csv']"
   ]
  },
  {
   "cell_type": "markdown",
   "id": "87a176100893c4a7",
   "metadata": {
    "collapsed": false,
    "ExecuteTime": {
     "end_time": "2023-12-20T10:24:11.748696600Z",
     "start_time": "2023-12-20T10:24:11.467351700Z"
    }
   },
   "source": [
    "VIA_PAR hacemos la misma solución que previamente:"
   ]
  },
  {
   "cell_type": "code",
   "execution_count": null,
   "id": "d1858f7329ca7cdd",
   "metadata": {
    "collapsed": false
   },
   "outputs": [],
   "source": [
    "data_loader.data['VialesVigentesDistritosBarrios_20231004.csv']['VIA_PAR'] = data_loader.data['VialesVigentesDistritosBarrios_20231004.csv']['VIA_PAR'].fillna(' ')"
   ]
  },
  {
   "cell_type": "markdown",
   "id": "de63dc5a5cefba5e",
   "metadata": {
    "collapsed": false,
    "ExecuteTime": {
     "end_time": "2023-12-20T10:24:11.748696600Z",
     "start_time": "2023-12-20T10:24:11.510180300Z"
    }
   },
   "source": [
    "PAR_MIN, PAR_MAX, IMPAR_MAX e IMPAR_MIN tienen un valor para los casos en los que no hay calificador: '-', y es lo que usaremos para sustituir los datos faltantes."
   ]
  },
  {
   "cell_type": "code",
   "execution_count": null,
   "id": "2a9308beaa5604b6",
   "metadata": {
    "collapsed": false
   },
   "outputs": [],
   "source": [
    "data_loader.data['VialesVigentesDistritosBarrios_20231004.csv']['IMPAR_MAX'] = data_loader.data['VialesVigentesDistritosBarrios_20231004.csv']['IMPAR_MAX'].fillna('-')\n",
    "data_loader.data['VialesVigentesDistritosBarrios_20231004.csv']['IMPAR_MIN'] = data_loader.data['VialesVigentesDistritosBarrios_20231004.csv']['IMPAR_MIN'].fillna('-')\n",
    "data_loader.data['VialesVigentesDistritosBarrios_20231004.csv']['PAR_MAX'] = data_loader.data['VialesVigentesDistritosBarrios_20231004.csv']['PAR_MAX'].fillna('-')\n",
    "data_loader.data['VialesVigentesDistritosBarrios_20231004.csv']['PAR_MIN'] = data_loader.data['VialesVigentesDistritosBarrios_20231004.csv']['PAR_MIN'].fillna('-')"
   ]
  },
  {
   "cell_type": "markdown",
   "id": "6f0e9cc95e7b61",
   "metadata": {
    "collapsed": false,
    "ExecuteTime": {
     "end_time": "2023-12-20T10:24:11.779332600Z",
     "start_time": "2023-12-20T10:24:11.523162100Z"
    }
   },
   "source": [
    "Pasamos a viales vigentes distritos:"
   ]
  },
  {
   "cell_type": "code",
   "execution_count": 58,
   "id": "bf8887ac2c174220",
   "metadata": {
    "collapsed": false,
    "ExecuteTime": {
     "end_time": "2023-12-20T10:24:11.780337500Z",
     "start_time": "2023-12-20T10:24:11.542850500Z"
    }
   },
   "outputs": [
    {
     "name": "stdout",
     "output_type": "stream",
     "text": [
      "COD_VIA                0\n",
      "VIA_CLASE              0\n",
      "VIA_PAR                0\n",
      "VIA_NOMBRE             0\n",
      "VIA_NOMBRE_ACENTOS     0\n",
      "DISTRITO              24\n",
      "BARRIO                24\n",
      "IMPAR_MIN              0\n",
      "IMPAR_MAX              0\n",
      "PAR_MIN                0\n",
      "PAR_MAX                0\n",
      "dtype: int64\n",
      "<class 'pandas.core.frame.DataFrame'>\n",
      "Index: 11014 entries, 0 to 11025\n",
      "Data columns (total 11 columns):\n",
      " #   Column              Non-Null Count  Dtype  \n",
      "---  ------              --------------  -----  \n",
      " 0   COD_VIA             11014 non-null  int64  \n",
      " 1   VIA_CLASE           11014 non-null  object \n",
      " 2   VIA_PAR             11014 non-null  object \n",
      " 3   VIA_NOMBRE          11014 non-null  object \n",
      " 4   VIA_NOMBRE_ACENTOS  11014 non-null  object \n",
      " 5   DISTRITO            10990 non-null  float64\n",
      " 6   BARRIO              10990 non-null  float64\n",
      " 7   IMPAR_MIN           11014 non-null  object \n",
      " 8   IMPAR_MAX           11014 non-null  object \n",
      " 9   PAR_MIN             11014 non-null  object \n",
      " 10  PAR_MAX             11014 non-null  object \n",
      "dtypes: float64(2), int64(1), object(8)\n",
      "memory usage: 1.0+ MB\n",
      "None\n"
     ]
    }
   ],
   "source": [
    "data_loader.get_info('VialesVigentesDistritos_20231004.csv')\n",
    "data_loader.data['VialesVigentesDistritos_20231004.csv']"
   ]
  },
  {
   "cell_type": "code",
   "execution_count": null,
   "id": "150befcd8408be60",
   "metadata": {
    "collapsed": false
   },
   "outputs": [],
   "source": [
    "data_loader.data['VialesVigentesDistritos_20231004.csv']['VIA_PAR'] = data_loader.data['VialesVigentesDistritos_20231004.csv']['VIA_PAR'].fillna(' ')\n",
    "data_loader.data['VialesVigentesDistritos_20231004.csv']['IMPAR_MAX'] = data_loader.data['VialesVigentesDistritos_20231004.csv']['IMPAR_MAX'].fillna('-')\n",
    "data_loader.data['VialesVigentesDistritos_20231004.csv']['IMPAR_MIN'] = data_loader.data['VialesVigentesDistritos_20231004.csv']['IMPAR_MIN'].fillna('-')\n",
    "data_loader.data['VialesVigentesDistritos_20231004.csv']['PAR_MAX'] = data_loader.data['VialesVigentesDistritos_20231004.csv']['PAR_MAX'].fillna('-')\n",
    "data_loader.data['VialesVigentesDistritos_20231004.csv']['PAR_MIN'] = data_loader.data['VialesVigentesDistritos_20231004.csv']['PAR_MIN'].fillna('-')"
   ]
  },
  {
   "cell_type": "markdown",
   "id": "1dc8314cb0cb69c8",
   "metadata": {
    "collapsed": false,
    "ExecuteTime": {
     "end_time": "2023-12-20T10:24:11.782676900Z",
     "start_time": "2023-12-20T10:24:11.578057500Z"
    }
   },
   "source": [
    "Pasamos al último dataset: viales vigentes a 4/10/2023"
   ]
  },
  {
   "cell_type": "code",
   "execution_count": 60,
   "id": "f4e6ce39904327ec",
   "metadata": {
    "collapsed": false,
    "ExecuteTime": {
     "end_time": "2023-12-20T10:24:11.782676900Z",
     "start_time": "2023-12-20T10:24:11.626270500Z"
    }
   },
   "outputs": [],
   "source": [
    "data_loader.get_info('VialesVigentes_20231004.csv')\n",
    "data_loader.data['VialesVigentes_20231004.csv']"
   ]
  },
  {
   "cell_type": "markdown",
   "id": "d4e16e380fe162eb",
   "metadata": {
    "collapsed": false,
    "ExecuteTime": {
     "end_time": "2023-12-20T10:24:12.025510400Z",
     "start_time": "2023-12-20T10:24:11.653762200Z"
    }
   },
   "source": [
    "Particula termina y partícula comienza está estrechamente relacionada con vía par, por lo que la sustitución de valores es igual"
   ]
  },
  {
   "cell_type": "code",
   "execution_count": null,
   "id": "b927758b032f83cd",
   "metadata": {
    "collapsed": false
   },
   "outputs": [],
   "source": [
    "data_loader.data['VialesVigentes_20231004.csv']['VIA_PAR'] = data_loader.data['VialesVigentes_20231004.csv']['VIA_PAR'].fillna(' ')\n",
    "data_loader.data['VialesVigentes_20231004.csv']['PARTICULA_TERMINA'] = data_loader.data['VialesVigentes_20231004.csv']['PARTICULA_TERMINA'].fillna(' ')\n",
    "data_loader.data['VialesVigentes_20231004.csv']['PARTICULA_COMIENZA'] = data_loader.data['VialesVigentes_20231004.csv']['PARTICULA_COMIENZA'].fillna(' ')"
   ]
  },
  {
   "cell_type": "markdown",
   "id": "b407d7ca20ce92a2",
   "metadata": {
    "collapsed": false,
    "ExecuteTime": {
     "end_time": "2023-12-20T10:24:12.183157800Z",
     "start_time": "2023-12-20T10:24:11.694178100Z"
    }
   },
   "source": [
    "### Análisis Descriptivo de los Datos\n",
    "A continuación, veremos, dataframe a dataframe, el análisis descriptivo\n"
   ]
  },
  {
   "cell_type": "code",
   "execution_count": null,
   "id": "cb5baaca6a903147",
   "metadata": {
    "collapsed": false
   },
   "outputs": [],
   "source": [
    "for i in data.keys():\n",
    "    print(i)"
   ]
  },
  {
   "cell_type": "markdown",
   "id": "7c6445aace2ede28",
   "metadata": {
    "collapsed": false,
    "ExecuteTime": {
     "end_time": "2023-12-20T10:24:12.183157800Z",
     "start_time": "2023-12-20T10:24:11.760022800Z"
    }
   },
   "source": [
    "Empezando con el dataframe de actuaciones bomberos:"
   ]
  },
  {
   "cell_type": "code",
   "execution_count": null,
   "id": "cd27515035700ee8",
   "metadata": {
    "collapsed": false
   },
   "outputs": [],
   "source": [
    "data_loader.dataframe_summary('datasets/actuacionesBomberos')"
   ]
  },
  {
   "cell_type": "code",
   "execution_count": 64,
   "id": "e035476b",
   "metadata": {
    "ExecuteTime": {
     "end_time": "2023-12-20T10:24:12.199203300Z",
     "start_time": "2023-12-20T10:24:11.770450100Z"
    }
   },
   "outputs": [
    {
     "name": "stdout",
     "output_type": "stream",
     "text": [
      "datasets/actuacionesBomberos\n",
      "datasets/estaciones\n",
      "datasets/accidentalidad\n",
      "calendario.csv\n",
      "DireccionesEvolucionHistorica_20231004.csv\n",
      "DireccionesVigentes_20231004.csv\n",
      "iluminacion.csv\n",
      "padron22.csv\n",
      "RADARES_FIJOS_vDTT.csv\n",
      "VialesEvolucionHistorica_20231004.csv\n",
      "VialesVigentesDistritosBarrios_20231004.csv\n",
      "VialesVigentesDistritos_20231004.csv\n",
      "VialesVigentes_20231004.csv\n"
     ]
    }
   ],
   "source": [
    "pd.DataFrame.boxplot(data_loader.data['datasets/actuacionesBomberos'], column=['FUEGOS', 'DAÑOS_EN_CONSTRUCCION', 'SALVAMENTOS_Y_RESCATES','DAÑOS_POR_AGUA','INCIDENTES_DIVERSOS'], figsize=[15, 8])"
   ]
  },
  {
   "cell_type": "markdown",
   "id": "efb82483",
   "metadata": {},
   "source": [
    "pd.DataFrame.boxplot(data_loader.data['datasets/actuacionesBomberos'], column=['FUEGOS', 'DAÑOS_EN_CONSTRUCCION', 'SALVAMENTOS_Y_RESCATES','DAÑOS_POR_AGUA','INCIDENTES_DIVERSOS'], figsize=[15, 8])"
   ]
  },
  {
   "cell_type": "code",
   "execution_count": 65,
   "id": "d44b9276",
   "metadata": {
    "ExecuteTime": {
     "end_time": "2023-12-20T10:24:12.230336900Z",
     "start_time": "2023-12-20T10:24:11.781309300Z"
    }
   },
   "outputs": [
    {
     "data": {
      "text/plain": "                      AÑO     FUEGOS DAÑOS_EN_CONSTRUCCION  \\\ncount               439.0      439.0                 439.0   \nmean          2022.400911  18.287016              6.191344   \nstd              0.490642  12.498387              5.738186   \nmin                2022.0        0.0                   0.0   \n25%                2022.0       10.0                   2.0   \n50%                2022.0       16.0                   5.0   \n75%                2023.0       24.5                   8.0   \nmax                2023.0       92.0                  40.0   \ncounts                439        439                   439   \nuniques                 2         57                    32   \nmissing                 0          0                     0   \nmissing_perc           0%         0%                    0%   \ntypes                bool    numeric               numeric   \n\n             SALVAMENTOS_Y_RESCATES DAÑOS_POR_AGUA INCIDENTES_DIVERSOS  \\\ncount                         439.0          439.0               439.0   \nmean                      24.280182       8.649203           20.407745   \nstd                       13.764866       6.062079           13.440722   \nmin                             0.0            0.0                 0.0   \n25%                            15.0            4.0                11.0   \n50%                            23.0            7.0                18.0   \n75%                            31.5           12.0                28.0   \nmax                            78.0           41.0                72.0   \ncounts                          439            439                 439   \nuniques                          63             31                  60   \nmissing                           0              0                   0   \nmissing_perc                     0%             0%                  0%   \ntypes                       numeric        numeric             numeric   \n\n             SALIDAS_SIN_INTERVENCION SERVICIOS_VARIOS      TOTAL  \ncount                           439.0            439.0      439.0  \nmean                         16.66287         4.671982  99.150342  \nstd                         12.182413         5.943179   53.11369  \nmin                               0.0              0.0        1.0  \n25%                               7.0              1.0       65.0  \n50%                              15.0              3.0       98.0  \n75%                              23.0              6.0      125.5  \nmax                              84.0             57.0      331.0  \ncounts                            439              439        439  \nuniques                            55               26        176  \nmissing                             0                0          0  \nmissing_perc                       0%               0%         0%  \ntypes                         numeric          numeric    numeric  ",
      "text/html": "<div>\n<style scoped>\n    .dataframe tbody tr th:only-of-type {\n        vertical-align: middle;\n    }\n\n    .dataframe tbody tr th {\n        vertical-align: top;\n    }\n\n    .dataframe thead th {\n        text-align: right;\n    }\n</style>\n<table border=\"1\" class=\"dataframe\">\n  <thead>\n    <tr style=\"text-align: right;\">\n      <th></th>\n      <th>AÑO</th>\n      <th>FUEGOS</th>\n      <th>DAÑOS_EN_CONSTRUCCION</th>\n      <th>SALVAMENTOS_Y_RESCATES</th>\n      <th>DAÑOS_POR_AGUA</th>\n      <th>INCIDENTES_DIVERSOS</th>\n      <th>SALIDAS_SIN_INTERVENCION</th>\n      <th>SERVICIOS_VARIOS</th>\n      <th>TOTAL</th>\n    </tr>\n  </thead>\n  <tbody>\n    <tr>\n      <th>count</th>\n      <td>439.0</td>\n      <td>439.0</td>\n      <td>439.0</td>\n      <td>439.0</td>\n      <td>439.0</td>\n      <td>439.0</td>\n      <td>439.0</td>\n      <td>439.0</td>\n      <td>439.0</td>\n    </tr>\n    <tr>\n      <th>mean</th>\n      <td>2022.400911</td>\n      <td>18.287016</td>\n      <td>6.191344</td>\n      <td>24.280182</td>\n      <td>8.649203</td>\n      <td>20.407745</td>\n      <td>16.66287</td>\n      <td>4.671982</td>\n      <td>99.150342</td>\n    </tr>\n    <tr>\n      <th>std</th>\n      <td>0.490642</td>\n      <td>12.498387</td>\n      <td>5.738186</td>\n      <td>13.764866</td>\n      <td>6.062079</td>\n      <td>13.440722</td>\n      <td>12.182413</td>\n      <td>5.943179</td>\n      <td>53.11369</td>\n    </tr>\n    <tr>\n      <th>min</th>\n      <td>2022.0</td>\n      <td>0.0</td>\n      <td>0.0</td>\n      <td>0.0</td>\n      <td>0.0</td>\n      <td>0.0</td>\n      <td>0.0</td>\n      <td>0.0</td>\n      <td>1.0</td>\n    </tr>\n    <tr>\n      <th>25%</th>\n      <td>2022.0</td>\n      <td>10.0</td>\n      <td>2.0</td>\n      <td>15.0</td>\n      <td>4.0</td>\n      <td>11.0</td>\n      <td>7.0</td>\n      <td>1.0</td>\n      <td>65.0</td>\n    </tr>\n    <tr>\n      <th>50%</th>\n      <td>2022.0</td>\n      <td>16.0</td>\n      <td>5.0</td>\n      <td>23.0</td>\n      <td>7.0</td>\n      <td>18.0</td>\n      <td>15.0</td>\n      <td>3.0</td>\n      <td>98.0</td>\n    </tr>\n    <tr>\n      <th>75%</th>\n      <td>2023.0</td>\n      <td>24.5</td>\n      <td>8.0</td>\n      <td>31.5</td>\n      <td>12.0</td>\n      <td>28.0</td>\n      <td>23.0</td>\n      <td>6.0</td>\n      <td>125.5</td>\n    </tr>\n    <tr>\n      <th>max</th>\n      <td>2023.0</td>\n      <td>92.0</td>\n      <td>40.0</td>\n      <td>78.0</td>\n      <td>41.0</td>\n      <td>72.0</td>\n      <td>84.0</td>\n      <td>57.0</td>\n      <td>331.0</td>\n    </tr>\n    <tr>\n      <th>counts</th>\n      <td>439</td>\n      <td>439</td>\n      <td>439</td>\n      <td>439</td>\n      <td>439</td>\n      <td>439</td>\n      <td>439</td>\n      <td>439</td>\n      <td>439</td>\n    </tr>\n    <tr>\n      <th>uniques</th>\n      <td>2</td>\n      <td>57</td>\n      <td>32</td>\n      <td>63</td>\n      <td>31</td>\n      <td>60</td>\n      <td>55</td>\n      <td>26</td>\n      <td>176</td>\n    </tr>\n    <tr>\n      <th>missing</th>\n      <td>0</td>\n      <td>0</td>\n      <td>0</td>\n      <td>0</td>\n      <td>0</td>\n      <td>0</td>\n      <td>0</td>\n      <td>0</td>\n      <td>0</td>\n    </tr>\n    <tr>\n      <th>missing_perc</th>\n      <td>0%</td>\n      <td>0%</td>\n      <td>0%</td>\n      <td>0%</td>\n      <td>0%</td>\n      <td>0%</td>\n      <td>0%</td>\n      <td>0%</td>\n      <td>0%</td>\n    </tr>\n    <tr>\n      <th>types</th>\n      <td>bool</td>\n      <td>numeric</td>\n      <td>numeric</td>\n      <td>numeric</td>\n      <td>numeric</td>\n      <td>numeric</td>\n      <td>numeric</td>\n      <td>numeric</td>\n      <td>numeric</td>\n    </tr>\n  </tbody>\n</table>\n</div>"
     },
     "execution_count": 65,
     "metadata": {},
     "output_type": "execute_result"
    }
   ],
   "source": [
    "horas = ['HOR1', 'HOR2','HOR3', 'HOR4', 'HOR5', 'HOR6', 'HOR7', 'HOR8', 'HOR9', 'HOR10' , 'HOR11', 'HOR12', 'HOR13', 'HOR14', 'HOR15', 'HOR16', 'HOR17', 'HOR18', 'HOR19', 'HOR20', 'HOR21', 'HOR22', 'HOR23', 'HOR24']\n",
    "#data_loader.data['datasets/estaciones'].plot.bar(x=horas, y=)"
   ]
  },
  {
   "cell_type": "code",
   "execution_count": 66,
   "id": "7d2e8240",
   "metadata": {
    "ExecuteTime": {
     "end_time": "2023-12-20T10:24:12.471002800Z",
     "start_time": "2023-12-20T10:24:11.829530800Z"
    }
   },
   "outputs": [
    {
     "data": {
      "text/plain": "<Axes: >"
     },
     "execution_count": 66,
     "metadata": {},
     "output_type": "execute_result"
    },
    {
     "data": {
      "text/plain": "<Figure size 1500x800 with 1 Axes>",
      "image/png": "[encoded data removed]"
     },
     "metadata": {},
     "output_type": "display_data"
    }
   ],
   "source": [
    "data_loader.get_info('datasets/accidentalidad')"
   ]
  },
  {
   "cell_type": "markdown",
   "id": "9b75c00e",
   "metadata": {},
   "source": []
  },
  {
   "cell_type": "code",
   "execution_count": 67,
   "id": "0ddb744f",
   "metadata": {
    "ExecuteTime": {
     "end_time": "2023-12-20T10:24:12.471002800Z",
     "start_time": "2023-12-20T10:24:12.199203300Z"
    }
   },
   "outputs": [],
   "source": []
  },
  {
   "cell_type": "markdown",
   "id": "d5283b12",
   "metadata": {
    "ExecuteTime": {
     "end_time": "2023-12-20T10:24:12.549576300Z",
     "start_time": "2023-12-20T10:24:12.214572100Z"
    }
   },
   "source": []
  },
  {
   "cell_type": "code",
   "execution_count": null,
   "id": "1323530a",
   "metadata": {},
   "outputs": [],
   "source": []
  },
  {
   "cell_type": "markdown",
   "id": "796c49a4",
   "metadata": {
    "ExecuteTime": {
     "end_time": "2023-12-20T10:24:12.886971600Z",
     "start_time": "2023-12-20T10:24:12.423444200Z"
    }
   },
   "source": []
  },
  {
   "cell_type": "code",
   "execution_count": null,
   "id": "809a96c0",
   "metadata": {},
   "outputs": [],
   "source": []
  },
  {
   "cell_type": "markdown",
   "id": "1c667f6a",
   "metadata": {
    "ExecuteTime": {
     "end_time": "2023-12-20T10:24:12.958451500Z",
     "start_time": "2023-12-20T10:24:12.711333700Z"
    }
   },
   "source": []
  },
  {
   "cell_type": "code",
   "execution_count": null,
   "id": "f71c74d4",
   "metadata": {},
   "outputs": [],
   "source": []
  },
  {
   "cell_type": "markdown",
   "id": "11f778af",
   "metadata": {
    "ExecuteTime": {
     "end_time": "2023-12-20T10:24:13.152560500Z",
     "start_time": "2023-12-20T10:24:12.902719500Z"
    }
   },
   "source": []
  },
  {
   "cell_type": "code",
   "execution_count": null,
   "id": "9512cba9",
   "metadata": {},
   "outputs": [],
   "source": []
  },
  {
   "cell_type": "markdown",
   "metadata": {
    "ExecuteTime": {
     "end_time": "2023-12-20T10:24:13.272382900Z",
     "start_time": "2023-12-20T10:24:13.147178700Z"
    }
   },
   "source": [],
   "id": "948cdaa58aab5592"
  },
  {
   "cell_type": "markdown",
   "id": "dce4901c45ba66b4",
   "metadata": {
    "collapsed": false
   },
   "source": [
    "\n",
    "Tabla de frecuencia relativa de accidentes por distritos. En esta tabla se obtiene la frecuencia de accidentes en todos los distritos de madrid, esto hace que se pueda obtener también el tráfico de coches en el distrito. Aunque no sea una relación proporcional, a mayor número de accidentes supone un tráfico mayor en la zona."
   ]
  },
  {
   "cell_type": "code",
   "execution_count": 73,
   "id": "d70f9fd41f615607",
   "metadata": {
    "collapsed": false,
    "ExecuteTime": {
     "end_time": "2023-12-20T10:24:13.414251100Z",
     "start_time": "2023-12-20T10:24:13.270380200Z"
    }
   },
   "outputs": [
    {
     "data": {
      "text/plain": "             Ï»¿EJERICIO COD_DISTRITO COD_BARRIO   CONTADOR\ncount           180345.0     180345.0   180345.0   180345.0\nmean              2022.0     9.889379  99.822352  10.069434\nstd                  0.0      5.90113  60.665245  77.008243\nmin               2022.0          0.0        0.0        1.0\n25%               2022.0          5.0       51.0        1.0\n50%               2022.0          9.0       95.0        2.0\n75%               2022.0         15.0      152.0        5.0\nmax               2022.0         21.0      215.0     7862.0\ncounts            180345       180345     180345     180345\nuniques                1           22        132        708\nmissing                0            0          0          0\nmissing_perc          0%           0%         0%         0%\ntypes           constant      numeric    numeric    numeric",
      "text/html": "<div>\n<style scoped>\n    .dataframe tbody tr th:only-of-type {\n        vertical-align: middle;\n    }\n\n    .dataframe tbody tr th {\n        vertical-align: top;\n    }\n\n    .dataframe thead th {\n        text-align: right;\n    }\n</style>\n<table border=\"1\" class=\"dataframe\">\n  <thead>\n    <tr style=\"text-align: right;\">\n      <th></th>\n      <th>Ï»¿EJERICIO</th>\n      <th>COD_DISTRITO</th>\n      <th>COD_BARRIO</th>\n      <th>CONTADOR</th>\n    </tr>\n  </thead>\n  <tbody>\n    <tr>\n      <th>count</th>\n      <td>180345.0</td>\n      <td>180345.0</td>\n      <td>180345.0</td>\n      <td>180345.0</td>\n    </tr>\n    <tr>\n      <th>mean</th>\n      <td>2022.0</td>\n      <td>9.889379</td>\n      <td>99.822352</td>\n      <td>10.069434</td>\n    </tr>\n    <tr>\n      <th>std</th>\n      <td>0.0</td>\n      <td>5.90113</td>\n      <td>60.665245</td>\n      <td>77.008243</td>\n    </tr>\n    <tr>\n      <th>min</th>\n      <td>2022.0</td>\n      <td>0.0</td>\n      <td>0.0</td>\n      <td>1.0</td>\n    </tr>\n    <tr>\n      <th>25%</th>\n      <td>2022.0</td>\n      <td>5.0</td>\n      <td>51.0</td>\n      <td>1.0</td>\n    </tr>\n    <tr>\n      <th>50%</th>\n      <td>2022.0</td>\n      <td>9.0</td>\n      <td>95.0</td>\n      <td>2.0</td>\n    </tr>\n    <tr>\n      <th>75%</th>\n      <td>2022.0</td>\n      <td>15.0</td>\n      <td>152.0</td>\n      <td>5.0</td>\n    </tr>\n    <tr>\n      <th>max</th>\n      <td>2022.0</td>\n      <td>21.0</td>\n      <td>215.0</td>\n      <td>7862.0</td>\n    </tr>\n    <tr>\n      <th>counts</th>\n      <td>180345</td>\n      <td>180345</td>\n      <td>180345</td>\n      <td>180345</td>\n    </tr>\n    <tr>\n      <th>uniques</th>\n      <td>1</td>\n      <td>22</td>\n      <td>132</td>\n      <td>708</td>\n    </tr>\n    <tr>\n      <th>missing</th>\n      <td>0</td>\n      <td>0</td>\n      <td>0</td>\n      <td>0</td>\n    </tr>\n    <tr>\n      <th>missing_perc</th>\n      <td>0%</td>\n      <td>0%</td>\n      <td>0%</td>\n      <td>0%</td>\n    </tr>\n    <tr>\n      <th>types</th>\n      <td>constant</td>\n      <td>numeric</td>\n      <td>numeric</td>\n      <td>numeric</td>\n    </tr>\n  </tbody>\n</table>\n</div>"
     },
     "execution_count": 73,
     "metadata": {},
     "output_type": "execute_result"
    }
   ],
   "source": [
    "data_loader.data['datasets/accidentalidad']['DISTRITO'] = data_loader.data['datasets/accidentalidad']['DISTRITO'].astype(str)\n",
    "CSVDataLoader.create_graph(data_loader.data['datasets/accidentalidad'], 'DISTRITO', 'accidentes por distrito')"
   ]
  },
  {
   "cell_type": "markdown",
   "id": "497870164c2d82ad",
   "metadata": {
    "collapsed": false
   },
   "source": [
    "Tabla comparativa que muestra los accidentes donde la persona que lo ha padecido ha dado positivo en alcohol."
   ]
  },
  {
   "cell_type": "code",
   "execution_count": 74,
   "id": "2d3e2067238bb9c0",
   "metadata": {
    "collapsed": false,
    "ExecuteTime": {
     "end_time": "2023-12-20T10:24:13.440603500Z",
     "start_time": "2023-12-20T10:24:13.399275400Z"
    }
   },
   "outputs": [
    {
     "data": {
      "text/plain": "             Nº\\nRADAR   X (WGS84)  Y (WGS84)\ncount             29.0         2.0        2.0\nmean              15.0    440371.5  4470920.0\nstd           8.514693  904.389573        0.0\nmin                1.0    439732.0  4470920.0\n25%                8.0   440051.75  4470920.0\n50%               15.0    440371.5  4470920.0\n75%               22.0   440691.25  4470920.0\nmax               29.0    441011.0  4470920.0\ncounts              29           2          2\nuniques             29           2          1\nmissing              0          27         27\nmissing_perc        0%      93.10%     93.10%\ntypes          numeric        bool   constant",
      "text/html": "<div>\n<style scoped>\n    .dataframe tbody tr th:only-of-type {\n        vertical-align: middle;\n    }\n\n    .dataframe tbody tr th {\n        vertical-align: top;\n    }\n\n    .dataframe thead th {\n        text-align: right;\n    }\n</style>\n<table border=\"1\" class=\"dataframe\">\n  <thead>\n    <tr style=\"text-align: right;\">\n      <th></th>\n      <th>Nº\\nRADAR</th>\n      <th>X (WGS84)</th>\n      <th>Y (WGS84)</th>\n    </tr>\n  </thead>\n  <tbody>\n    <tr>\n      <th>count</th>\n      <td>29.0</td>\n      <td>2.0</td>\n      <td>2.0</td>\n    </tr>\n    <tr>\n      <th>mean</th>\n      <td>15.0</td>\n      <td>440371.5</td>\n      <td>4470920.0</td>\n    </tr>\n    <tr>\n      <th>std</th>\n      <td>8.514693</td>\n      <td>904.389573</td>\n      <td>0.0</td>\n    </tr>\n    <tr>\n      <th>min</th>\n      <td>1.0</td>\n      <td>439732.0</td>\n      <td>4470920.0</td>\n    </tr>\n    <tr>\n      <th>25%</th>\n      <td>8.0</td>\n      <td>440051.75</td>\n      <td>4470920.0</td>\n    </tr>\n    <tr>\n      <th>50%</th>\n      <td>15.0</td>\n      <td>440371.5</td>\n      <td>4470920.0</td>\n    </tr>\n    <tr>\n      <th>75%</th>\n      <td>22.0</td>\n      <td>440691.25</td>\n      <td>4470920.0</td>\n    </tr>\n    <tr>\n      <th>max</th>\n      <td>29.0</td>\n      <td>441011.0</td>\n      <td>4470920.0</td>\n    </tr>\n    <tr>\n      <th>counts</th>\n      <td>29</td>\n      <td>2</td>\n      <td>2</td>\n    </tr>\n    <tr>\n      <th>uniques</th>\n      <td>29</td>\n      <td>2</td>\n      <td>1</td>\n    </tr>\n    <tr>\n      <th>missing</th>\n      <td>0</td>\n      <td>27</td>\n      <td>27</td>\n    </tr>\n    <tr>\n      <th>missing_perc</th>\n      <td>0%</td>\n      <td>93.10%</td>\n      <td>93.10%</td>\n    </tr>\n    <tr>\n      <th>types</th>\n      <td>numeric</td>\n      <td>bool</td>\n      <td>constant</td>\n    </tr>\n  </tbody>\n</table>\n</div>"
     },
     "execution_count": 74,
     "metadata": {},
     "output_type": "execute_result"
    }
   ],
   "source": [
    "accidentes = data_loader.data['datasets/accidentalidad']\n",
    "positivos = accidentes[accidentes['POSITIVA_ALCOHOL'] == 'S']\n",
    "negativos = accidentes[accidentes['POSITIVA_ALCOHOL'] == 'N']\n",
    "labels = ['Positivo en Alcohol', 'Negativo en Alcohol', 'No se realizó la prueba']\n",
    "values = [len(positivos), len(negativos), len(accidentes) - len(positivos) - len(negativos)]\n",
    "plt.bar(labels, values)\n",
    "plt.xlabel('Resultado de Alcohol')\n",
    "plt.ylabel('Número de Accidentes')\n",
    "plt.title('Comparación de Accidentes con y sin Positivo en Alcohol')\n",
    "plt.show()"
   ]
  },
  {
   "cell_type": "markdown",
   "id": "cb565aef2c2b75e5",
   "metadata": {
    "collapsed": false,
    "ExecuteTime": {
     "end_time": "2023-12-20T10:11:16.835615Z",
     "start_time": "2023-12-20T10:11:15.894873500Z"
    }
   },
   "source": [
    "Tabla comparativo donde la persona que ha padecido el accidente ha dado positivo en drogas."
   ]
  },
  {
   "cell_type": "code",
   "execution_count": 75,
   "id": "fa1d86625f10a896",
   "metadata": {
    "collapsed": false,
    "ExecuteTime": {
     "end_time": "2023-12-20T10:24:13.678381800Z",
     "start_time": "2023-12-20T10:24:13.429398100Z"
    }
   },
   "outputs": [
    {
     "data": {
      "text/plain": "                      COD_VIA   VIA_SQC\ncount                 16446.0   16446.0\nmean           4175345.431655  1.312842\nstd           10082926.753856  0.668149\nmin                     125.0       1.0\n25%                 172206.25       1.0\n50%                  470175.0       1.0\n75%                  733057.5       1.0\nmax                99000000.0      13.0\ncounts                  16446     16446\nuniques                 12554        13\nmissing                     0         0\nmissing_perc               0%        0%\ntypes                 numeric   numeric",
      "text/html": "<div>\n<style scoped>\n    .dataframe tbody tr th:only-of-type {\n        vertical-align: middle;\n    }\n\n    .dataframe tbody tr th {\n        vertical-align: top;\n    }\n\n    .dataframe thead th {\n        text-align: right;\n    }\n</style>\n<table border=\"1\" class=\"dataframe\">\n  <thead>\n    <tr style=\"text-align: right;\">\n      <th></th>\n      <th>COD_VIA</th>\n      <th>VIA_SQC</th>\n    </tr>\n  </thead>\n  <tbody>\n    <tr>\n      <th>count</th>\n      <td>16446.0</td>\n      <td>16446.0</td>\n    </tr>\n    <tr>\n      <th>mean</th>\n      <td>4175345.431655</td>\n      <td>1.312842</td>\n    </tr>\n    <tr>\n      <th>std</th>\n      <td>10082926.753856</td>\n      <td>0.668149</td>\n    </tr>\n    <tr>\n      <th>min</th>\n      <td>125.0</td>\n      <td>1.0</td>\n    </tr>\n    <tr>\n      <th>25%</th>\n      <td>172206.25</td>\n      <td>1.0</td>\n    </tr>\n    <tr>\n      <th>50%</th>\n      <td>470175.0</td>\n      <td>1.0</td>\n    </tr>\n    <tr>\n      <th>75%</th>\n      <td>733057.5</td>\n      <td>1.0</td>\n    </tr>\n    <tr>\n      <th>max</th>\n      <td>99000000.0</td>\n      <td>13.0</td>\n    </tr>\n    <tr>\n      <th>counts</th>\n      <td>16446</td>\n      <td>16446</td>\n    </tr>\n    <tr>\n      <th>uniques</th>\n      <td>12554</td>\n      <td>13</td>\n    </tr>\n    <tr>\n      <th>missing</th>\n      <td>0</td>\n      <td>0</td>\n    </tr>\n    <tr>\n      <th>missing_perc</th>\n      <td>0%</td>\n      <td>0%</td>\n    </tr>\n    <tr>\n      <th>types</th>\n      <td>numeric</td>\n      <td>numeric</td>\n    </tr>\n  </tbody>\n</table>\n</div>"
     },
     "execution_count": 75,
     "metadata": {},
     "output_type": "execute_result"
    }
   ],
   "source": [
    "accidentes = data_loader.data['datasets/accidentalidad']\n",
    "positivos = accidentes[accidentes['POSITIVA_DROGA'] == 1]\n",
    "negativos = accidentes[accidentes['POSITIVA_DROGA'] == 0]\n",
    "labels = ['Positivo en Drogas', 'Negativo en Drogas']\n",
    "values = [len(positivos), len(negativos)]\n",
    "plt.bar(labels, values)\n",
    "plt.xlabel('Resultado de Drogas')\n",
    "plt.ylabel('Número de Accidentes')\n",
    "plt.title('Comparación de Accidentes con y sin Positivo en Drogas')\n",
    "plt.show()"
   ]
  },
  {
   "cell_type": "markdown",
   "id": "f068efedb4cf5a7d",
   "metadata": {
    "collapsed": false,
    "ExecuteTime": {
     "end_time": "2023-12-20T10:11:17.044945Z",
     "start_time": "2023-12-20T10:11:16.835615Z"
    }
   },
   "source": [
    "Tabla comparativa que relaciona los accidente en los que la persona ha dado positivo en alcohol y drogas"
   ]
  },
  {
   "cell_type": "code",
   "execution_count": 76,
   "id": "ebf549ace378442e",
   "metadata": {
    "collapsed": false,
    "ExecuteTime": {
     "end_time": "2023-12-20T10:24:13.762795Z",
     "start_time": "2023-12-20T10:24:13.459276100Z"
    }
   },
   "outputs": [
    {
     "data": {
      "text/plain": "                     COD_VIA COD_VIA_COMIENZA  COD_VIA_TERMINA\ncount                 9388.0           9388.0           9388.0\nmean          4042814.759906   3466096.384001   8018823.443012\nstd           9961522.633361  11504118.496724  22587878.066217\nmin                    127.0            127.0            127.0\n25%                118493.75        139028.75         141550.0\n50%                 429850.0         419000.0         440375.0\n75%                 698962.5         667800.0         713200.0\nmax               31006183.0       99000003.0       99000003.0\ncounts                  9388             9388             9388\nuniques                 9354             3446             3821\nmissing                    0                0                0\nmissing_perc              0%               0%               0%\ntypes                numeric          numeric          numeric",
      "text/html": "<div>\n<style scoped>\n    .dataframe tbody tr th:only-of-type {\n        vertical-align: middle;\n    }\n\n    .dataframe tbody tr th {\n        vertical-align: top;\n    }\n\n    .dataframe thead th {\n        text-align: right;\n    }\n</style>\n<table border=\"1\" class=\"dataframe\">\n  <thead>\n    <tr style=\"text-align: right;\">\n      <th></th>\n      <th>COD_VIA</th>\n      <th>COD_VIA_COMIENZA</th>\n      <th>COD_VIA_TERMINA</th>\n    </tr>\n  </thead>\n  <tbody>\n    <tr>\n      <th>count</th>\n      <td>9388.0</td>\n      <td>9388.0</td>\n      <td>9388.0</td>\n    </tr>\n    <tr>\n      <th>mean</th>\n      <td>4042814.759906</td>\n      <td>3466096.384001</td>\n      <td>8018823.443012</td>\n    </tr>\n    <tr>\n      <th>std</th>\n      <td>9961522.633361</td>\n      <td>11504118.496724</td>\n      <td>22587878.066217</td>\n    </tr>\n    <tr>\n      <th>min</th>\n      <td>127.0</td>\n      <td>127.0</td>\n      <td>127.0</td>\n    </tr>\n    <tr>\n      <th>25%</th>\n      <td>118493.75</td>\n      <td>139028.75</td>\n      <td>141550.0</td>\n    </tr>\n    <tr>\n      <th>50%</th>\n      <td>429850.0</td>\n      <td>419000.0</td>\n      <td>440375.0</td>\n    </tr>\n    <tr>\n      <th>75%</th>\n      <td>698962.5</td>\n      <td>667800.0</td>\n      <td>713200.0</td>\n    </tr>\n    <tr>\n      <th>max</th>\n      <td>31006183.0</td>\n      <td>99000003.0</td>\n      <td>99000003.0</td>\n    </tr>\n    <tr>\n      <th>counts</th>\n      <td>9388</td>\n      <td>9388</td>\n      <td>9388</td>\n    </tr>\n    <tr>\n      <th>uniques</th>\n      <td>9354</td>\n      <td>3446</td>\n      <td>3821</td>\n    </tr>\n    <tr>\n      <th>missing</th>\n      <td>0</td>\n      <td>0</td>\n      <td>0</td>\n    </tr>\n    <tr>\n      <th>missing_perc</th>\n      <td>0%</td>\n      <td>0%</td>\n      <td>0%</td>\n    </tr>\n    <tr>\n      <th>types</th>\n      <td>numeric</td>\n      <td>numeric</td>\n      <td>numeric</td>\n    </tr>\n  </tbody>\n</table>\n</div>"
     },
     "execution_count": 76,
     "metadata": {},
     "output_type": "execute_result"
    }
   ],
   "source": [
    "accidentes = data_loader.data['datasets/accidentalidad']\n",
    "positivos_alcohol = accidentes[accidentes['POSITIVA_ALCOHOL'] == 'S']\n",
    "positivos_drogas = accidentes[accidentes['POSITIVA_DROGA'] == 1]\n",
    "positivos_alcohol_drogas = positivos_alcohol[positivos_alcohol['POSITIVA_DROGA'] == 1]\n",
    "positivos_alcohol_drogas = len(positivos_alcohol_drogas)\n",
    "negativos = len(accidentes) - positivos_alcohol_drogas\n",
    "labels = ['Positivo en Alcohol y Drogas', 'Negativo en Alcohol y Drogas']\n",
    "values = [positivos_alcohol_drogas, negativos]\n",
    "plt.bar(labels, values)\n",
    "plt.xlabel('Resultado de Alcohol')\n",
    "plt.ylabel('Número de Accidentes')\n",
    "plt.title('Comparación de Accidentes con y sin Positivo en Alcohol')\n",
    "plt.show()"
   ]
  },
  {
   "cell_type": "code",
   "execution_count": null,
   "id": "1abb6fb352c875ab",
   "metadata": {
    "collapsed": false
   },
   "outputs": [],
   "source": [
    "accidentes = data_loader.data['datasets/accidentalidad']\n",
    "labels = accidentes['TIPO_ACCIDENTE'].unique()\n",
    "values = accidentes['TIPO_ACCIDENTE'].value_counts()\n",
    "percentages = (values / len(accidentes)) * 100\n",
    "plt.pie(values, shadow=True, startangle=90)\n",
    "plt.title('Tipos de Accidentes')\n",
    "legend_labels = [f'{label} ({percentage:.2f}%)' for label, percentage in zip(labels, percentages)]\n",
    "plt.legend(labels=legend_labels, loc='center left', bbox_to_anchor=(1.2, 0.5))\n",
    "plt.show()"
   ]
  },
  {
   "cell_type": "markdown",
   "id": "89fd5e376942949c",
   "metadata": {
    "collapsed": false,
    "ExecuteTime": {
     "end_time": "2023-12-20T10:24:13.764788200Z",
     "start_time": "2023-12-20T10:24:13.496499300Z"
    }
   },
   "source": [
    "Este gráfico muestra los distintos tipos de accidentes registrados. Se puede ver que la colisión frontal-lateral y el alcance son las mauores causas de accidentes."
   ]
  },
  {
   "cell_type": "code",
   "execution_count": null,
   "id": "937efa42e8d40b66",
   "metadata": {
    "collapsed": false
   },
   "outputs": [],
   "source": [
    "accidentes = data_loader.data['datasets/accidentalidad']\n",
    "labels = accidentes['LESIVIDAD'].unique()\n",
    "values = accidentes['LESIVIDAD'].value_counts()\n",
    "percentages = (values / len(accidentes)) * 100\n",
    "plt.pie(values, shadow=True, startangle=90)\n",
    "plt.title('Lesividad')\n",
    "legend_labels = [f'{label} ({percentage:.2f}%)' for label, percentage in zip(labels, percentages)]\n",
    "plt.legend(labels=legend_labels, loc='center left', bbox_to_anchor=(1, 0.5))\n",
    "plt.show()"
   ]
  },
  {
   "cell_type": "markdown",
   "id": "2d33ffb88e93acb",
   "metadata": {
    "collapsed": false,
    "ExecuteTime": {
     "end_time": "2023-12-20T10:24:13.766783700Z",
     "start_time": "2023-12-20T10:24:13.539827500Z"
    }
   },
   "source": [
    "Este gráfico muestra el tipo de lesividad del accidente. Se aprecia que 3 de cada 4 personas no necesitan asistencia sanitaria."
   ]
  }
 ],
 "metadata": {
  "kernelspec": {
   "display_name": "Python 3",
   "language": "python",
   "name": "python3"
  },
  "language_info": {
   "codemirror_mode": {
    "name": "ipython",
    "version": 3
   },
   "file_extension": ".py",
   "mimetype": "text/x-python",
   "name": "python",
   "nbconvert_exporter": "python",
   "pygments_lexer": "ipython3",
   "version": "3.11.6"
  }
 },
 "nbformat": 4,
 "nbformat_minor": 5
}
