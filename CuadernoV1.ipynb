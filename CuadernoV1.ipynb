{
 "cells": [
  {
   "cell_type": "markdown",
   "id": "403b90b536e46321",
   "metadata": {
    "collapsed": false
   },
   "source": [
    "# Proyecto Open Data I\n",
    "## Radares, y su eficiencia en la CAM\n",
    "### Recopilación, limpieza y tratamiento de los datos\n",
    "Este cuaderno pretende enseñar el proceso de limpieza de los datos relativos a los radares en la CAM\n",
    "_Paula Gómez Lucas, Alejandro Majado Martínez_"
   ]
  },
  {
   "cell_type": "code",
   "execution_count": 263,
   "outputs": [],
   "source": [
    "# Importar librerías\n",
    "import os\n",
    "import pandas as pd\n",
    "import matplotlib.pyplot as plt\n",
    "from matplotlib.ticker import PercentFormatter"
   ],
   "metadata": {
    "collapsed": false,
    "ExecuteTime": {
     "end_time": "2023-11-23T17:37:31.001890200Z",
     "start_time": "2023-11-23T17:37:30.470383600Z"
    }
   },
   "id": "44d3e82a2b2af617"
  },
  {
   "cell_type": "markdown",
   "source": [
    "A continuación, se muestra la clase que está compuesta de todos los métodos que se encargan de la limpieza y transformación de los datos"
   ],
   "metadata": {
    "collapsed": false
   },
   "id": "ae30c35b38b2cfe"
  },
  {
   "cell_type": "code",
   "execution_count": 264,
   "outputs": [],
   "source": [
    "class CSVDataLoader:\n",
    "    \"\"\"\n",
    "    A class for loading and cleaning CSV data from a specified folder path.\n",
    "\n",
    "    Attributes:\n",
    "    -----------\n",
    "    folder_path : str\n",
    "        The path to the folder containing the CSV files to be loaded.\n",
    "\n",
    "    data : dict\n",
    "        A dictionary containing the loaded CSV data, where the keys are the file names and the values are the corresponding dataframes.\n",
    "    \"\"\"\n",
    "\n",
    "    def __init__(self, folder_path):\n",
    "        \"\"\"\n",
    "        Initializes a CSVDataLoader object with the specified folder path.\n",
    "\n",
    "        Parameters:\n",
    "        -----------\n",
    "        folder_path : str\n",
    "            The path to the folder containing the CSV files to be loaded.\n",
    "        \"\"\"\n",
    "        self.folder_path = folder_path\n",
    "        self.data = {}\n",
    "        self.filename = []\n",
    "        self.keys = []\n",
    "\n",
    "    def load_data(self):\n",
    "        \"\"\"\n",
    "        Loads CSV data from the specified folder path into a dictionary.\n",
    "\n",
    "        Returns:\n",
    "        --------\n",
    "        None\n",
    "        \"\"\"\n",
    "        csv_files = [f for f in os.listdir(self.folder_path) if f.endswith('.csv')]\n",
    "        folders = (\"datasets/actuacionesBomberos\", \"datasets/estaciones\", \"datasets/accidentalidad\")\n",
    "        for folder in folders:\n",
    "            df = None\n",
    "            for file in os.listdir(folder):\n",
    "                filepath = folder + \"/\" + file\n",
    "                df1 = pd.read_csv(filepath, sep=';', encoding='utf-8', low_memory=False)\n",
    "                df = pd.concat([df, df1])\n",
    "            self.data[str(folder)] = df\n",
    "\n",
    "        for file_name in csv_files:\n",
    "            file_path = os.path.join(self.folder_path, file_name)\n",
    "            try:\n",
    "                df = pd.read_csv(file_path, sep=';', encoding='latin-1', low_memory=False)\n",
    "                self.data[str(file_name)] = df\n",
    "                self.filename.append(file_name)\n",
    "            except Exception as e:\n",
    "                print(f\"Error al leer {file_name}: {str(e)}\")\n",
    "\n",
    "        for value in self.data.keys():\n",
    "            self.keys.append(value)\n",
    "\n",
    "    def clean_data(self):\n",
    "        \"\"\"\n",
    "        Cleans the loaded CSV data by renaming columns, removing whitespace, dropping null values and duplicates, and converting date columns to datetime format.\n",
    "\n",
    "        Returns:\n",
    "        --------\n",
    "        None\n",
    "        \"\"\"\n",
    "        columna_borrar = \"Unnamed\"\n",
    "        for df in self.data:\n",
    "            for j in self.data[df].columns:\n",
    "                if columna_borrar in j:\n",
    "                    while j in self.data[df].columns:\n",
    "                        self.data[df] = self.data[df].drop(j, axis=1)\n",
    "                        self.data[df] = self.data[df].dropna(how='all', axis=0)\n",
    "                        \n",
    "            self.data[df] = self.data[df].rename(columns = lambda x: x.strip().lower().replace(' ', '_'))\n",
    "            self.data[df] = self.data[df].map(lambda x: x.strip() if isinstance(x, str) else x)\n",
    "            self.data[df] = self.data[df].dropna(how='all', axis=0)\n",
    "            self.data[df] = self.data[df].drop_duplicates()\n",
    "            self.data[df] = self.data[df].loc[:, ~self.data[df].columns.duplicated()]\n",
    "            self.data[df].columns = map(str.upper, self.data[df].columns)\n",
    "\n",
    "            if 'FECHA' in self.data[df].columns:\n",
    "                self.data[df]['FECHA'] = pd.to_datetime(self.data[df]['FECHA'], format='%d/%m/%Y')\n",
    "\n",
    "#           num_cols = self.data[i].select_dtypes(include='number').columns\n",
    "#           for col in num_cols:\n",
    "#               self.data[i][col] = self.data[i][col].fillna(self.data[i][col].mean())\n",
    "\n",
    "    def get_info(self, filename):\n",
    "        print(self.data[filename].isnull().sum())\n",
    "        print(self.data[filename].info())\n",
    "        \n",
    "    def get_nan_columns(self):\n",
    "        j = 0\n",
    "        for i in self.data:\n",
    "            print(self.keys[j])\n",
    "            self.get_info(i)\n",
    "            j+=1\n",
    "      \n",
    "    def get_cleaned_data(self):\n",
    "        \"\"\"\n",
    "        Returns the cleaned CSV data as a dictionary.\n",
    "\n",
    "        Returns:\n",
    "        --------\n",
    "        dict\n",
    "            A dictionary containing the cleaned CSV data, where the keys are the file names and the values are the corresponding dataframes.\n",
    "        \"\"\"\n",
    "        return self.data\n",
    "\n",
    "    def create_graph(df, colummn, name):\n",
    "        frec = df[''+str(colummn)].value_counts()\n",
    "        aux_df = pd.DataFrame(frec)\n",
    "        aux_df.columns = [\"Frecuencia absoluta\"]\n",
    "        aux_df[\"Frecuencia relativa\"] = 100*aux_df[\"Frecuencia absoluta\"] / len(df)\n",
    "        frec_rel_cumsum = aux_df[\"Frecuencia relativa\"].cumsum()\n",
    "        aux_df[\"Frecuencia relativa acumulada\"] = frec_rel_cumsum\n",
    "        fig = plt.figure()\n",
    "        ax = fig.add_subplot(1,1,1)\n",
    "        ax.set_title('Distribución de '+ str(name))\n",
    "        ax.bar(aux_df.index, aux_df['Frecuencia absoluta'], color='blue')\n",
    "        ax2 = ax.twinx()\n",
    "        ax2.plot(aux_df.index, aux_df['Frecuencia relativa acumulada'], color='red', marker='o', ms = 5)\n",
    "        ax2.yaxis.set_major_formatter(PercentFormatter())\n",
    "        ax.tick_params(axis='y', color = 'blue')\n",
    "        ax2.tick_params(axis='y', color = 'red')\n",
    "        ax.set_xticklabels(aux_df.index, rotation=90)\n",
    "        plt.show()"
   ],
   "metadata": {
    "collapsed": false,
    "ExecuteTime": {
     "end_time": "2023-11-23T17:37:31.039853900Z",
     "start_time": "2023-11-23T17:37:30.490973300Z"
    }
   },
   "id": "18d478fe7f47cd57"
  },
  {
   "cell_type": "markdown",
   "source": [
    "Una vez está definida la clase con sus métodos, procedemos a declarar las variables que nos permiten trabajar con ello"
   ],
   "metadata": {
    "collapsed": false
   },
   "id": "dd85edb70ad193c8"
  },
  {
   "cell_type": "code",
   "execution_count": 265,
   "outputs": [],
   "source": [
    "folder_path = \"datasets\"\n",
    "data_loader = CSVDataLoader(folder_path)"
   ],
   "metadata": {
    "collapsed": false,
    "ExecuteTime": {
     "end_time": "2023-11-23T17:37:31.313404Z",
     "start_time": "2023-11-23T17:37:30.493964800Z"
    }
   },
   "id": "283a71997af30bfb"
  },
  {
   "cell_type": "markdown",
   "source": [
    "La siguiente función carga los datos de los csv a los dataframes"
   ],
   "metadata": {
    "collapsed": false
   },
   "id": "63352d6285012f0e"
  },
  {
   "cell_type": "code",
   "execution_count": 266,
   "outputs": [],
   "source": [
    "data_loader.load_data()"
   ],
   "metadata": {
    "collapsed": false,
    "ExecuteTime": {
     "end_time": "2023-11-23T17:37:33.063468500Z",
     "start_time": "2023-11-23T17:37:30.500376300Z"
    }
   },
   "id": "665ff0b29c363cd8"
  },
  {
   "cell_type": "markdown",
   "source": [
    "Limpiamos los datos eliminando las columnas autogeneradas con NaNs, renombramos las columnas para que sean uniformes (minúsculas y con barra bajas), eliminamos las filas de NaNs, eliminamos las filas duplicadas, formateamos todas las variables fecha para que sean consistentes (dd/mm/aaaa), sustituimos los NaNs de las variables numéricas con la media correspondiente a su variable."
   ],
   "metadata": {
    "collapsed": false
   },
   "id": "aa768687373638fb"
  },
  {
   "cell_type": "code",
   "execution_count": 267,
   "outputs": [],
   "source": [
    "data_loader.clean_data()\n",
    "data = data_loader.get_cleaned_data()"
   ],
   "metadata": {
    "collapsed": false,
    "ExecuteTime": {
     "end_time": "2023-11-23T17:37:36.784947900Z",
     "start_time": "2023-11-23T17:37:33.066439Z"
    }
   },
   "id": "f1f338f27e9e6e88"
  },
  {
   "cell_type": "markdown",
   "source": [
    "Por último, para confirmar que los datos se han cargado bien, utilizamos el método get_nan_columns para ver cuántos datos en cada columna quedan nulos, así como usamos el método info() de pandas para ver un resumen de todas las columnas y comprobamos también que todo el formateo de las columnas se ha realizado sin problema."
   ],
   "metadata": {
    "collapsed": false
   },
   "id": "5c4457e965ecfd44"
  },
  {
   "cell_type": "code",
   "execution_count": 268,
   "outputs": [
    {
     "name": "stdout",
     "output_type": "stream",
     "text": [
      "datasets/actuacionesBomberos\n",
      "AÑO                         0\n",
      "MES                         0\n",
      "DISTRITO                    0\n",
      "FUEGOS                      0\n",
      "DAÑOS_EN_CONSTRUCCION       0\n",
      "SALVAMENTOS_Y_RESCATES      0\n",
      "DAÑOS_POR_AGUA              0\n",
      "INCIDENTES_DIVERSOS         0\n",
      "SALIDAS_SIN_INTERVENCION    0\n",
      "SERVICIOS_VARIOS            0\n",
      "TOTAL                       0\n",
      "dtype: int64\n",
      "<class 'pandas.core.frame.DataFrame'>\n",
      "Index: 439 entries, 0 to 175\n",
      "Data columns (total 11 columns):\n",
      " #   Column                    Non-Null Count  Dtype \n",
      "---  ------                    --------------  ----- \n",
      " 0   AÑO                       439 non-null    int64 \n",
      " 1   MES                       439 non-null    object\n",
      " 2   DISTRITO                  439 non-null    object\n",
      " 3   FUEGOS                    439 non-null    int64 \n",
      " 4   DAÑOS_EN_CONSTRUCCION     439 non-null    int64 \n",
      " 5   SALVAMENTOS_Y_RESCATES    439 non-null    int64 \n",
      " 6   DAÑOS_POR_AGUA            439 non-null    int64 \n",
      " 7   INCIDENTES_DIVERSOS       439 non-null    int64 \n",
      " 8   SALIDAS_SIN_INTERVENCION  439 non-null    int64 \n",
      " 9   SERVICIOS_VARIOS          439 non-null    int64 \n",
      " 10  TOTAL                     439 non-null    int64 \n",
      "dtypes: int64(9), object(2)\n",
      "memory usage: 41.2+ KB\n",
      "None\n",
      "datasets/estaciones\n",
      "FDIA     0\n",
      "FEST     0\n",
      "FSEN     0\n",
      "HOR1     0\n",
      "HOR2     0\n",
      "HOR3     0\n",
      "HOR4     0\n",
      "HOR5     0\n",
      "HOR6     0\n",
      "HOR7     0\n",
      "HOR8     0\n",
      "HOR9     0\n",
      "HOR10    0\n",
      "HOR11    0\n",
      "HOR12    0\n",
      "dtype: int64\n",
      "<class 'pandas.core.frame.DataFrame'>\n",
      "Index: 86140 entries, 0 to 7079\n",
      "Data columns (total 15 columns):\n",
      " #   Column  Non-Null Count  Dtype  \n",
      "---  ------  --------------  -----  \n",
      " 0   FDIA    86140 non-null  object \n",
      " 1   FEST    86140 non-null  object \n",
      " 2   FSEN    86140 non-null  object \n",
      " 3   HOR1    86140 non-null  float64\n",
      " 4   HOR2    86140 non-null  float64\n",
      " 5   HOR3    86140 non-null  float64\n",
      " 6   HOR4    86140 non-null  float64\n",
      " 7   HOR5    86140 non-null  float64\n",
      " 8   HOR6    86140 non-null  float64\n",
      " 9   HOR7    86140 non-null  float64\n",
      " 10  HOR8    86140 non-null  float64\n",
      " 11  HOR9    86140 non-null  float64\n",
      " 12  HOR10   86140 non-null  float64\n",
      " 13  HOR11   86140 non-null  float64\n",
      " 14  HOR12   86140 non-null  float64\n",
      "dtypes: float64(12), object(3)\n",
      "memory usage: 10.5+ MB\n",
      "None\n",
      "datasets/accidentalidad\n",
      "NUM_EXPEDIENTE              0\n",
      "FECHA                       0\n",
      "HORA                        0\n",
      "LOCALIZACION                0\n",
      "NUMERO                      1\n",
      "COD_DISTRITO                1\n",
      "DISTRITO                    1\n",
      "TIPO_ACCIDENTE              1\n",
      "ESTADO_METEOROLÓGICO     8220\n",
      "TIPO_VEHICULO             453\n",
      "TIPO_PERSONA                0\n",
      "RANGO_EDAD                  0\n",
      "SEXO                        0\n",
      "COD_LESIVIDAD           34125\n",
      "LESIVIDAD               34125\n",
      "COORDENADA_X_UTM            1\n",
      "COORDENADA_Y_UTM            1\n",
      "POSITIVA_ALCOHOL          341\n",
      "POSITIVA_DROGA          74686\n",
      "dtype: int64\n",
      "<class 'pandas.core.frame.DataFrame'>\n",
      "Index: 74962 entries, 0 to 31157\n",
      "Data columns (total 19 columns):\n",
      " #   Column                Non-Null Count  Dtype         \n",
      "---  ------                --------------  -----         \n",
      " 0   NUM_EXPEDIENTE        74962 non-null  object        \n",
      " 1   FECHA                 74962 non-null  datetime64[ns]\n",
      " 2   HORA                  74962 non-null  object        \n",
      " 3   LOCALIZACION          74962 non-null  object        \n",
      " 4   NUMERO                74961 non-null  object        \n",
      " 5   COD_DISTRITO          74961 non-null  float64       \n",
      " 6   DISTRITO              74961 non-null  object        \n",
      " 7   TIPO_ACCIDENTE        74961 non-null  object        \n",
      " 8   ESTADO_METEOROLÓGICO  66742 non-null  object        \n",
      " 9   TIPO_VEHICULO         74509 non-null  object        \n",
      " 10  TIPO_PERSONA          74962 non-null  object        \n",
      " 11  RANGO_EDAD            74962 non-null  object        \n",
      " 12  SEXO                  74962 non-null  object        \n",
      " 13  COD_LESIVIDAD         40837 non-null  float64       \n",
      " 14  LESIVIDAD             40837 non-null  object        \n",
      " 15  COORDENADA_X_UTM      74961 non-null  object        \n",
      " 16  COORDENADA_Y_UTM      74961 non-null  object        \n",
      " 17  POSITIVA_ALCOHOL      74621 non-null  object        \n",
      " 18  POSITIVA_DROGA        276 non-null    float64       \n",
      "dtypes: datetime64[ns](1), float64(3), object(15)\n",
      "memory usage: 11.4+ MB\n",
      "None\n",
      "DireccionesEvolucionHistorica_20231004.csv\n",
      "COD_VIA                    0\n",
      "VIA_SQC               371584\n",
      "VIA_CLASE                  0\n",
      "VIA_PAR                17997\n",
      "VIA_NOMBRE                 0\n",
      "VIA_NOMBRE_ACENTOS         0\n",
      "COD_NDP                    0\n",
      "CLASE_NDP                  0\n",
      "NÚMERO                     0\n",
      "CALIFICADOR           322826\n",
      "FECHA_DE_ALTA              0\n",
      "FECHA_DE_BAJA         211657\n",
      "TIPO_NDP               16248\n",
      "UTMX_ED                    0\n",
      "UTMY_ED                    0\n",
      "UTMX_ETRS                  0\n",
      "UTMY_ETRS                  0\n",
      "LATITUD                    0\n",
      "LONGITUD                   0\n",
      "ANGULO_ROTULACION          0\n",
      "dtype: int64\n",
      "<class 'pandas.core.frame.DataFrame'>\n",
      "RangeIndex: 371584 entries, 0 to 371583\n",
      "Data columns (total 20 columns):\n",
      " #   Column              Non-Null Count   Dtype  \n",
      "---  ------              --------------   -----  \n",
      " 0   COD_VIA             371584 non-null  int64  \n",
      " 1   VIA_SQC             0 non-null       float64\n",
      " 2   VIA_CLASE           371584 non-null  object \n",
      " 3   VIA_PAR             353587 non-null  object \n",
      " 4   VIA_NOMBRE          371584 non-null  object \n",
      " 5   VIA_NOMBRE_ACENTOS  371584 non-null  object \n",
      " 6   COD_NDP             371584 non-null  int64  \n",
      " 7   CLASE_NDP           371584 non-null  object \n",
      " 8   NÚMERO              371584 non-null  int64  \n",
      " 9   CALIFICADOR         48758 non-null   object \n",
      " 10  FECHA_DE_ALTA       371584 non-null  object \n",
      " 11  FECHA_DE_BAJA       159927 non-null  object \n",
      " 12  TIPO_NDP            355336 non-null  object \n",
      " 13  UTMX_ED             371584 non-null  object \n",
      " 14  UTMY_ED             371584 non-null  object \n",
      " 15  UTMX_ETRS           371584 non-null  object \n",
      " 16  UTMY_ETRS           371584 non-null  object \n",
      " 17  LATITUD             371584 non-null  object \n",
      " 18  LONGITUD            371584 non-null  object \n",
      " 19  ANGULO_ROTULACION   371584 non-null  object \n",
      "dtypes: float64(1), int64(3), object(16)\n",
      "memory usage: 56.7+ MB\n",
      "None\n",
      "DireccionesVigentes_20231004.csv\n",
      "COD_VIA                    0\n",
      "VIA_CLASE                  0\n",
      "VIA_PAR                 3381\n",
      "VIA_NOMBRE                 0\n",
      "VIA_NOMBRE_ACENTOS         0\n",
      "CLASE_APP                  0\n",
      "NUMERO                     0\n",
      "CALIFICADOR           178838\n",
      "TIPO_NDP                   0\n",
      "COD_NDP                    0\n",
      "DISTRITO                   0\n",
      "BARRIO                     0\n",
      "COD_POSTAL                 0\n",
      "UTMX_ED                    0\n",
      "UTMY_ED                    0\n",
      "UTMX_ETRS                  0\n",
      "UTMY_ETRS                  0\n",
      "LATITUD                    0\n",
      "LONGITUD                   0\n",
      "ANGULO_ROTULACION          0\n",
      "dtype: int64\n",
      "<class 'pandas.core.frame.DataFrame'>\n",
      "Index: 210384 entries, 0 to 210663\n",
      "Data columns (total 20 columns):\n",
      " #   Column              Non-Null Count   Dtype  \n",
      "---  ------              --------------   -----  \n",
      " 0   COD_VIA             210384 non-null  int64  \n",
      " 1   VIA_CLASE           210384 non-null  object \n",
      " 2   VIA_PAR             207003 non-null  object \n",
      " 3   VIA_NOMBRE          210384 non-null  object \n",
      " 4   VIA_NOMBRE_ACENTOS  210384 non-null  object \n",
      " 5   CLASE_APP           210384 non-null  object \n",
      " 6   NUMERO              210384 non-null  int64  \n",
      " 7   CALIFICADOR         31546 non-null   object \n",
      " 8   TIPO_NDP            210384 non-null  object \n",
      " 9   COD_NDP             210384 non-null  int64  \n",
      " 10  DISTRITO            210384 non-null  int64  \n",
      " 11  BARRIO              210384 non-null  int64  \n",
      " 12  COD_POSTAL          210384 non-null  int64  \n",
      " 13  UTMX_ED             210384 non-null  object \n",
      " 14  UTMY_ED             210384 non-null  object \n",
      " 15  UTMX_ETRS           210384 non-null  object \n",
      " 16  UTMY_ETRS           210384 non-null  object \n",
      " 17  LATITUD             210384 non-null  object \n",
      " 18  LONGITUD            210384 non-null  object \n",
      " 19  ANGULO_ROTULACION   210384 non-null  float64\n",
      "dtypes: float64(1), int64(6), object(13)\n",
      "memory usage: 33.7+ MB\n",
      "None\n",
      "RADARES_FIJOS_vDTT.csv\n",
      "Nº\\nRADAR               0\n",
      "UBICACION               0\n",
      "CARRETARA_O_VIAL        1\n",
      "UBICACIÓN\\nCALLE_30     8\n",
      "PK                      1\n",
      "SENTIDO                 3\n",
      "TIPO                    3\n",
      "X_(WGS84)              13\n",
      "Y_(WGS84)              13\n",
      "LONGITUD                0\n",
      "LATITUD                 0\n",
      "COORDENADAS             0\n",
      "dtype: int64\n",
      "<class 'pandas.core.frame.DataFrame'>\n",
      "RangeIndex: 29 entries, 0 to 28\n",
      "Data columns (total 12 columns):\n",
      " #   Column              Non-Null Count  Dtype \n",
      "---  ------              --------------  ----- \n",
      " 0   Nº\n",
      "RADAR            29 non-null     int64 \n",
      " 1   UBICACION           29 non-null     object\n",
      " 2   CARRETARA_O_VIAL    28 non-null     object\n",
      " 3   UBICACIÓN\n",
      "CALLE_30  21 non-null     object\n",
      " 4   PK                  28 non-null     object\n",
      " 5   SENTIDO             26 non-null     object\n",
      " 6   TIPO                26 non-null     object\n",
      " 7   X_(WGS84)           16 non-null     object\n",
      " 8   Y_(WGS84)           16 non-null     object\n",
      " 9   LONGITUD            29 non-null     object\n",
      " 10  LATITUD             29 non-null     object\n",
      " 11  COORDENADAS         29 non-null     object\n",
      "dtypes: int64(1), object(11)\n",
      "memory usage: 2.8+ KB\n",
      "None\n",
      "VialesEvolucionHistorica_20231004.csv\n",
      "COD_VIA                  0\n",
      "VIA_SQC                  0\n",
      "VIA_CLASE                0\n",
      "VIA_PAR               1724\n",
      "VIA_NOMBRE               0\n",
      "VIA_NOMBRE_ACENTOS       0\n",
      "FECHA_DE_ALTA            0\n",
      "FECHA_DE_BAJA         9354\n",
      "VIA_ESTADO               0\n",
      "dtype: int64\n",
      "<class 'pandas.core.frame.DataFrame'>\n",
      "RangeIndex: 16446 entries, 0 to 16445\n",
      "Data columns (total 9 columns):\n",
      " #   Column              Non-Null Count  Dtype \n",
      "---  ------              --------------  ----- \n",
      " 0   COD_VIA             16446 non-null  int64 \n",
      " 1   VIA_SQC             16446 non-null  int64 \n",
      " 2   VIA_CLASE           16446 non-null  object\n",
      " 3   VIA_PAR             14722 non-null  object\n",
      " 4   VIA_NOMBRE          16446 non-null  object\n",
      " 5   VIA_NOMBRE_ACENTOS  16446 non-null  object\n",
      " 6   FECHA_DE_ALTA       16446 non-null  object\n",
      " 7   FECHA_DE_BAJA       7092 non-null   object\n",
      " 8   VIA_ESTADO          16446 non-null  object\n",
      "dtypes: int64(2), object(7)\n",
      "memory usage: 1.1+ MB\n",
      "None\n",
      "VialesVigentesDistritosBarrios_20231004.csv\n",
      "COD_VIA                  0\n",
      "VIA_CLASE                0\n",
      "VIA_PAR                601\n",
      "VIA_NOMBRE               0\n",
      "VIA_NOMBRE_ACENTOS       0\n",
      "DISTRITO                24\n",
      "BARRIO                  24\n",
      "IMPAR_MIN             2719\n",
      "IMPAR_MAX             2719\n",
      "PAR_MIN               2558\n",
      "PAR_MAX               2558\n",
      "dtype: int64\n",
      "<class 'pandas.core.frame.DataFrame'>\n",
      "Index: 11014 entries, 0 to 11025\n",
      "Data columns (total 11 columns):\n",
      " #   Column              Non-Null Count  Dtype  \n",
      "---  ------              --------------  -----  \n",
      " 0   COD_VIA             11014 non-null  int64  \n",
      " 1   VIA_CLASE           11014 non-null  object \n",
      " 2   VIA_PAR             10413 non-null  object \n",
      " 3   VIA_NOMBRE          11014 non-null  object \n",
      " 4   VIA_NOMBRE_ACENTOS  11014 non-null  object \n",
      " 5   DISTRITO            10990 non-null  float64\n",
      " 6   BARRIO              10990 non-null  float64\n",
      " 7   IMPAR_MIN           8295 non-null   float64\n",
      " 8   IMPAR_MAX           8295 non-null   float64\n",
      " 9   PAR_MIN             8456 non-null   float64\n",
      " 10  PAR_MAX             8456 non-null   float64\n",
      "dtypes: float64(6), int64(1), object(4)\n",
      "memory usage: 1.0+ MB\n",
      "None\n",
      "VialesVigentesDistritos_20231004.csv\n",
      "COD_VIA                  0\n",
      "VIA_CLASE                0\n",
      "VIA_PAR                472\n",
      "VIA_NOMBRE               0\n",
      "VIA_NOMBRE_ACENTOS       0\n",
      "DISTRITO                24\n",
      "IMPAR_MIN             1762\n",
      "IMPAR_MAX             1762\n",
      "PAR_MIN               1666\n",
      "PAR_MAX               1666\n",
      "dtype: int64\n",
      "<class 'pandas.core.frame.DataFrame'>\n",
      "Index: 9839 entries, 0 to 11025\n",
      "Data columns (total 10 columns):\n",
      " #   Column              Non-Null Count  Dtype  \n",
      "---  ------              --------------  -----  \n",
      " 0   COD_VIA             9839 non-null   int64  \n",
      " 1   VIA_CLASE           9839 non-null   object \n",
      " 2   VIA_PAR             9367 non-null   object \n",
      " 3   VIA_NOMBRE          9839 non-null   object \n",
      " 4   VIA_NOMBRE_ACENTOS  9839 non-null   object \n",
      " 5   DISTRITO            9815 non-null   float64\n",
      " 6   IMPAR_MIN           8077 non-null   float64\n",
      " 7   IMPAR_MAX           8077 non-null   float64\n",
      " 8   PAR_MIN             8173 non-null   float64\n",
      " 9   PAR_MAX             8173 non-null   float64\n",
      "dtypes: float64(5), int64(1), object(4)\n",
      "memory usage: 845.5+ KB\n",
      "None\n",
      "VialesVigentes_20231004.csv\n",
      "COD_VIA                      0\n",
      "VIA_CLASE                    0\n",
      "VIA_PAR                    402\n",
      "VIA_NOMBRE                   0\n",
      "VIA_NOMBRE_ACENTOS           0\n",
      "COD_VIA_COMIENZA             0\n",
      "CLASE_COMIENZA               0\n",
      "PARTICULA_COMIENZA         545\n",
      "NOMBRE_COMIENZA              0\n",
      "NOMBRE_ACENTOS_COMIENZA      0\n",
      "COD_VIA_TERMINA              0\n",
      "CLASE_TERMINA                0\n",
      "PARTICULA_TERMINA          917\n",
      "NOMBRE_TERMINA               0\n",
      "NOMBRE_ACENTOS_TERMINA       0\n",
      "dtype: int64\n",
      "<class 'pandas.core.frame.DataFrame'>\n",
      "RangeIndex: 9388 entries, 0 to 9387\n",
      "Data columns (total 15 columns):\n",
      " #   Column                   Non-Null Count  Dtype \n",
      "---  ------                   --------------  ----- \n",
      " 0   COD_VIA                  9388 non-null   int64 \n",
      " 1   VIA_CLASE                9388 non-null   object\n",
      " 2   VIA_PAR                  8986 non-null   object\n",
      " 3   VIA_NOMBRE               9388 non-null   object\n",
      " 4   VIA_NOMBRE_ACENTOS       9388 non-null   object\n",
      " 5   COD_VIA_COMIENZA         9388 non-null   int64 \n",
      " 6   CLASE_COMIENZA           9388 non-null   object\n",
      " 7   PARTICULA_COMIENZA       8843 non-null   object\n",
      " 8   NOMBRE_COMIENZA          9388 non-null   object\n",
      " 9   NOMBRE_ACENTOS_COMIENZA  9388 non-null   object\n",
      " 10  COD_VIA_TERMINA          9388 non-null   int64 \n",
      " 11  CLASE_TERMINA            9388 non-null   object\n",
      " 12  PARTICULA_TERMINA        8471 non-null   object\n",
      " 13  NOMBRE_TERMINA           9388 non-null   object\n",
      " 14  NOMBRE_ACENTOS_TERMINA   9388 non-null   object\n",
      "dtypes: int64(3), object(12)\n",
      "memory usage: 1.1+ MB\n",
      "None\n"
     ]
    }
   ],
   "source": [
    "data_loader.get_nan_columns()"
   ],
   "metadata": {
    "collapsed": false,
    "ExecuteTime": {
     "end_time": "2023-11-23T17:37:37.245613Z",
     "start_time": "2023-11-23T17:37:36.785944800Z"
    }
   },
   "id": "6f5f32ab8fbcc715"
  },
  {
   "cell_type": "markdown",
   "source": [
    "Efectivamente, se realiza sin problemas. El siguiente paso es el análisis de los datasets columna a columna para revisar qué método usar para rellenar los datos faltantes dependiendo de cada atributo.  "
   ],
   "metadata": {
    "collapsed": false
   },
   "id": "3c50537c6d13dcad"
  },
  {
   "cell_type": "markdown",
   "source": [
    "### Sustitución de valores faltantes\n",
    "Los datasets actuaciones bomberos y estaciones no tienen datos faltantes, por lo que sólo nos queda trabajar con los otros 8 datasets, que podemos observar aquí:"
   ],
   "metadata": {
    "collapsed": false
   },
   "id": "806080163c94c164"
  },
  {
   "cell_type": "code",
   "execution_count": 269,
   "outputs": [
    {
     "name": "stdout",
     "output_type": "stream",
     "text": [
      "datasets/actuacionesBomberos\n",
      "datasets/estaciones\n",
      "datasets/accidentalidad\n",
      "DireccionesEvolucionHistorica_20231004.csv\n",
      "DireccionesVigentes_20231004.csv\n",
      "RADARES_FIJOS_vDTT.csv\n",
      "VialesEvolucionHistorica_20231004.csv\n",
      "VialesVigentesDistritosBarrios_20231004.csv\n",
      "VialesVigentesDistritos_20231004.csv\n",
      "VialesVigentes_20231004.csv\n"
     ]
    }
   ],
   "source": [
    "for i in data.keys():\n",
    "    print(i)"
   ],
   "metadata": {
    "collapsed": false,
    "ExecuteTime": {
     "end_time": "2023-11-23T17:37:37.250964100Z",
     "start_time": "2023-11-23T17:37:37.246784700Z"
    }
   },
   "id": "f3082c6e4ff58ef7"
  },
  {
   "cell_type": "markdown",
   "source": [
    "Empecemos con accidentalidad: "
   ],
   "metadata": {
    "collapsed": false
   },
   "id": "861c0394be81dc0e"
  },
  {
   "cell_type": "code",
   "execution_count": 270,
   "outputs": [
    {
     "name": "stdout",
     "output_type": "stream",
     "text": [
      "NUM_EXPEDIENTE              0\n",
      "FECHA                       0\n",
      "HORA                        0\n",
      "LOCALIZACION                0\n",
      "NUMERO                      1\n",
      "COD_DISTRITO                1\n",
      "DISTRITO                    1\n",
      "TIPO_ACCIDENTE              1\n",
      "ESTADO_METEOROLÓGICO     8220\n",
      "TIPO_VEHICULO             453\n",
      "TIPO_PERSONA                0\n",
      "RANGO_EDAD                  0\n",
      "SEXO                        0\n",
      "COD_LESIVIDAD           34125\n",
      "LESIVIDAD               34125\n",
      "COORDENADA_X_UTM            1\n",
      "COORDENADA_Y_UTM            1\n",
      "POSITIVA_ALCOHOL          341\n",
      "POSITIVA_DROGA          74686\n",
      "dtype: int64\n",
      "<class 'pandas.core.frame.DataFrame'>\n",
      "Index: 74962 entries, 0 to 31157\n",
      "Data columns (total 19 columns):\n",
      " #   Column                Non-Null Count  Dtype         \n",
      "---  ------                --------------  -----         \n",
      " 0   NUM_EXPEDIENTE        74962 non-null  object        \n",
      " 1   FECHA                 74962 non-null  datetime64[ns]\n",
      " 2   HORA                  74962 non-null  object        \n",
      " 3   LOCALIZACION          74962 non-null  object        \n",
      " 4   NUMERO                74961 non-null  object        \n",
      " 5   COD_DISTRITO          74961 non-null  float64       \n",
      " 6   DISTRITO              74961 non-null  object        \n",
      " 7   TIPO_ACCIDENTE        74961 non-null  object        \n",
      " 8   ESTADO_METEOROLÓGICO  66742 non-null  object        \n",
      " 9   TIPO_VEHICULO         74509 non-null  object        \n",
      " 10  TIPO_PERSONA          74962 non-null  object        \n",
      " 11  RANGO_EDAD            74962 non-null  object        \n",
      " 12  SEXO                  74962 non-null  object        \n",
      " 13  COD_LESIVIDAD         40837 non-null  float64       \n",
      " 14  LESIVIDAD             40837 non-null  object        \n",
      " 15  COORDENADA_X_UTM      74961 non-null  object        \n",
      " 16  COORDENADA_Y_UTM      74961 non-null  object        \n",
      " 17  POSITIVA_ALCOHOL      74621 non-null  object        \n",
      " 18  POSITIVA_DROGA        276 non-null    float64       \n",
      "dtypes: datetime64[ns](1), float64(3), object(15)\n",
      "memory usage: 11.4+ MB\n",
      "None\n"
     ]
    },
    {
     "data": {
      "text/plain": "      NUM_EXPEDIENTE      FECHA      HORA  \\\n0        2022S000001 2022-01-01   1:30:00   \n1        2022S000001 2022-01-01   1:30:00   \n2        2022S000002 2022-01-01   0:30:00   \n3        2022S000002 2022-01-01   0:30:00   \n4        2022S000002 2022-01-01   0:30:00   \n...              ...        ...       ...   \n31153    2023S028337 2023-08-31  23:20:00   \n31154    2023S028341 2023-08-31  22:30:00   \n31155    2023S028341 2023-08-31  22:30:00   \n31156    2023S028352 2023-08-31  14:40:00   \n31157    2023S029136 2023-08-02  22:10:00   \n\n                                     LOCALIZACION  NUMERO  COD_DISTRITO  \\\n0                              AVDA. ALBUFERA, 19      19          13.0   \n1                              AVDA. ALBUFERA, 19      19          13.0   \n2      PLAZA. CANOVAS DEL CASTILLO / PASEO. PRADO       2           3.0   \n3      PLAZA. CANOVAS DEL CASTILLO / PASEO. PRADO       2           3.0   \n4      PLAZA. CANOVAS DEL CASTILLO / PASEO. PRADO       2           3.0   \n...                                           ...     ...           ...   \n31153                 CALL. GOLFO DE SALONICA, 12      12          16.0   \n31154                           CALLE SAN SERAPIO       1          12.0   \n31155                           CALLE SAN SERAPIO       1          12.0   \n31156                         AUTOV. M-30, 00NC06  00NC06           5.0   \n31157             AVDA. CARDENAL HERRERA ORIA, 80      80           8.0   \n\n                  DISTRITO                TIPO_ACCIDENTE ESTADO_METEOROLÓGICO  \\\n0       PUENTE DE VALLECAS                       Alcance            Despejado   \n1       PUENTE DE VALLECAS                       Alcance            Despejado   \n2                   RETIRO       Colisión fronto-lateral                  NaN   \n3                   RETIRO       Colisión fronto-lateral                  NaN   \n4                   RETIRO       Colisión fronto-lateral                  NaN   \n...                    ...                           ...                  ...   \n31153            HORTALEZA                          Otro            Despejado   \n31154                USERA                       Alcance            Despejado   \n31155                USERA                       Alcance            Despejado   \n31156            CHAMARTÍN                         Caída            Despejado   \n31157  FUENCARRAL-EL PARDO  Choque contra obstáculo fijo                  NaN   \n\n                 TIPO_VEHICULO TIPO_PERSONA       RANGO_EDAD    SEXO  \\\n0                      Turismo    Conductor  De 30 a 34 años   Mujer   \n1                      Turismo    Conductor  De 45 a 49 años  Hombre   \n2      Motocicleta hasta 125cc    Conductor  De 30 a 34 años  Hombre   \n3      Motocicleta hasta 125cc     Pasajero  De 35 a 39 años   Mujer   \n4                      Turismo    Conductor  De 40 a 44 años  Hombre   \n...                        ...          ...              ...     ...   \n31153                  Turismo     Pasajero  De 55 a 59 años   Mujer   \n31154  Motocicleta hasta 125cc    Conductor  De 30 a 34 años  Hombre   \n31155                  Turismo    Conductor  De 35 a 39 años  Hombre   \n31156  Motocicleta hasta 125cc    Conductor  De 40 a 44 años  Hombre   \n31157                  Turismo    Conductor  De 35 a 39 años  Hombre   \n\n       COD_LESIVIDAD                                          LESIVIDAD  \\\n0                NaN                                                NaN   \n1                NaN                                                NaN   \n2                NaN                                                NaN   \n3                NaN                                                NaN   \n4                NaN                                                NaN   \n...              ...                                                ...   \n31153           14.0                           Sin asistencia sanitaria   \n31154            7.0  Asistencia sanitaria sólo en el lugar del acci...   \n31155           14.0                           Sin asistencia sanitaria   \n31156            1.0        Atención en urgencias sin posterior ingreso   \n31157            NaN                                                NaN   \n\n      COORDENADA_X_UTM COORDENADA_Y_UTM POSITIVA_ALCOHOL  POSITIVA_DROGA  \n0           443359,226      4472082,272                N             NaN  \n1           443359,226      4472082,272                N             NaN  \n2           441155,351      4474129,588                S             NaN  \n3           441155,351      4474129,588                N             NaN  \n4           441155,351      4474129,588                N             NaN  \n...                ...              ...              ...             ...  \n31153       443580.365      4480912.376                N             NaN  \n31154        440795.55      4471044.789                N             NaN  \n31155        440795.55      4471044.789                N             NaN  \n31156         442825.5      4481003.193                N             NaN  \n31157       441491.437       4482518.59                N             NaN  \n\n[74962 rows x 19 columns]",
      "text/html": "<div>\n<style scoped>\n    .dataframe tbody tr th:only-of-type {\n        vertical-align: middle;\n    }\n\n    .dataframe tbody tr th {\n        vertical-align: top;\n    }\n\n    .dataframe thead th {\n        text-align: right;\n    }\n</style>\n<table border=\"1\" class=\"dataframe\">\n  <thead>\n    <tr style=\"text-align: right;\">\n      <th></th>\n      <th>NUM_EXPEDIENTE</th>\n      <th>FECHA</th>\n      <th>HORA</th>\n      <th>LOCALIZACION</th>\n      <th>NUMERO</th>\n      <th>COD_DISTRITO</th>\n      <th>DISTRITO</th>\n      <th>TIPO_ACCIDENTE</th>\n      <th>ESTADO_METEOROLÓGICO</th>\n      <th>TIPO_VEHICULO</th>\n      <th>TIPO_PERSONA</th>\n      <th>RANGO_EDAD</th>\n      <th>SEXO</th>\n      <th>COD_LESIVIDAD</th>\n      <th>LESIVIDAD</th>\n      <th>COORDENADA_X_UTM</th>\n      <th>COORDENADA_Y_UTM</th>\n      <th>POSITIVA_ALCOHOL</th>\n      <th>POSITIVA_DROGA</th>\n    </tr>\n  </thead>\n  <tbody>\n    <tr>\n      <th>0</th>\n      <td>2022S000001</td>\n      <td>2022-01-01</td>\n      <td>1:30:00</td>\n      <td>AVDA. ALBUFERA, 19</td>\n      <td>19</td>\n      <td>13.0</td>\n      <td>PUENTE DE VALLECAS</td>\n      <td>Alcance</td>\n      <td>Despejado</td>\n      <td>Turismo</td>\n      <td>Conductor</td>\n      <td>De 30 a 34 años</td>\n      <td>Mujer</td>\n      <td>NaN</td>\n      <td>NaN</td>\n      <td>443359,226</td>\n      <td>4472082,272</td>\n      <td>N</td>\n      <td>NaN</td>\n    </tr>\n    <tr>\n      <th>1</th>\n      <td>2022S000001</td>\n      <td>2022-01-01</td>\n      <td>1:30:00</td>\n      <td>AVDA. ALBUFERA, 19</td>\n      <td>19</td>\n      <td>13.0</td>\n      <td>PUENTE DE VALLECAS</td>\n      <td>Alcance</td>\n      <td>Despejado</td>\n      <td>Turismo</td>\n      <td>Conductor</td>\n      <td>De 45 a 49 años</td>\n      <td>Hombre</td>\n      <td>NaN</td>\n      <td>NaN</td>\n      <td>443359,226</td>\n      <td>4472082,272</td>\n      <td>N</td>\n      <td>NaN</td>\n    </tr>\n    <tr>\n      <th>2</th>\n      <td>2022S000002</td>\n      <td>2022-01-01</td>\n      <td>0:30:00</td>\n      <td>PLAZA. CANOVAS DEL CASTILLO / PASEO. PRADO</td>\n      <td>2</td>\n      <td>3.0</td>\n      <td>RETIRO</td>\n      <td>Colisión fronto-lateral</td>\n      <td>NaN</td>\n      <td>Motocicleta hasta 125cc</td>\n      <td>Conductor</td>\n      <td>De 30 a 34 años</td>\n      <td>Hombre</td>\n      <td>NaN</td>\n      <td>NaN</td>\n      <td>441155,351</td>\n      <td>4474129,588</td>\n      <td>S</td>\n      <td>NaN</td>\n    </tr>\n    <tr>\n      <th>3</th>\n      <td>2022S000002</td>\n      <td>2022-01-01</td>\n      <td>0:30:00</td>\n      <td>PLAZA. CANOVAS DEL CASTILLO / PASEO. PRADO</td>\n      <td>2</td>\n      <td>3.0</td>\n      <td>RETIRO</td>\n      <td>Colisión fronto-lateral</td>\n      <td>NaN</td>\n      <td>Motocicleta hasta 125cc</td>\n      <td>Pasajero</td>\n      <td>De 35 a 39 años</td>\n      <td>Mujer</td>\n      <td>NaN</td>\n      <td>NaN</td>\n      <td>441155,351</td>\n      <td>4474129,588</td>\n      <td>N</td>\n      <td>NaN</td>\n    </tr>\n    <tr>\n      <th>4</th>\n      <td>2022S000002</td>\n      <td>2022-01-01</td>\n      <td>0:30:00</td>\n      <td>PLAZA. CANOVAS DEL CASTILLO / PASEO. PRADO</td>\n      <td>2</td>\n      <td>3.0</td>\n      <td>RETIRO</td>\n      <td>Colisión fronto-lateral</td>\n      <td>NaN</td>\n      <td>Turismo</td>\n      <td>Conductor</td>\n      <td>De 40 a 44 años</td>\n      <td>Hombre</td>\n      <td>NaN</td>\n      <td>NaN</td>\n      <td>441155,351</td>\n      <td>4474129,588</td>\n      <td>N</td>\n      <td>NaN</td>\n    </tr>\n    <tr>\n      <th>...</th>\n      <td>...</td>\n      <td>...</td>\n      <td>...</td>\n      <td>...</td>\n      <td>...</td>\n      <td>...</td>\n      <td>...</td>\n      <td>...</td>\n      <td>...</td>\n      <td>...</td>\n      <td>...</td>\n      <td>...</td>\n      <td>...</td>\n      <td>...</td>\n      <td>...</td>\n      <td>...</td>\n      <td>...</td>\n      <td>...</td>\n      <td>...</td>\n    </tr>\n    <tr>\n      <th>31153</th>\n      <td>2023S028337</td>\n      <td>2023-08-31</td>\n      <td>23:20:00</td>\n      <td>CALL. GOLFO DE SALONICA, 12</td>\n      <td>12</td>\n      <td>16.0</td>\n      <td>HORTALEZA</td>\n      <td>Otro</td>\n      <td>Despejado</td>\n      <td>Turismo</td>\n      <td>Pasajero</td>\n      <td>De 55 a 59 años</td>\n      <td>Mujer</td>\n      <td>14.0</td>\n      <td>Sin asistencia sanitaria</td>\n      <td>443580.365</td>\n      <td>4480912.376</td>\n      <td>N</td>\n      <td>NaN</td>\n    </tr>\n    <tr>\n      <th>31154</th>\n      <td>2023S028341</td>\n      <td>2023-08-31</td>\n      <td>22:30:00</td>\n      <td>CALLE SAN SERAPIO</td>\n      <td>1</td>\n      <td>12.0</td>\n      <td>USERA</td>\n      <td>Alcance</td>\n      <td>Despejado</td>\n      <td>Motocicleta hasta 125cc</td>\n      <td>Conductor</td>\n      <td>De 30 a 34 años</td>\n      <td>Hombre</td>\n      <td>7.0</td>\n      <td>Asistencia sanitaria sólo en el lugar del acci...</td>\n      <td>440795.55</td>\n      <td>4471044.789</td>\n      <td>N</td>\n      <td>NaN</td>\n    </tr>\n    <tr>\n      <th>31155</th>\n      <td>2023S028341</td>\n      <td>2023-08-31</td>\n      <td>22:30:00</td>\n      <td>CALLE SAN SERAPIO</td>\n      <td>1</td>\n      <td>12.0</td>\n      <td>USERA</td>\n      <td>Alcance</td>\n      <td>Despejado</td>\n      <td>Turismo</td>\n      <td>Conductor</td>\n      <td>De 35 a 39 años</td>\n      <td>Hombre</td>\n      <td>14.0</td>\n      <td>Sin asistencia sanitaria</td>\n      <td>440795.55</td>\n      <td>4471044.789</td>\n      <td>N</td>\n      <td>NaN</td>\n    </tr>\n    <tr>\n      <th>31156</th>\n      <td>2023S028352</td>\n      <td>2023-08-31</td>\n      <td>14:40:00</td>\n      <td>AUTOV. M-30, 00NC06</td>\n      <td>00NC06</td>\n      <td>5.0</td>\n      <td>CHAMARTÍN</td>\n      <td>Caída</td>\n      <td>Despejado</td>\n      <td>Motocicleta hasta 125cc</td>\n      <td>Conductor</td>\n      <td>De 40 a 44 años</td>\n      <td>Hombre</td>\n      <td>1.0</td>\n      <td>Atención en urgencias sin posterior ingreso</td>\n      <td>442825.5</td>\n      <td>4481003.193</td>\n      <td>N</td>\n      <td>NaN</td>\n    </tr>\n    <tr>\n      <th>31157</th>\n      <td>2023S029136</td>\n      <td>2023-08-02</td>\n      <td>22:10:00</td>\n      <td>AVDA. CARDENAL HERRERA ORIA, 80</td>\n      <td>80</td>\n      <td>8.0</td>\n      <td>FUENCARRAL-EL PARDO</td>\n      <td>Choque contra obstáculo fijo</td>\n      <td>NaN</td>\n      <td>Turismo</td>\n      <td>Conductor</td>\n      <td>De 35 a 39 años</td>\n      <td>Hombre</td>\n      <td>NaN</td>\n      <td>NaN</td>\n      <td>441491.437</td>\n      <td>4482518.59</td>\n      <td>N</td>\n      <td>NaN</td>\n    </tr>\n  </tbody>\n</table>\n<p>74962 rows × 19 columns</p>\n</div>"
     },
     "execution_count": 270,
     "metadata": {},
     "output_type": "execute_result"
    }
   ],
   "source": [
    "data_loader.get_info('datasets/accidentalidad')\n",
    "data_loader.data['datasets/accidentalidad']"
   ],
   "metadata": {
    "collapsed": false,
    "ExecuteTime": {
     "end_time": "2023-11-23T17:37:37.355327Z",
     "start_time": "2023-11-23T17:37:37.252204100Z"
    }
   },
   "id": "587e7d49e462e29"
  },
  {
   "cell_type": "markdown",
   "source": [
    "Hay algunos datos faltantes que tiene sentido que lo sean, y podemos sustituir por un buzzword de algún tipo que nos haga saber que se trate de esto, como lo es que en un accidente en el que no se han producido lesiones, la lesividad sea nula y tampoco haya código de la misma, y como ambas cifras coinciden, es lógico pensar que se trata de las mismas situaciones. Podemos sustituir entonces todos los NaNs de Lesividad faltantes por 'Sin asistencia sanitaria' y el código por -1.0."
   ],
   "metadata": {
    "collapsed": false
   },
   "id": "34a3185975249614"
  },
  {
   "cell_type": "code",
   "execution_count": 271,
   "outputs": [],
   "source": [
    "data_loader.data['datasets/accidentalidad']['LESIVIDAD'] = data_loader.data['datasets/accidentalidad']['LESIVIDAD'].fillna('Sin asistencia sanitaria')\n",
    "data_loader.data['datasets/accidentalidad']['COD_LESIVIDAD'] = data_loader.data['datasets/accidentalidad']['COD_LESIVIDAD'].fillna(-1.0)"
   ],
   "metadata": {
    "collapsed": false,
    "ExecuteTime": {
     "end_time": "2023-11-23T17:37:37.356322800Z",
     "start_time": "2023-11-23T17:37:37.324837800Z"
    }
   },
   "id": "faf483fcbbf34051"
  },
  {
   "cell_type": "markdown",
   "source": [
    "Por otro lado, positivo en droga tiene valor sólo si daba positivo, por lo que rellenar los valores faltantes con 0 es lo más lógico (siendo 0 negativo en droga). "
   ],
   "metadata": {
    "collapsed": false
   },
   "id": "2d6a142e6af20ddc"
  },
  {
   "cell_type": "code",
   "execution_count": 272,
   "outputs": [],
   "source": [
    "data_loader.data['datasets/accidentalidad']['POSITIVA_DROGA'] = data_loader.data['datasets/accidentalidad']['POSITIVA_DROGA'].fillna(0)"
   ],
   "metadata": {
    "collapsed": false,
    "ExecuteTime": {
     "end_time": "2023-11-23T17:37:37.357684400Z",
     "start_time": "2023-11-23T17:37:37.335383Z"
    }
   },
   "id": "6f0770e842c6602b"
  },
  {
   "cell_type": "markdown",
   "source": [
    "Número, código de distrito, tipo de accidente, coordenadas (x e y), son atributos a los que sólo les falta un dato cada uno, por lo que no es representativo esta falta de datos y podemos rellenarlos con el valor más habitual. "
   ],
   "metadata": {
    "collapsed": false
   },
   "id": "cfef480eb314978e"
  },
  {
   "cell_type": "code",
   "execution_count": 273,
   "outputs": [],
   "source": [
    "numero = data_loader.data['datasets/accidentalidad']['COD_DISTRITO'].mode().iat[0]\n",
    "codDistrito = data_loader.data['datasets/accidentalidad']['COD_DISTRITO'].mode().iat[0]\n",
    "distrito = data_loader.data['datasets/accidentalidad']['COD_DISTRITO'].mode().iat[0]\n",
    "accidente = data_loader.data['datasets/accidentalidad']['COD_DISTRITO'].mode().iat[0]\n",
    "coorX = data_loader.data['datasets/accidentalidad']['COD_DISTRITO'].mode().iat[0]\n",
    "coorY = data_loader.data['datasets/accidentalidad']['COD_DISTRITO'].mode().iat[0]\n",
    "\n",
    "\n",
    "data_loader.data['datasets/accidentalidad']['NUMERO'] = data_loader.data['datasets/accidentalidad']['NUMERO'].fillna(numero)\n",
    "data_loader.data['datasets/accidentalidad']['COD_DISTRITO'] = data_loader.data['datasets/accidentalidad']['COD_DISTRITO'].fillna(codDistrito)\n",
    "data_loader.data['datasets/accidentalidad']['DISTRITO'] = data_loader.data['datasets/accidentalidad']['DISTRITO'].fillna(distrito)\n",
    "data_loader.data['datasets/accidentalidad']['TIPO_ACCIDENTE'] = data_loader.data['datasets/accidentalidad']['TIPO_ACCIDENTE'].fillna(accidente)\n",
    "data_loader.data['datasets/accidentalidad']['COORDENADA_X_UTM'] = data_loader.data['datasets/accidentalidad']['COORDENADA_X_UTM'].fillna(coorX)\n",
    "data_loader.data['datasets/accidentalidad']['COORDENADA_Y_UTM'] = data_loader.data['datasets/accidentalidad']['COORDENADA_Y_UTM'].fillna(coorY)\n"
   ],
   "metadata": {
    "collapsed": false,
    "ExecuteTime": {
     "end_time": "2023-11-23T17:37:37.435019700Z",
     "start_time": "2023-11-23T17:37:37.340749600Z"
    }
   },
   "id": "523ced2bbb542e56"
  },
  {
   "cell_type": "markdown",
   "source": [
    "Por último, donde queda dilema es en positivo alcohol, tipo de vehículo y estado meteorológico. En esta situación, lo más apropiado es ver si, relacionando estos atributos con algún otro, es más probable que los atributos valgan uno u otro valor.\n",
    "\n",
    "- Estado meteorológico. Hay 7 valores posibles: despejado, lluvia débil, lluvia intensa, granizando, nevando, nublado, se desconoce. Aquí, por lo tanto, hay 3 vías de actuación:\n",
    "    - Rellenar con \"se desconoce\", i.e.: ser fieles a lo que se sabe, reducir la proporción de datos artificiales (hay un 11% de datos faltantes), solución sencilla.\n",
    "    - Rellenar con el valor más frecuente: despejado (representa el 75% de los datos), i.e.: solución con datos artificiales más sencilla.\n",
    "    - Rellenar con valores aleatorios según la proporción en la que aparecen los datos, i.e.: el 75% de los datos faltantes se rellenan arbitrariamente con \"Despejado\".\n",
    "\n",
    "    Lo que mejor preserva los datos es, rellenar con \"se desconoce\", pues la variable existe previamente."
   ],
   "metadata": {
    "collapsed": false
   },
   "id": "c1ffcefbaed71bb7"
  },
  {
   "cell_type": "code",
   "execution_count": 274,
   "outputs": [],
   "source": [
    "data_loader.data['datasets/accidentalidad']['ESTADO_METEOROLÓGICO'] = data_loader.data['datasets/accidentalidad']['ESTADO_METEOROLÓGICO'].fillna('Se desconoce')"
   ],
   "metadata": {
    "collapsed": false,
    "ExecuteTime": {
     "end_time": "2023-11-23T17:37:37.449705100Z",
     "start_time": "2023-11-23T17:37:37.380705200Z"
    }
   },
   "id": "b19e895537b3fefc"
  },
  {
   "cell_type": "markdown",
   "source": [
    "- Tipo de vehículo. Hay 34 valores posibles: Ambulancia SAMUR, autobús EMT, autobús, autobús articulado, autobús articulado EMT, autocaravana, bicicleta, bicicleta EPAC (pedaleo asistido), camión de bomberos, camión rígido, ciclo, ciclomotor, ciclomotor de dos ruedas L1e-B, cuadriciclo ligero, cuadriciclo no ligero, furgoneta, maquinaria de obras, microbús <= 17 plazas, moto de tres ruedas > 125cc, moto de tres ruedas hasta 125cc, motocicleta > 125cc, motocicleta hasta 125cc, otros vehículos con motor, otros vehículos sin motor, patinete no eléctrico, remolque, semirremolque, sin especificar, todo terreno, tractocamión, tren/metro, turismo (68%), VMU eléctrico, vehículo articulado. En esta variable hay 0.6% de valores faltantes, lo cual no es significativo, i.e.: la sustitución que elijamos tendrá menos repercusión en el estudio final. Aquí, por lo tanto, hay 2 vías de actuación:\n",
    "    - Rellenar con \"sin especificar\", i.e.: solución sencilla y descriptiva pero que puede dar lugar a interpretaciones erróneas, pues puede haber sido otro tipo de vehículo que no se había registrado.\n",
    "    - Rellenar con el valor más probable según otro atributo (por ejemplo, código de lesividad).\n",
    "    \n",
    "    La solución más apropiada es rellenar con el valor más probable según código de lesividad, por lo que vamos a ver primero cómo se relacionan ambos atributos y después rellenaremos los valores faltantes con el valor más probable."
   ],
   "metadata": {
    "collapsed": false
   },
   "id": "a1c3ed47a75517d2"
  },
  {
   "cell_type": "code",
   "execution_count": 275,
   "outputs": [],
   "source": [
    "data_loader.data['datasets/accidentalidad']['TIPO_VEHICULO'] = data_loader.data['datasets/accidentalidad']['TIPO_VEHICULO'].fillna(data_loader.data['datasets/accidentalidad'].groupby('COD_LESIVIDAD')['TIPO_VEHICULO'].transform(lambda x:x.mode().iat[0]))"
   ],
   "metadata": {
    "collapsed": false,
    "ExecuteTime": {
     "end_time": "2023-11-23T17:37:37.481772Z",
     "start_time": "2023-11-23T17:37:37.393094100Z"
    }
   },
   "id": "7cab20107357cf63"
  },
  {
   "cell_type": "code",
   "execution_count": 276,
   "outputs": [
    {
     "name": "stdout",
     "output_type": "stream",
     "text": [
      "NUM_EXPEDIENTE            0\n",
      "FECHA                     0\n",
      "HORA                      0\n",
      "LOCALIZACION              0\n",
      "NUMERO                    0\n",
      "COD_DISTRITO              0\n",
      "DISTRITO                  0\n",
      "TIPO_ACCIDENTE            0\n",
      "ESTADO_METEOROLÓGICO      0\n",
      "TIPO_VEHICULO             0\n",
      "TIPO_PERSONA              0\n",
      "RANGO_EDAD                0\n",
      "SEXO                      0\n",
      "COD_LESIVIDAD             0\n",
      "LESIVIDAD                 0\n",
      "COORDENADA_X_UTM          0\n",
      "COORDENADA_Y_UTM          0\n",
      "POSITIVA_ALCOHOL        341\n",
      "POSITIVA_DROGA            0\n",
      "dtype: int64\n",
      "<class 'pandas.core.frame.DataFrame'>\n",
      "Index: 74962 entries, 0 to 31157\n",
      "Data columns (total 19 columns):\n",
      " #   Column                Non-Null Count  Dtype         \n",
      "---  ------                --------------  -----         \n",
      " 0   NUM_EXPEDIENTE        74962 non-null  object        \n",
      " 1   FECHA                 74962 non-null  datetime64[ns]\n",
      " 2   HORA                  74962 non-null  object        \n",
      " 3   LOCALIZACION          74962 non-null  object        \n",
      " 4   NUMERO                74962 non-null  object        \n",
      " 5   COD_DISTRITO          74962 non-null  float64       \n",
      " 6   DISTRITO              74962 non-null  object        \n",
      " 7   TIPO_ACCIDENTE        74962 non-null  object        \n",
      " 8   ESTADO_METEOROLÓGICO  74962 non-null  object        \n",
      " 9   TIPO_VEHICULO         74962 non-null  object        \n",
      " 10  TIPO_PERSONA          74962 non-null  object        \n",
      " 11  RANGO_EDAD            74962 non-null  object        \n",
      " 12  SEXO                  74962 non-null  object        \n",
      " 13  COD_LESIVIDAD         74962 non-null  float64       \n",
      " 14  LESIVIDAD             74962 non-null  object        \n",
      " 15  COORDENADA_X_UTM      74962 non-null  object        \n",
      " 16  COORDENADA_Y_UTM      74962 non-null  object        \n",
      " 17  POSITIVA_ALCOHOL      74621 non-null  object        \n",
      " 18  POSITIVA_DROGA        74962 non-null  float64       \n",
      "dtypes: datetime64[ns](1), float64(3), object(15)\n",
      "memory usage: 11.4+ MB\n",
      "None\n"
     ]
    }
   ],
   "source": [
    "data_loader.get_info('datasets/accidentalidad')"
   ],
   "metadata": {
    "collapsed": false,
    "ExecuteTime": {
     "end_time": "2023-11-23T17:37:37.594174Z",
     "start_time": "2023-11-23T17:37:37.419113Z"
    }
   },
   "id": "c790703d72ed5412"
  },
  {
   "cell_type": "markdown",
   "source": [
    "Como podemos comprobar, no quedan datos faltantes. Pasamos a Actuaciones Bomberos:"
   ],
   "metadata": {
    "collapsed": false
   },
   "id": "4f8ee4fcf06fd0e"
  },
  {
   "cell_type": "code",
   "execution_count": 277,
   "outputs": [
    {
     "name": "stdout",
     "output_type": "stream",
     "text": [
      "AÑO                         0\n",
      "MES                         0\n",
      "DISTRITO                    0\n",
      "FUEGOS                      0\n",
      "DAÑOS_EN_CONSTRUCCION       0\n",
      "SALVAMENTOS_Y_RESCATES      0\n",
      "DAÑOS_POR_AGUA              0\n",
      "INCIDENTES_DIVERSOS         0\n",
      "SALIDAS_SIN_INTERVENCION    0\n",
      "SERVICIOS_VARIOS            0\n",
      "TOTAL                       0\n",
      "dtype: int64\n",
      "<class 'pandas.core.frame.DataFrame'>\n",
      "Index: 439 entries, 0 to 175\n",
      "Data columns (total 11 columns):\n",
      " #   Column                    Non-Null Count  Dtype \n",
      "---  ------                    --------------  ----- \n",
      " 0   AÑO                       439 non-null    int64 \n",
      " 1   MES                       439 non-null    object\n",
      " 2   DISTRITO                  439 non-null    object\n",
      " 3   FUEGOS                    439 non-null    int64 \n",
      " 4   DAÑOS_EN_CONSTRUCCION     439 non-null    int64 \n",
      " 5   SALVAMENTOS_Y_RESCATES    439 non-null    int64 \n",
      " 6   DAÑOS_POR_AGUA            439 non-null    int64 \n",
      " 7   INCIDENTES_DIVERSOS       439 non-null    int64 \n",
      " 8   SALIDAS_SIN_INTERVENCION  439 non-null    int64 \n",
      " 9   SERVICIOS_VARIOS          439 non-null    int64 \n",
      " 10  TOTAL                     439 non-null    int64 \n",
      "dtypes: int64(9), object(2)\n",
      "memory usage: 41.2+ KB\n",
      "None\n"
     ]
    }
   ],
   "source": [
    "data_loader.get_info('datasets/actuacionesBomberos')"
   ],
   "metadata": {
    "collapsed": false,
    "ExecuteTime": {
     "end_time": "2023-11-23T17:37:37.596255400Z",
     "start_time": "2023-11-23T17:37:37.478222800Z"
    }
   },
   "id": "7ac790cf4043dacd"
  },
  {
   "cell_type": "markdown",
   "source": [
    "Este dataset no tiene datos faltantes, pasamos al siguiente. Estaciones:"
   ],
   "metadata": {
    "collapsed": false
   },
   "id": "15497bda9537b85"
  },
  {
   "cell_type": "code",
   "execution_count": 278,
   "outputs": [
    {
     "name": "stdout",
     "output_type": "stream",
     "text": [
      "FDIA     0\n",
      "FEST     0\n",
      "FSEN     0\n",
      "HOR1     0\n",
      "HOR2     0\n",
      "HOR3     0\n",
      "HOR4     0\n",
      "HOR5     0\n",
      "HOR6     0\n",
      "HOR7     0\n",
      "HOR8     0\n",
      "HOR9     0\n",
      "HOR10    0\n",
      "HOR11    0\n",
      "HOR12    0\n",
      "dtype: int64\n",
      "<class 'pandas.core.frame.DataFrame'>\n",
      "Index: 86140 entries, 0 to 7079\n",
      "Data columns (total 15 columns):\n",
      " #   Column  Non-Null Count  Dtype  \n",
      "---  ------  --------------  -----  \n",
      " 0   FDIA    86140 non-null  object \n",
      " 1   FEST    86140 non-null  object \n",
      " 2   FSEN    86140 non-null  object \n",
      " 3   HOR1    86140 non-null  float64\n",
      " 4   HOR2    86140 non-null  float64\n",
      " 5   HOR3    86140 non-null  float64\n",
      " 6   HOR4    86140 non-null  float64\n",
      " 7   HOR5    86140 non-null  float64\n",
      " 8   HOR6    86140 non-null  float64\n",
      " 9   HOR7    86140 non-null  float64\n",
      " 10  HOR8    86140 non-null  float64\n",
      " 11  HOR9    86140 non-null  float64\n",
      " 12  HOR10   86140 non-null  float64\n",
      " 13  HOR11   86140 non-null  float64\n",
      " 14  HOR12   86140 non-null  float64\n",
      "dtypes: float64(12), object(3)\n",
      "memory usage: 10.5+ MB\n",
      "None\n"
     ]
    }
   ],
   "source": [
    "data_loader.get_info('datasets/estaciones')"
   ],
   "metadata": {
    "collapsed": false,
    "ExecuteTime": {
     "end_time": "2023-11-23T17:37:37.596255400Z",
     "start_time": "2023-11-23T17:37:37.485473300Z"
    }
   },
   "id": "f00a27c56abd08bc"
  },
  {
   "cell_type": "markdown",
   "source": [
    "Este dataset tampoco tiene datos faltantes. Pasamos a la evolución histórica de las direcciones:"
   ],
   "metadata": {
    "collapsed": false
   },
   "id": "c59a84bcb078339c"
  },
  {
   "cell_type": "code",
   "execution_count": 279,
   "outputs": [
    {
     "name": "stdout",
     "output_type": "stream",
     "text": [
      "COD_VIA                    0\n",
      "VIA_SQC               371584\n",
      "VIA_CLASE                  0\n",
      "VIA_PAR                17997\n",
      "VIA_NOMBRE                 0\n",
      "VIA_NOMBRE_ACENTOS         0\n",
      "COD_NDP                    0\n",
      "CLASE_NDP                  0\n",
      "NÚMERO                     0\n",
      "CALIFICADOR           322826\n",
      "FECHA_DE_ALTA              0\n",
      "FECHA_DE_BAJA         211657\n",
      "TIPO_NDP               16248\n",
      "UTMX_ED                    0\n",
      "UTMY_ED                    0\n",
      "UTMX_ETRS                  0\n",
      "UTMY_ETRS                  0\n",
      "LATITUD                    0\n",
      "LONGITUD                   0\n",
      "ANGULO_ROTULACION          0\n",
      "dtype: int64\n",
      "<class 'pandas.core.frame.DataFrame'>\n",
      "RangeIndex: 371584 entries, 0 to 371583\n",
      "Data columns (total 20 columns):\n",
      " #   Column              Non-Null Count   Dtype  \n",
      "---  ------              --------------   -----  \n",
      " 0   COD_VIA             371584 non-null  int64  \n",
      " 1   VIA_SQC             0 non-null       float64\n",
      " 2   VIA_CLASE           371584 non-null  object \n",
      " 3   VIA_PAR             353587 non-null  object \n",
      " 4   VIA_NOMBRE          371584 non-null  object \n",
      " 5   VIA_NOMBRE_ACENTOS  371584 non-null  object \n",
      " 6   COD_NDP             371584 non-null  int64  \n",
      " 7   CLASE_NDP           371584 non-null  object \n",
      " 8   NÚMERO              371584 non-null  int64  \n",
      " 9   CALIFICADOR         48758 non-null   object \n",
      " 10  FECHA_DE_ALTA       371584 non-null  object \n",
      " 11  FECHA_DE_BAJA       159927 non-null  object \n",
      " 12  TIPO_NDP            355336 non-null  object \n",
      " 13  UTMX_ED             371584 non-null  object \n",
      " 14  UTMY_ED             371584 non-null  object \n",
      " 15  UTMX_ETRS           371584 non-null  object \n",
      " 16  UTMY_ETRS           371584 non-null  object \n",
      " 17  LATITUD             371584 non-null  object \n",
      " 18  LONGITUD            371584 non-null  object \n",
      " 19  ANGULO_ROTULACION   371584 non-null  object \n",
      "dtypes: float64(1), int64(3), object(16)\n",
      "memory usage: 56.7+ MB\n",
      "None\n"
     ]
    }
   ],
   "source": [
    "data_loader.get_info('DireccionesEvolucionHistorica_20231004.csv')"
   ],
   "metadata": {
    "collapsed": false,
    "ExecuteTime": {
     "end_time": "2023-11-23T17:37:37.814481300Z",
     "start_time": "2023-11-23T17:37:37.506723700Z"
    }
   },
   "id": "2eba0393162bfffc"
  },
  {
   "cell_type": "markdown",
   "source": [
    "Como podemos observar, faltan datos de las columnas VIA_SQC (secuencia de la denominación), con 371584 NaNs; VIA_PAR (partícula de la denominación), con 17997; CALIFICADOR (del número de la policía), con 322826; FECHA_DE_BAJA (de la dirección), con 211657; y TIPO_NDP (tipo de número: portal, garaje, fachada, etc.) con 16248."
   ],
   "metadata": {
    "collapsed": false
   },
   "id": "71335ecc8091c383"
  },
  {
   "cell_type": "code",
   "execution_count": 280,
   "outputs": [
    {
     "data": {
      "text/plain": "         COD_VIA  VIA_SQC VIA_CLASE VIA_PAR            VIA_NOMBRE  \\\n0            127      NaN     CALLE      DE       ISABEL COLBRAND   \n1            127      NaN     CALLE      DE       ISABEL COLBRAND   \n2            127      NaN     CALLE      DE       ISABEL COLBRAND   \n3            127      NaN     CALLE      DE       ISABEL COLBRAND   \n4            127      NaN     CALLE      DE       ISABEL COLBRAND   \n...          ...      ...       ...     ...                   ...   \n371579  31006109      NaN     LUGAR     NaN  CAÑADA REAL SECTOR 6   \n371580  31006109      NaN     LUGAR     NaN  CAÑADA REAL SECTOR 6   \n371581  31006109      NaN     LUGAR     NaN  CAÑADA REAL SECTOR 6   \n371582  31006109      NaN     LUGAR     NaN  CAÑADA REAL SECTOR 6   \n371583  31006109      NaN     LUGAR     NaN  CAÑADA REAL SECTOR 6   \n\n          VIA_NOMBRE_ACENTOS   COD_NDP CLASE_NDP  NÚMERO CALIFICADOR  \\\n0            ISABEL COLBRAND  11049663    NUMERO       2           B   \n1            ISABEL COLBRAND  11049663    NUMERO       2         NaN   \n2            ISABEL COLBRAND  11049664    NUMERO       4         NaN   \n3            ISABEL COLBRAND  20057084    NUMERO      14         NaN   \n4            ISABEL COLBRAND  20057087    NUMERO      16           A   \n...                      ...       ...       ...     ...         ...   \n371579  CAÑADA REAL SECTOR 6  31071343    NUMERO     197           B   \n371580  CAÑADA REAL SECTOR 6  31071344    NUMERO     207         NaN   \n371581  CAÑADA REAL SECTOR 6  31071345    NUMERO     211         NaN   \n371582  CAÑADA REAL SECTOR 6  31071346    NUMERO     213         NaN   \n371583  CAÑADA REAL SECTOR 6  31071422    NUMERO       3           E   \n\n       FECHA_DE_ALTA FECHA_DE_BAJA TIPO_NDP    UTMX_ED     UTMY_ED  UTMX_ETRS  \\\n0         13/10/1992           NaN   PORTAL  443214,74  4485347,45  443105,38   \n1         01/01/1991    13/10/1992   PORTAL  443214,74  4485347,45  443105,38   \n2         01/01/1991           NaN   PORTAL  443212,21  4485305,01  443102,86   \n3         13/10/1992           NaN  PARCELA  442858,75  4484933,55  442749,39   \n4         06/11/1998           NaN   PORTAL  442750,17  4484945,03  442640,81   \n...              ...           ...      ...        ...         ...        ...   \n371579    12/07/2023           NaN   PORTAL         -1          -1   447989,3   \n371580    12/07/2023           NaN   PORTAL  447926,45  4463659,51  447816,87   \n371581    12/07/2023           NaN   PORTAL  447806,87  4463509,48  447697,29   \n371582    12/07/2023           NaN   PORTAL  447757,71  4463417,13  447648,14   \n371583    29/08/2023           NaN  PARCELA   452003,8  4467480,57  451894,26   \n\n         UTMY_ETRS          LATITUD        LONGITUD ANGULO_ROTULACION  \n0       4485139,98  40°30'54.12'' N  3°40'17.75'' W             85,86  \n1       4485139,98  40°30'54.12'' N  3°40'17.75'' W             85,86  \n2       4485097,54  40°30'52.74'' N  3°40'17.85'' W             86,29  \n3       4484726,08  40°30'40.61'' N  3°40'32.75'' W             27,04  \n4       4484737,56  40°30'40.95'' N  3°40'37.36'' W             16,81  \n...            ...              ...             ...               ...  \n371579  4463631,36  40°19'17.72'' N  3°36'43.89'' W             63,07  \n371580  4463451,88  40°19'11.86'' N  3°36'51.14'' W             52,82  \n371581  4463301,85   40°19'6.97'' N  3°36'56.17'' W             69,89  \n371582   4463209,5   40°19'3.97'' N  3°36'58.22'' W             53,82  \n371583  4467272,88  40°21'16.67'' N  3°33'59.42'' W             46,71  \n\n[371584 rows x 20 columns]",
      "text/html": "<div>\n<style scoped>\n    .dataframe tbody tr th:only-of-type {\n        vertical-align: middle;\n    }\n\n    .dataframe tbody tr th {\n        vertical-align: top;\n    }\n\n    .dataframe thead th {\n        text-align: right;\n    }\n</style>\n<table border=\"1\" class=\"dataframe\">\n  <thead>\n    <tr style=\"text-align: right;\">\n      <th></th>\n      <th>COD_VIA</th>\n      <th>VIA_SQC</th>\n      <th>VIA_CLASE</th>\n      <th>VIA_PAR</th>\n      <th>VIA_NOMBRE</th>\n      <th>VIA_NOMBRE_ACENTOS</th>\n      <th>COD_NDP</th>\n      <th>CLASE_NDP</th>\n      <th>NÚMERO</th>\n      <th>CALIFICADOR</th>\n      <th>FECHA_DE_ALTA</th>\n      <th>FECHA_DE_BAJA</th>\n      <th>TIPO_NDP</th>\n      <th>UTMX_ED</th>\n      <th>UTMY_ED</th>\n      <th>UTMX_ETRS</th>\n      <th>UTMY_ETRS</th>\n      <th>LATITUD</th>\n      <th>LONGITUD</th>\n      <th>ANGULO_ROTULACION</th>\n    </tr>\n  </thead>\n  <tbody>\n    <tr>\n      <th>0</th>\n      <td>127</td>\n      <td>NaN</td>\n      <td>CALLE</td>\n      <td>DE</td>\n      <td>ISABEL COLBRAND</td>\n      <td>ISABEL COLBRAND</td>\n      <td>11049663</td>\n      <td>NUMERO</td>\n      <td>2</td>\n      <td>B</td>\n      <td>13/10/1992</td>\n      <td>NaN</td>\n      <td>PORTAL</td>\n      <td>443214,74</td>\n      <td>4485347,45</td>\n      <td>443105,38</td>\n      <td>4485139,98</td>\n      <td>40°30'54.12'' N</td>\n      <td>3°40'17.75'' W</td>\n      <td>85,86</td>\n    </tr>\n    <tr>\n      <th>1</th>\n      <td>127</td>\n      <td>NaN</td>\n      <td>CALLE</td>\n      <td>DE</td>\n      <td>ISABEL COLBRAND</td>\n      <td>ISABEL COLBRAND</td>\n      <td>11049663</td>\n      <td>NUMERO</td>\n      <td>2</td>\n      <td>NaN</td>\n      <td>01/01/1991</td>\n      <td>13/10/1992</td>\n      <td>PORTAL</td>\n      <td>443214,74</td>\n      <td>4485347,45</td>\n      <td>443105,38</td>\n      <td>4485139,98</td>\n      <td>40°30'54.12'' N</td>\n      <td>3°40'17.75'' W</td>\n      <td>85,86</td>\n    </tr>\n    <tr>\n      <th>2</th>\n      <td>127</td>\n      <td>NaN</td>\n      <td>CALLE</td>\n      <td>DE</td>\n      <td>ISABEL COLBRAND</td>\n      <td>ISABEL COLBRAND</td>\n      <td>11049664</td>\n      <td>NUMERO</td>\n      <td>4</td>\n      <td>NaN</td>\n      <td>01/01/1991</td>\n      <td>NaN</td>\n      <td>PORTAL</td>\n      <td>443212,21</td>\n      <td>4485305,01</td>\n      <td>443102,86</td>\n      <td>4485097,54</td>\n      <td>40°30'52.74'' N</td>\n      <td>3°40'17.85'' W</td>\n      <td>86,29</td>\n    </tr>\n    <tr>\n      <th>3</th>\n      <td>127</td>\n      <td>NaN</td>\n      <td>CALLE</td>\n      <td>DE</td>\n      <td>ISABEL COLBRAND</td>\n      <td>ISABEL COLBRAND</td>\n      <td>20057084</td>\n      <td>NUMERO</td>\n      <td>14</td>\n      <td>NaN</td>\n      <td>13/10/1992</td>\n      <td>NaN</td>\n      <td>PARCELA</td>\n      <td>442858,75</td>\n      <td>4484933,55</td>\n      <td>442749,39</td>\n      <td>4484726,08</td>\n      <td>40°30'40.61'' N</td>\n      <td>3°40'32.75'' W</td>\n      <td>27,04</td>\n    </tr>\n    <tr>\n      <th>4</th>\n      <td>127</td>\n      <td>NaN</td>\n      <td>CALLE</td>\n      <td>DE</td>\n      <td>ISABEL COLBRAND</td>\n      <td>ISABEL COLBRAND</td>\n      <td>20057087</td>\n      <td>NUMERO</td>\n      <td>16</td>\n      <td>A</td>\n      <td>06/11/1998</td>\n      <td>NaN</td>\n      <td>PORTAL</td>\n      <td>442750,17</td>\n      <td>4484945,03</td>\n      <td>442640,81</td>\n      <td>4484737,56</td>\n      <td>40°30'40.95'' N</td>\n      <td>3°40'37.36'' W</td>\n      <td>16,81</td>\n    </tr>\n    <tr>\n      <th>...</th>\n      <td>...</td>\n      <td>...</td>\n      <td>...</td>\n      <td>...</td>\n      <td>...</td>\n      <td>...</td>\n      <td>...</td>\n      <td>...</td>\n      <td>...</td>\n      <td>...</td>\n      <td>...</td>\n      <td>...</td>\n      <td>...</td>\n      <td>...</td>\n      <td>...</td>\n      <td>...</td>\n      <td>...</td>\n      <td>...</td>\n      <td>...</td>\n      <td>...</td>\n    </tr>\n    <tr>\n      <th>371579</th>\n      <td>31006109</td>\n      <td>NaN</td>\n      <td>LUGAR</td>\n      <td>NaN</td>\n      <td>CAÑADA REAL SECTOR 6</td>\n      <td>CAÑADA REAL SECTOR 6</td>\n      <td>31071343</td>\n      <td>NUMERO</td>\n      <td>197</td>\n      <td>B</td>\n      <td>12/07/2023</td>\n      <td>NaN</td>\n      <td>PORTAL</td>\n      <td>-1</td>\n      <td>-1</td>\n      <td>447989,3</td>\n      <td>4463631,36</td>\n      <td>40°19'17.72'' N</td>\n      <td>3°36'43.89'' W</td>\n      <td>63,07</td>\n    </tr>\n    <tr>\n      <th>371580</th>\n      <td>31006109</td>\n      <td>NaN</td>\n      <td>LUGAR</td>\n      <td>NaN</td>\n      <td>CAÑADA REAL SECTOR 6</td>\n      <td>CAÑADA REAL SECTOR 6</td>\n      <td>31071344</td>\n      <td>NUMERO</td>\n      <td>207</td>\n      <td>NaN</td>\n      <td>12/07/2023</td>\n      <td>NaN</td>\n      <td>PORTAL</td>\n      <td>447926,45</td>\n      <td>4463659,51</td>\n      <td>447816,87</td>\n      <td>4463451,88</td>\n      <td>40°19'11.86'' N</td>\n      <td>3°36'51.14'' W</td>\n      <td>52,82</td>\n    </tr>\n    <tr>\n      <th>371581</th>\n      <td>31006109</td>\n      <td>NaN</td>\n      <td>LUGAR</td>\n      <td>NaN</td>\n      <td>CAÑADA REAL SECTOR 6</td>\n      <td>CAÑADA REAL SECTOR 6</td>\n      <td>31071345</td>\n      <td>NUMERO</td>\n      <td>211</td>\n      <td>NaN</td>\n      <td>12/07/2023</td>\n      <td>NaN</td>\n      <td>PORTAL</td>\n      <td>447806,87</td>\n      <td>4463509,48</td>\n      <td>447697,29</td>\n      <td>4463301,85</td>\n      <td>40°19'6.97'' N</td>\n      <td>3°36'56.17'' W</td>\n      <td>69,89</td>\n    </tr>\n    <tr>\n      <th>371582</th>\n      <td>31006109</td>\n      <td>NaN</td>\n      <td>LUGAR</td>\n      <td>NaN</td>\n      <td>CAÑADA REAL SECTOR 6</td>\n      <td>CAÑADA REAL SECTOR 6</td>\n      <td>31071346</td>\n      <td>NUMERO</td>\n      <td>213</td>\n      <td>NaN</td>\n      <td>12/07/2023</td>\n      <td>NaN</td>\n      <td>PORTAL</td>\n      <td>447757,71</td>\n      <td>4463417,13</td>\n      <td>447648,14</td>\n      <td>4463209,5</td>\n      <td>40°19'3.97'' N</td>\n      <td>3°36'58.22'' W</td>\n      <td>53,82</td>\n    </tr>\n    <tr>\n      <th>371583</th>\n      <td>31006109</td>\n      <td>NaN</td>\n      <td>LUGAR</td>\n      <td>NaN</td>\n      <td>CAÑADA REAL SECTOR 6</td>\n      <td>CAÑADA REAL SECTOR 6</td>\n      <td>31071422</td>\n      <td>NUMERO</td>\n      <td>3</td>\n      <td>E</td>\n      <td>29/08/2023</td>\n      <td>NaN</td>\n      <td>PARCELA</td>\n      <td>452003,8</td>\n      <td>4467480,57</td>\n      <td>451894,26</td>\n      <td>4467272,88</td>\n      <td>40°21'16.67'' N</td>\n      <td>3°33'59.42'' W</td>\n      <td>46,71</td>\n    </tr>\n  </tbody>\n</table>\n<p>371584 rows × 20 columns</p>\n</div>"
     },
     "execution_count": 280,
     "metadata": {},
     "output_type": "execute_result"
    }
   ],
   "source": [
    "data_loader.data['DireccionesEvolucionHistorica_20231004.csv']"
   ],
   "metadata": {
    "collapsed": false,
    "ExecuteTime": {
     "end_time": "2023-11-23T17:37:37.815624900Z",
     "start_time": "2023-11-23T17:37:37.792656100Z"
    }
   },
   "id": "53ad97490c0d3bf6"
  },
  {
   "cell_type": "markdown",
   "source": [
    "La secuencia de denominación (VIA_SQC) es solo NaNs, por lo que lo más lógico es eliminar la columna directamente"
   ],
   "metadata": {
    "collapsed": false
   },
   "id": "8fdb88335b0cb04a"
  },
  {
   "cell_type": "code",
   "execution_count": 281,
   "outputs": [],
   "source": [
    "data_loader.data['DireccionesEvolucionHistorica_20231004.csv'] = data_loader.data['DireccionesEvolucionHistorica_20231004.csv'].drop('VIA_SQC', axis=1)"
   ],
   "metadata": {
    "collapsed": false,
    "ExecuteTime": {
     "end_time": "2023-11-23T17:37:37.904181500Z",
     "start_time": "2023-11-23T17:37:37.809251100Z"
    }
   },
   "id": "33e322239ade1660"
  },
  {
   "cell_type": "markdown",
   "source": [
    "Ahora, pasamos a la partícula de denominación (VIA_PAR), hay 7 valores distintos de entre la lista posible de 20 (DE, EL, A, DEL, LA, AL, DE LA, LAS, A LA, DE LAS, LO, A LAS, DE LO, LOS, A LO, DE LO, DE LOS, POR EL, A LOS, POR LA), de los cuales el primero es A LA y el último es DEL. Por lo tanto, parece que no se ha rellenado con Null o espacio vacío aquellas direcciones en las que no hay partícula:"
   ],
   "metadata": {
    "collapsed": false
   },
   "id": "7af35e4df35809c5"
  },
  {
   "cell_type": "code",
   "execution_count": 282,
   "outputs": [],
   "source": [
    "data_loader.data['DireccionesEvolucionHistorica_20231004.csv']['VIA_PAR'] = data_loader.data['DireccionesEvolucionHistorica_20231004.csv']['VIA_PAR'].fillna(' ')"
   ],
   "metadata": {
    "collapsed": false,
    "ExecuteTime": {
     "end_time": "2023-11-23T17:37:37.966349500Z",
     "start_time": "2023-11-23T17:37:37.869901800Z"
    }
   },
   "id": "d202e69235d0ab01"
  },
  {
   "cell_type": "markdown",
   "source": [
    "Fecha de baja, si no hay valor, es que está aún de alta, así que también sustituimos por un valor que represente que sigue dado de alta:"
   ],
   "metadata": {
    "collapsed": false
   },
   "id": "1db212a61b1e1bd3"
  },
  {
   "cell_type": "code",
   "execution_count": 283,
   "outputs": [],
   "source": [
    "data_loader.data['DireccionesEvolucionHistorica_20231004.csv']['FECHA_DE_BAJA'] = data_loader.data['DireccionesEvolucionHistorica_20231004.csv']['FECHA_DE_BAJA'].fillna('--/--/----')"
   ],
   "metadata": {
    "collapsed": false,
    "ExecuteTime": {
     "end_time": "2023-11-23T17:37:37.987819300Z",
     "start_time": "2023-11-23T17:37:37.892046800Z"
    }
   },
   "id": "9b8f7fad32ae837d"
  },
  {
   "cell_type": "markdown",
   "source": [
    "Para Tipo de número de policía, rellenaremos con el dato más habitual: PORTAL"
   ],
   "metadata": {
    "collapsed": false
   },
   "id": "44d148bf682fc67a"
  },
  {
   "cell_type": "code",
   "execution_count": 284,
   "outputs": [],
   "source": [
    "tipoNDP = data_loader.data['DireccionesEvolucionHistorica_20231004.csv']['TIPO_NDP'].mode().iat[0]\n",
    "data_loader.data['DireccionesEvolucionHistorica_20231004.csv']['TIPO_NDP'] = data_loader.data['DireccionesEvolucionHistorica_20231004.csv']['TIPO_NDP'].fillna(tipoNDP)"
   ],
   "metadata": {
    "collapsed": false,
    "ExecuteTime": {
     "end_time": "2023-11-23T17:37:38.032222500Z",
     "start_time": "2023-11-23T17:37:37.925150100Z"
    }
   },
   "id": "ae4df31ebd3ffe4d"
  },
  {
   "cell_type": "markdown",
   "source": [
    "Para Calificador, como no sabemos realmente cuál es el criterio y la mayoría de datos son faltantes (322826 faltan de 371584), lo más prudente es eliminar la columna directamente"
   ],
   "metadata": {
    "collapsed": false
   },
   "id": "d5c800703090d602"
  },
  {
   "cell_type": "code",
   "execution_count": 285,
   "outputs": [],
   "source": [
    "data_loader.data['DireccionesEvolucionHistorica_20231004.csv'] = data_loader.data['DireccionesEvolucionHistorica_20231004.csv'].drop('CALIFICADOR', axis=1)"
   ],
   "metadata": {
    "collapsed": false,
    "ExecuteTime": {
     "end_time": "2023-11-23T17:37:38.037290Z",
     "start_time": "2023-11-23T17:37:37.939028200Z"
    }
   },
   "id": "28627cab8cb2aa27"
  },
  {
   "cell_type": "code",
   "execution_count": 286,
   "outputs": [
    {
     "name": "stdout",
     "output_type": "stream",
     "text": [
      "COD_VIA               0\n",
      "VIA_CLASE             0\n",
      "VIA_PAR               0\n",
      "VIA_NOMBRE            0\n",
      "VIA_NOMBRE_ACENTOS    0\n",
      "COD_NDP               0\n",
      "CLASE_NDP             0\n",
      "NÚMERO                0\n",
      "FECHA_DE_ALTA         0\n",
      "FECHA_DE_BAJA         0\n",
      "TIPO_NDP              0\n",
      "UTMX_ED               0\n",
      "UTMY_ED               0\n",
      "UTMX_ETRS             0\n",
      "UTMY_ETRS             0\n",
      "LATITUD               0\n",
      "LONGITUD              0\n",
      "ANGULO_ROTULACION     0\n",
      "dtype: int64\n",
      "<class 'pandas.core.frame.DataFrame'>\n",
      "RangeIndex: 371584 entries, 0 to 371583\n",
      "Data columns (total 18 columns):\n",
      " #   Column              Non-Null Count   Dtype \n",
      "---  ------              --------------   ----- \n",
      " 0   COD_VIA             371584 non-null  int64 \n",
      " 1   VIA_CLASE           371584 non-null  object\n",
      " 2   VIA_PAR             371584 non-null  object\n",
      " 3   VIA_NOMBRE          371584 non-null  object\n",
      " 4   VIA_NOMBRE_ACENTOS  371584 non-null  object\n",
      " 5   COD_NDP             371584 non-null  int64 \n",
      " 6   CLASE_NDP           371584 non-null  object\n",
      " 7   NÚMERO              371584 non-null  int64 \n",
      " 8   FECHA_DE_ALTA       371584 non-null  object\n",
      " 9   FECHA_DE_BAJA       371584 non-null  object\n",
      " 10  TIPO_NDP            371584 non-null  object\n",
      " 11  UTMX_ED             371584 non-null  object\n",
      " 12  UTMY_ED             371584 non-null  object\n",
      " 13  UTMX_ETRS           371584 non-null  object\n",
      " 14  UTMY_ETRS           371584 non-null  object\n",
      " 15  LATITUD             371584 non-null  object\n",
      " 16  LONGITUD            371584 non-null  object\n",
      " 17  ANGULO_ROTULACION   371584 non-null  object\n",
      "dtypes: int64(3), object(15)\n",
      "memory usage: 51.0+ MB\n",
      "None\n"
     ]
    }
   ],
   "source": [
    "data_loader.get_info('DireccionesEvolucionHistorica_20231004.csv')"
   ],
   "metadata": {
    "collapsed": false,
    "ExecuteTime": {
     "end_time": "2023-11-23T17:37:38.307325900Z",
     "start_time": "2023-11-23T17:37:38.013964Z"
    }
   },
   "id": "8734de2279c7a8ba"
  },
  {
   "cell_type": "markdown",
   "source": [
    "Efectivamente no quedan Missing Values. Pasamos a las direcciones vigentes:"
   ],
   "metadata": {
    "collapsed": false
   },
   "id": "6b77715c24d741f8"
  },
  {
   "cell_type": "code",
   "execution_count": 287,
   "outputs": [
    {
     "name": "stdout",
     "output_type": "stream",
     "text": [
      "COD_VIA                    0\n",
      "VIA_CLASE                  0\n",
      "VIA_PAR                 3381\n",
      "VIA_NOMBRE                 0\n",
      "VIA_NOMBRE_ACENTOS         0\n",
      "CLASE_APP                  0\n",
      "NUMERO                     0\n",
      "CALIFICADOR           178838\n",
      "TIPO_NDP                   0\n",
      "COD_NDP                    0\n",
      "DISTRITO                   0\n",
      "BARRIO                     0\n",
      "COD_POSTAL                 0\n",
      "UTMX_ED                    0\n",
      "UTMY_ED                    0\n",
      "UTMX_ETRS                  0\n",
      "UTMY_ETRS                  0\n",
      "LATITUD                    0\n",
      "LONGITUD                   0\n",
      "ANGULO_ROTULACION          0\n",
      "dtype: int64\n",
      "<class 'pandas.core.frame.DataFrame'>\n",
      "Index: 210384 entries, 0 to 210663\n",
      "Data columns (total 20 columns):\n",
      " #   Column              Non-Null Count   Dtype  \n",
      "---  ------              --------------   -----  \n",
      " 0   COD_VIA             210384 non-null  int64  \n",
      " 1   VIA_CLASE           210384 non-null  object \n",
      " 2   VIA_PAR             207003 non-null  object \n",
      " 3   VIA_NOMBRE          210384 non-null  object \n",
      " 4   VIA_NOMBRE_ACENTOS  210384 non-null  object \n",
      " 5   CLASE_APP           210384 non-null  object \n",
      " 6   NUMERO              210384 non-null  int64  \n",
      " 7   CALIFICADOR         31546 non-null   object \n",
      " 8   TIPO_NDP            210384 non-null  object \n",
      " 9   COD_NDP             210384 non-null  int64  \n",
      " 10  DISTRITO            210384 non-null  int64  \n",
      " 11  BARRIO              210384 non-null  int64  \n",
      " 12  COD_POSTAL          210384 non-null  int64  \n",
      " 13  UTMX_ED             210384 non-null  object \n",
      " 14  UTMY_ED             210384 non-null  object \n",
      " 15  UTMX_ETRS           210384 non-null  object \n",
      " 16  UTMY_ETRS           210384 non-null  object \n",
      " 17  LATITUD             210384 non-null  object \n",
      " 18  LONGITUD            210384 non-null  object \n",
      " 19  ANGULO_ROTULACION   210384 non-null  float64\n",
      "dtypes: float64(1), int64(6), object(13)\n",
      "memory usage: 33.7+ MB\n",
      "None\n"
     ]
    }
   ],
   "source": [
    "data_loader.get_info('DireccionesVigentes_20231004.csv')"
   ],
   "metadata": {
    "collapsed": false,
    "ExecuteTime": {
     "end_time": "2023-11-23T17:37:38.447042100Z",
     "start_time": "2023-11-23T17:37:38.308322700Z"
    }
   },
   "id": "55958931691ddcb2"
  },
  {
   "cell_type": "markdown",
   "source": [
    "Faltan valores en Vía Par (3381) y en Calificador (178838), los sustituimos con el mismo criterio que en el dataset anterior:"
   ],
   "metadata": {
    "collapsed": false
   },
   "id": "f86951036107cae6"
  },
  {
   "cell_type": "code",
   "execution_count": 288,
   "outputs": [],
   "source": [
    "data_loader.data['DireccionesVigentes_20231004.csv']['VIA_PAR'] = data_loader.data['DireccionesVigentes_20231004.csv']['VIA_PAR'].fillna(' ')"
   ],
   "metadata": {
    "collapsed": false,
    "ExecuteTime": {
     "end_time": "2023-11-23T17:37:38.466411Z",
     "start_time": "2023-11-23T17:37:38.458392100Z"
    }
   },
   "id": "88d94d0510167f7a"
  },
  {
   "cell_type": "code",
   "execution_count": 289,
   "outputs": [],
   "source": [
    "data_loader.data['DireccionesVigentes_20231004.csv'] = data_loader.data['DireccionesVigentes_20231004.csv'].drop('CALIFICADOR', axis=1)"
   ],
   "metadata": {
    "collapsed": false,
    "ExecuteTime": {
     "end_time": "2023-11-23T17:37:38.523262400Z",
     "start_time": "2023-11-23T17:37:38.462650100Z"
    }
   },
   "id": "c0535edad77c553b"
  },
  {
   "cell_type": "code",
   "execution_count": 290,
   "outputs": [
    {
     "name": "stdout",
     "output_type": "stream",
     "text": [
      "COD_VIA               0\n",
      "VIA_CLASE             0\n",
      "VIA_PAR               0\n",
      "VIA_NOMBRE            0\n",
      "VIA_NOMBRE_ACENTOS    0\n",
      "CLASE_APP             0\n",
      "NUMERO                0\n",
      "TIPO_NDP              0\n",
      "COD_NDP               0\n",
      "DISTRITO              0\n",
      "BARRIO                0\n",
      "COD_POSTAL            0\n",
      "UTMX_ED               0\n",
      "UTMY_ED               0\n",
      "UTMX_ETRS             0\n",
      "UTMY_ETRS             0\n",
      "LATITUD               0\n",
      "LONGITUD              0\n",
      "ANGULO_ROTULACION     0\n",
      "dtype: int64\n",
      "<class 'pandas.core.frame.DataFrame'>\n",
      "Index: 210384 entries, 0 to 210663\n",
      "Data columns (total 19 columns):\n",
      " #   Column              Non-Null Count   Dtype  \n",
      "---  ------              --------------   -----  \n",
      " 0   COD_VIA             210384 non-null  int64  \n",
      " 1   VIA_CLASE           210384 non-null  object \n",
      " 2   VIA_PAR             210384 non-null  object \n",
      " 3   VIA_NOMBRE          210384 non-null  object \n",
      " 4   VIA_NOMBRE_ACENTOS  210384 non-null  object \n",
      " 5   CLASE_APP           210384 non-null  object \n",
      " 6   NUMERO              210384 non-null  int64  \n",
      " 7   TIPO_NDP            210384 non-null  object \n",
      " 8   COD_NDP             210384 non-null  int64  \n",
      " 9   DISTRITO            210384 non-null  int64  \n",
      " 10  BARRIO              210384 non-null  int64  \n",
      " 11  COD_POSTAL          210384 non-null  int64  \n",
      " 12  UTMX_ED             210384 non-null  object \n",
      " 13  UTMY_ED             210384 non-null  object \n",
      " 14  UTMX_ETRS           210384 non-null  object \n",
      " 15  UTMY_ETRS           210384 non-null  object \n",
      " 16  LATITUD             210384 non-null  object \n",
      " 17  LONGITUD            210384 non-null  object \n",
      " 18  ANGULO_ROTULACION   210384 non-null  float64\n",
      "dtypes: float64(1), int64(6), object(12)\n",
      "memory usage: 32.1+ MB\n",
      "None\n"
     ]
    }
   ],
   "source": [
    "data_loader.get_info('DireccionesVigentes_20231004.csv')"
   ],
   "metadata": {
    "collapsed": false,
    "ExecuteTime": {
     "end_time": "2023-11-23T17:37:38.663532400Z",
     "start_time": "2023-11-23T17:37:38.511181Z"
    }
   },
   "id": "37e450bc15826fcf"
  },
  {
   "cell_type": "markdown",
   "source": [
    "Pasamos al dataset estrella: radares."
   ],
   "metadata": {
    "collapsed": false
   },
   "id": "a05bda3a5bddd9de"
  },
  {
   "cell_type": "code",
   "execution_count": 291,
   "outputs": [
    {
     "name": "stdout",
     "output_type": "stream",
     "text": [
      "Nº\\nRADAR               0\n",
      "UBICACION               0\n",
      "CARRETARA_O_VIAL        1\n",
      "UBICACIÓN\\nCALLE_30     8\n",
      "PK                      1\n",
      "SENTIDO                 3\n",
      "TIPO                    3\n",
      "X_(WGS84)              13\n",
      "Y_(WGS84)              13\n",
      "LONGITUD                0\n",
      "LATITUD                 0\n",
      "COORDENADAS             0\n",
      "dtype: int64\n",
      "<class 'pandas.core.frame.DataFrame'>\n",
      "RangeIndex: 29 entries, 0 to 28\n",
      "Data columns (total 12 columns):\n",
      " #   Column              Non-Null Count  Dtype \n",
      "---  ------              --------------  ----- \n",
      " 0   Nº\n",
      "RADAR            29 non-null     int64 \n",
      " 1   UBICACION           29 non-null     object\n",
      " 2   CARRETARA_O_VIAL    28 non-null     object\n",
      " 3   UBICACIÓN\n",
      "CALLE_30  21 non-null     object\n",
      " 4   PK                  28 non-null     object\n",
      " 5   SENTIDO             26 non-null     object\n",
      " 6   TIPO                26 non-null     object\n",
      " 7   X_(WGS84)           16 non-null     object\n",
      " 8   Y_(WGS84)           16 non-null     object\n",
      " 9   LONGITUD            29 non-null     object\n",
      " 10  LATITUD             29 non-null     object\n",
      " 11  COORDENADAS         29 non-null     object\n",
      "dtypes: int64(1), object(11)\n",
      "memory usage: 2.8+ KB\n",
      "None\n"
     ]
    },
    {
     "data": {
      "text/plain": "    Nº\\nRADAR                                          UBICACION  \\\n0           1  M-30, ENTRADA DE LA A-1, SENTIDO PUENTE DE VEN...   \n1           2  M-30, ENTRADA DE LA A-1, SENTIDO PUENTE DE VEN...   \n2           3  PASO INFERIOR COSTA RICA, SENTIDO PRÍNCIPE DE ...   \n3           4  M-30, PTE. DE VENTAS. SENTIDO SUR A O´DONNELL ...   \n4           5  M-30, PTE. DE VENTAS. SENTIDO SUR A O´DONNELL ...   \n5           6  M-30, ENLACE O´DONNELL SENTIDO NORTE A PTE. DE...   \n6           7  M-30, ENLACE O´DONNELL SENTIDO NORTE A PTE. DE...   \n7           8  TÚNEL BAIPÁS, SENTIDO NORTE A PTE. DE VENTAS (...   \n8           9  TÚNEL BAIPÁS, SENTIDO NORTE A PTE. DE VENTAS (...   \n9          10  ENTRADA TÚNEL M-30, DESDE NUDO SUR HACIA PTE. ...   \n10         11  TÚNEL M-30, SENTIDO NUDO SUR - PTE. DE LOS FRA...   \n11         12  TÚNES BAIPÁS, SENTIDO A-3 A PTE. FRANCESES, (G...   \n12         13      PASEO DE STA. Mª DE LA CABEZA Nº 115, ENTRADA   \n13         14  TÚNES BAIPÁS, SENTIDO A3 A PTE. DE LOS FRANCES...   \n14         15  TÚNES BAIPÁS, SENTIDO A3 A PTE. DE LOS FRANCES...   \n15         16  TÚNEL M-30, SENTIDO PTE. DE LOS FRANCESES - A3...   \n16         17  TÚNEL M-30, SENTIDO NUDO SUR - PTE. DE LOS FRA...   \n17         18              TÚNEL AVDA. DE PORTUGAL, SENTIDO M-30   \n18         19              TÚNEL AVDA. DE PORTUGAL, SENTIDO M-30   \n19         20                               A-5 PK 4,000, SALIDA   \n20         21  ENTRADA TÚNEL EN MARQUÉS DE MONISTROL, P.K. 19...   \n21         22  ENTRADA TÚNEL EN MARQUÉS DE MONISTROL, P.K. 19...   \n22         23  M-30  MARQUÉS DE MONISTROL, SENTIDO PTE. DE LO...   \n23         24  M-30 SENTIDO AVDA. DE LA ILUSTRACIÓN (CTRA. DE...   \n24         25  M-30  SENTIDO CTRA DEL PARDO (AVDA. DE LA ILUS...   \n25         26                PASEO DE LA CASTELLA Nº 300, SALIDA   \n26         27  AVENIDA DE CÓRDOBA CON CALLE DOCTOR TOLOSA LAT...   \n27         28                       A-5 PK 5+750, SENTIDO SALIDA   \n28         29                      A-5 PK 4+000, SENTIDO ENTRADA   \n\n                     CARRETARA_O_VIAL UBICACIÓN\\nCALLE_30  \\\n0                                M-30              00NC50   \n1                                M-30              00NC50   \n2                                 NaN                 NaN   \n3                                M-30                M-30   \n4                                M-30                M-30   \n5                                M-30                M-30   \n6                                M-30                M-30   \n7                                M-30              10XC30   \n8                                M-30              10XC30   \n9                                M-30              13NL25   \n10                               M-30              13NL86   \n11                               M-30              14NC20   \n12  PASEO DE SANTA MARIA DE LA CABEZA                 NaN   \n13                               M-30              14NC74   \n14                               M-30              15NL01   \n15                               M-30              16XC53   \n16                               M-30              17NC17   \n17                                 A5              04FT15   \n18                                 A5              04FT15   \n19                                 A5                 NaN   \n20                               M-30              19XC06   \n21                               M-30              19XC06   \n22                               M-30              19NC90   \n23                               M-30              25NC80   \n24                               M-30                 NaN   \n25             PASEO DE LA CASTELLANA                 NaN   \n26                 AVENIDA DE CÓRDOBA                 NaN   \n27                                 A5                 NaN   \n28                                 A5                 NaN   \n\n                                                   PK  \\\n0                                               0+500   \n1                                               0+500   \n2                                                 NaN   \n3                                               6+700   \n4                                               6+700   \n5                                               7+800   \n6                                               7+800   \n7                                              10+300   \n8                                              10+300   \n9                                              13+250   \n10                                             13+860   \n11                                             14+200   \n12                                                115   \n13                                             14+740   \n14                                             15+010   \n15                                             16+530   \n16                                             17+170   \n17                                              4+150   \n18                                              4+150   \n19                                                  4   \n20                                             19+060   \n21                                             19+060   \n22                                             19+900   \n23                                             25+700   \n24                                             27+300   \n25                                                300   \n26  Inicio: GLORIETA DE CÁDIZ\\nFin: AVENIDA DE CÓR...   \n27                        P.K  4+000 ----- P.K. 5+750   \n28                        P.K. 5+750 ----- P.K  4+000   \n\n                    SENTIDO                     TIPO            X_(WGS84)  \\\n0          Calzada interior      Fijo carriles 3 y 4            442843.00   \n1          Calzada interior      Fijo carriles 3 y 4            442847.00   \n2                       NaN                      NaN            443295.00   \n3   Tronco calzada interior   Fijo carriles 1, 2 y 3            444002.00   \n4   Tronco calzada interior   Fijo carriles 1, 2 y 3            444009.00   \n5   Tronco calzada exterior      Fijo carriles 2 y 3            444069.00   \n6   Tronco calzada exterior      Fijo carriles 2 y 3            444066.00   \n7          Calzada exterior            Fijo carril 1                  NaN   \n8          Calzada exterior            Fijo carril 3                  NaN   \n9          Calzada interior            Fijo carril 3                  NaN   \n10         Calzada interior            Fijo carril 1                  NaN   \n11         Calzada interior            Fijo carril 3                  NaN   \n12                      NaN                      NaN            439726.00   \n13         Calzada interior            Fijo carril 1                  NaN   \n14         Calzada interior            Fijo carril 3                  NaN   \n15         Calzada exterior         Fijo multicarril                  NaN   \n16         Calzada interior            Fijo carril 1                  NaN   \n17        Entrada de Madrid            Fijo carril 1                  NaN   \n18        Entrada de Madrid            Fijo carril 4                  NaN   \n19                   Salida                      NaN            436748.00   \n20         Calzada exterior        Fijo carril 2 y 3                  NaN   \n21         Calzada exterior        Fijo carril 2 y 3                  NaN   \n22         Calzada interior      Fijo carriles 2 y 3            437668.00   \n23         Calzada interior         Fijo multicarril            436823.00   \n24                      NaN         Fijo multicarril            438043.00   \n25                   Salida                   Salida            441904.00   \n26                   Salida   Salida, radar de tramo            440873.00   \n27                   Salida   Salida, radar de tramo  435.202.237.655.954   \n28                  Entrada  Entrada, radar de tramo  436.722.693.562.517   \n\n              Y_(WGS84)              LONGITUD              LATITUD COORDENADAS  \n0            4481180.00          -367.433.808        4.047.934.148         DGP  \n1            4481180.00          -367.429.089        4.047.934.175         DGP  \n2            4478910.00          -366.880.283        4.045.892.328         DGP  \n3            4475270.00          -366.014.384        4.042.618.023         DGP  \n4            4475271.00          -366.006.141        4.042.618.971         DGP  \n5            4474210.00          -365.926.082        4.041.663.568         DGP  \n6            4474211.00          -365.929.627        4.041.664.449         DGP  \n7                   NaN            -3.670.048           40.397.352     Calle30  \n8                   NaN            -3.669.973           40.397.323     Calle30  \n9                   NaN          -369.499.826        4.038.678.654     Calle30  \n10                  NaN            -3.699.691            4.039.118     Calle30  \n11                  NaN            -3.703.274           40.394.924     Calle30  \n12           4471345.00          -371.017.703        4.039.052.318         DGP  \n13                  NaN            -3.708.108            4.039.657     Calle30  \n14                  NaN            -3.709.684           40.397.139     Calle30  \n15                  NaN            -3.722.988           40.403.114     Calle30  \n16                  NaN            -3.721.414            4.040.939     Calle30  \n17                  NaN            -3.731.092            4.041.389     Calle30  \n18                  NaN              -373.102           40.413.797     Calle30  \n19           4473248.00          -374.545.156        4.040.744.539         DGP  \n20                  NaN            -3.727.663           40.422.937     Calle30  \n21                  NaN            -3.727.724           40.422.839     Calle30  \n22           4475482.00          -373.482.875        4.042.763.957         DGP  \n23           4480674.00          -374.530.618        4.047.434.710         DGP  \n24           4480491.00          -373.089.695        4.047.279.048         DGP  \n25           4481314.00          -368.542.793        4.048.048.344         DGP  \n26           4470025.29            -3.696.519           40.378.590       DGGVC  \n27  447.244.848.639.425  -376.358.611.606.955  404.001.241.953.525       DGGVC  \n28  447.322.555.366.121  -374.574.755.307.117  404.072.412.609.861       DGGVC  ",
      "text/html": "<div>\n<style scoped>\n    .dataframe tbody tr th:only-of-type {\n        vertical-align: middle;\n    }\n\n    .dataframe tbody tr th {\n        vertical-align: top;\n    }\n\n    .dataframe thead th {\n        text-align: right;\n    }\n</style>\n<table border=\"1\" class=\"dataframe\">\n  <thead>\n    <tr style=\"text-align: right;\">\n      <th></th>\n      <th>Nº\\nRADAR</th>\n      <th>UBICACION</th>\n      <th>CARRETARA_O_VIAL</th>\n      <th>UBICACIÓN\\nCALLE_30</th>\n      <th>PK</th>\n      <th>SENTIDO</th>\n      <th>TIPO</th>\n      <th>X_(WGS84)</th>\n      <th>Y_(WGS84)</th>\n      <th>LONGITUD</th>\n      <th>LATITUD</th>\n      <th>COORDENADAS</th>\n    </tr>\n  </thead>\n  <tbody>\n    <tr>\n      <th>0</th>\n      <td>1</td>\n      <td>M-30, ENTRADA DE LA A-1, SENTIDO PUENTE DE VEN...</td>\n      <td>M-30</td>\n      <td>00NC50</td>\n      <td>0+500</td>\n      <td>Calzada interior</td>\n      <td>Fijo carriles 3 y 4</td>\n      <td>442843.00</td>\n      <td>4481180.00</td>\n      <td>-367.433.808</td>\n      <td>4.047.934.148</td>\n      <td>DGP</td>\n    </tr>\n    <tr>\n      <th>1</th>\n      <td>2</td>\n      <td>M-30, ENTRADA DE LA A-1, SENTIDO PUENTE DE VEN...</td>\n      <td>M-30</td>\n      <td>00NC50</td>\n      <td>0+500</td>\n      <td>Calzada interior</td>\n      <td>Fijo carriles 3 y 4</td>\n      <td>442847.00</td>\n      <td>4481180.00</td>\n      <td>-367.429.089</td>\n      <td>4.047.934.175</td>\n      <td>DGP</td>\n    </tr>\n    <tr>\n      <th>2</th>\n      <td>3</td>\n      <td>PASO INFERIOR COSTA RICA, SENTIDO PRÍNCIPE DE ...</td>\n      <td>NaN</td>\n      <td>NaN</td>\n      <td>NaN</td>\n      <td>NaN</td>\n      <td>NaN</td>\n      <td>443295.00</td>\n      <td>4478910.00</td>\n      <td>-366.880.283</td>\n      <td>4.045.892.328</td>\n      <td>DGP</td>\n    </tr>\n    <tr>\n      <th>3</th>\n      <td>4</td>\n      <td>M-30, PTE. DE VENTAS. SENTIDO SUR A O´DONNELL ...</td>\n      <td>M-30</td>\n      <td>M-30</td>\n      <td>6+700</td>\n      <td>Tronco calzada interior</td>\n      <td>Fijo carriles 1, 2 y 3</td>\n      <td>444002.00</td>\n      <td>4475270.00</td>\n      <td>-366.014.384</td>\n      <td>4.042.618.023</td>\n      <td>DGP</td>\n    </tr>\n    <tr>\n      <th>4</th>\n      <td>5</td>\n      <td>M-30, PTE. DE VENTAS. SENTIDO SUR A O´DONNELL ...</td>\n      <td>M-30</td>\n      <td>M-30</td>\n      <td>6+700</td>\n      <td>Tronco calzada interior</td>\n      <td>Fijo carriles 1, 2 y 3</td>\n      <td>444009.00</td>\n      <td>4475271.00</td>\n      <td>-366.006.141</td>\n      <td>4.042.618.971</td>\n      <td>DGP</td>\n    </tr>\n    <tr>\n      <th>5</th>\n      <td>6</td>\n      <td>M-30, ENLACE O´DONNELL SENTIDO NORTE A PTE. DE...</td>\n      <td>M-30</td>\n      <td>M-30</td>\n      <td>7+800</td>\n      <td>Tronco calzada exterior</td>\n      <td>Fijo carriles 2 y 3</td>\n      <td>444069.00</td>\n      <td>4474210.00</td>\n      <td>-365.926.082</td>\n      <td>4.041.663.568</td>\n      <td>DGP</td>\n    </tr>\n    <tr>\n      <th>6</th>\n      <td>7</td>\n      <td>M-30, ENLACE O´DONNELL SENTIDO NORTE A PTE. DE...</td>\n      <td>M-30</td>\n      <td>M-30</td>\n      <td>7+800</td>\n      <td>Tronco calzada exterior</td>\n      <td>Fijo carriles 2 y 3</td>\n      <td>444066.00</td>\n      <td>4474211.00</td>\n      <td>-365.929.627</td>\n      <td>4.041.664.449</td>\n      <td>DGP</td>\n    </tr>\n    <tr>\n      <th>7</th>\n      <td>8</td>\n      <td>TÚNEL BAIPÁS, SENTIDO NORTE A PTE. DE VENTAS (...</td>\n      <td>M-30</td>\n      <td>10XC30</td>\n      <td>10+300</td>\n      <td>Calzada exterior</td>\n      <td>Fijo carril 1</td>\n      <td>NaN</td>\n      <td>NaN</td>\n      <td>-3.670.048</td>\n      <td>40.397.352</td>\n      <td>Calle30</td>\n    </tr>\n    <tr>\n      <th>8</th>\n      <td>9</td>\n      <td>TÚNEL BAIPÁS, SENTIDO NORTE A PTE. DE VENTAS (...</td>\n      <td>M-30</td>\n      <td>10XC30</td>\n      <td>10+300</td>\n      <td>Calzada exterior</td>\n      <td>Fijo carril 3</td>\n      <td>NaN</td>\n      <td>NaN</td>\n      <td>-3.669.973</td>\n      <td>40.397.323</td>\n      <td>Calle30</td>\n    </tr>\n    <tr>\n      <th>9</th>\n      <td>10</td>\n      <td>ENTRADA TÚNEL M-30, DESDE NUDO SUR HACIA PTE. ...</td>\n      <td>M-30</td>\n      <td>13NL25</td>\n      <td>13+250</td>\n      <td>Calzada interior</td>\n      <td>Fijo carril 3</td>\n      <td>NaN</td>\n      <td>NaN</td>\n      <td>-369.499.826</td>\n      <td>4.038.678.654</td>\n      <td>Calle30</td>\n    </tr>\n    <tr>\n      <th>10</th>\n      <td>11</td>\n      <td>TÚNEL M-30, SENTIDO NUDO SUR - PTE. DE LOS FRA...</td>\n      <td>M-30</td>\n      <td>13NL86</td>\n      <td>13+860</td>\n      <td>Calzada interior</td>\n      <td>Fijo carril 1</td>\n      <td>NaN</td>\n      <td>NaN</td>\n      <td>-3.699.691</td>\n      <td>4.039.118</td>\n      <td>Calle30</td>\n    </tr>\n    <tr>\n      <th>11</th>\n      <td>12</td>\n      <td>TÚNES BAIPÁS, SENTIDO A-3 A PTE. FRANCESES, (G...</td>\n      <td>M-30</td>\n      <td>14NC20</td>\n      <td>14+200</td>\n      <td>Calzada interior</td>\n      <td>Fijo carril 3</td>\n      <td>NaN</td>\n      <td>NaN</td>\n      <td>-3.703.274</td>\n      <td>40.394.924</td>\n      <td>Calle30</td>\n    </tr>\n    <tr>\n      <th>12</th>\n      <td>13</td>\n      <td>PASEO DE STA. Mª DE LA CABEZA Nº 115, ENTRADA</td>\n      <td>PASEO DE SANTA MARIA DE LA CABEZA</td>\n      <td>NaN</td>\n      <td>115</td>\n      <td>NaN</td>\n      <td>NaN</td>\n      <td>439726.00</td>\n      <td>4471345.00</td>\n      <td>-371.017.703</td>\n      <td>4.039.052.318</td>\n      <td>DGP</td>\n    </tr>\n    <tr>\n      <th>13</th>\n      <td>14</td>\n      <td>TÚNES BAIPÁS, SENTIDO A3 A PTE. DE LOS FRANCES...</td>\n      <td>M-30</td>\n      <td>14NC74</td>\n      <td>14+740</td>\n      <td>Calzada interior</td>\n      <td>Fijo carril 1</td>\n      <td>NaN</td>\n      <td>NaN</td>\n      <td>-3.708.108</td>\n      <td>4.039.657</td>\n      <td>Calle30</td>\n    </tr>\n    <tr>\n      <th>14</th>\n      <td>15</td>\n      <td>TÚNES BAIPÁS, SENTIDO A3 A PTE. DE LOS FRANCES...</td>\n      <td>M-30</td>\n      <td>15NL01</td>\n      <td>15+010</td>\n      <td>Calzada interior</td>\n      <td>Fijo carril 3</td>\n      <td>NaN</td>\n      <td>NaN</td>\n      <td>-3.709.684</td>\n      <td>40.397.139</td>\n      <td>Calle30</td>\n    </tr>\n    <tr>\n      <th>15</th>\n      <td>16</td>\n      <td>TÚNEL M-30, SENTIDO PTE. DE LOS FRANCESES - A3...</td>\n      <td>M-30</td>\n      <td>16XC53</td>\n      <td>16+530</td>\n      <td>Calzada exterior</td>\n      <td>Fijo multicarril</td>\n      <td>NaN</td>\n      <td>NaN</td>\n      <td>-3.722.988</td>\n      <td>40.403.114</td>\n      <td>Calle30</td>\n    </tr>\n    <tr>\n      <th>16</th>\n      <td>17</td>\n      <td>TÚNEL M-30, SENTIDO NUDO SUR - PTE. DE LOS FRA...</td>\n      <td>M-30</td>\n      <td>17NC17</td>\n      <td>17+170</td>\n      <td>Calzada interior</td>\n      <td>Fijo carril 1</td>\n      <td>NaN</td>\n      <td>NaN</td>\n      <td>-3.721.414</td>\n      <td>4.040.939</td>\n      <td>Calle30</td>\n    </tr>\n    <tr>\n      <th>17</th>\n      <td>18</td>\n      <td>TÚNEL AVDA. DE PORTUGAL, SENTIDO M-30</td>\n      <td>A5</td>\n      <td>04FT15</td>\n      <td>4+150</td>\n      <td>Entrada de Madrid</td>\n      <td>Fijo carril 1</td>\n      <td>NaN</td>\n      <td>NaN</td>\n      <td>-3.731.092</td>\n      <td>4.041.389</td>\n      <td>Calle30</td>\n    </tr>\n    <tr>\n      <th>18</th>\n      <td>19</td>\n      <td>TÚNEL AVDA. DE PORTUGAL, SENTIDO M-30</td>\n      <td>A5</td>\n      <td>04FT15</td>\n      <td>4+150</td>\n      <td>Entrada de Madrid</td>\n      <td>Fijo carril 4</td>\n      <td>NaN</td>\n      <td>NaN</td>\n      <td>-373.102</td>\n      <td>40.413.797</td>\n      <td>Calle30</td>\n    </tr>\n    <tr>\n      <th>19</th>\n      <td>20</td>\n      <td>A-5 PK 4,000, SALIDA</td>\n      <td>A5</td>\n      <td>NaN</td>\n      <td>4</td>\n      <td>Salida</td>\n      <td>NaN</td>\n      <td>436748.00</td>\n      <td>4473248.00</td>\n      <td>-374.545.156</td>\n      <td>4.040.744.539</td>\n      <td>DGP</td>\n    </tr>\n    <tr>\n      <th>20</th>\n      <td>21</td>\n      <td>ENTRADA TÚNEL EN MARQUÉS DE MONISTROL, P.K. 19...</td>\n      <td>M-30</td>\n      <td>19XC06</td>\n      <td>19+060</td>\n      <td>Calzada exterior</td>\n      <td>Fijo carril 2 y 3</td>\n      <td>NaN</td>\n      <td>NaN</td>\n      <td>-3.727.663</td>\n      <td>40.422.937</td>\n      <td>Calle30</td>\n    </tr>\n    <tr>\n      <th>21</th>\n      <td>22</td>\n      <td>ENTRADA TÚNEL EN MARQUÉS DE MONISTROL, P.K. 19...</td>\n      <td>M-30</td>\n      <td>19XC06</td>\n      <td>19+060</td>\n      <td>Calzada exterior</td>\n      <td>Fijo carril 2 y 3</td>\n      <td>NaN</td>\n      <td>NaN</td>\n      <td>-3.727.724</td>\n      <td>40.422.839</td>\n      <td>Calle30</td>\n    </tr>\n    <tr>\n      <th>22</th>\n      <td>23</td>\n      <td>M-30  MARQUÉS DE MONISTROL, SENTIDO PTE. DE LO...</td>\n      <td>M-30</td>\n      <td>19NC90</td>\n      <td>19+900</td>\n      <td>Calzada interior</td>\n      <td>Fijo carriles 2 y 3</td>\n      <td>437668.00</td>\n      <td>4475482.00</td>\n      <td>-373.482.875</td>\n      <td>4.042.763.957</td>\n      <td>DGP</td>\n    </tr>\n    <tr>\n      <th>23</th>\n      <td>24</td>\n      <td>M-30 SENTIDO AVDA. DE LA ILUSTRACIÓN (CTRA. DE...</td>\n      <td>M-30</td>\n      <td>25NC80</td>\n      <td>25+700</td>\n      <td>Calzada interior</td>\n      <td>Fijo multicarril</td>\n      <td>436823.00</td>\n      <td>4480674.00</td>\n      <td>-374.530.618</td>\n      <td>4.047.434.710</td>\n      <td>DGP</td>\n    </tr>\n    <tr>\n      <th>24</th>\n      <td>25</td>\n      <td>M-30  SENTIDO CTRA DEL PARDO (AVDA. DE LA ILUS...</td>\n      <td>M-30</td>\n      <td>NaN</td>\n      <td>27+300</td>\n      <td>NaN</td>\n      <td>Fijo multicarril</td>\n      <td>438043.00</td>\n      <td>4480491.00</td>\n      <td>-373.089.695</td>\n      <td>4.047.279.048</td>\n      <td>DGP</td>\n    </tr>\n    <tr>\n      <th>25</th>\n      <td>26</td>\n      <td>PASEO DE LA CASTELLA Nº 300, SALIDA</td>\n      <td>PASEO DE LA CASTELLANA</td>\n      <td>NaN</td>\n      <td>300</td>\n      <td>Salida</td>\n      <td>Salida</td>\n      <td>441904.00</td>\n      <td>4481314.00</td>\n      <td>-368.542.793</td>\n      <td>4.048.048.344</td>\n      <td>DGP</td>\n    </tr>\n    <tr>\n      <th>26</th>\n      <td>27</td>\n      <td>AVENIDA DE CÓRDOBA CON CALLE DOCTOR TOLOSA LAT...</td>\n      <td>AVENIDA DE CÓRDOBA</td>\n      <td>NaN</td>\n      <td>Inicio: GLORIETA DE CÁDIZ\\nFin: AVENIDA DE CÓR...</td>\n      <td>Salida</td>\n      <td>Salida, radar de tramo</td>\n      <td>440873.00</td>\n      <td>4470025.29</td>\n      <td>-3.696.519</td>\n      <td>40.378.590</td>\n      <td>DGGVC</td>\n    </tr>\n    <tr>\n      <th>27</th>\n      <td>28</td>\n      <td>A-5 PK 5+750, SENTIDO SALIDA</td>\n      <td>A5</td>\n      <td>NaN</td>\n      <td>P.K  4+000 ----- P.K. 5+750</td>\n      <td>Salida</td>\n      <td>Salida, radar de tramo</td>\n      <td>435.202.237.655.954</td>\n      <td>447.244.848.639.425</td>\n      <td>-376.358.611.606.955</td>\n      <td>404.001.241.953.525</td>\n      <td>DGGVC</td>\n    </tr>\n    <tr>\n      <th>28</th>\n      <td>29</td>\n      <td>A-5 PK 4+000, SENTIDO ENTRADA</td>\n      <td>A5</td>\n      <td>NaN</td>\n      <td>P.K. 5+750 ----- P.K  4+000</td>\n      <td>Entrada</td>\n      <td>Entrada, radar de tramo</td>\n      <td>436.722.693.562.517</td>\n      <td>447.322.555.366.121</td>\n      <td>-374.574.755.307.117</td>\n      <td>404.072.412.609.861</td>\n      <td>DGGVC</td>\n    </tr>\n  </tbody>\n</table>\n</div>"
     },
     "execution_count": 291,
     "metadata": {},
     "output_type": "execute_result"
    }
   ],
   "source": [
    "data_loader.get_info('RADARES_FIJOS_vDTT.csv')\n",
    "data_loader.data['RADARES_FIJOS_vDTT.csv']"
   ],
   "metadata": {
    "collapsed": false,
    "ExecuteTime": {
     "end_time": "2023-11-23T17:37:38.679980600Z",
     "start_time": "2023-11-23T17:37:38.663532400Z"
    }
   },
   "id": "a29138f18e2b57d4"
  },
  {
   "cell_type": "markdown",
   "source": [
    "Carretera o vial, PK, sentido y tipo tienen muy poca frecuencia de NaNs, por lo que solo sustituimos por los valores más frecuentes"
   ],
   "metadata": {
    "collapsed": false
   },
   "id": "1181274aaff930cf"
  },
  {
   "cell_type": "code",
   "execution_count": 292,
   "outputs": [],
   "source": [
    "carretera = data_loader.data['RADARES_FIJOS_vDTT.csv']['CARRETARA_O_VIAL'].mode().iat[0]\n",
    "pk = data_loader.data['RADARES_FIJOS_vDTT.csv']['PK'].mode().iat[0]\n",
    "sentido = data_loader.data['RADARES_FIJOS_vDTT.csv']['SENTIDO'].mode().iat[0]\n",
    "tipo = data_loader.data['RADARES_FIJOS_vDTT.csv']['TIPO'].mode().iat[0]\n",
    "\n",
    "data_loader.data['RADARES_FIJOS_vDTT.csv']['CARRETARA_O_VIAL'] = data_loader.data['RADARES_FIJOS_vDTT.csv']['CARRETARA_O_VIAL'].fillna(carretera)\n",
    "data_loader.data['RADARES_FIJOS_vDTT.csv']['PK'] = data_loader.data['RADARES_FIJOS_vDTT.csv']['PK'].fillna(pk)\n",
    "data_loader.data['RADARES_FIJOS_vDTT.csv']['SENTIDO'] = data_loader.data['RADARES_FIJOS_vDTT.csv']['SENTIDO'].fillna(sentido)\n",
    "data_loader.data['RADARES_FIJOS_vDTT.csv']['TIPO'] = data_loader.data['RADARES_FIJOS_vDTT.csv']['TIPO'].fillna(tipo)"
   ],
   "metadata": {
    "collapsed": false,
    "ExecuteTime": {
     "end_time": "2023-11-23T17:37:38.697427800Z",
     "start_time": "2023-11-23T17:37:38.681877400Z"
    }
   },
   "id": "a7942cf0649501fb"
  },
  {
   "cell_type": "code",
   "execution_count": 293,
   "outputs": [
    {
     "name": "stdout",
     "output_type": "stream",
     "text": [
      "Nº\\nRADAR               0\n",
      "UBICACION               0\n",
      "CARRETARA_O_VIAL        0\n",
      "UBICACIÓN\\nCALLE_30     8\n",
      "PK                      0\n",
      "SENTIDO                 0\n",
      "TIPO                    0\n",
      "X_(WGS84)              13\n",
      "Y_(WGS84)              13\n",
      "LONGITUD                0\n",
      "LATITUD                 0\n",
      "COORDENADAS             0\n",
      "dtype: int64\n",
      "<class 'pandas.core.frame.DataFrame'>\n",
      "RangeIndex: 29 entries, 0 to 28\n",
      "Data columns (total 12 columns):\n",
      " #   Column              Non-Null Count  Dtype \n",
      "---  ------              --------------  ----- \n",
      " 0   Nº\n",
      "RADAR            29 non-null     int64 \n",
      " 1   UBICACION           29 non-null     object\n",
      " 2   CARRETARA_O_VIAL    29 non-null     object\n",
      " 3   UBICACIÓN\n",
      "CALLE_30  21 non-null     object\n",
      " 4   PK                  29 non-null     object\n",
      " 5   SENTIDO             29 non-null     object\n",
      " 6   TIPO                29 non-null     object\n",
      " 7   X_(WGS84)           16 non-null     object\n",
      " 8   Y_(WGS84)           16 non-null     object\n",
      " 9   LONGITUD            29 non-null     object\n",
      " 10  LATITUD             29 non-null     object\n",
      " 11  COORDENADAS         29 non-null     object\n",
      "dtypes: int64(1), object(11)\n",
      "memory usage: 2.8+ KB\n",
      "None\n"
     ]
    }
   ],
   "source": [
    "data_loader.get_info('RADARES_FIJOS_vDTT.csv')"
   ],
   "metadata": {
    "collapsed": false,
    "ExecuteTime": {
     "end_time": "2023-11-23T17:37:38.807329900Z",
     "start_time": "2023-11-23T17:37:38.697427800Z"
    }
   },
   "id": "45823100993af01a"
  },
  {
   "cell_type": "markdown",
   "source": [
    "A continuación identificamos los faltantes en la evolución histórica de viales:\n"
   ],
   "metadata": {
    "collapsed": false
   },
   "id": "b6a3ce4c63f8ebb1"
  },
  {
   "cell_type": "code",
   "execution_count": 294,
   "outputs": [
    {
     "name": "stdout",
     "output_type": "stream",
     "text": [
      "COD_VIA                  0\n",
      "VIA_SQC                  0\n",
      "VIA_CLASE                0\n",
      "VIA_PAR               1724\n",
      "VIA_NOMBRE               0\n",
      "VIA_NOMBRE_ACENTOS       0\n",
      "FECHA_DE_ALTA            0\n",
      "FECHA_DE_BAJA         9354\n",
      "VIA_ESTADO               0\n",
      "dtype: int64\n",
      "<class 'pandas.core.frame.DataFrame'>\n",
      "RangeIndex: 16446 entries, 0 to 16445\n",
      "Data columns (total 9 columns):\n",
      " #   Column              Non-Null Count  Dtype \n",
      "---  ------              --------------  ----- \n",
      " 0   COD_VIA             16446 non-null  int64 \n",
      " 1   VIA_SQC             16446 non-null  int64 \n",
      " 2   VIA_CLASE           16446 non-null  object\n",
      " 3   VIA_PAR             14722 non-null  object\n",
      " 4   VIA_NOMBRE          16446 non-null  object\n",
      " 5   VIA_NOMBRE_ACENTOS  16446 non-null  object\n",
      " 6   FECHA_DE_ALTA       16446 non-null  object\n",
      " 7   FECHA_DE_BAJA       7092 non-null   object\n",
      " 8   VIA_ESTADO          16446 non-null  object\n",
      "dtypes: int64(2), object(7)\n",
      "memory usage: 1.1+ MB\n",
      "None\n"
     ]
    },
    {
     "data": {
      "text/plain": "        COD_VIA  VIA_SQC VIA_CLASE VIA_PAR                       VIA_NOMBRE  \\\n0           125        1     CALLE     NaN                                A   \n1           127        1     CALLE      DE                  ISABEL COLBRAND   \n2           127        2     CALLE     NaN                                A   \n3           130        2     CALLE      DE                      ELIAS TORMO   \n4           130        1     CALLE     NaN                                A   \n...         ...      ...       ...     ...                              ...   \n16441  31006177        2     CALLE     DEL                           BARRON   \n16442  31006177        1     CALLE     DEL                           TESORO   \n16443  31006181        1     PLAZA      DE                JUAN MUÑOZ MARTIN   \n16444  31006183        1     CALLE     NaN   PROVISIONAL AHIJONES TREINTA A   \n16445  99000000        1    ACCESO     NaN  TEMPORAL PARA ACCESOS M30 Y M40   \n\n                    VIA_NOMBRE_ACENTOS FECHA_DE_ALTA FECHA_DE_BAJA VIA_ESTADO  \n0                                    A    01/01/1977    27/12/1985          H  \n1                      ISABEL COLBRAND    31/10/1985           NaN          V  \n2                                    A    01/08/1983    31/10/1985          V  \n3                          ELÍAS TORMO    27/12/1985    01/01/2004          H  \n4                                    A    01/01/1973    27/12/1985          H  \n...                                ...           ...           ...        ...  \n16441                           BARRÓN    18/02/1953    30/04/1953          H  \n16442                           TESORO    01/01/1902    18/02/1953          H  \n16443                JUAN MUÑOZ MARTÍN    25/05/2023           NaN          V  \n16444   PROVISIONAL AHIJONES TREINTA A    03/03/2023           NaN          V  \n16445  TEMPORAL PARA ACCESOS M30 Y M40    22/02/2000           NaN          V  \n\n[16446 rows x 9 columns]",
      "text/html": "<div>\n<style scoped>\n    .dataframe tbody tr th:only-of-type {\n        vertical-align: middle;\n    }\n\n    .dataframe tbody tr th {\n        vertical-align: top;\n    }\n\n    .dataframe thead th {\n        text-align: right;\n    }\n</style>\n<table border=\"1\" class=\"dataframe\">\n  <thead>\n    <tr style=\"text-align: right;\">\n      <th></th>\n      <th>COD_VIA</th>\n      <th>VIA_SQC</th>\n      <th>VIA_CLASE</th>\n      <th>VIA_PAR</th>\n      <th>VIA_NOMBRE</th>\n      <th>VIA_NOMBRE_ACENTOS</th>\n      <th>FECHA_DE_ALTA</th>\n      <th>FECHA_DE_BAJA</th>\n      <th>VIA_ESTADO</th>\n    </tr>\n  </thead>\n  <tbody>\n    <tr>\n      <th>0</th>\n      <td>125</td>\n      <td>1</td>\n      <td>CALLE</td>\n      <td>NaN</td>\n      <td>A</td>\n      <td>A</td>\n      <td>01/01/1977</td>\n      <td>27/12/1985</td>\n      <td>H</td>\n    </tr>\n    <tr>\n      <th>1</th>\n      <td>127</td>\n      <td>1</td>\n      <td>CALLE</td>\n      <td>DE</td>\n      <td>ISABEL COLBRAND</td>\n      <td>ISABEL COLBRAND</td>\n      <td>31/10/1985</td>\n      <td>NaN</td>\n      <td>V</td>\n    </tr>\n    <tr>\n      <th>2</th>\n      <td>127</td>\n      <td>2</td>\n      <td>CALLE</td>\n      <td>NaN</td>\n      <td>A</td>\n      <td>A</td>\n      <td>01/08/1983</td>\n      <td>31/10/1985</td>\n      <td>V</td>\n    </tr>\n    <tr>\n      <th>3</th>\n      <td>130</td>\n      <td>2</td>\n      <td>CALLE</td>\n      <td>DE</td>\n      <td>ELIAS TORMO</td>\n      <td>ELÍAS TORMO</td>\n      <td>27/12/1985</td>\n      <td>01/01/2004</td>\n      <td>H</td>\n    </tr>\n    <tr>\n      <th>4</th>\n      <td>130</td>\n      <td>1</td>\n      <td>CALLE</td>\n      <td>NaN</td>\n      <td>A</td>\n      <td>A</td>\n      <td>01/01/1973</td>\n      <td>27/12/1985</td>\n      <td>H</td>\n    </tr>\n    <tr>\n      <th>...</th>\n      <td>...</td>\n      <td>...</td>\n      <td>...</td>\n      <td>...</td>\n      <td>...</td>\n      <td>...</td>\n      <td>...</td>\n      <td>...</td>\n      <td>...</td>\n    </tr>\n    <tr>\n      <th>16441</th>\n      <td>31006177</td>\n      <td>2</td>\n      <td>CALLE</td>\n      <td>DEL</td>\n      <td>BARRON</td>\n      <td>BARRÓN</td>\n      <td>18/02/1953</td>\n      <td>30/04/1953</td>\n      <td>H</td>\n    </tr>\n    <tr>\n      <th>16442</th>\n      <td>31006177</td>\n      <td>1</td>\n      <td>CALLE</td>\n      <td>DEL</td>\n      <td>TESORO</td>\n      <td>TESORO</td>\n      <td>01/01/1902</td>\n      <td>18/02/1953</td>\n      <td>H</td>\n    </tr>\n    <tr>\n      <th>16443</th>\n      <td>31006181</td>\n      <td>1</td>\n      <td>PLAZA</td>\n      <td>DE</td>\n      <td>JUAN MUÑOZ MARTIN</td>\n      <td>JUAN MUÑOZ MARTÍN</td>\n      <td>25/05/2023</td>\n      <td>NaN</td>\n      <td>V</td>\n    </tr>\n    <tr>\n      <th>16444</th>\n      <td>31006183</td>\n      <td>1</td>\n      <td>CALLE</td>\n      <td>NaN</td>\n      <td>PROVISIONAL AHIJONES TREINTA A</td>\n      <td>PROVISIONAL AHIJONES TREINTA A</td>\n      <td>03/03/2023</td>\n      <td>NaN</td>\n      <td>V</td>\n    </tr>\n    <tr>\n      <th>16445</th>\n      <td>99000000</td>\n      <td>1</td>\n      <td>ACCESO</td>\n      <td>NaN</td>\n      <td>TEMPORAL PARA ACCESOS M30 Y M40</td>\n      <td>TEMPORAL PARA ACCESOS M30 Y M40</td>\n      <td>22/02/2000</td>\n      <td>NaN</td>\n      <td>V</td>\n    </tr>\n  </tbody>\n</table>\n<p>16446 rows × 9 columns</p>\n</div>"
     },
     "execution_count": 294,
     "metadata": {},
     "output_type": "execute_result"
    }
   ],
   "source": [
    "data_loader.get_info('VialesEvolucionHistorica_20231004.csv')\n",
    "data_loader.data['VialesEvolucionHistorica_20231004.csv']"
   ],
   "metadata": {
    "collapsed": false,
    "ExecuteTime": {
     "end_time": "2023-11-23T17:37:38.809325400Z",
     "start_time": "2023-11-23T17:37:38.700420600Z"
    }
   },
   "id": "35ee2e3701dba50"
  },
  {
   "cell_type": "markdown",
   "source": [
    "Faltan VIA_PAR y FECHA_DE_BAJA, que ya se han tratado en dataframes previos y manejaremos de la misma manera:"
   ],
   "metadata": {
    "collapsed": false
   },
   "id": "6fe6dac22719db7d"
  },
  {
   "cell_type": "code",
   "execution_count": 295,
   "outputs": [],
   "source": [
    "data_loader.data['VialesEvolucionHistorica_20231004.csv']['VIA_PAR'] = data_loader.data['VialesEvolucionHistorica_20231004.csv']['VIA_PAR'].fillna(' ')\n",
    "data_loader.data['VialesEvolucionHistorica_20231004.csv']['FECHA_DE_BAJA'] = data_loader.data['VialesEvolucionHistorica_20231004.csv']['FECHA_DE_BAJA'].fillna('--/--/----')"
   ],
   "metadata": {
    "collapsed": false,
    "ExecuteTime": {
     "end_time": "2023-11-23T17:37:38.809325400Z",
     "start_time": "2023-11-23T17:37:38.723463200Z"
    }
   },
   "id": "6b4df14cef7c99c8"
  },
  {
   "cell_type": "code",
   "execution_count": 296,
   "outputs": [
    {
     "name": "stdout",
     "output_type": "stream",
     "text": [
      "COD_VIA               0\n",
      "VIA_SQC               0\n",
      "VIA_CLASE             0\n",
      "VIA_PAR               0\n",
      "VIA_NOMBRE            0\n",
      "VIA_NOMBRE_ACENTOS    0\n",
      "FECHA_DE_ALTA         0\n",
      "FECHA_DE_BAJA         0\n",
      "VIA_ESTADO            0\n",
      "dtype: int64\n",
      "<class 'pandas.core.frame.DataFrame'>\n",
      "RangeIndex: 16446 entries, 0 to 16445\n",
      "Data columns (total 9 columns):\n",
      " #   Column              Non-Null Count  Dtype \n",
      "---  ------              --------------  ----- \n",
      " 0   COD_VIA             16446 non-null  int64 \n",
      " 1   VIA_SQC             16446 non-null  int64 \n",
      " 2   VIA_CLASE           16446 non-null  object\n",
      " 3   VIA_PAR             16446 non-null  object\n",
      " 4   VIA_NOMBRE          16446 non-null  object\n",
      " 5   VIA_NOMBRE_ACENTOS  16446 non-null  object\n",
      " 6   FECHA_DE_ALTA       16446 non-null  object\n",
      " 7   FECHA_DE_BAJA       16446 non-null  object\n",
      " 8   VIA_ESTADO          16446 non-null  object\n",
      "dtypes: int64(2), object(7)\n",
      "memory usage: 1.1+ MB\n",
      "None\n"
     ]
    }
   ],
   "source": [
    "data_loader.get_info('VialesEvolucionHistorica_20231004.csv')"
   ],
   "metadata": {
    "collapsed": false,
    "ExecuteTime": {
     "end_time": "2023-11-23T17:37:38.860152500Z",
     "start_time": "2023-11-23T17:37:38.729900800Z"
    }
   },
   "id": "8e8d689187c47632"
  },
  {
   "cell_type": "markdown",
   "source": [
    "Pasamos al dataframe de viales vigentes distritos barrios:"
   ],
   "metadata": {
    "collapsed": false
   },
   "id": "d0fae74fb0626ff7"
  },
  {
   "cell_type": "code",
   "execution_count": 297,
   "outputs": [
    {
     "name": "stdout",
     "output_type": "stream",
     "text": [
      "COD_VIA                  0\n",
      "VIA_CLASE                0\n",
      "VIA_PAR                601\n",
      "VIA_NOMBRE               0\n",
      "VIA_NOMBRE_ACENTOS       0\n",
      "DISTRITO                24\n",
      "BARRIO                  24\n",
      "IMPAR_MIN             2719\n",
      "IMPAR_MAX             2719\n",
      "PAR_MIN               2558\n",
      "PAR_MAX               2558\n",
      "dtype: int64\n",
      "<class 'pandas.core.frame.DataFrame'>\n",
      "Index: 11014 entries, 0 to 11025\n",
      "Data columns (total 11 columns):\n",
      " #   Column              Non-Null Count  Dtype  \n",
      "---  ------              --------------  -----  \n",
      " 0   COD_VIA             11014 non-null  int64  \n",
      " 1   VIA_CLASE           11014 non-null  object \n",
      " 2   VIA_PAR             10413 non-null  object \n",
      " 3   VIA_NOMBRE          11014 non-null  object \n",
      " 4   VIA_NOMBRE_ACENTOS  11014 non-null  object \n",
      " 5   DISTRITO            10990 non-null  float64\n",
      " 6   BARRIO              10990 non-null  float64\n",
      " 7   IMPAR_MIN           8295 non-null   float64\n",
      " 8   IMPAR_MAX           8295 non-null   float64\n",
      " 9   PAR_MIN             8456 non-null   float64\n",
      " 10  PAR_MAX             8456 non-null   float64\n",
      "dtypes: float64(6), int64(1), object(4)\n",
      "memory usage: 1.0+ MB\n",
      "None\n"
     ]
    },
    {
     "data": {
      "text/plain": "        COD_VIA VIA_CLASE VIA_PAR VIA_NOMBRE VIA_NOMBRE_ACENTOS  DISTRITO  \\\n0      31001337   AUTOVÍA     NaN        A-1                A-1      16.0   \n1      31001336   AUTOVÍA     NaN        A-2                A-2       4.0   \n2      31001336   AUTOVÍA     NaN        A-2                A-2       5.0   \n3      31001336   AUTOVÍA     NaN        A-2                A-2      15.0   \n4      31001336   AUTOVÍA     NaN        A-2                A-2      15.0   \n...         ...       ...     ...        ...                ...       ...   \n11021    807100     CALLE      DE   ZURBARAN           ZURBARÁN       7.0   \n11022    807200     CALLE      DE    ZURGENA            ZURGENA      20.0   \n11023      2462     CALLE      DE     ZURICH             ZURICH      20.0   \n11024    807300     CALLE      DE     ZURITA             ZURITA       1.0   \n11025       725     PASEO     DEL     ZURRON             ZURRÓN      21.0   \n\n       BARRIO  IMPAR_MIN  IMPAR_MAX  PAR_MIN  PAR_MAX  \n0         6.0        NaN        NaN  10000.0  13000.0  \n1         4.0        NaN        NaN      NaN      NaN  \n2         2.0        NaN        NaN      NaN      NaN  \n3         5.0        NaN        NaN   5000.0   5000.0  \n4         6.0        NaN        NaN   5000.0   5000.0  \n...       ...        ...        ...      ...      ...  \n11021     4.0        1.0       23.0      2.0     32.0  \n11022     1.0        NaN        NaN      NaN      NaN  \n11023     5.0        1.0       41.0      2.0     16.0  \n11024     2.0        1.0       47.0      2.0     44.0  \n11025     4.0        1.0       57.0      2.0     32.0  \n\n[11014 rows x 11 columns]",
      "text/html": "<div>\n<style scoped>\n    .dataframe tbody tr th:only-of-type {\n        vertical-align: middle;\n    }\n\n    .dataframe tbody tr th {\n        vertical-align: top;\n    }\n\n    .dataframe thead th {\n        text-align: right;\n    }\n</style>\n<table border=\"1\" class=\"dataframe\">\n  <thead>\n    <tr style=\"text-align: right;\">\n      <th></th>\n      <th>COD_VIA</th>\n      <th>VIA_CLASE</th>\n      <th>VIA_PAR</th>\n      <th>VIA_NOMBRE</th>\n      <th>VIA_NOMBRE_ACENTOS</th>\n      <th>DISTRITO</th>\n      <th>BARRIO</th>\n      <th>IMPAR_MIN</th>\n      <th>IMPAR_MAX</th>\n      <th>PAR_MIN</th>\n      <th>PAR_MAX</th>\n    </tr>\n  </thead>\n  <tbody>\n    <tr>\n      <th>0</th>\n      <td>31001337</td>\n      <td>AUTOVÍA</td>\n      <td>NaN</td>\n      <td>A-1</td>\n      <td>A-1</td>\n      <td>16.0</td>\n      <td>6.0</td>\n      <td>NaN</td>\n      <td>NaN</td>\n      <td>10000.0</td>\n      <td>13000.0</td>\n    </tr>\n    <tr>\n      <th>1</th>\n      <td>31001336</td>\n      <td>AUTOVÍA</td>\n      <td>NaN</td>\n      <td>A-2</td>\n      <td>A-2</td>\n      <td>4.0</td>\n      <td>4.0</td>\n      <td>NaN</td>\n      <td>NaN</td>\n      <td>NaN</td>\n      <td>NaN</td>\n    </tr>\n    <tr>\n      <th>2</th>\n      <td>31001336</td>\n      <td>AUTOVÍA</td>\n      <td>NaN</td>\n      <td>A-2</td>\n      <td>A-2</td>\n      <td>5.0</td>\n      <td>2.0</td>\n      <td>NaN</td>\n      <td>NaN</td>\n      <td>NaN</td>\n      <td>NaN</td>\n    </tr>\n    <tr>\n      <th>3</th>\n      <td>31001336</td>\n      <td>AUTOVÍA</td>\n      <td>NaN</td>\n      <td>A-2</td>\n      <td>A-2</td>\n      <td>15.0</td>\n      <td>5.0</td>\n      <td>NaN</td>\n      <td>NaN</td>\n      <td>5000.0</td>\n      <td>5000.0</td>\n    </tr>\n    <tr>\n      <th>4</th>\n      <td>31001336</td>\n      <td>AUTOVÍA</td>\n      <td>NaN</td>\n      <td>A-2</td>\n      <td>A-2</td>\n      <td>15.0</td>\n      <td>6.0</td>\n      <td>NaN</td>\n      <td>NaN</td>\n      <td>5000.0</td>\n      <td>5000.0</td>\n    </tr>\n    <tr>\n      <th>...</th>\n      <td>...</td>\n      <td>...</td>\n      <td>...</td>\n      <td>...</td>\n      <td>...</td>\n      <td>...</td>\n      <td>...</td>\n      <td>...</td>\n      <td>...</td>\n      <td>...</td>\n      <td>...</td>\n    </tr>\n    <tr>\n      <th>11021</th>\n      <td>807100</td>\n      <td>CALLE</td>\n      <td>DE</td>\n      <td>ZURBARAN</td>\n      <td>ZURBARÁN</td>\n      <td>7.0</td>\n      <td>4.0</td>\n      <td>1.0</td>\n      <td>23.0</td>\n      <td>2.0</td>\n      <td>32.0</td>\n    </tr>\n    <tr>\n      <th>11022</th>\n      <td>807200</td>\n      <td>CALLE</td>\n      <td>DE</td>\n      <td>ZURGENA</td>\n      <td>ZURGENA</td>\n      <td>20.0</td>\n      <td>1.0</td>\n      <td>NaN</td>\n      <td>NaN</td>\n      <td>NaN</td>\n      <td>NaN</td>\n    </tr>\n    <tr>\n      <th>11023</th>\n      <td>2462</td>\n      <td>CALLE</td>\n      <td>DE</td>\n      <td>ZURICH</td>\n      <td>ZURICH</td>\n      <td>20.0</td>\n      <td>5.0</td>\n      <td>1.0</td>\n      <td>41.0</td>\n      <td>2.0</td>\n      <td>16.0</td>\n    </tr>\n    <tr>\n      <th>11024</th>\n      <td>807300</td>\n      <td>CALLE</td>\n      <td>DE</td>\n      <td>ZURITA</td>\n      <td>ZURITA</td>\n      <td>1.0</td>\n      <td>2.0</td>\n      <td>1.0</td>\n      <td>47.0</td>\n      <td>2.0</td>\n      <td>44.0</td>\n    </tr>\n    <tr>\n      <th>11025</th>\n      <td>725</td>\n      <td>PASEO</td>\n      <td>DEL</td>\n      <td>ZURRON</td>\n      <td>ZURRÓN</td>\n      <td>21.0</td>\n      <td>4.0</td>\n      <td>1.0</td>\n      <td>57.0</td>\n      <td>2.0</td>\n      <td>32.0</td>\n    </tr>\n  </tbody>\n</table>\n<p>11014 rows × 11 columns</p>\n</div>"
     },
     "execution_count": 297,
     "metadata": {},
     "output_type": "execute_result"
    }
   ],
   "source": [
    "data_loader.get_info('VialesVigentesDistritosBarrios_20231004.csv')\n",
    "data_loader.data['VialesVigentesDistritosBarrios_20231004.csv']"
   ],
   "metadata": {
    "collapsed": false,
    "ExecuteTime": {
     "end_time": "2023-11-23T17:37:38.864140400Z",
     "start_time": "2023-11-23T17:37:38.764414100Z"
    }
   },
   "id": "df1c5b489c3d141a"
  },
  {
   "cell_type": "markdown",
   "source": [
    "VIA_PAR hacemos la misma solución que previamente:"
   ],
   "metadata": {
    "collapsed": false
   },
   "id": "acc838c1719f44fa"
  },
  {
   "cell_type": "code",
   "execution_count": 298,
   "outputs": [],
   "source": [
    "data_loader.data['VialesVigentesDistritosBarrios_20231004.csv']['VIA_PAR'] = data_loader.data['VialesVigentesDistritosBarrios_20231004.csv']['VIA_PAR'].fillna(' ')"
   ],
   "metadata": {
    "collapsed": false,
    "ExecuteTime": {
     "end_time": "2023-11-23T17:37:38.884779700Z",
     "start_time": "2023-11-23T17:37:38.785831500Z"
    }
   },
   "id": "dd1ba52a010614d7"
  },
  {
   "cell_type": "markdown",
   "source": [
    "PAR_MIN, PAR_MAX, IMPAR_MAX e IMPAR_MIN tienen un valor para los casos en los que no hay calificador: '-', y es lo que usaremos para sustituir los datos faltantes."
   ],
   "metadata": {
    "collapsed": false
   },
   "id": "9aef9b42ad7e7dc2"
  },
  {
   "cell_type": "code",
   "execution_count": 299,
   "outputs": [],
   "source": [
    "data_loader.data['VialesVigentesDistritosBarrios_20231004.csv']['IMPAR_MAX'] = data_loader.data['VialesVigentesDistritosBarrios_20231004.csv']['IMPAR_MAX'].fillna('-')\n",
    "data_loader.data['VialesVigentesDistritosBarrios_20231004.csv']['IMPAR_MIN'] = data_loader.data['VialesVigentesDistritosBarrios_20231004.csv']['IMPAR_MIN'].fillna('-')\n",
    "data_loader.data['VialesVigentesDistritosBarrios_20231004.csv']['PAR_MAX'] = data_loader.data['VialesVigentesDistritosBarrios_20231004.csv']['PAR_MAX'].fillna('-')\n",
    "data_loader.data['VialesVigentesDistritosBarrios_20231004.csv']['PAR_MIN'] = data_loader.data['VialesVigentesDistritosBarrios_20231004.csv']['PAR_MIN'].fillna('-')"
   ],
   "metadata": {
    "collapsed": false,
    "ExecuteTime": {
     "end_time": "2023-11-23T17:37:38.885776200Z",
     "start_time": "2023-11-23T17:37:38.791431400Z"
    }
   },
   "id": "a671cace7dffb524"
  },
  {
   "cell_type": "markdown",
   "source": [
    "Pasamos a viales vigentes distritos:"
   ],
   "metadata": {
    "collapsed": false
   },
   "id": "945a7129004e2744"
  },
  {
   "cell_type": "code",
   "execution_count": 300,
   "outputs": [
    {
     "name": "stdout",
     "output_type": "stream",
     "text": [
      "COD_VIA                  0\n",
      "VIA_CLASE                0\n",
      "VIA_PAR                472\n",
      "VIA_NOMBRE               0\n",
      "VIA_NOMBRE_ACENTOS       0\n",
      "DISTRITO                24\n",
      "IMPAR_MIN             1762\n",
      "IMPAR_MAX             1762\n",
      "PAR_MIN               1666\n",
      "PAR_MAX               1666\n",
      "dtype: int64\n",
      "<class 'pandas.core.frame.DataFrame'>\n",
      "Index: 9839 entries, 0 to 11025\n",
      "Data columns (total 10 columns):\n",
      " #   Column              Non-Null Count  Dtype  \n",
      "---  ------              --------------  -----  \n",
      " 0   COD_VIA             9839 non-null   int64  \n",
      " 1   VIA_CLASE           9839 non-null   object \n",
      " 2   VIA_PAR             9367 non-null   object \n",
      " 3   VIA_NOMBRE          9839 non-null   object \n",
      " 4   VIA_NOMBRE_ACENTOS  9839 non-null   object \n",
      " 5   DISTRITO            9815 non-null   float64\n",
      " 6   IMPAR_MIN           8077 non-null   float64\n",
      " 7   IMPAR_MAX           8077 non-null   float64\n",
      " 8   PAR_MIN             8173 non-null   float64\n",
      " 9   PAR_MAX             8173 non-null   float64\n",
      "dtypes: float64(5), int64(1), object(4)\n",
      "memory usage: 845.5+ KB\n",
      "None\n"
     ]
    },
    {
     "data": {
      "text/plain": "        COD_VIA VIA_CLASE VIA_PAR VIA_NOMBRE VIA_NOMBRE_ACENTOS  DISTRITO  \\\n0      31001337   AUTOVÍA     NaN        A-1                A-1      16.0   \n1      31001336   AUTOVÍA     NaN        A-2                A-2       4.0   \n2      31001336   AUTOVÍA     NaN        A-2                A-2       5.0   \n3      31001336   AUTOVÍA     NaN        A-2                A-2      15.0   \n5      31001336   AUTOVÍA     NaN        A-2                A-2      16.0   \n...         ...       ...     ...        ...                ...       ...   \n11021    807100     CALLE      DE   ZURBARAN           ZURBARÁN       7.0   \n11022    807200     CALLE      DE    ZURGENA            ZURGENA      20.0   \n11023      2462     CALLE      DE     ZURICH             ZURICH      20.0   \n11024    807300     CALLE      DE     ZURITA             ZURITA       1.0   \n11025       725     PASEO     DEL     ZURRON             ZURRÓN      21.0   \n\n       IMPAR_MIN  IMPAR_MAX  PAR_MIN  PAR_MAX  \n0            NaN        NaN  10000.0  13000.0  \n1            NaN        NaN      NaN      NaN  \n2            NaN        NaN      NaN      NaN  \n3            NaN        NaN   5000.0   5000.0  \n5            NaN        NaN   6000.0   9000.0  \n...          ...        ...      ...      ...  \n11021        1.0       23.0      2.0     32.0  \n11022        NaN        NaN      NaN      NaN  \n11023        1.0       41.0      2.0     16.0  \n11024        1.0       47.0      2.0     44.0  \n11025        1.0       57.0      2.0     32.0  \n\n[9839 rows x 10 columns]",
      "text/html": "<div>\n<style scoped>\n    .dataframe tbody tr th:only-of-type {\n        vertical-align: middle;\n    }\n\n    .dataframe tbody tr th {\n        vertical-align: top;\n    }\n\n    .dataframe thead th {\n        text-align: right;\n    }\n</style>\n<table border=\"1\" class=\"dataframe\">\n  <thead>\n    <tr style=\"text-align: right;\">\n      <th></th>\n      <th>COD_VIA</th>\n      <th>VIA_CLASE</th>\n      <th>VIA_PAR</th>\n      <th>VIA_NOMBRE</th>\n      <th>VIA_NOMBRE_ACENTOS</th>\n      <th>DISTRITO</th>\n      <th>IMPAR_MIN</th>\n      <th>IMPAR_MAX</th>\n      <th>PAR_MIN</th>\n      <th>PAR_MAX</th>\n    </tr>\n  </thead>\n  <tbody>\n    <tr>\n      <th>0</th>\n      <td>31001337</td>\n      <td>AUTOVÍA</td>\n      <td>NaN</td>\n      <td>A-1</td>\n      <td>A-1</td>\n      <td>16.0</td>\n      <td>NaN</td>\n      <td>NaN</td>\n      <td>10000.0</td>\n      <td>13000.0</td>\n    </tr>\n    <tr>\n      <th>1</th>\n      <td>31001336</td>\n      <td>AUTOVÍA</td>\n      <td>NaN</td>\n      <td>A-2</td>\n      <td>A-2</td>\n      <td>4.0</td>\n      <td>NaN</td>\n      <td>NaN</td>\n      <td>NaN</td>\n      <td>NaN</td>\n    </tr>\n    <tr>\n      <th>2</th>\n      <td>31001336</td>\n      <td>AUTOVÍA</td>\n      <td>NaN</td>\n      <td>A-2</td>\n      <td>A-2</td>\n      <td>5.0</td>\n      <td>NaN</td>\n      <td>NaN</td>\n      <td>NaN</td>\n      <td>NaN</td>\n    </tr>\n    <tr>\n      <th>3</th>\n      <td>31001336</td>\n      <td>AUTOVÍA</td>\n      <td>NaN</td>\n      <td>A-2</td>\n      <td>A-2</td>\n      <td>15.0</td>\n      <td>NaN</td>\n      <td>NaN</td>\n      <td>5000.0</td>\n      <td>5000.0</td>\n    </tr>\n    <tr>\n      <th>5</th>\n      <td>31001336</td>\n      <td>AUTOVÍA</td>\n      <td>NaN</td>\n      <td>A-2</td>\n      <td>A-2</td>\n      <td>16.0</td>\n      <td>NaN</td>\n      <td>NaN</td>\n      <td>6000.0</td>\n      <td>9000.0</td>\n    </tr>\n    <tr>\n      <th>...</th>\n      <td>...</td>\n      <td>...</td>\n      <td>...</td>\n      <td>...</td>\n      <td>...</td>\n      <td>...</td>\n      <td>...</td>\n      <td>...</td>\n      <td>...</td>\n      <td>...</td>\n    </tr>\n    <tr>\n      <th>11021</th>\n      <td>807100</td>\n      <td>CALLE</td>\n      <td>DE</td>\n      <td>ZURBARAN</td>\n      <td>ZURBARÁN</td>\n      <td>7.0</td>\n      <td>1.0</td>\n      <td>23.0</td>\n      <td>2.0</td>\n      <td>32.0</td>\n    </tr>\n    <tr>\n      <th>11022</th>\n      <td>807200</td>\n      <td>CALLE</td>\n      <td>DE</td>\n      <td>ZURGENA</td>\n      <td>ZURGENA</td>\n      <td>20.0</td>\n      <td>NaN</td>\n      <td>NaN</td>\n      <td>NaN</td>\n      <td>NaN</td>\n    </tr>\n    <tr>\n      <th>11023</th>\n      <td>2462</td>\n      <td>CALLE</td>\n      <td>DE</td>\n      <td>ZURICH</td>\n      <td>ZURICH</td>\n      <td>20.0</td>\n      <td>1.0</td>\n      <td>41.0</td>\n      <td>2.0</td>\n      <td>16.0</td>\n    </tr>\n    <tr>\n      <th>11024</th>\n      <td>807300</td>\n      <td>CALLE</td>\n      <td>DE</td>\n      <td>ZURITA</td>\n      <td>ZURITA</td>\n      <td>1.0</td>\n      <td>1.0</td>\n      <td>47.0</td>\n      <td>2.0</td>\n      <td>44.0</td>\n    </tr>\n    <tr>\n      <th>11025</th>\n      <td>725</td>\n      <td>PASEO</td>\n      <td>DEL</td>\n      <td>ZURRON</td>\n      <td>ZURRÓN</td>\n      <td>21.0</td>\n      <td>1.0</td>\n      <td>57.0</td>\n      <td>2.0</td>\n      <td>32.0</td>\n    </tr>\n  </tbody>\n</table>\n<p>9839 rows × 10 columns</p>\n</div>"
     },
     "execution_count": 300,
     "metadata": {},
     "output_type": "execute_result"
    }
   ],
   "source": [
    "data_loader.get_info('VialesVigentesDistritos_20231004.csv')\n",
    "data_loader.data['VialesVigentesDistritos_20231004.csv']"
   ],
   "metadata": {
    "collapsed": false,
    "ExecuteTime": {
     "end_time": "2023-11-23T17:37:38.934200200Z",
     "start_time": "2023-11-23T17:37:38.799231700Z"
    }
   },
   "id": "ef76ba946e715493"
  },
  {
   "cell_type": "code",
   "execution_count": 301,
   "outputs": [],
   "source": [
    "data_loader.data['VialesVigentesDistritos_20231004.csv']['VIA_PAR'] = data_loader.data['VialesVigentesDistritos_20231004.csv']['VIA_PAR'].fillna(' ')\n",
    "data_loader.data['VialesVigentesDistritos_20231004.csv']['IMPAR_MAX'] = data_loader.data['VialesVigentesDistritos_20231004.csv']['IMPAR_MAX'].fillna('-')\n",
    "data_loader.data['VialesVigentesDistritos_20231004.csv']['IMPAR_MIN'] = data_loader.data['VialesVigentesDistritos_20231004.csv']['IMPAR_MIN'].fillna('-')\n",
    "data_loader.data['VialesVigentesDistritos_20231004.csv']['PAR_MAX'] = data_loader.data['VialesVigentesDistritos_20231004.csv']['PAR_MAX'].fillna('-')\n",
    "data_loader.data['VialesVigentesDistritos_20231004.csv']['PAR_MIN'] = data_loader.data['VialesVigentesDistritos_20231004.csv']['PAR_MIN'].fillna('-')"
   ],
   "metadata": {
    "collapsed": false,
    "ExecuteTime": {
     "end_time": "2023-11-23T17:37:39.070368200Z",
     "start_time": "2023-11-23T17:37:38.821361100Z"
    }
   },
   "id": "902675c1509455fc"
  },
  {
   "cell_type": "markdown",
   "source": [
    "Pasamos al último dataset: viales vigentes a 4/10/2023"
   ],
   "metadata": {
    "collapsed": false
   },
   "id": "1977593521da8c8c"
  },
  {
   "cell_type": "code",
   "execution_count": 302,
   "outputs": [
    {
     "name": "stdout",
     "output_type": "stream",
     "text": [
      "COD_VIA                      0\n",
      "VIA_CLASE                    0\n",
      "VIA_PAR                    402\n",
      "VIA_NOMBRE                   0\n",
      "VIA_NOMBRE_ACENTOS           0\n",
      "COD_VIA_COMIENZA             0\n",
      "CLASE_COMIENZA               0\n",
      "PARTICULA_COMIENZA         545\n",
      "NOMBRE_COMIENZA              0\n",
      "NOMBRE_ACENTOS_COMIENZA      0\n",
      "COD_VIA_TERMINA              0\n",
      "CLASE_TERMINA                0\n",
      "PARTICULA_TERMINA          917\n",
      "NOMBRE_TERMINA               0\n",
      "NOMBRE_ACENTOS_TERMINA       0\n",
      "dtype: int64\n",
      "<class 'pandas.core.frame.DataFrame'>\n",
      "RangeIndex: 9388 entries, 0 to 9387\n",
      "Data columns (total 15 columns):\n",
      " #   Column                   Non-Null Count  Dtype \n",
      "---  ------                   --------------  ----- \n",
      " 0   COD_VIA                  9388 non-null   int64 \n",
      " 1   VIA_CLASE                9388 non-null   object\n",
      " 2   VIA_PAR                  8986 non-null   object\n",
      " 3   VIA_NOMBRE               9388 non-null   object\n",
      " 4   VIA_NOMBRE_ACENTOS       9388 non-null   object\n",
      " 5   COD_VIA_COMIENZA         9388 non-null   int64 \n",
      " 6   CLASE_COMIENZA           9388 non-null   object\n",
      " 7   PARTICULA_COMIENZA       8843 non-null   object\n",
      " 8   NOMBRE_COMIENZA          9388 non-null   object\n",
      " 9   NOMBRE_ACENTOS_COMIENZA  9388 non-null   object\n",
      " 10  COD_VIA_TERMINA          9388 non-null   int64 \n",
      " 11  CLASE_TERMINA            9388 non-null   object\n",
      " 12  PARTICULA_TERMINA        8471 non-null   object\n",
      " 13  NOMBRE_TERMINA           9388 non-null   object\n",
      " 14  NOMBRE_ACENTOS_TERMINA   9388 non-null   object\n",
      "dtypes: int64(3), object(12)\n",
      "memory usage: 1.1+ MB\n",
      "None\n"
     ]
    },
    {
     "data": {
      "text/plain": "       COD_VIA VIA_CLASE VIA_PAR VIA_NOMBRE VIA_NOMBRE_ACENTOS  \\\n0     31001337   AUTOVÍA     NaN        A-1                A-1   \n1     31001336   AUTOVÍA     NaN        A-2                A-2   \n2     31001342   AUTOVÍA     NaN        A-3                A-3   \n3     31001334   AUTOVÍA     NaN        A-4                A-4   \n4     31001341   AUTOVÍA     NaN       A-42               A-42   \n...        ...       ...     ...        ...                ...   \n9383    807100     CALLE      DE   ZURBARAN           ZURBARÁN   \n9384    807200     CALLE      DE    ZURGENA            ZURGENA   \n9385      2462     CALLE      DE     ZURICH             ZURICH   \n9386    807300     CALLE      DE     ZURITA             ZURITA   \n9387       725     PASEO     DEL     ZURRON             ZURRÓN   \n\n      COD_VIA_COMIENZA CLASE_COMIENZA PARTICULA_COMIENZA  \\\n0             31001349        AUTOVÍA                NaN   \n1               310200          CALLE                 DE   \n2               480800          PLAZA                 DE   \n3             31001349        AUTOVÍA                NaN   \n4               468400        AVENIDA                DEL   \n...                ...            ...                ...   \n9383            694525          CALLE                 DE   \n9384            155200          CALLE                DEL   \n9385              2458          CALLE                 DE   \n9386            695900          CALLE                 DE   \n9387             19600          CALLE                 DE   \n\n                               NOMBRE_COMIENZA  \\\n0                                         M-30   \n1                            FRANCISCO SILVELA   \n2                             MARIANO DE CAVIA   \n3                                         M-30   \n4                                   MANZANARES   \n...                                        ...   \n9383                            SANTA ENGRACIA   \n9384  CASTILLO DE MADRIGAL DE LAS ALTAS TORRES   \n9385                                  MARSELLA   \n9386                              SANTA ISABEL   \n9387                                   ALCAÑIZ   \n\n                       NOMBRE_ACENTOS_COMIENZA  COD_VIA_TERMINA CLASE_TERMINA  \\\n0                                         M-30         99000003         LUGAR   \n1                            FRANCISCO SILVELA         99000003         LUGAR   \n2                             MARIANO DE CAVIA         99000003         LUGAR   \n3                                         M-30         99000003         LUGAR   \n4                                   MANZANARES         99000003         LUGAR   \n...                                        ...              ...           ...   \n9383                            SANTA ENGRACIA           153600         PASEO   \n9384  CASTILLO DE MADRIGAL DE LAS ALTAS TORRES           803000         CALLE   \n9385                                  MARSELLA             2459         CALLE   \n9386                              SANTA ISABEL            71000         CALLE   \n9387                                   ALCAÑIZ            14000         CALLE   \n\n     PARTICULA_TERMINA            NOMBRE_TERMINA    NOMBRE_ACENTOS_TERMINA  \n0                  NaN  LIMITE TERMINO MUNICIPAL  LÍMITE TÉRMINO MUNICIPAL  \n1                  NaN  LIMITE TERMINO MUNICIPAL  LÍMITE TÉRMINO MUNICIPAL  \n2                  NaN  LIMITE TERMINO MUNICIPAL  LÍMITE TÉRMINO MUNICIPAL  \n3                  NaN  LIMITE TERMINO MUNICIPAL  LÍMITE TÉRMINO MUNICIPAL  \n4                  NaN  LIMITE TERMINO MUNICIPAL  LÍMITE TÉRMINO MUNICIPAL  \n...                ...                       ...                       ...  \n9383             DE LA                CASTELLANA                CASTELLANA  \n9384               DEL                 ZAPARDIEL                 ZAPARDIEL  \n9385                DE                 FINLANDIA                 FINLANDIA  \n9386                DE                  ARGUMOSA                  ARGUMOSA  \n9387                DE              ALAR DEL REY              ALAR DEL REY  \n\n[9388 rows x 15 columns]",
      "text/html": "<div>\n<style scoped>\n    .dataframe tbody tr th:only-of-type {\n        vertical-align: middle;\n    }\n\n    .dataframe tbody tr th {\n        vertical-align: top;\n    }\n\n    .dataframe thead th {\n        text-align: right;\n    }\n</style>\n<table border=\"1\" class=\"dataframe\">\n  <thead>\n    <tr style=\"text-align: right;\">\n      <th></th>\n      <th>COD_VIA</th>\n      <th>VIA_CLASE</th>\n      <th>VIA_PAR</th>\n      <th>VIA_NOMBRE</th>\n      <th>VIA_NOMBRE_ACENTOS</th>\n      <th>COD_VIA_COMIENZA</th>\n      <th>CLASE_COMIENZA</th>\n      <th>PARTICULA_COMIENZA</th>\n      <th>NOMBRE_COMIENZA</th>\n      <th>NOMBRE_ACENTOS_COMIENZA</th>\n      <th>COD_VIA_TERMINA</th>\n      <th>CLASE_TERMINA</th>\n      <th>PARTICULA_TERMINA</th>\n      <th>NOMBRE_TERMINA</th>\n      <th>NOMBRE_ACENTOS_TERMINA</th>\n    </tr>\n  </thead>\n  <tbody>\n    <tr>\n      <th>0</th>\n      <td>31001337</td>\n      <td>AUTOVÍA</td>\n      <td>NaN</td>\n      <td>A-1</td>\n      <td>A-1</td>\n      <td>31001349</td>\n      <td>AUTOVÍA</td>\n      <td>NaN</td>\n      <td>M-30</td>\n      <td>M-30</td>\n      <td>99000003</td>\n      <td>LUGAR</td>\n      <td>NaN</td>\n      <td>LIMITE TERMINO MUNICIPAL</td>\n      <td>LÍMITE TÉRMINO MUNICIPAL</td>\n    </tr>\n    <tr>\n      <th>1</th>\n      <td>31001336</td>\n      <td>AUTOVÍA</td>\n      <td>NaN</td>\n      <td>A-2</td>\n      <td>A-2</td>\n      <td>310200</td>\n      <td>CALLE</td>\n      <td>DE</td>\n      <td>FRANCISCO SILVELA</td>\n      <td>FRANCISCO SILVELA</td>\n      <td>99000003</td>\n      <td>LUGAR</td>\n      <td>NaN</td>\n      <td>LIMITE TERMINO MUNICIPAL</td>\n      <td>LÍMITE TÉRMINO MUNICIPAL</td>\n    </tr>\n    <tr>\n      <th>2</th>\n      <td>31001342</td>\n      <td>AUTOVÍA</td>\n      <td>NaN</td>\n      <td>A-3</td>\n      <td>A-3</td>\n      <td>480800</td>\n      <td>PLAZA</td>\n      <td>DE</td>\n      <td>MARIANO DE CAVIA</td>\n      <td>MARIANO DE CAVIA</td>\n      <td>99000003</td>\n      <td>LUGAR</td>\n      <td>NaN</td>\n      <td>LIMITE TERMINO MUNICIPAL</td>\n      <td>LÍMITE TÉRMINO MUNICIPAL</td>\n    </tr>\n    <tr>\n      <th>3</th>\n      <td>31001334</td>\n      <td>AUTOVÍA</td>\n      <td>NaN</td>\n      <td>A-4</td>\n      <td>A-4</td>\n      <td>31001349</td>\n      <td>AUTOVÍA</td>\n      <td>NaN</td>\n      <td>M-30</td>\n      <td>M-30</td>\n      <td>99000003</td>\n      <td>LUGAR</td>\n      <td>NaN</td>\n      <td>LIMITE TERMINO MUNICIPAL</td>\n      <td>LÍMITE TÉRMINO MUNICIPAL</td>\n    </tr>\n    <tr>\n      <th>4</th>\n      <td>31001341</td>\n      <td>AUTOVÍA</td>\n      <td>NaN</td>\n      <td>A-42</td>\n      <td>A-42</td>\n      <td>468400</td>\n      <td>AVENIDA</td>\n      <td>DEL</td>\n      <td>MANZANARES</td>\n      <td>MANZANARES</td>\n      <td>99000003</td>\n      <td>LUGAR</td>\n      <td>NaN</td>\n      <td>LIMITE TERMINO MUNICIPAL</td>\n      <td>LÍMITE TÉRMINO MUNICIPAL</td>\n    </tr>\n    <tr>\n      <th>...</th>\n      <td>...</td>\n      <td>...</td>\n      <td>...</td>\n      <td>...</td>\n      <td>...</td>\n      <td>...</td>\n      <td>...</td>\n      <td>...</td>\n      <td>...</td>\n      <td>...</td>\n      <td>...</td>\n      <td>...</td>\n      <td>...</td>\n      <td>...</td>\n      <td>...</td>\n    </tr>\n    <tr>\n      <th>9383</th>\n      <td>807100</td>\n      <td>CALLE</td>\n      <td>DE</td>\n      <td>ZURBARAN</td>\n      <td>ZURBARÁN</td>\n      <td>694525</td>\n      <td>CALLE</td>\n      <td>DE</td>\n      <td>SANTA ENGRACIA</td>\n      <td>SANTA ENGRACIA</td>\n      <td>153600</td>\n      <td>PASEO</td>\n      <td>DE LA</td>\n      <td>CASTELLANA</td>\n      <td>CASTELLANA</td>\n    </tr>\n    <tr>\n      <th>9384</th>\n      <td>807200</td>\n      <td>CALLE</td>\n      <td>DE</td>\n      <td>ZURGENA</td>\n      <td>ZURGENA</td>\n      <td>155200</td>\n      <td>CALLE</td>\n      <td>DEL</td>\n      <td>CASTILLO DE MADRIGAL DE LAS ALTAS TORRES</td>\n      <td>CASTILLO DE MADRIGAL DE LAS ALTAS TORRES</td>\n      <td>803000</td>\n      <td>CALLE</td>\n      <td>DEL</td>\n      <td>ZAPARDIEL</td>\n      <td>ZAPARDIEL</td>\n    </tr>\n    <tr>\n      <th>9385</th>\n      <td>2462</td>\n      <td>CALLE</td>\n      <td>DE</td>\n      <td>ZURICH</td>\n      <td>ZURICH</td>\n      <td>2458</td>\n      <td>CALLE</td>\n      <td>DE</td>\n      <td>MARSELLA</td>\n      <td>MARSELLA</td>\n      <td>2459</td>\n      <td>CALLE</td>\n      <td>DE</td>\n      <td>FINLANDIA</td>\n      <td>FINLANDIA</td>\n    </tr>\n    <tr>\n      <th>9386</th>\n      <td>807300</td>\n      <td>CALLE</td>\n      <td>DE</td>\n      <td>ZURITA</td>\n      <td>ZURITA</td>\n      <td>695900</td>\n      <td>CALLE</td>\n      <td>DE</td>\n      <td>SANTA ISABEL</td>\n      <td>SANTA ISABEL</td>\n      <td>71000</td>\n      <td>CALLE</td>\n      <td>DE</td>\n      <td>ARGUMOSA</td>\n      <td>ARGUMOSA</td>\n    </tr>\n    <tr>\n      <th>9387</th>\n      <td>725</td>\n      <td>PASEO</td>\n      <td>DEL</td>\n      <td>ZURRON</td>\n      <td>ZURRÓN</td>\n      <td>19600</td>\n      <td>CALLE</td>\n      <td>DE</td>\n      <td>ALCAÑIZ</td>\n      <td>ALCAÑIZ</td>\n      <td>14000</td>\n      <td>CALLE</td>\n      <td>DE</td>\n      <td>ALAR DEL REY</td>\n      <td>ALAR DEL REY</td>\n    </tr>\n  </tbody>\n</table>\n<p>9388 rows × 15 columns</p>\n</div>"
     },
     "execution_count": 302,
     "metadata": {},
     "output_type": "execute_result"
    }
   ],
   "source": [
    "data_loader.get_info('VialesVigentes_20231004.csv')\n",
    "data_loader.data['VialesVigentes_20231004.csv']"
   ],
   "metadata": {
    "collapsed": false,
    "ExecuteTime": {
     "end_time": "2023-11-23T17:37:39.094185Z",
     "start_time": "2023-11-23T17:37:38.831210600Z"
    }
   },
   "id": "5c8f575a77a558d"
  },
  {
   "cell_type": "markdown",
   "source": [
    "Particula termina y partícula comienza está estrechamente relacionada con vía par, por lo que la sustitución de valores es igual"
   ],
   "metadata": {
    "collapsed": false
   },
   "id": "59a2495d12f0f009"
  },
  {
   "cell_type": "code",
   "execution_count": 303,
   "outputs": [],
   "source": [
    "data_loader.data['VialesVigentes_20231004.csv']['VIA_PAR'] = data_loader.data['VialesVigentes_20231004.csv']['VIA_PAR'].fillna(' ')\n",
    "data_loader.data['VialesVigentes_20231004.csv']['PARTICULA_TERMINA'] = data_loader.data['VialesVigentes_20231004.csv']['PARTICULA_TERMINA'].fillna(' ')\n",
    "data_loader.data['VialesVigentes_20231004.csv']['PARTICULA_COMIENZA'] = data_loader.data['VialesVigentes_20231004.csv']['PARTICULA_COMIENZA'].fillna(' ')\n"
   ],
   "metadata": {
    "collapsed": false,
    "ExecuteTime": {
     "end_time": "2023-11-23T17:37:39.113126300Z",
     "start_time": "2023-11-23T17:37:38.855731500Z"
    }
   },
   "id": "173e406a48de42c6"
  },
  {
   "cell_type": "markdown",
   "source": [
    "\n",
    "Tabla de frecuencia relativa de accidentes por distritos. En esta tabla se obtiene la frecuencia de accidentes en todos los distritos de madrid, esto hace que se pueda obtener también el tráfico de coches en el distrito. Aunque no sea una relación proporcional, a mayor número de accidentes supone un tráfico mayor en la zona."
   ],
   "metadata": {
    "collapsed": false
   },
   "id": "638d01d63546d2dc"
  },
  {
   "cell_type": "code",
   "execution_count": 304,
   "outputs": [
    {
     "name": "stderr",
     "output_type": "stream",
     "text": [
      "C:\\Users\\paula\\AppData\\Local\\Temp\\ipykernel_22332\\2071361165.py:126: UserWarning: set_ticklabels() should only be used with a fixed number of ticks, i.e. after set_ticks() or using a FixedLocator.\n",
      "  ax.set_xticklabels(aux_df.index, rotation=90)\n"
     ]
    },
    {
     "data": {
      "text/plain": "<Figure size 640x480 with 2 Axes>",
      "image/png": "[encoded data removed]"
     },
     "metadata": {},
     "output_type": "display_data"
    }
   ],
   "source": [
    "data_loader.data['datasets/accidentalidad']['DISTRITO'] = data_loader.data['datasets/accidentalidad']['DISTRITO'].astype(str)\n",
    "CSVDataLoader.create_graph(data_loader.data['datasets/accidentalidad'], 'DISTRITO', 'accidentes por distrito')\n"
   ],
   "metadata": {
    "collapsed": false,
    "ExecuteTime": {
     "end_time": "2023-11-23T17:37:39.290470500Z",
     "start_time": "2023-11-23T17:37:38.864140400Z"
    }
   },
   "id": "5bc82a4dce0d24d5"
  },
  {
   "cell_type": "markdown",
   "source": [
    "Tabla comparativa que muestra los accidentes donde la persona que lo ha padecido ha dado positivo en alcohol."
   ],
   "metadata": {
    "collapsed": false
   },
   "id": "54a78878d7c6d3cd"
  },
  {
   "cell_type": "code",
   "execution_count": 305,
   "outputs": [
    {
     "data": {
      "text/plain": "<Figure size 640x480 with 1 Axes>",
      "image/png": "[encoded data removed]"
     },
     "metadata": {},
     "output_type": "display_data"
    }
   ],
   "source": [
    "accidentes = data_loader.data['datasets/accidentalidad']\n",
    "positivos = accidentes[accidentes['POSITIVA_ALCOHOL'] == 'S']\n",
    "negativos = accidentes[accidentes['POSITIVA_ALCOHOL'] == 'N']\n",
    "labels = ['Positivo en Alcohol', 'Negativo en Alcohol', 'No se realizó la prueba']\n",
    "values = [len(positivos), len(negativos), len(accidentes) - len(positivos) - len(negativos)]\n",
    "plt.bar(labels, values)\n",
    "plt.xlabel('Resultado de Alcohol')\n",
    "plt.ylabel('Número de Accidentes')\n",
    "plt.title('Comparación de Accidentes con y sin Positivo en Alcohol')\n",
    "plt.show()"
   ],
   "metadata": {
    "collapsed": false,
    "ExecuteTime": {
     "end_time": "2023-11-23T17:37:39.541660100Z",
     "start_time": "2023-11-23T17:37:39.097171900Z"
    }
   },
   "id": "601e77076c0b6644"
  },
  {
   "cell_type": "markdown",
   "source": [
    "Tabla comparativo donde la persona que ha padecido el accidente ha dado positivo en drogas."
   ],
   "metadata": {
    "collapsed": false
   },
   "id": "f6f45fc4943e898e"
  },
  {
   "cell_type": "code",
   "execution_count": 306,
   "outputs": [
    {
     "data": {
      "text/plain": "<Figure size 640x480 with 1 Axes>",
      "image/png": "[encoded data removed]"
     },
     "metadata": {},
     "output_type": "display_data"
    }
   ],
   "source": [
    "accidentes = data_loader.data['datasets/accidentalidad']\n",
    "positivos = accidentes[accidentes['POSITIVA_DROGA'] == 1]\n",
    "negativos = accidentes[accidentes['POSITIVA_DROGA'] == 0]\n",
    "labels = ['Positivo en Drogas', 'Negativo en Drogras', 'No se realizó la prueba']\n",
    "values = [len(positivos), len(negativos), len(accidentes) - len(positivos) - len(negativos)]\n",
    "plt.bar(labels, values)\n",
    "plt.xlabel('Resultado de Alcohol')\n",
    "plt.ylabel('Número de Accidentes')\n",
    "plt.title('Comparación de Accidentes con y sin Positivo en Drogas')\n",
    "plt.show()"
   ],
   "metadata": {
    "collapsed": false,
    "ExecuteTime": {
     "end_time": "2023-11-23T17:37:39.602384800Z",
     "start_time": "2023-11-23T17:37:39.230417600Z"
    }
   },
   "id": "8bae355c6468a9d3"
  },
  {
   "cell_type": "markdown",
   "source": [
    "Tabla comparativa que relaciona los accidente en los que la persona ha dado positivo en alcohol y drogas"
   ],
   "metadata": {
    "collapsed": false
   },
   "id": "c5e368d617231990"
  },
  {
   "cell_type": "code",
   "execution_count": 307,
   "outputs": [
    {
     "data": {
      "text/plain": "<Figure size 640x480 with 1 Axes>",
      "image/png": "[encoded data removed]"
     },
     "metadata": {},
     "output_type": "display_data"
    }
   ],
   "source": [
    "accidentes = data_loader.data['datasets/accidentalidad']\n",
    "positivos_alcohol = accidentes[accidentes['POSITIVA_ALCOHOL'] == 'S']\n",
    "positivos_drogas = accidentes[accidentes['POSITIVA_DROGA'] == 1]\n",
    "positivos_alcohol_drogas = positivos_alcohol[positivos_alcohol['POSITIVA_DROGA'] == 1]\n",
    "positivos_alcohol_drogas = len(positivos_alcohol_drogas)\n",
    "negativos = len(accidentes) - positivos_alcohol_drogas\n",
    "labels = ['Positivo en Alcohol y Drogas', 'Negativo en Alcohol y Drogas']\n",
    "values = [positivos_alcohol_drogas, negativos]\n",
    "plt.bar(labels, values)\n",
    "plt.xlabel('Resultado de Alcohol')\n",
    "plt.ylabel('Número de Accidentes')\n",
    "plt.title('Comparación de Accidentes con y sin Positivo en Alcohol')\n",
    "plt.show()"
   ],
   "metadata": {
    "collapsed": false,
    "ExecuteTime": {
     "end_time": "2023-11-23T17:37:39.607368400Z",
     "start_time": "2023-11-23T17:37:39.356043400Z"
    }
   },
   "id": "202b3d4f57dd8b28"
  },
  {
   "cell_type": "markdown",
   "source": [
    "De estos datos podemos extraer que la policía no le asigna dato a negativo en drogas, ya que en todo el dataframe solo existe el valor \"1\". Por lo tanto, no se puede distinguir los casos en los que no se realiza la prueba o a dado negativo."
   ],
   "metadata": {
    "collapsed": false
   },
   "id": "144248e693b9aaf7"
  }
 ],
 "metadata": {
  "kernelspec": {
   "display_name": "Python 3",
   "language": "python",
   "name": "python3"
  },
  "language_info": {
   "codemirror_mode": {
    "name": "ipython",
    "version": 3
   },
   "file_extension": ".py",
   "mimetype": "text/x-python",
   "name": "python",
   "nbconvert_exporter": "python",
   "pygments_lexer": "ipython3",
   "version": "3.11.6"
  }
 },
 "nbformat": 4,
 "nbformat_minor": 5
}
