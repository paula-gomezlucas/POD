{
 "cells": [
  {
   "cell_type": "markdown",
   "id": "403b90b536e46321",
   "metadata": {
    "collapsed": false
   },
   "source": [
    "# Proyecto Open Data I\n",
    "## Radares, y su eficiencia en la CAM\n",
    "### Recopilación, limpieza y tratamiento de los datos\n",
    "Este cuaderno pretende enseñar el proceso de limpieza de los datos relativos a los radares en la CAM\n",
    "_Paula Gómez Lucas, Alejandro Majado Martínez_"
   ]
  },
  {
   "cell_type": "code",
   "execution_count": 169,
   "outputs": [],
   "source": [
    "# Importar librerías\n",
    "import os\n",
    "import pandas as pd\n",
    "import matplotlib.pyplot as plt\n",
    "from matplotlib.ticker import PercentFormatter"
   ],
   "metadata": {
    "collapsed": false,
    "ExecuteTime": {
     "end_time": "2023-11-23T16:57:13.266152100Z",
     "start_time": "2023-11-23T16:57:13.034377700Z"
    }
   },
   "id": "44d3e82a2b2af617"
  },
  {
   "cell_type": "markdown",
   "source": [
    "A continuación, se muestra la clase que está compuesta de todos los métodos que se encargan de la limpieza y transformación de los datos"
   ],
   "metadata": {
    "collapsed": false
   },
   "id": "ae30c35b38b2cfe"
  },
  {
   "cell_type": "code",
   "execution_count": 170,
   "outputs": [],
   "source": [
    "class CSVDataLoader:\n",
    "    \"\"\"\n",
    "    A class for loading and cleaning CSV data from a specified folder path.\n",
    "\n",
    "    Attributes:\n",
    "    -----------\n",
    "    folder_path : str\n",
    "        The path to the folder containing the CSV files to be loaded.\n",
    "\n",
    "    data : dict\n",
    "        A dictionary containing the loaded CSV data, where the keys are the file names and the values are the corresponding dataframes.\n",
    "    \"\"\"\n",
    "\n",
    "    def __init__(self, folder_path):\n",
    "        \"\"\"\n",
    "        Initializes a CSVDataLoader object with the specified folder path.\n",
    "\n",
    "        Parameters:\n",
    "        -----------\n",
    "        folder_path : str\n",
    "            The path to the folder containing the CSV files to be loaded.\n",
    "        \"\"\"\n",
    "        self.folder_path = folder_path\n",
    "        self.data = {}\n",
    "        self.filename = []\n",
    "        self.keys = []\n",
    "\n",
    "    def load_data(self):\n",
    "        \"\"\"\n",
    "        Loads CSV data from the specified folder path into a dictionary.\n",
    "\n",
    "        Returns:\n",
    "        --------\n",
    "        None\n",
    "        \"\"\"\n",
    "        csv_files = [f for f in os.listdir(self.folder_path) if f.endswith('.csv')]\n",
    "        folders = (\"datasets/actuacionesBomberos\", \"datasets/estaciones\", \"datasets/accidentalidad\")\n",
    "        for folder in folders:\n",
    "            df = None\n",
    "            for file in os.listdir(folder):\n",
    "                filepath = folder + \"/\" + file\n",
    "                df1 = pd.read_csv(filepath, sep=';', encoding='utf-8', low_memory=False)\n",
    "                df = pd.concat([df, df1])\n",
    "            self.data[str(folder)] = df\n",
    "\n",
    "        for file_name in csv_files:\n",
    "            file_path = os.path.join(self.folder_path, file_name)\n",
    "            try:\n",
    "                df = pd.read_csv(file_path, sep=';', encoding='latin-1', low_memory=False)\n",
    "                self.data[str(file_name)] = df\n",
    "                self.filename.append(file_name)\n",
    "            except Exception as e:\n",
    "                print(f\"Error al leer {file_name}: {str(e)}\")\n",
    "\n",
    "        for value in self.data.keys():\n",
    "            self.keys.append(value)\n",
    "\n",
    "    def clean_data(self):\n",
    "        \"\"\"\n",
    "        Cleans the loaded CSV data by renaming columns, removing whitespace, dropping null values and duplicates, and converting date columns to datetime format.\n",
    "\n",
    "        Returns:\n",
    "        --------\n",
    "        None\n",
    "        \"\"\"\n",
    "        columna_borrar = \"Unnamed\"\n",
    "        for df in self.data:\n",
    "            for j in self.data[df].columns:\n",
    "                if columna_borrar in j:\n",
    "                    while j in self.data[df].columns:\n",
    "                        self.data[df] = self.data[df].drop(j, axis=1)\n",
    "                        self.data[df] = self.data[df].dropna(how='all', axis=0)\n",
    "                        \n",
    "            self.data[df] = self.data[df].rename(columns = lambda x: x.strip().lower().replace(' ', '_'))\n",
    "            self.data[df] = self.data[df].map(lambda x: x.strip() if isinstance(x, str) else x)\n",
    "            self.data[df] = self.data[df].dropna(how='all', axis=0)\n",
    "            self.data[df] = self.data[df].drop_duplicates()\n",
    "            self.data[df] = self.data[df].loc[:, ~self.data[df].columns.duplicated()]\n",
    "            self.data[df].columns = map(str.upper, self.data[df].columns)\n",
    "\n",
    "            if 'FECHA' in self.data[df].columns:\n",
    "                self.data[df]['FECHA'] = pd.to_datetime(self.data[df]['FECHA'], format='%d/%m/%Y')\n",
    "\n",
    "#           num_cols = self.data[i].select_dtypes(include='number').columns\n",
    "#           for col in num_cols:\n",
    "#               self.data[i][col] = self.data[i][col].fillna(self.data[i][col].mean())\n",
    "\n",
    "    def get_info(self, filename):\n",
    "        print(self.data[filename].isnull().sum())\n",
    "        print(self.data[filename].info())\n",
    "        \n",
    "    def get_nan_columns(self):\n",
    "        j = 0\n",
    "        for i in self.data:\n",
    "            print(self.keys[j])\n",
    "            self.get_info(i)\n",
    "            j+=1\n",
    "      \n",
    "    def get_cleaned_data(self):\n",
    "        \"\"\"\n",
    "        Returns the cleaned CSV data as a dictionary.\n",
    "\n",
    "        Returns:\n",
    "        --------\n",
    "        dict\n",
    "            A dictionary containing the cleaned CSV data, where the keys are the file names and the values are the corresponding dataframes.\n",
    "        \"\"\"\n",
    "        return self.data\n",
    "\n",
    "    def create_graph(df, colummn, name):\n",
    "        frec = df[''+str(colummn)].value_counts()\n",
    "        aux_df = pd.DataFrame(frec)\n",
    "        aux_df.columns = [\"Frecuencia absoluta\"]\n",
    "        aux_df[\"Frecuencia relativa\"] = 100*aux_df[\"Frecuencia absoluta\"] / len(df)\n",
    "        frec_rel_cumsum = aux_df[\"Frecuencia relativa\"].cumsum()\n",
    "        aux_df[\"Frecuencia relativa acumulada\"] = frec_rel_cumsum\n",
    "        fig = plt.figure()\n",
    "        ax = fig.add_subplot(1,1,1)\n",
    "        ax.set_title('Distribución de '+ str(name))\n",
    "        ax.bar(aux_df.index, aux_df['Frecuencia absoluta'], color='blue')\n",
    "        ax2 = ax.twinx()\n",
    "        ax2.plot(aux_df.index, aux_df['Frecuencia relativa acumulada'], color='red', marker='o', ms = 5)\n",
    "        ax2.yaxis.set_major_formatter(PercentFormatter())\n",
    "        ax.tick_params(axis='y', color = 'blue')\n",
    "        ax2.tick_params(axis='y', color = 'red')\n",
    "        ax.set_xticklabels(aux_df.index, rotation=90)\n",
    "        plt.show()"
   ],
   "metadata": {
    "collapsed": false,
    "ExecuteTime": {
     "end_time": "2023-11-23T16:57:13.452677300Z",
     "start_time": "2023-11-23T16:57:13.060172200Z"
    }
   },
   "id": "18d478fe7f47cd57"
  },
  {
   "cell_type": "markdown",
   "source": [
    "Una vez está definida la clase con sus métodos, procedemos a declarar las variables que nos permiten trabajar con ello"
   ],
   "metadata": {
    "collapsed": false
   },
   "id": "dd85edb70ad193c8"
  },
  {
   "cell_type": "code",
   "execution_count": 171,
   "outputs": [],
   "source": [
    "folder_path = \"datasets\"\n",
    "data_loader = CSVDataLoader(folder_path)"
   ],
   "metadata": {
    "collapsed": false,
    "ExecuteTime": {
     "end_time": "2023-11-23T16:57:13.455709800Z",
     "start_time": "2023-11-23T16:57:13.062169100Z"
    }
   },
   "id": "283a71997af30bfb"
  },
  {
   "cell_type": "markdown",
   "source": [
    "La siguiente función carga los datos de los csv a los dataframes"
   ],
   "metadata": {
    "collapsed": false
   },
   "id": "63352d6285012f0e"
  },
  {
   "cell_type": "code",
   "execution_count": 172,
   "outputs": [],
   "source": [
    "data_loader.load_data()"
   ],
   "metadata": {
    "collapsed": false,
    "ExecuteTime": {
     "end_time": "2023-11-23T16:57:15.793887400Z",
     "start_time": "2023-11-23T16:57:13.069825500Z"
    }
   },
   "id": "665ff0b29c363cd8"
  },
  {
   "cell_type": "markdown",
   "source": [
    "Limpiamos los datos eliminando las columnas autogeneradas con NaNs, renombramos las columnas para que sean uniformes (minúsculas y con barra bajas), eliminamos las filas de NaNs, eliminamos las filas duplicadas, formateamos todas las variables fecha para que sean consistentes (dd/mm/aaaa), sustituimos los NaNs de las variables numéricas con la media correspondiente a su variable."
   ],
   "metadata": {
    "collapsed": false
   },
   "id": "aa768687373638fb"
  },
  {
   "cell_type": "code",
   "execution_count": 173,
   "outputs": [],
   "source": [
    "data_loader.clean_data()\n",
    "data = data_loader.get_cleaned_data()"
   ],
   "metadata": {
    "collapsed": false,
    "ExecuteTime": {
     "end_time": "2023-11-23T16:57:19.597868800Z",
     "start_time": "2023-11-23T16:57:15.800863300Z"
    }
   },
   "id": "f1f338f27e9e6e88"
  },
  {
   "cell_type": "markdown",
   "source": [
    "Por último, para confirmar que los datos se han cargado bien, utilizamos el método get_nan_columns para ver cuántos datos en cada columna quedan nulos, así como usamos el método info() de pandas para ver un resumen de todas las columnas y comprobamos también que todo el formateo de las columnas se ha realizado sin problema."
   ],
   "metadata": {
    "collapsed": false
   },
   "id": "5c4457e965ecfd44"
  },
  {
   "cell_type": "code",
   "execution_count": 174,
   "outputs": [
    {
     "name": "stdout",
     "output_type": "stream",
     "text": [
      "datasets/actuacionesBomberos\n",
      "AÑO                         0\n",
      "MES                         0\n",
      "DISTRITO                    0\n",
      "FUEGOS                      0\n",
      "DAÑOS_EN_CONSTRUCCION       0\n",
      "SALVAMENTOS_Y_RESCATES      0\n",
      "DAÑOS_POR_AGUA              0\n",
      "INCIDENTES_DIVERSOS         0\n",
      "SALIDAS_SIN_INTERVENCION    0\n",
      "SERVICIOS_VARIOS            0\n",
      "TOTAL                       0\n",
      "dtype: int64\n",
      "<class 'pandas.core.frame.DataFrame'>\n",
      "Index: 439 entries, 0 to 175\n",
      "Data columns (total 11 columns):\n",
      " #   Column                    Non-Null Count  Dtype \n",
      "---  ------                    --------------  ----- \n",
      " 0   AÑO                       439 non-null    int64 \n",
      " 1   MES                       439 non-null    object\n",
      " 2   DISTRITO                  439 non-null    object\n",
      " 3   FUEGOS                    439 non-null    int64 \n",
      " 4   DAÑOS_EN_CONSTRUCCION     439 non-null    int64 \n",
      " 5   SALVAMENTOS_Y_RESCATES    439 non-null    int64 \n",
      " 6   DAÑOS_POR_AGUA            439 non-null    int64 \n",
      " 7   INCIDENTES_DIVERSOS       439 non-null    int64 \n",
      " 8   SALIDAS_SIN_INTERVENCION  439 non-null    int64 \n",
      " 9   SERVICIOS_VARIOS          439 non-null    int64 \n",
      " 10  TOTAL                     439 non-null    int64 \n",
      "dtypes: int64(9), object(2)\n",
      "memory usage: 41.2+ KB\n",
      "None\n",
      "datasets/estaciones\n",
      "FDIA     0\n",
      "FEST     0\n",
      "FSEN     0\n",
      "HOR1     0\n",
      "HOR2     0\n",
      "HOR3     0\n",
      "HOR4     0\n",
      "HOR5     0\n",
      "HOR6     0\n",
      "HOR7     0\n",
      "HOR8     0\n",
      "HOR9     0\n",
      "HOR10    0\n",
      "HOR11    0\n",
      "HOR12    0\n",
      "dtype: int64\n",
      "<class 'pandas.core.frame.DataFrame'>\n",
      "Index: 86140 entries, 0 to 7079\n",
      "Data columns (total 15 columns):\n",
      " #   Column  Non-Null Count  Dtype  \n",
      "---  ------  --------------  -----  \n",
      " 0   FDIA    86140 non-null  object \n",
      " 1   FEST    86140 non-null  object \n",
      " 2   FSEN    86140 non-null  object \n",
      " 3   HOR1    86140 non-null  float64\n",
      " 4   HOR2    86140 non-null  float64\n",
      " 5   HOR3    86140 non-null  float64\n",
      " 6   HOR4    86140 non-null  float64\n",
      " 7   HOR5    86140 non-null  float64\n",
      " 8   HOR6    86140 non-null  float64\n",
      " 9   HOR7    86140 non-null  float64\n",
      " 10  HOR8    86140 non-null  float64\n",
      " 11  HOR9    86140 non-null  float64\n",
      " 12  HOR10   86140 non-null  float64\n",
      " 13  HOR11   86140 non-null  float64\n",
      " 14  HOR12   86140 non-null  float64\n",
      "dtypes: float64(12), object(3)\n",
      "memory usage: 10.5+ MB\n",
      "None\n",
      "datasets/accidentalidad\n",
      "NUM_EXPEDIENTE              0\n",
      "FECHA                       0\n",
      "HORA                        0\n",
      "LOCALIZACION                0\n",
      "NUMERO                      1\n",
      "COD_DISTRITO                1\n",
      "DISTRITO                    1\n",
      "TIPO_ACCIDENTE              1\n",
      "ESTADO_METEOROLÓGICO     8220\n",
      "TIPO_VEHICULO             453\n",
      "TIPO_PERSONA                0\n",
      "RANGO_EDAD                  0\n",
      "SEXO                        0\n",
      "COD_LESIVIDAD           34125\n",
      "LESIVIDAD               34125\n",
      "COORDENADA_X_UTM            1\n",
      "COORDENADA_Y_UTM            1\n",
      "POSITIVA_ALCOHOL          341\n",
      "POSITIVA_DROGA          74686\n",
      "dtype: int64\n",
      "<class 'pandas.core.frame.DataFrame'>\n",
      "Index: 74962 entries, 0 to 31157\n",
      "Data columns (total 19 columns):\n",
      " #   Column                Non-Null Count  Dtype         \n",
      "---  ------                --------------  -----         \n",
      " 0   NUM_EXPEDIENTE        74962 non-null  object        \n",
      " 1   FECHA                 74962 non-null  datetime64[ns]\n",
      " 2   HORA                  74962 non-null  object        \n",
      " 3   LOCALIZACION          74962 non-null  object        \n",
      " 4   NUMERO                74961 non-null  object        \n",
      " 5   COD_DISTRITO          74961 non-null  float64       \n",
      " 6   DISTRITO              74961 non-null  object        \n",
      " 7   TIPO_ACCIDENTE        74961 non-null  object        \n",
      " 8   ESTADO_METEOROLÓGICO  66742 non-null  object        \n",
      " 9   TIPO_VEHICULO         74509 non-null  object        \n",
      " 10  TIPO_PERSONA          74962 non-null  object        \n",
      " 11  RANGO_EDAD            74962 non-null  object        \n",
      " 12  SEXO                  74962 non-null  object        \n",
      " 13  COD_LESIVIDAD         40837 non-null  float64       \n",
      " 14  LESIVIDAD             40837 non-null  object        \n",
      " 15  COORDENADA_X_UTM      74961 non-null  object        \n",
      " 16  COORDENADA_Y_UTM      74961 non-null  object        \n",
      " 17  POSITIVA_ALCOHOL      74621 non-null  object        \n",
      " 18  POSITIVA_DROGA        276 non-null    float64       \n",
      "dtypes: datetime64[ns](1), float64(3), object(15)\n",
      "memory usage: 11.4+ MB\n",
      "None\n",
      "DireccionesEvolucionHistorica_20231004.csv\n",
      "COD_VIA                    0\n",
      "VIA_SQC               371584\n",
      "VIA_CLASE                  0\n",
      "VIA_PAR                17997\n",
      "VIA_NOMBRE                 0\n",
      "VIA_NOMBRE_ACENTOS         0\n",
      "COD_NDP                    0\n",
      "CLASE_NDP                  0\n",
      "NÚMERO                     0\n",
      "CALIFICADOR           322826\n",
      "FECHA_DE_ALTA              0\n",
      "FECHA_DE_BAJA         211657\n",
      "TIPO_NDP               16248\n",
      "UTMX_ED                    0\n",
      "UTMY_ED                    0\n",
      "UTMX_ETRS                  0\n",
      "UTMY_ETRS                  0\n",
      "LATITUD                    0\n",
      "LONGITUD                   0\n",
      "ANGULO_ROTULACION          0\n",
      "dtype: int64\n",
      "<class 'pandas.core.frame.DataFrame'>\n",
      "RangeIndex: 371584 entries, 0 to 371583\n",
      "Data columns (total 20 columns):\n",
      " #   Column              Non-Null Count   Dtype  \n",
      "---  ------              --------------   -----  \n",
      " 0   COD_VIA             371584 non-null  int64  \n",
      " 1   VIA_SQC             0 non-null       float64\n",
      " 2   VIA_CLASE           371584 non-null  object \n",
      " 3   VIA_PAR             353587 non-null  object \n",
      " 4   VIA_NOMBRE          371584 non-null  object \n",
      " 5   VIA_NOMBRE_ACENTOS  371584 non-null  object \n",
      " 6   COD_NDP             371584 non-null  int64  \n",
      " 7   CLASE_NDP           371584 non-null  object \n",
      " 8   NÚMERO              371584 non-null  int64  \n",
      " 9   CALIFICADOR         48758 non-null   object \n",
      " 10  FECHA_DE_ALTA       371584 non-null  object \n",
      " 11  FECHA_DE_BAJA       159927 non-null  object \n",
      " 12  TIPO_NDP            355336 non-null  object \n",
      " 13  UTMX_ED             371584 non-null  object \n",
      " 14  UTMY_ED             371584 non-null  object \n",
      " 15  UTMX_ETRS           371584 non-null  object \n",
      " 16  UTMY_ETRS           371584 non-null  object \n",
      " 17  LATITUD             371584 non-null  object \n",
      " 18  LONGITUD            371584 non-null  object \n",
      " 19  ANGULO_ROTULACION   371584 non-null  object \n",
      "dtypes: float64(1), int64(3), object(16)\n",
      "memory usage: 56.7+ MB\n",
      "None\n",
      "DireccionesVigentes_20231004.csv\n",
      "COD_VIA                    0\n",
      "VIA_CLASE                  0\n",
      "VIA_PAR                 3381\n",
      "VIA_NOMBRE                 0\n",
      "VIA_NOMBRE_ACENTOS         0\n",
      "CLASE_APP                  0\n",
      "NUMERO                     0\n",
      "CALIFICADOR           178838\n",
      "TIPO_NDP                   0\n",
      "COD_NDP                    0\n",
      "DISTRITO                   0\n",
      "BARRIO                     0\n",
      "COD_POSTAL                 0\n",
      "UTMX_ED                    0\n",
      "UTMY_ED                    0\n",
      "UTMX_ETRS                  0\n",
      "UTMY_ETRS                  0\n",
      "LATITUD                    0\n",
      "LONGITUD                   0\n",
      "ANGULO_ROTULACION          0\n",
      "dtype: int64\n",
      "<class 'pandas.core.frame.DataFrame'>\n",
      "Index: 210384 entries, 0 to 210663\n",
      "Data columns (total 20 columns):\n",
      " #   Column              Non-Null Count   Dtype  \n",
      "---  ------              --------------   -----  \n",
      " 0   COD_VIA             210384 non-null  int64  \n",
      " 1   VIA_CLASE           210384 non-null  object \n",
      " 2   VIA_PAR             207003 non-null  object \n",
      " 3   VIA_NOMBRE          210384 non-null  object \n",
      " 4   VIA_NOMBRE_ACENTOS  210384 non-null  object \n",
      " 5   CLASE_APP           210384 non-null  object \n",
      " 6   NUMERO              210384 non-null  int64  \n",
      " 7   CALIFICADOR         31546 non-null   object \n",
      " 8   TIPO_NDP            210384 non-null  object \n",
      " 9   COD_NDP             210384 non-null  int64  \n",
      " 10  DISTRITO            210384 non-null  int64  \n",
      " 11  BARRIO              210384 non-null  int64  \n",
      " 12  COD_POSTAL          210384 non-null  int64  \n",
      " 13  UTMX_ED             210384 non-null  object \n",
      " 14  UTMY_ED             210384 non-null  object \n",
      " 15  UTMX_ETRS           210384 non-null  object \n",
      " 16  UTMY_ETRS           210384 non-null  object \n",
      " 17  LATITUD             210384 non-null  object \n",
      " 18  LONGITUD            210384 non-null  object \n",
      " 19  ANGULO_ROTULACION   210384 non-null  float64\n",
      "dtypes: float64(1), int64(6), object(13)\n",
      "memory usage: 33.7+ MB\n",
      "None\n",
      "RADARES_FIJOS_vDTT.csv\n",
      "Nº\\nRADAR               0\n",
      "UBICACION               0\n",
      "CARRETARA_O_VIAL        1\n",
      "UBICACIÓN\\nCALLE_30     8\n",
      "PK                      1\n",
      "SENTIDO                 3\n",
      "TIPO                    3\n",
      "X_(WGS84)              13\n",
      "Y_(WGS84)              13\n",
      "LONGITUD                0\n",
      "LATITUD                 0\n",
      "COORDENADAS             0\n",
      "dtype: int64\n",
      "<class 'pandas.core.frame.DataFrame'>\n",
      "RangeIndex: 29 entries, 0 to 28\n",
      "Data columns (total 12 columns):\n",
      " #   Column              Non-Null Count  Dtype \n",
      "---  ------              --------------  ----- \n",
      " 0   Nº\n",
      "RADAR            29 non-null     int64 \n",
      " 1   UBICACION           29 non-null     object\n",
      " 2   CARRETARA_O_VIAL    28 non-null     object\n",
      " 3   UBICACIÓN\n",
      "CALLE_30  21 non-null     object\n",
      " 4   PK                  28 non-null     object\n",
      " 5   SENTIDO             26 non-null     object\n",
      " 6   TIPO                26 non-null     object\n",
      " 7   X_(WGS84)           16 non-null     object\n",
      " 8   Y_(WGS84)           16 non-null     object\n",
      " 9   LONGITUD            29 non-null     object\n",
      " 10  LATITUD             29 non-null     object\n",
      " 11  COORDENADAS         29 non-null     object\n",
      "dtypes: int64(1), object(11)\n",
      "memory usage: 2.8+ KB\n",
      "None\n",
      "VialesEvolucionHistorica_20231004.csv\n",
      "COD_VIA                  0\n",
      "VIA_SQC                  0\n",
      "VIA_CLASE                0\n",
      "VIA_PAR               1724\n",
      "VIA_NOMBRE               0\n",
      "VIA_NOMBRE_ACENTOS       0\n",
      "FECHA_DE_ALTA            0\n",
      "FECHA_DE_BAJA         9354\n",
      "VIA_ESTADO               0\n",
      "dtype: int64\n",
      "<class 'pandas.core.frame.DataFrame'>\n",
      "RangeIndex: 16446 entries, 0 to 16445\n",
      "Data columns (total 9 columns):\n",
      " #   Column              Non-Null Count  Dtype \n",
      "---  ------              --------------  ----- \n",
      " 0   COD_VIA             16446 non-null  int64 \n",
      " 1   VIA_SQC             16446 non-null  int64 \n",
      " 2   VIA_CLASE           16446 non-null  object\n",
      " 3   VIA_PAR             14722 non-null  object\n",
      " 4   VIA_NOMBRE          16446 non-null  object\n",
      " 5   VIA_NOMBRE_ACENTOS  16446 non-null  object\n",
      " 6   FECHA_DE_ALTA       16446 non-null  object\n",
      " 7   FECHA_DE_BAJA       7092 non-null   object\n",
      " 8   VIA_ESTADO          16446 non-null  object\n",
      "dtypes: int64(2), object(7)\n",
      "memory usage: 1.1+ MB\n",
      "None\n",
      "VialesVigentesDistritosBarrios_20231004.csv\n",
      "COD_VIA                  0\n",
      "VIA_CLASE                0\n",
      "VIA_PAR                601\n",
      "VIA_NOMBRE               0\n",
      "VIA_NOMBRE_ACENTOS       0\n",
      "DISTRITO                24\n",
      "BARRIO                  24\n",
      "IMPAR_MIN             2719\n",
      "IMPAR_MAX             2719\n",
      "PAR_MIN               2558\n",
      "PAR_MAX               2558\n",
      "dtype: int64\n",
      "<class 'pandas.core.frame.DataFrame'>\n",
      "Index: 11014 entries, 0 to 11025\n",
      "Data columns (total 11 columns):\n",
      " #   Column              Non-Null Count  Dtype  \n",
      "---  ------              --------------  -----  \n",
      " 0   COD_VIA             11014 non-null  int64  \n",
      " 1   VIA_CLASE           11014 non-null  object \n",
      " 2   VIA_PAR             10413 non-null  object \n",
      " 3   VIA_NOMBRE          11014 non-null  object \n",
      " 4   VIA_NOMBRE_ACENTOS  11014 non-null  object \n",
      " 5   DISTRITO            10990 non-null  float64\n",
      " 6   BARRIO              10990 non-null  float64\n",
      " 7   IMPAR_MIN           8295 non-null   float64\n",
      " 8   IMPAR_MAX           8295 non-null   float64\n",
      " 9   PAR_MIN             8456 non-null   float64\n",
      " 10  PAR_MAX             8456 non-null   float64\n",
      "dtypes: float64(6), int64(1), object(4)\n",
      "memory usage: 1.0+ MB\n",
      "None\n",
      "VialesVigentesDistritos_20231004.csv\n",
      "COD_VIA                  0\n",
      "VIA_CLASE                0\n",
      "VIA_PAR                472\n",
      "VIA_NOMBRE               0\n",
      "VIA_NOMBRE_ACENTOS       0\n",
      "DISTRITO                24\n",
      "IMPAR_MIN             1762\n",
      "IMPAR_MAX             1762\n",
      "PAR_MIN               1666\n",
      "PAR_MAX               1666\n",
      "dtype: int64\n",
      "<class 'pandas.core.frame.DataFrame'>\n",
      "Index: 9839 entries, 0 to 11025\n",
      "Data columns (total 10 columns):\n",
      " #   Column              Non-Null Count  Dtype  \n",
      "---  ------              --------------  -----  \n",
      " 0   COD_VIA             9839 non-null   int64  \n",
      " 1   VIA_CLASE           9839 non-null   object \n",
      " 2   VIA_PAR             9367 non-null   object \n",
      " 3   VIA_NOMBRE          9839 non-null   object \n",
      " 4   VIA_NOMBRE_ACENTOS  9839 non-null   object \n",
      " 5   DISTRITO            9815 non-null   float64\n",
      " 6   IMPAR_MIN           8077 non-null   float64\n",
      " 7   IMPAR_MAX           8077 non-null   float64\n",
      " 8   PAR_MIN             8173 non-null   float64\n",
      " 9   PAR_MAX             8173 non-null   float64\n",
      "dtypes: float64(5), int64(1), object(4)\n",
      "memory usage: 845.5+ KB\n",
      "None\n",
      "VialesVigentes_20231004.csv\n",
      "COD_VIA                      0\n",
      "VIA_CLASE                    0\n",
      "VIA_PAR                    402\n",
      "VIA_NOMBRE                   0\n",
      "VIA_NOMBRE_ACENTOS           0\n",
      "COD_VIA_COMIENZA             0\n",
      "CLASE_COMIENZA               0\n",
      "PARTICULA_COMIENZA         545\n",
      "NOMBRE_COMIENZA              0\n",
      "NOMBRE_ACENTOS_COMIENZA      0\n",
      "COD_VIA_TERMINA              0\n",
      "CLASE_TERMINA                0\n",
      "PARTICULA_TERMINA          917\n",
      "NOMBRE_TERMINA               0\n",
      "NOMBRE_ACENTOS_TERMINA       0\n",
      "dtype: int64\n",
      "<class 'pandas.core.frame.DataFrame'>\n",
      "RangeIndex: 9388 entries, 0 to 9387\n",
      "Data columns (total 15 columns):\n",
      " #   Column                   Non-Null Count  Dtype \n",
      "---  ------                   --------------  ----- \n",
      " 0   COD_VIA                  9388 non-null   int64 \n",
      " 1   VIA_CLASE                9388 non-null   object\n",
      " 2   VIA_PAR                  8986 non-null   object\n",
      " 3   VIA_NOMBRE               9388 non-null   object\n",
      " 4   VIA_NOMBRE_ACENTOS       9388 non-null   object\n",
      " 5   COD_VIA_COMIENZA         9388 non-null   int64 \n",
      " 6   CLASE_COMIENZA           9388 non-null   object\n",
      " 7   PARTICULA_COMIENZA       8843 non-null   object\n",
      " 8   NOMBRE_COMIENZA          9388 non-null   object\n",
      " 9   NOMBRE_ACENTOS_COMIENZA  9388 non-null   object\n",
      " 10  COD_VIA_TERMINA          9388 non-null   int64 \n",
      " 11  CLASE_TERMINA            9388 non-null   object\n",
      " 12  PARTICULA_TERMINA        8471 non-null   object\n",
      " 13  NOMBRE_TERMINA           9388 non-null   object\n",
      " 14  NOMBRE_ACENTOS_TERMINA   9388 non-null   object\n",
      "dtypes: int64(3), object(12)\n",
      "memory usage: 1.1+ MB\n",
      "None\n"
     ]
    }
   ],
   "source": [
    "data_loader.get_nan_columns()"
   ],
   "metadata": {
    "collapsed": false,
    "ExecuteTime": {
     "end_time": "2023-11-23T16:57:20.059795700Z",
     "start_time": "2023-11-23T16:57:19.612834700Z"
    }
   },
   "id": "6f5f32ab8fbcc715"
  },
  {
   "cell_type": "markdown",
   "source": [
    "Efectivamente, se realiza sin problemas. El siguiente paso es el análisis de los datasets columna a columna para revisar qué método usar para rellenar los datos faltantes dependiendo de cada atributo.  "
   ],
   "metadata": {
    "collapsed": false
   },
   "id": "3c50537c6d13dcad"
  },
  {
   "cell_type": "markdown",
   "source": [
    "### Sustitución de valores faltantes\n",
    "Los datasets actuaciones bomberos y estaciones no tienen datos faltantes, por lo que sólo nos queda trabajar con los otros 8 datasets, que podemos observar aquí:"
   ],
   "metadata": {
    "collapsed": false
   },
   "id": "806080163c94c164"
  },
  {
   "cell_type": "code",
   "execution_count": 175,
   "outputs": [
    {
     "name": "stdout",
     "output_type": "stream",
     "text": [
      "datasets/actuacionesBomberos\n",
      "datasets/estaciones\n",
      "datasets/accidentalidad\n",
      "DireccionesEvolucionHistorica_20231004.csv\n",
      "DireccionesVigentes_20231004.csv\n",
      "RADARES_FIJOS_vDTT.csv\n",
      "VialesEvolucionHistorica_20231004.csv\n",
      "VialesVigentesDistritosBarrios_20231004.csv\n",
      "VialesVigentesDistritos_20231004.csv\n",
      "VialesVigentes_20231004.csv\n"
     ]
    }
   ],
   "source": [
    "for i in data.keys():\n",
    "    print(i)"
   ],
   "metadata": {
    "collapsed": false,
    "ExecuteTime": {
     "end_time": "2023-11-23T16:57:20.060790Z",
     "start_time": "2023-11-23T16:57:20.049782600Z"
    }
   },
   "id": "f3082c6e4ff58ef7"
  },
  {
   "cell_type": "markdown",
   "source": [
    "Empecemos con accidentalidad: "
   ],
   "metadata": {
    "collapsed": false
   },
   "id": "861c0394be81dc0e"
  },
  {
   "cell_type": "code",
   "execution_count": 176,
   "outputs": [
    {
     "name": "stdout",
     "output_type": "stream",
     "text": [
      "NUM_EXPEDIENTE              0\n",
      "FECHA                       0\n",
      "HORA                        0\n",
      "LOCALIZACION                0\n",
      "NUMERO                      1\n",
      "COD_DISTRITO                1\n",
      "DISTRITO                    1\n",
      "TIPO_ACCIDENTE              1\n",
      "ESTADO_METEOROLÓGICO     8220\n",
      "TIPO_VEHICULO             453\n",
      "TIPO_PERSONA                0\n",
      "RANGO_EDAD                  0\n",
      "SEXO                        0\n",
      "COD_LESIVIDAD           34125\n",
      "LESIVIDAD               34125\n",
      "COORDENADA_X_UTM            1\n",
      "COORDENADA_Y_UTM            1\n",
      "POSITIVA_ALCOHOL          341\n",
      "POSITIVA_DROGA          74686\n",
      "dtype: int64\n",
      "<class 'pandas.core.frame.DataFrame'>\n",
      "Index: 74962 entries, 0 to 31157\n",
      "Data columns (total 19 columns):\n",
      " #   Column                Non-Null Count  Dtype         \n",
      "---  ------                --------------  -----         \n",
      " 0   NUM_EXPEDIENTE        74962 non-null  object        \n",
      " 1   FECHA                 74962 non-null  datetime64[ns]\n",
      " 2   HORA                  74962 non-null  object        \n",
      " 3   LOCALIZACION          74962 non-null  object        \n",
      " 4   NUMERO                74961 non-null  object        \n",
      " 5   COD_DISTRITO          74961 non-null  float64       \n",
      " 6   DISTRITO              74961 non-null  object        \n",
      " 7   TIPO_ACCIDENTE        74961 non-null  object        \n",
      " 8   ESTADO_METEOROLÓGICO  66742 non-null  object        \n",
      " 9   TIPO_VEHICULO         74509 non-null  object        \n",
      " 10  TIPO_PERSONA          74962 non-null  object        \n",
      " 11  RANGO_EDAD            74962 non-null  object        \n",
      " 12  SEXO                  74962 non-null  object        \n",
      " 13  COD_LESIVIDAD         40837 non-null  float64       \n",
      " 14  LESIVIDAD             40837 non-null  object        \n",
      " 15  COORDENADA_X_UTM      74961 non-null  object        \n",
      " 16  COORDENADA_Y_UTM      74961 non-null  object        \n",
      " 17  POSITIVA_ALCOHOL      74621 non-null  object        \n",
      " 18  POSITIVA_DROGA        276 non-null    float64       \n",
      "dtypes: datetime64[ns](1), float64(3), object(15)\n",
      "memory usage: 11.4+ MB\n",
      "None\n"
     ]
    },
    {
     "data": {
      "text/plain": "      NUM_EXPEDIENTE      FECHA      HORA  \\\n0        2022S000001 2022-01-01   1:30:00   \n1        2022S000001 2022-01-01   1:30:00   \n2        2022S000002 2022-01-01   0:30:00   \n3        2022S000002 2022-01-01   0:30:00   \n4        2022S000002 2022-01-01   0:30:00   \n...              ...        ...       ...   \n31153    2023S028337 2023-08-31  23:20:00   \n31154    2023S028341 2023-08-31  22:30:00   \n31155    2023S028341 2023-08-31  22:30:00   \n31156    2023S028352 2023-08-31  14:40:00   \n31157    2023S029136 2023-08-02  22:10:00   \n\n                                     LOCALIZACION  NUMERO  COD_DISTRITO  \\\n0                              AVDA. ALBUFERA, 19      19          13.0   \n1                              AVDA. ALBUFERA, 19      19          13.0   \n2      PLAZA. CANOVAS DEL CASTILLO / PASEO. PRADO       2           3.0   \n3      PLAZA. CANOVAS DEL CASTILLO / PASEO. PRADO       2           3.0   \n4      PLAZA. CANOVAS DEL CASTILLO / PASEO. PRADO       2           3.0   \n...                                           ...     ...           ...   \n31153                 CALL. GOLFO DE SALONICA, 12      12          16.0   \n31154                           CALLE SAN SERAPIO       1          12.0   \n31155                           CALLE SAN SERAPIO       1          12.0   \n31156                         AUTOV. M-30, 00NC06  00NC06           5.0   \n31157             AVDA. CARDENAL HERRERA ORIA, 80      80           8.0   \n\n                  DISTRITO                TIPO_ACCIDENTE ESTADO_METEOROLÓGICO  \\\n0       PUENTE DE VALLECAS                       Alcance            Despejado   \n1       PUENTE DE VALLECAS                       Alcance            Despejado   \n2                   RETIRO       Colisión fronto-lateral                  NaN   \n3                   RETIRO       Colisión fronto-lateral                  NaN   \n4                   RETIRO       Colisión fronto-lateral                  NaN   \n...                    ...                           ...                  ...   \n31153            HORTALEZA                          Otro            Despejado   \n31154                USERA                       Alcance            Despejado   \n31155                USERA                       Alcance            Despejado   \n31156            CHAMARTÍN                         Caída            Despejado   \n31157  FUENCARRAL-EL PARDO  Choque contra obstáculo fijo                  NaN   \n\n                 TIPO_VEHICULO TIPO_PERSONA       RANGO_EDAD    SEXO  \\\n0                      Turismo    Conductor  De 30 a 34 años   Mujer   \n1                      Turismo    Conductor  De 45 a 49 años  Hombre   \n2      Motocicleta hasta 125cc    Conductor  De 30 a 34 años  Hombre   \n3      Motocicleta hasta 125cc     Pasajero  De 35 a 39 años   Mujer   \n4                      Turismo    Conductor  De 40 a 44 años  Hombre   \n...                        ...          ...              ...     ...   \n31153                  Turismo     Pasajero  De 55 a 59 años   Mujer   \n31154  Motocicleta hasta 125cc    Conductor  De 30 a 34 años  Hombre   \n31155                  Turismo    Conductor  De 35 a 39 años  Hombre   \n31156  Motocicleta hasta 125cc    Conductor  De 40 a 44 años  Hombre   \n31157                  Turismo    Conductor  De 35 a 39 años  Hombre   \n\n       COD_LESIVIDAD                                          LESIVIDAD  \\\n0                NaN                                                NaN   \n1                NaN                                                NaN   \n2                NaN                                                NaN   \n3                NaN                                                NaN   \n4                NaN                                                NaN   \n...              ...                                                ...   \n31153           14.0                           Sin asistencia sanitaria   \n31154            7.0  Asistencia sanitaria sólo en el lugar del acci...   \n31155           14.0                           Sin asistencia sanitaria   \n31156            1.0        Atención en urgencias sin posterior ingreso   \n31157            NaN                                                NaN   \n\n      COORDENADA_X_UTM COORDENADA_Y_UTM POSITIVA_ALCOHOL  POSITIVA_DROGA  \n0           443359,226      4472082,272                N             NaN  \n1           443359,226      4472082,272                N             NaN  \n2           441155,351      4474129,588                S             NaN  \n3           441155,351      4474129,588                N             NaN  \n4           441155,351      4474129,588                N             NaN  \n...                ...              ...              ...             ...  \n31153       443580.365      4480912.376                N             NaN  \n31154        440795.55      4471044.789                N             NaN  \n31155        440795.55      4471044.789                N             NaN  \n31156         442825.5      4481003.193                N             NaN  \n31157       441491.437       4482518.59                N             NaN  \n\n[74962 rows x 19 columns]",
      "text/html": "<div>\n<style scoped>\n    .dataframe tbody tr th:only-of-type {\n        vertical-align: middle;\n    }\n\n    .dataframe tbody tr th {\n        vertical-align: top;\n    }\n\n    .dataframe thead th {\n        text-align: right;\n    }\n</style>\n<table border=\"1\" class=\"dataframe\">\n  <thead>\n    <tr style=\"text-align: right;\">\n      <th></th>\n      <th>NUM_EXPEDIENTE</th>\n      <th>FECHA</th>\n      <th>HORA</th>\n      <th>LOCALIZACION</th>\n      <th>NUMERO</th>\n      <th>COD_DISTRITO</th>\n      <th>DISTRITO</th>\n      <th>TIPO_ACCIDENTE</th>\n      <th>ESTADO_METEOROLÓGICO</th>\n      <th>TIPO_VEHICULO</th>\n      <th>TIPO_PERSONA</th>\n      <th>RANGO_EDAD</th>\n      <th>SEXO</th>\n      <th>COD_LESIVIDAD</th>\n      <th>LESIVIDAD</th>\n      <th>COORDENADA_X_UTM</th>\n      <th>COORDENADA_Y_UTM</th>\n      <th>POSITIVA_ALCOHOL</th>\n      <th>POSITIVA_DROGA</th>\n    </tr>\n  </thead>\n  <tbody>\n    <tr>\n      <th>0</th>\n      <td>2022S000001</td>\n      <td>2022-01-01</td>\n      <td>1:30:00</td>\n      <td>AVDA. ALBUFERA, 19</td>\n      <td>19</td>\n      <td>13.0</td>\n      <td>PUENTE DE VALLECAS</td>\n      <td>Alcance</td>\n      <td>Despejado</td>\n      <td>Turismo</td>\n      <td>Conductor</td>\n      <td>De 30 a 34 años</td>\n      <td>Mujer</td>\n      <td>NaN</td>\n      <td>NaN</td>\n      <td>443359,226</td>\n      <td>4472082,272</td>\n      <td>N</td>\n      <td>NaN</td>\n    </tr>\n    <tr>\n      <th>1</th>\n      <td>2022S000001</td>\n      <td>2022-01-01</td>\n      <td>1:30:00</td>\n      <td>AVDA. ALBUFERA, 19</td>\n      <td>19</td>\n      <td>13.0</td>\n      <td>PUENTE DE VALLECAS</td>\n      <td>Alcance</td>\n      <td>Despejado</td>\n      <td>Turismo</td>\n      <td>Conductor</td>\n      <td>De 45 a 49 años</td>\n      <td>Hombre</td>\n      <td>NaN</td>\n      <td>NaN</td>\n      <td>443359,226</td>\n      <td>4472082,272</td>\n      <td>N</td>\n      <td>NaN</td>\n    </tr>\n    <tr>\n      <th>2</th>\n      <td>2022S000002</td>\n      <td>2022-01-01</td>\n      <td>0:30:00</td>\n      <td>PLAZA. CANOVAS DEL CASTILLO / PASEO. PRADO</td>\n      <td>2</td>\n      <td>3.0</td>\n      <td>RETIRO</td>\n      <td>Colisión fronto-lateral</td>\n      <td>NaN</td>\n      <td>Motocicleta hasta 125cc</td>\n      <td>Conductor</td>\n      <td>De 30 a 34 años</td>\n      <td>Hombre</td>\n      <td>NaN</td>\n      <td>NaN</td>\n      <td>441155,351</td>\n      <td>4474129,588</td>\n      <td>S</td>\n      <td>NaN</td>\n    </tr>\n    <tr>\n      <th>3</th>\n      <td>2022S000002</td>\n      <td>2022-01-01</td>\n      <td>0:30:00</td>\n      <td>PLAZA. CANOVAS DEL CASTILLO / PASEO. PRADO</td>\n      <td>2</td>\n      <td>3.0</td>\n      <td>RETIRO</td>\n      <td>Colisión fronto-lateral</td>\n      <td>NaN</td>\n      <td>Motocicleta hasta 125cc</td>\n      <td>Pasajero</td>\n      <td>De 35 a 39 años</td>\n      <td>Mujer</td>\n      <td>NaN</td>\n      <td>NaN</td>\n      <td>441155,351</td>\n      <td>4474129,588</td>\n      <td>N</td>\n      <td>NaN</td>\n    </tr>\n    <tr>\n      <th>4</th>\n      <td>2022S000002</td>\n      <td>2022-01-01</td>\n      <td>0:30:00</td>\n      <td>PLAZA. CANOVAS DEL CASTILLO / PASEO. PRADO</td>\n      <td>2</td>\n      <td>3.0</td>\n      <td>RETIRO</td>\n      <td>Colisión fronto-lateral</td>\n      <td>NaN</td>\n      <td>Turismo</td>\n      <td>Conductor</td>\n      <td>De 40 a 44 años</td>\n      <td>Hombre</td>\n      <td>NaN</td>\n      <td>NaN</td>\n      <td>441155,351</td>\n      <td>4474129,588</td>\n      <td>N</td>\n      <td>NaN</td>\n    </tr>\n    <tr>\n      <th>...</th>\n      <td>...</td>\n      <td>...</td>\n      <td>...</td>\n      <td>...</td>\n      <td>...</td>\n      <td>...</td>\n      <td>...</td>\n      <td>...</td>\n      <td>...</td>\n      <td>...</td>\n      <td>...</td>\n      <td>...</td>\n      <td>...</td>\n      <td>...</td>\n      <td>...</td>\n      <td>...</td>\n      <td>...</td>\n      <td>...</td>\n      <td>...</td>\n    </tr>\n    <tr>\n      <th>31153</th>\n      <td>2023S028337</td>\n      <td>2023-08-31</td>\n      <td>23:20:00</td>\n      <td>CALL. GOLFO DE SALONICA, 12</td>\n      <td>12</td>\n      <td>16.0</td>\n      <td>HORTALEZA</td>\n      <td>Otro</td>\n      <td>Despejado</td>\n      <td>Turismo</td>\n      <td>Pasajero</td>\n      <td>De 55 a 59 años</td>\n      <td>Mujer</td>\n      <td>14.0</td>\n      <td>Sin asistencia sanitaria</td>\n      <td>443580.365</td>\n      <td>4480912.376</td>\n      <td>N</td>\n      <td>NaN</td>\n    </tr>\n    <tr>\n      <th>31154</th>\n      <td>2023S028341</td>\n      <td>2023-08-31</td>\n      <td>22:30:00</td>\n      <td>CALLE SAN SERAPIO</td>\n      <td>1</td>\n      <td>12.0</td>\n      <td>USERA</td>\n      <td>Alcance</td>\n      <td>Despejado</td>\n      <td>Motocicleta hasta 125cc</td>\n      <td>Conductor</td>\n      <td>De 30 a 34 años</td>\n      <td>Hombre</td>\n      <td>7.0</td>\n      <td>Asistencia sanitaria sólo en el lugar del acci...</td>\n      <td>440795.55</td>\n      <td>4471044.789</td>\n      <td>N</td>\n      <td>NaN</td>\n    </tr>\n    <tr>\n      <th>31155</th>\n      <td>2023S028341</td>\n      <td>2023-08-31</td>\n      <td>22:30:00</td>\n      <td>CALLE SAN SERAPIO</td>\n      <td>1</td>\n      <td>12.0</td>\n      <td>USERA</td>\n      <td>Alcance</td>\n      <td>Despejado</td>\n      <td>Turismo</td>\n      <td>Conductor</td>\n      <td>De 35 a 39 años</td>\n      <td>Hombre</td>\n      <td>14.0</td>\n      <td>Sin asistencia sanitaria</td>\n      <td>440795.55</td>\n      <td>4471044.789</td>\n      <td>N</td>\n      <td>NaN</td>\n    </tr>\n    <tr>\n      <th>31156</th>\n      <td>2023S028352</td>\n      <td>2023-08-31</td>\n      <td>14:40:00</td>\n      <td>AUTOV. M-30, 00NC06</td>\n      <td>00NC06</td>\n      <td>5.0</td>\n      <td>CHAMARTÍN</td>\n      <td>Caída</td>\n      <td>Despejado</td>\n      <td>Motocicleta hasta 125cc</td>\n      <td>Conductor</td>\n      <td>De 40 a 44 años</td>\n      <td>Hombre</td>\n      <td>1.0</td>\n      <td>Atención en urgencias sin posterior ingreso</td>\n      <td>442825.5</td>\n      <td>4481003.193</td>\n      <td>N</td>\n      <td>NaN</td>\n    </tr>\n    <tr>\n      <th>31157</th>\n      <td>2023S029136</td>\n      <td>2023-08-02</td>\n      <td>22:10:00</td>\n      <td>AVDA. CARDENAL HERRERA ORIA, 80</td>\n      <td>80</td>\n      <td>8.0</td>\n      <td>FUENCARRAL-EL PARDO</td>\n      <td>Choque contra obstáculo fijo</td>\n      <td>NaN</td>\n      <td>Turismo</td>\n      <td>Conductor</td>\n      <td>De 35 a 39 años</td>\n      <td>Hombre</td>\n      <td>NaN</td>\n      <td>NaN</td>\n      <td>441491.437</td>\n      <td>4482518.59</td>\n      <td>N</td>\n      <td>NaN</td>\n    </tr>\n  </tbody>\n</table>\n<p>74962 rows × 19 columns</p>\n</div>"
     },
     "execution_count": 176,
     "metadata": {},
     "output_type": "execute_result"
    }
   ],
   "source": [
    "data_loader.get_info('datasets/accidentalidad')\n",
    "data_loader.data['datasets/accidentalidad']"
   ],
   "metadata": {
    "collapsed": false,
    "ExecuteTime": {
     "end_time": "2023-11-23T16:57:20.141958800Z",
     "start_time": "2023-11-23T16:57:20.056801900Z"
    }
   },
   "id": "587e7d49e462e29"
  },
  {
   "cell_type": "markdown",
   "source": [
    "Hay algunos datos faltantes que tiene sentido que lo sean, y podemos sustituir por un buzzword de algún tipo que nos haga saber que se trate de esto, como lo es que en un accidente en el que no se han producido lesiones, la lesividad sea nula y tampoco haya código de la misma, y como ambas cifras coinciden, es lógico pensar que se trata de las mismas situaciones. Podemos sustituir entonces todos los NaNs de Lesividad faltantes por 'Sin asistencia sanitaria' y el código por -1.0."
   ],
   "metadata": {
    "collapsed": false
   },
   "id": "34a3185975249614"
  },
  {
   "cell_type": "code",
   "execution_count": 177,
   "outputs": [],
   "source": [
    "data_loader.data['datasets/accidentalidad']['LESIVIDAD'] = data_loader.data['datasets/accidentalidad']['LESIVIDAD'].fillna('Sin asistencia sanitaria')\n",
    "data_loader.data['datasets/accidentalidad']['COD_LESIVIDAD'] = data_loader.data['datasets/accidentalidad']['COD_LESIVIDAD'].fillna(-1.0)"
   ],
   "metadata": {
    "collapsed": false,
    "ExecuteTime": {
     "end_time": "2023-11-23T16:57:20.141958800Z",
     "start_time": "2023-11-23T16:57:20.129672700Z"
    }
   },
   "id": "faf483fcbbf34051"
  },
  {
   "cell_type": "markdown",
   "source": [
    "Por otro lado, positivo en droga tiene valor sólo si daba positivo, por lo que rellenar los valores faltantes con 0 es lo más lógico (siendo 0 negativo en droga). "
   ],
   "metadata": {
    "collapsed": false
   },
   "id": "2d6a142e6af20ddc"
  },
  {
   "cell_type": "code",
   "execution_count": 178,
   "outputs": [],
   "source": [
    "data_loader.data['datasets/accidentalidad']['POSITIVA_DROGA'] = data_loader.data['datasets/accidentalidad']['POSITIVA_DROGA'].fillna(0)"
   ],
   "metadata": {
    "collapsed": false,
    "ExecuteTime": {
     "end_time": "2023-11-23T16:57:20.161400800Z",
     "start_time": "2023-11-23T16:57:20.140647300Z"
    }
   },
   "id": "6f0770e842c6602b"
  },
  {
   "cell_type": "markdown",
   "source": [
    "Número, código de distrito, tipo de accidente, coordenadas (x e y), son atributos a los que sólo les falta un dato cada uno, por lo que no es representativo esta falta de datos y podemos rellenarlos con el valor más habitual. "
   ],
   "metadata": {
    "collapsed": false
   },
   "id": "cfef480eb314978e"
  },
  {
   "cell_type": "code",
   "execution_count": 179,
   "outputs": [],
   "source": [
    "numero = data_loader.data['datasets/accidentalidad']['COD_DISTRITO'].mode().iat[0]\n",
    "codDistrito = data_loader.data['datasets/accidentalidad']['COD_DISTRITO'].mode().iat[0]\n",
    "distrito = data_loader.data['datasets/accidentalidad']['COD_DISTRITO'].mode().iat[0]\n",
    "accidente = data_loader.data['datasets/accidentalidad']['COD_DISTRITO'].mode().iat[0]\n",
    "coorX = data_loader.data['datasets/accidentalidad']['COD_DISTRITO'].mode().iat[0]\n",
    "coorY = data_loader.data['datasets/accidentalidad']['COD_DISTRITO'].mode().iat[0]\n",
    "\n",
    "\n",
    "data_loader.data['datasets/accidentalidad']['NUMERO'] = data_loader.data['datasets/accidentalidad']['NUMERO'].fillna(numero)\n",
    "data_loader.data['datasets/accidentalidad']['COD_DISTRITO'] = data_loader.data['datasets/accidentalidad']['COD_DISTRITO'].fillna(codDistrito)\n",
    "data_loader.data['datasets/accidentalidad']['DISTRITO'] = data_loader.data['datasets/accidentalidad']['DISTRITO'].fillna(distrito)\n",
    "data_loader.data['datasets/accidentalidad']['TIPO_ACCIDENTE'] = data_loader.data['datasets/accidentalidad']['TIPO_ACCIDENTE'].fillna(accidente)\n",
    "data_loader.data['datasets/accidentalidad']['COORDENADA_X_UTM'] = data_loader.data['datasets/accidentalidad']['COORDENADA_X_UTM'].fillna(coorX)\n",
    "data_loader.data['datasets/accidentalidad']['COORDENADA_Y_UTM'] = data_loader.data['datasets/accidentalidad']['COORDENADA_Y_UTM'].fillna(coorY)\n"
   ],
   "metadata": {
    "collapsed": false,
    "ExecuteTime": {
     "end_time": "2023-11-23T16:57:20.234483300Z",
     "start_time": "2023-11-23T16:57:20.148444100Z"
    }
   },
   "id": "523ced2bbb542e56"
  },
  {
   "cell_type": "markdown",
   "source": [
    "Por último, donde queda dilema es en positivo alcohol, tipo de vehículo y estado meteorológico. En esta situación, lo más apropiado es ver si, relacionando estos atributos con algún otro, es más probable que los atributos valgan uno u otro valor.\n",
    "\n",
    "- Estado meteorológico. Hay 7 valores posibles: despejado, lluvia débil, lluvia intensa, granizando, nevando, nublado, se desconoce. Aquí, por lo tanto, hay 3 vías de actuación:\n",
    "    - Rellenar con \"se desconoce\", i.e.: ser fieles a lo que se sabe, reducir la proporción de datos artificiales (hay un 11% de datos faltantes), solución sencilla.\n",
    "    - Rellenar con el valor más frecuente: despejado (representa el 75% de los datos), i.e.: solución con datos artificiales más sencilla.\n",
    "    - Rellenar con valores aleatorios según la proporción en la que aparecen los datos, i.e.: el 75% de los datos faltantes se rellenan arbitrariamente con \"Despejado\".\n",
    "\n",
    "    Lo que mejor preserva los datos es, rellenar con \"se desconoce\", pues la variable existe previamente."
   ],
   "metadata": {
    "collapsed": false
   },
   "id": "c1ffcefbaed71bb7"
  },
  {
   "cell_type": "code",
   "execution_count": 180,
   "outputs": [],
   "source": [
    "data_loader.data['datasets/accidentalidad']['ESTADO_METEOROLÓGICO'] = data_loader.data['datasets/accidentalidad']['ESTADO_METEOROLÓGICO'].fillna('Se desconoce')"
   ],
   "metadata": {
    "collapsed": false,
    "ExecuteTime": {
     "end_time": "2023-11-23T16:57:20.247305500Z",
     "start_time": "2023-11-23T16:57:20.185192100Z"
    }
   },
   "id": "b19e895537b3fefc"
  },
  {
   "cell_type": "markdown",
   "source": [
    "- Tipo de vehículo. Hay 34 valores posibles: Ambulancia SAMUR, autobús EMT, autobús, autobús articulado, autobús articulado EMT, autocaravana, bicicleta, bicicleta EPAC (pedaleo asistido), camión de bomberos, camión rígido, ciclo, ciclomotor, ciclomotor de dos ruedas L1e-B, cuadriciclo ligero, cuadriciclo no ligero, furgoneta, maquinaria de obras, microbús <= 17 plazas, moto de tres ruedas > 125cc, moto de tres ruedas hasta 125cc, motocicleta > 125cc, motocicleta hasta 125cc, otros vehículos con motor, otros vehículos sin motor, patinete no eléctrico, remolque, semirremolque, sin especificar, todo terreno, tractocamión, tren/metro, turismo (68%), VMU eléctrico, vehículo articulado. En esta variable hay 0.6% de valores faltantes, lo cual no es significativo, i.e.: la sustitución que elijamos tendrá menos repercusión en el estudio final. Aquí, por lo tanto, hay 2 vías de actuación:\n",
    "    - Rellenar con \"sin especificar\", i.e.: solución sencilla y descriptiva pero que puede dar lugar a interpretaciones erróneas, pues puede haber sido otro tipo de vehículo que no se había registrado.\n",
    "    - Rellenar con el valor más probable según otro atributo (por ejemplo, código de lesividad).\n",
    "    \n",
    "    La solución más apropiada es rellenar con el valor más probable según código de lesividad, por lo que vamos a ver primero cómo se relacionan ambos atributos y después rellenaremos los valores faltantes con el valor más probable."
   ],
   "metadata": {
    "collapsed": false
   },
   "id": "a1c3ed47a75517d2"
  },
  {
   "cell_type": "code",
   "execution_count": 181,
   "outputs": [],
   "source": [
    "data_loader.data['datasets/accidentalidad']['TIPO_VEHICULO'] = data_loader.data['datasets/accidentalidad']['TIPO_VEHICULO'].fillna(data_loader.data['datasets/accidentalidad'].groupby('COD_LESIVIDAD')['TIPO_VEHICULO'].transform(lambda x:x.mode().iat[0]))"
   ],
   "metadata": {
    "collapsed": false,
    "ExecuteTime": {
     "end_time": "2023-11-23T16:57:20.281752100Z",
     "start_time": "2023-11-23T16:57:20.191174600Z"
    }
   },
   "id": "7cab20107357cf63"
  },
  {
   "cell_type": "code",
   "execution_count": 182,
   "outputs": [
    {
     "name": "stdout",
     "output_type": "stream",
     "text": [
      "NUM_EXPEDIENTE            0\n",
      "FECHA                     0\n",
      "HORA                      0\n",
      "LOCALIZACION              0\n",
      "NUMERO                    0\n",
      "COD_DISTRITO              0\n",
      "DISTRITO                  0\n",
      "TIPO_ACCIDENTE            0\n",
      "ESTADO_METEOROLÓGICO      0\n",
      "TIPO_VEHICULO             0\n",
      "TIPO_PERSONA              0\n",
      "RANGO_EDAD                0\n",
      "SEXO                      0\n",
      "COD_LESIVIDAD             0\n",
      "LESIVIDAD                 0\n",
      "COORDENADA_X_UTM          0\n",
      "COORDENADA_Y_UTM          0\n",
      "POSITIVA_ALCOHOL        341\n",
      "POSITIVA_DROGA            0\n",
      "dtype: int64\n",
      "<class 'pandas.core.frame.DataFrame'>\n",
      "Index: 74962 entries, 0 to 31157\n",
      "Data columns (total 19 columns):\n",
      " #   Column                Non-Null Count  Dtype         \n",
      "---  ------                --------------  -----         \n",
      " 0   NUM_EXPEDIENTE        74962 non-null  object        \n",
      " 1   FECHA                 74962 non-null  datetime64[ns]\n",
      " 2   HORA                  74962 non-null  object        \n",
      " 3   LOCALIZACION          74962 non-null  object        \n",
      " 4   NUMERO                74962 non-null  object        \n",
      " 5   COD_DISTRITO          74962 non-null  float64       \n",
      " 6   DISTRITO              74962 non-null  object        \n",
      " 7   TIPO_ACCIDENTE        74962 non-null  object        \n",
      " 8   ESTADO_METEOROLÓGICO  74962 non-null  object        \n",
      " 9   TIPO_VEHICULO         74962 non-null  object        \n",
      " 10  TIPO_PERSONA          74962 non-null  object        \n",
      " 11  RANGO_EDAD            74962 non-null  object        \n",
      " 12  SEXO                  74962 non-null  object        \n",
      " 13  COD_LESIVIDAD         74962 non-null  float64       \n",
      " 14  LESIVIDAD             74962 non-null  object        \n",
      " 15  COORDENADA_X_UTM      74962 non-null  object        \n",
      " 16  COORDENADA_Y_UTM      74962 non-null  object        \n",
      " 17  POSITIVA_ALCOHOL      74621 non-null  object        \n",
      " 18  POSITIVA_DROGA        74962 non-null  float64       \n",
      "dtypes: datetime64[ns](1), float64(3), object(15)\n",
      "memory usage: 11.4+ MB\n",
      "None\n"
     ]
    }
   ],
   "source": [
    "data_loader.get_info('datasets/accidentalidad')"
   ],
   "metadata": {
    "collapsed": false,
    "ExecuteTime": {
     "end_time": "2023-11-23T16:57:20.427451300Z",
     "start_time": "2023-11-23T16:57:20.214959300Z"
    }
   },
   "id": "c790703d72ed5412"
  },
  {
   "cell_type": "markdown",
   "source": [
    "Como podemos comprobar, no quedan datos faltantes. Pasamos a Actuaciones Bomberos:"
   ],
   "metadata": {
    "collapsed": false
   },
   "id": "4f8ee4fcf06fd0e"
  },
  {
   "cell_type": "code",
   "execution_count": 183,
   "outputs": [
    {
     "name": "stdout",
     "output_type": "stream",
     "text": [
      "AÑO                         0\n",
      "MES                         0\n",
      "DISTRITO                    0\n",
      "FUEGOS                      0\n",
      "DAÑOS_EN_CONSTRUCCION       0\n",
      "SALVAMENTOS_Y_RESCATES      0\n",
      "DAÑOS_POR_AGUA              0\n",
      "INCIDENTES_DIVERSOS         0\n",
      "SALIDAS_SIN_INTERVENCION    0\n",
      "SERVICIOS_VARIOS            0\n",
      "TOTAL                       0\n",
      "dtype: int64\n",
      "<class 'pandas.core.frame.DataFrame'>\n",
      "Index: 439 entries, 0 to 175\n",
      "Data columns (total 11 columns):\n",
      " #   Column                    Non-Null Count  Dtype \n",
      "---  ------                    --------------  ----- \n",
      " 0   AÑO                       439 non-null    int64 \n",
      " 1   MES                       439 non-null    object\n",
      " 2   DISTRITO                  439 non-null    object\n",
      " 3   FUEGOS                    439 non-null    int64 \n",
      " 4   DAÑOS_EN_CONSTRUCCION     439 non-null    int64 \n",
      " 5   SALVAMENTOS_Y_RESCATES    439 non-null    int64 \n",
      " 6   DAÑOS_POR_AGUA            439 non-null    int64 \n",
      " 7   INCIDENTES_DIVERSOS       439 non-null    int64 \n",
      " 8   SALIDAS_SIN_INTERVENCION  439 non-null    int64 \n",
      " 9   SERVICIOS_VARIOS          439 non-null    int64 \n",
      " 10  TOTAL                     439 non-null    int64 \n",
      "dtypes: int64(9), object(2)\n",
      "memory usage: 41.2+ KB\n",
      "None\n"
     ]
    }
   ],
   "source": [
    "data_loader.get_info('datasets/actuacionesBomberos')"
   ],
   "metadata": {
    "collapsed": false,
    "ExecuteTime": {
     "end_time": "2023-11-23T16:57:20.429436800Z",
     "start_time": "2023-11-23T16:57:20.274446800Z"
    }
   },
   "id": "7ac790cf4043dacd"
  },
  {
   "cell_type": "markdown",
   "source": [
    "Este dataset no tiene datos faltantes, pasamos al siguiente. Estaciones:"
   ],
   "metadata": {
    "collapsed": false
   },
   "id": "15497bda9537b85"
  },
  {
   "cell_type": "code",
   "execution_count": 184,
   "outputs": [
    {
     "name": "stdout",
     "output_type": "stream",
     "text": [
      "FDIA     0\n",
      "FEST     0\n",
      "FSEN     0\n",
      "HOR1     0\n",
      "HOR2     0\n",
      "HOR3     0\n",
      "HOR4     0\n",
      "HOR5     0\n",
      "HOR6     0\n",
      "HOR7     0\n",
      "HOR8     0\n",
      "HOR9     0\n",
      "HOR10    0\n",
      "HOR11    0\n",
      "HOR12    0\n",
      "dtype: int64\n",
      "<class 'pandas.core.frame.DataFrame'>\n",
      "Index: 86140 entries, 0 to 7079\n",
      "Data columns (total 15 columns):\n",
      " #   Column  Non-Null Count  Dtype  \n",
      "---  ------  --------------  -----  \n",
      " 0   FDIA    86140 non-null  object \n",
      " 1   FEST    86140 non-null  object \n",
      " 2   FSEN    86140 non-null  object \n",
      " 3   HOR1    86140 non-null  float64\n",
      " 4   HOR2    86140 non-null  float64\n",
      " 5   HOR3    86140 non-null  float64\n",
      " 6   HOR4    86140 non-null  float64\n",
      " 7   HOR5    86140 non-null  float64\n",
      " 8   HOR6    86140 non-null  float64\n",
      " 9   HOR7    86140 non-null  float64\n",
      " 10  HOR8    86140 non-null  float64\n",
      " 11  HOR9    86140 non-null  float64\n",
      " 12  HOR10   86140 non-null  float64\n",
      " 13  HOR11   86140 non-null  float64\n",
      " 14  HOR12   86140 non-null  float64\n",
      "dtypes: float64(12), object(3)\n",
      "memory usage: 10.5+ MB\n",
      "None\n"
     ]
    }
   ],
   "source": [
    "data_loader.get_info('datasets/estaciones')"
   ],
   "metadata": {
    "collapsed": false,
    "ExecuteTime": {
     "end_time": "2023-11-23T16:57:20.429436800Z",
     "start_time": "2023-11-23T16:57:20.285175400Z"
    }
   },
   "id": "f00a27c56abd08bc"
  },
  {
   "cell_type": "markdown",
   "source": [
    "Este dataset tampoco tiene datos faltantes. Pasamos a la evolución histórica de las direcciones:"
   ],
   "metadata": {
    "collapsed": false
   },
   "id": "c59a84bcb078339c"
  },
  {
   "cell_type": "code",
   "execution_count": 185,
   "outputs": [
    {
     "name": "stdout",
     "output_type": "stream",
     "text": [
      "COD_VIA                    0\n",
      "VIA_SQC               371584\n",
      "VIA_CLASE                  0\n",
      "VIA_PAR                17997\n",
      "VIA_NOMBRE                 0\n",
      "VIA_NOMBRE_ACENTOS         0\n",
      "COD_NDP                    0\n",
      "CLASE_NDP                  0\n",
      "NÚMERO                     0\n",
      "CALIFICADOR           322826\n",
      "FECHA_DE_ALTA              0\n",
      "FECHA_DE_BAJA         211657\n",
      "TIPO_NDP               16248\n",
      "UTMX_ED                    0\n",
      "UTMY_ED                    0\n",
      "UTMX_ETRS                  0\n",
      "UTMY_ETRS                  0\n",
      "LATITUD                    0\n",
      "LONGITUD                   0\n",
      "ANGULO_ROTULACION          0\n",
      "dtype: int64\n",
      "<class 'pandas.core.frame.DataFrame'>\n",
      "RangeIndex: 371584 entries, 0 to 371583\n",
      "Data columns (total 20 columns):\n",
      " #   Column              Non-Null Count   Dtype  \n",
      "---  ------              --------------   -----  \n",
      " 0   COD_VIA             371584 non-null  int64  \n",
      " 1   VIA_SQC             0 non-null       float64\n",
      " 2   VIA_CLASE           371584 non-null  object \n",
      " 3   VIA_PAR             353587 non-null  object \n",
      " 4   VIA_NOMBRE          371584 non-null  object \n",
      " 5   VIA_NOMBRE_ACENTOS  371584 non-null  object \n",
      " 6   COD_NDP             371584 non-null  int64  \n",
      " 7   CLASE_NDP           371584 non-null  object \n",
      " 8   NÚMERO              371584 non-null  int64  \n",
      " 9   CALIFICADOR         48758 non-null   object \n",
      " 10  FECHA_DE_ALTA       371584 non-null  object \n",
      " 11  FECHA_DE_BAJA       159927 non-null  object \n",
      " 12  TIPO_NDP            355336 non-null  object \n",
      " 13  UTMX_ED             371584 non-null  object \n",
      " 14  UTMY_ED             371584 non-null  object \n",
      " 15  UTMX_ETRS           371584 non-null  object \n",
      " 16  UTMY_ETRS           371584 non-null  object \n",
      " 17  LATITUD             371584 non-null  object \n",
      " 18  LONGITUD            371584 non-null  object \n",
      " 19  ANGULO_ROTULACION   371584 non-null  object \n",
      "dtypes: float64(1), int64(3), object(16)\n",
      "memory usage: 56.7+ MB\n",
      "None\n"
     ]
    }
   ],
   "source": [
    "data_loader.get_info('DireccionesEvolucionHistorica_20231004.csv')"
   ],
   "metadata": {
    "collapsed": false,
    "ExecuteTime": {
     "end_time": "2023-11-23T16:57:20.609235Z",
     "start_time": "2023-11-23T16:57:20.310642200Z"
    }
   },
   "id": "2eba0393162bfffc"
  },
  {
   "cell_type": "markdown",
   "source": [
    "Como podemos observar, faltan datos de las columnas VIA_SQC (secuencia de la denominación), con 371584 NaNs; VIA_PAR (partícula de la denominación), con 17997; CALIFICADOR (del número de la policía), con 322826; FECHA_DE_BAJA (de la dirección), con 211657; y TIPO_NDP (tipo de número: portal, garaje, fachada, etc.) con 16248."
   ],
   "metadata": {
    "collapsed": false
   },
   "id": "71335ecc8091c383"
  },
  {
   "cell_type": "code",
   "execution_count": 186,
   "outputs": [
    {
     "data": {
      "text/plain": "         COD_VIA  VIA_SQC VIA_CLASE VIA_PAR            VIA_NOMBRE  \\\n0            127      NaN     CALLE      DE       ISABEL COLBRAND   \n1            127      NaN     CALLE      DE       ISABEL COLBRAND   \n2            127      NaN     CALLE      DE       ISABEL COLBRAND   \n3            127      NaN     CALLE      DE       ISABEL COLBRAND   \n4            127      NaN     CALLE      DE       ISABEL COLBRAND   \n...          ...      ...       ...     ...                   ...   \n371579  31006109      NaN     LUGAR     NaN  CAÑADA REAL SECTOR 6   \n371580  31006109      NaN     LUGAR     NaN  CAÑADA REAL SECTOR 6   \n371581  31006109      NaN     LUGAR     NaN  CAÑADA REAL SECTOR 6   \n371582  31006109      NaN     LUGAR     NaN  CAÑADA REAL SECTOR 6   \n371583  31006109      NaN     LUGAR     NaN  CAÑADA REAL SECTOR 6   \n\n          VIA_NOMBRE_ACENTOS   COD_NDP CLASE_NDP  NÚMERO CALIFICADOR  \\\n0            ISABEL COLBRAND  11049663    NUMERO       2           B   \n1            ISABEL COLBRAND  11049663    NUMERO       2         NaN   \n2            ISABEL COLBRAND  11049664    NUMERO       4         NaN   \n3            ISABEL COLBRAND  20057084    NUMERO      14         NaN   \n4            ISABEL COLBRAND  20057087    NUMERO      16           A   \n...                      ...       ...       ...     ...         ...   \n371579  CAÑADA REAL SECTOR 6  31071343    NUMERO     197           B   \n371580  CAÑADA REAL SECTOR 6  31071344    NUMERO     207         NaN   \n371581  CAÑADA REAL SECTOR 6  31071345    NUMERO     211         NaN   \n371582  CAÑADA REAL SECTOR 6  31071346    NUMERO     213         NaN   \n371583  CAÑADA REAL SECTOR 6  31071422    NUMERO       3           E   \n\n       FECHA_DE_ALTA FECHA_DE_BAJA TIPO_NDP    UTMX_ED     UTMY_ED  UTMX_ETRS  \\\n0         13/10/1992           NaN   PORTAL  443214,74  4485347,45  443105,38   \n1         01/01/1991    13/10/1992   PORTAL  443214,74  4485347,45  443105,38   \n2         01/01/1991           NaN   PORTAL  443212,21  4485305,01  443102,86   \n3         13/10/1992           NaN  PARCELA  442858,75  4484933,55  442749,39   \n4         06/11/1998           NaN   PORTAL  442750,17  4484945,03  442640,81   \n...              ...           ...      ...        ...         ...        ...   \n371579    12/07/2023           NaN   PORTAL         -1          -1   447989,3   \n371580    12/07/2023           NaN   PORTAL  447926,45  4463659,51  447816,87   \n371581    12/07/2023           NaN   PORTAL  447806,87  4463509,48  447697,29   \n371582    12/07/2023           NaN   PORTAL  447757,71  4463417,13  447648,14   \n371583    29/08/2023           NaN  PARCELA   452003,8  4467480,57  451894,26   \n\n         UTMY_ETRS          LATITUD        LONGITUD ANGULO_ROTULACION  \n0       4485139,98  40°30'54.12'' N  3°40'17.75'' W             85,86  \n1       4485139,98  40°30'54.12'' N  3°40'17.75'' W             85,86  \n2       4485097,54  40°30'52.74'' N  3°40'17.85'' W             86,29  \n3       4484726,08  40°30'40.61'' N  3°40'32.75'' W             27,04  \n4       4484737,56  40°30'40.95'' N  3°40'37.36'' W             16,81  \n...            ...              ...             ...               ...  \n371579  4463631,36  40°19'17.72'' N  3°36'43.89'' W             63,07  \n371580  4463451,88  40°19'11.86'' N  3°36'51.14'' W             52,82  \n371581  4463301,85   40°19'6.97'' N  3°36'56.17'' W             69,89  \n371582   4463209,5   40°19'3.97'' N  3°36'58.22'' W             53,82  \n371583  4467272,88  40°21'16.67'' N  3°33'59.42'' W             46,71  \n\n[371584 rows x 20 columns]",
      "text/html": "<div>\n<style scoped>\n    .dataframe tbody tr th:only-of-type {\n        vertical-align: middle;\n    }\n\n    .dataframe tbody tr th {\n        vertical-align: top;\n    }\n\n    .dataframe thead th {\n        text-align: right;\n    }\n</style>\n<table border=\"1\" class=\"dataframe\">\n  <thead>\n    <tr style=\"text-align: right;\">\n      <th></th>\n      <th>COD_VIA</th>\n      <th>VIA_SQC</th>\n      <th>VIA_CLASE</th>\n      <th>VIA_PAR</th>\n      <th>VIA_NOMBRE</th>\n      <th>VIA_NOMBRE_ACENTOS</th>\n      <th>COD_NDP</th>\n      <th>CLASE_NDP</th>\n      <th>NÚMERO</th>\n      <th>CALIFICADOR</th>\n      <th>FECHA_DE_ALTA</th>\n      <th>FECHA_DE_BAJA</th>\n      <th>TIPO_NDP</th>\n      <th>UTMX_ED</th>\n      <th>UTMY_ED</th>\n      <th>UTMX_ETRS</th>\n      <th>UTMY_ETRS</th>\n      <th>LATITUD</th>\n      <th>LONGITUD</th>\n      <th>ANGULO_ROTULACION</th>\n    </tr>\n  </thead>\n  <tbody>\n    <tr>\n      <th>0</th>\n      <td>127</td>\n      <td>NaN</td>\n      <td>CALLE</td>\n      <td>DE</td>\n      <td>ISABEL COLBRAND</td>\n      <td>ISABEL COLBRAND</td>\n      <td>11049663</td>\n      <td>NUMERO</td>\n      <td>2</td>\n      <td>B</td>\n      <td>13/10/1992</td>\n      <td>NaN</td>\n      <td>PORTAL</td>\n      <td>443214,74</td>\n      <td>4485347,45</td>\n      <td>443105,38</td>\n      <td>4485139,98</td>\n      <td>40°30'54.12'' N</td>\n      <td>3°40'17.75'' W</td>\n      <td>85,86</td>\n    </tr>\n    <tr>\n      <th>1</th>\n      <td>127</td>\n      <td>NaN</td>\n      <td>CALLE</td>\n      <td>DE</td>\n      <td>ISABEL COLBRAND</td>\n      <td>ISABEL COLBRAND</td>\n      <td>11049663</td>\n      <td>NUMERO</td>\n      <td>2</td>\n      <td>NaN</td>\n      <td>01/01/1991</td>\n      <td>13/10/1992</td>\n      <td>PORTAL</td>\n      <td>443214,74</td>\n      <td>4485347,45</td>\n      <td>443105,38</td>\n      <td>4485139,98</td>\n      <td>40°30'54.12'' N</td>\n      <td>3°40'17.75'' W</td>\n      <td>85,86</td>\n    </tr>\n    <tr>\n      <th>2</th>\n      <td>127</td>\n      <td>NaN</td>\n      <td>CALLE</td>\n      <td>DE</td>\n      <td>ISABEL COLBRAND</td>\n      <td>ISABEL COLBRAND</td>\n      <td>11049664</td>\n      <td>NUMERO</td>\n      <td>4</td>\n      <td>NaN</td>\n      <td>01/01/1991</td>\n      <td>NaN</td>\n      <td>PORTAL</td>\n      <td>443212,21</td>\n      <td>4485305,01</td>\n      <td>443102,86</td>\n      <td>4485097,54</td>\n      <td>40°30'52.74'' N</td>\n      <td>3°40'17.85'' W</td>\n      <td>86,29</td>\n    </tr>\n    <tr>\n      <th>3</th>\n      <td>127</td>\n      <td>NaN</td>\n      <td>CALLE</td>\n      <td>DE</td>\n      <td>ISABEL COLBRAND</td>\n      <td>ISABEL COLBRAND</td>\n      <td>20057084</td>\n      <td>NUMERO</td>\n      <td>14</td>\n      <td>NaN</td>\n      <td>13/10/1992</td>\n      <td>NaN</td>\n      <td>PARCELA</td>\n      <td>442858,75</td>\n      <td>4484933,55</td>\n      <td>442749,39</td>\n      <td>4484726,08</td>\n      <td>40°30'40.61'' N</td>\n      <td>3°40'32.75'' W</td>\n      <td>27,04</td>\n    </tr>\n    <tr>\n      <th>4</th>\n      <td>127</td>\n      <td>NaN</td>\n      <td>CALLE</td>\n      <td>DE</td>\n      <td>ISABEL COLBRAND</td>\n      <td>ISABEL COLBRAND</td>\n      <td>20057087</td>\n      <td>NUMERO</td>\n      <td>16</td>\n      <td>A</td>\n      <td>06/11/1998</td>\n      <td>NaN</td>\n      <td>PORTAL</td>\n      <td>442750,17</td>\n      <td>4484945,03</td>\n      <td>442640,81</td>\n      <td>4484737,56</td>\n      <td>40°30'40.95'' N</td>\n      <td>3°40'37.36'' W</td>\n      <td>16,81</td>\n    </tr>\n    <tr>\n      <th>...</th>\n      <td>...</td>\n      <td>...</td>\n      <td>...</td>\n      <td>...</td>\n      <td>...</td>\n      <td>...</td>\n      <td>...</td>\n      <td>...</td>\n      <td>...</td>\n      <td>...</td>\n      <td>...</td>\n      <td>...</td>\n      <td>...</td>\n      <td>...</td>\n      <td>...</td>\n      <td>...</td>\n      <td>...</td>\n      <td>...</td>\n      <td>...</td>\n      <td>...</td>\n    </tr>\n    <tr>\n      <th>371579</th>\n      <td>31006109</td>\n      <td>NaN</td>\n      <td>LUGAR</td>\n      <td>NaN</td>\n      <td>CAÑADA REAL SECTOR 6</td>\n      <td>CAÑADA REAL SECTOR 6</td>\n      <td>31071343</td>\n      <td>NUMERO</td>\n      <td>197</td>\n      <td>B</td>\n      <td>12/07/2023</td>\n      <td>NaN</td>\n      <td>PORTAL</td>\n      <td>-1</td>\n      <td>-1</td>\n      <td>447989,3</td>\n      <td>4463631,36</td>\n      <td>40°19'17.72'' N</td>\n      <td>3°36'43.89'' W</td>\n      <td>63,07</td>\n    </tr>\n    <tr>\n      <th>371580</th>\n      <td>31006109</td>\n      <td>NaN</td>\n      <td>LUGAR</td>\n      <td>NaN</td>\n      <td>CAÑADA REAL SECTOR 6</td>\n      <td>CAÑADA REAL SECTOR 6</td>\n      <td>31071344</td>\n      <td>NUMERO</td>\n      <td>207</td>\n      <td>NaN</td>\n      <td>12/07/2023</td>\n      <td>NaN</td>\n      <td>PORTAL</td>\n      <td>447926,45</td>\n      <td>4463659,51</td>\n      <td>447816,87</td>\n      <td>4463451,88</td>\n      <td>40°19'11.86'' N</td>\n      <td>3°36'51.14'' W</td>\n      <td>52,82</td>\n    </tr>\n    <tr>\n      <th>371581</th>\n      <td>31006109</td>\n      <td>NaN</td>\n      <td>LUGAR</td>\n      <td>NaN</td>\n      <td>CAÑADA REAL SECTOR 6</td>\n      <td>CAÑADA REAL SECTOR 6</td>\n      <td>31071345</td>\n      <td>NUMERO</td>\n      <td>211</td>\n      <td>NaN</td>\n      <td>12/07/2023</td>\n      <td>NaN</td>\n      <td>PORTAL</td>\n      <td>447806,87</td>\n      <td>4463509,48</td>\n      <td>447697,29</td>\n      <td>4463301,85</td>\n      <td>40°19'6.97'' N</td>\n      <td>3°36'56.17'' W</td>\n      <td>69,89</td>\n    </tr>\n    <tr>\n      <th>371582</th>\n      <td>31006109</td>\n      <td>NaN</td>\n      <td>LUGAR</td>\n      <td>NaN</td>\n      <td>CAÑADA REAL SECTOR 6</td>\n      <td>CAÑADA REAL SECTOR 6</td>\n      <td>31071346</td>\n      <td>NUMERO</td>\n      <td>213</td>\n      <td>NaN</td>\n      <td>12/07/2023</td>\n      <td>NaN</td>\n      <td>PORTAL</td>\n      <td>447757,71</td>\n      <td>4463417,13</td>\n      <td>447648,14</td>\n      <td>4463209,5</td>\n      <td>40°19'3.97'' N</td>\n      <td>3°36'58.22'' W</td>\n      <td>53,82</td>\n    </tr>\n    <tr>\n      <th>371583</th>\n      <td>31006109</td>\n      <td>NaN</td>\n      <td>LUGAR</td>\n      <td>NaN</td>\n      <td>CAÑADA REAL SECTOR 6</td>\n      <td>CAÑADA REAL SECTOR 6</td>\n      <td>31071422</td>\n      <td>NUMERO</td>\n      <td>3</td>\n      <td>E</td>\n      <td>29/08/2023</td>\n      <td>NaN</td>\n      <td>PARCELA</td>\n      <td>452003,8</td>\n      <td>4467480,57</td>\n      <td>451894,26</td>\n      <td>4467272,88</td>\n      <td>40°21'16.67'' N</td>\n      <td>3°33'59.42'' W</td>\n      <td>46,71</td>\n    </tr>\n  </tbody>\n</table>\n<p>371584 rows × 20 columns</p>\n</div>"
     },
     "execution_count": 186,
     "metadata": {},
     "output_type": "execute_result"
    }
   ],
   "source": [
    "data_loader.data['DireccionesEvolucionHistorica_20231004.csv']"
   ],
   "metadata": {
    "collapsed": false,
    "ExecuteTime": {
     "end_time": "2023-11-23T16:57:20.610369Z",
     "start_time": "2023-11-23T16:57:20.604602800Z"
    }
   },
   "id": "53ad97490c0d3bf6"
  },
  {
   "cell_type": "markdown",
   "source": [
    "La secuencia de denominación (VIA_SQC) es solo NaNs, por lo que lo más lógico es eliminar la columna directamente"
   ],
   "metadata": {
    "collapsed": false
   },
   "id": "8fdb88335b0cb04a"
  },
  {
   "cell_type": "code",
   "execution_count": 187,
   "outputs": [],
   "source": [
    "data_loader.data['DireccionesEvolucionHistorica_20231004.csv'] = data_loader.data['DireccionesEvolucionHistorica_20231004.csv'].drop('VIA_SQC', axis=1)"
   ],
   "metadata": {
    "collapsed": false,
    "ExecuteTime": {
     "end_time": "2023-11-23T16:57:20.731512Z",
     "start_time": "2023-11-23T16:57:20.611368600Z"
    }
   },
   "id": "33e322239ade1660"
  },
  {
   "cell_type": "markdown",
   "source": [
    "Ahora, pasamos a la partícula de denominación (VIA_PAR), hay 7 valores distintos de entre la lista posible de 20 (DE, EL, A, DEL, LA, AL, DE LA, LAS, A LA, DE LAS, LO, A LAS, DE LO, LOS, A LO, DE LO, DE LOS, POR EL, A LOS, POR LA), de los cuales el primero es A LA y el último es DEL. Por lo tanto, parece que no se ha rellenado con Null o espacio vacío aquellas direcciones en las que no hay partícula:"
   ],
   "metadata": {
    "collapsed": false
   },
   "id": "7af35e4df35809c5"
  },
  {
   "cell_type": "code",
   "execution_count": 188,
   "outputs": [],
   "source": [
    "data_loader.data['DireccionesEvolucionHistorica_20231004.csv']['VIA_PAR'] = data_loader.data['DireccionesEvolucionHistorica_20231004.csv']['VIA_PAR'].fillna(' ')"
   ],
   "metadata": {
    "collapsed": false,
    "ExecuteTime": {
     "end_time": "2023-11-23T16:57:20.804877100Z",
     "start_time": "2023-11-23T16:57:20.666149800Z"
    }
   },
   "id": "d202e69235d0ab01"
  },
  {
   "cell_type": "markdown",
   "source": [
    "Fecha de baja, si no hay valor, es que está aún de alta, así que también sustituimos por un valor que represente que sigue dado de alta:"
   ],
   "metadata": {
    "collapsed": false
   },
   "id": "1db212a61b1e1bd3"
  },
  {
   "cell_type": "code",
   "execution_count": 189,
   "outputs": [],
   "source": [
    "data_loader.data['DireccionesEvolucionHistorica_20231004.csv']['FECHA_DE_BAJA'] = data_loader.data['DireccionesEvolucionHistorica_20231004.csv']['FECHA_DE_BAJA'].fillna('--/--/----')"
   ],
   "metadata": {
    "collapsed": false,
    "ExecuteTime": {
     "end_time": "2023-11-23T16:57:20.804877100Z",
     "start_time": "2023-11-23T16:57:20.683994900Z"
    }
   },
   "id": "9b8f7fad32ae837d"
  },
  {
   "cell_type": "markdown",
   "source": [
    "Para Tipo de número de policía, rellenaremos con el dato más habitual: PORTAL"
   ],
   "metadata": {
    "collapsed": false
   },
   "id": "44d148bf682fc67a"
  },
  {
   "cell_type": "code",
   "execution_count": null,
   "outputs": [],
   "source": [
    "tipoNDP = data_loader.data['DireccionesEvolucionHistorica_20231004.csv']['TIPO_NDP'].mode().iat[0]\n",
    "data_loader.data['DireccionesEvolucionHistorica_20231004.csv']['TIPO_NDP'] = data_loader.data['DireccionesEvolucionHistorica_20231004.csv']['TIPO_NDP'].fillna(tipoNDP)"
   ],
   "metadata": {
    "collapsed": false
   },
   "id": "ae4df31ebd3ffe4d"
  },
  {
   "cell_type": "code",
   "execution_count": null,
   "outputs": [],
   "source": [
    "data_loader.get_info('DireccionesEvolucionHistorica_20231004.csv')"
   ],
   "metadata": {
    "collapsed": false
   },
   "id": "8734de2279c7a8ba"
  },
  {
   "cell_type": "markdown",
   "source": [
    "Efectivamente no quedan Missing Values. Pasamos a las direcciones vigentes:"
   ],
   "metadata": {
    "collapsed": false
   },
   "id": "6b77715c24d741f8"
  },
  {
   "cell_type": "code",
   "execution_count": null,
   "outputs": [],
   "source": [
    "data_loader.get_info('DireccionesVigentes_20231004.csv')"
   ],
   "metadata": {
    "collapsed": false
   },
   "id": "55958931691ddcb2"
  },
  {
   "cell_type": "markdown",
   "source": [
    "Faltan valores en Vía Par (3381) y en Calificador (178838), los sustituimos con el mismo criterio que en el dataset anterior:"
   ],
   "metadata": {
    "collapsed": false
   },
   "id": "f86951036107cae6"
  },
  {
   "cell_type": "code",
   "execution_count": null,
   "outputs": [],
   "source": [
    "data_loader.data['DireccionesVigentes_20231004.csv']['VIA_PAR'] = data_loader.data['DireccionesVigentes_20231004.csv']['VIA_PAR'].fillna(' ')"
   ],
   "metadata": {
    "collapsed": false
   },
   "id": "88d94d0510167f7a"
  },
  {
   "cell_type": "code",
   "execution_count": null,
   "outputs": [],
   "source": [
    "# mismo metodo"
   ],
   "metadata": {
    "collapsed": false
   },
   "id": "c0535edad77c553b"
  },
  {
   "cell_type": "code",
   "execution_count": null,
   "outputs": [],
   "source": [
    "data_loader.get_info('DireccionesVigentes_20231004.csv')"
   ],
   "metadata": {
    "collapsed": false
   },
   "id": "37e450bc15826fcf"
  },
  {
   "cell_type": "markdown",
   "source": [
    "Pasamos al dataset estrella: radares."
   ],
   "metadata": {
    "collapsed": false
   },
   "id": "a05bda3a5bddd9de"
  },
  {
   "cell_type": "code",
   "execution_count": null,
   "outputs": [],
   "source": [
    "data_loader.get_info('RADARES_FIJOS_vDTT.csv')\n",
    "data_loader.data['RADARES_FIJOS_vDTT.csv']\n"
   ],
   "metadata": {
    "collapsed": false
   },
   "id": "a29138f18e2b57d4"
  },
  {
   "cell_type": "markdown",
   "source": [
    "\n",
    "Tabla de frecuencia relativa de accidentes por distritos. En esta tabla se obtiene la frecuencia de accidentes en todos los distritos de madrid, esto hace que se pueda obtener también el tráfico de coches en el distrito. Aunque no sea una relación proporcional, a mayor número de accidentes supone un tráfico mayor en la zona."
   ],
   "metadata": {
    "collapsed": false
   },
   "id": "638d01d63546d2dc"
  },
  {
   "cell_type": "code",
   "execution_count": null,
   "outputs": [],
   "source": [
    "data_loader.data['datasets/accidentalidad']['DISTRITO'] = data_loader.data['datasets/accidentalidad']['DISTRITO'].astype(str)\n",
    "CSVDataLoader.create_graph(data_loader.data['datasets/accidentalidad'], 'DISTRITO', 'accidentes por distrito')\n"
   ],
   "metadata": {
    "collapsed": false
   },
   "id": "5bc82a4dce0d24d5"
  },
  {
   "cell_type": "markdown",
   "source": [
    "Tabla comparativa que muestra los accidentes donde la persona que lo ha padecido ha dado positivo en alcohol."
   ],
   "metadata": {
    "collapsed": false
   },
   "id": "54a78878d7c6d3cd"
  },
  {
   "cell_type": "code",
   "execution_count": 199,
   "outputs": [
    {
     "data": {
      "text/plain": "<Figure size 640x480 with 1 Axes>",
      "image/png": "[encoded data removed]"
     },
     "metadata": {},
     "output_type": "display_data"
    }
   ],
   "source": [
    "accidentes = data_loader.data['datasets/accidentalidad']\n",
    "positivos = accidentes[accidentes['POSITIVA_ALCOHOL'] == 'S']\n",
    "negativos = accidentes[accidentes['POSITIVA_ALCOHOL'] == 'N']\n",
    "labels = ['Positivo en Alcohol', 'Negativo en Alcohol', 'No se realizó la prueba']\n",
    "values = [len(positivos), len(negativos), len(accidentes) - len(positivos) - len(negativos)]\n",
    "plt.bar(labels, values)\n",
    "plt.xlabel('Resultado de Alcohol')\n",
    "plt.ylabel('Número de Accidentes')\n",
    "plt.title('Comparación de Accidentes con y sin Positivo en Alcohol')\n",
    "plt.show()"
   ],
   "metadata": {
    "collapsed": false,
    "ExecuteTime": {
     "end_time": "2023-11-23T16:58:39.034251800Z",
     "start_time": "2023-11-23T16:58:38.927958500Z"
    }
   },
   "id": "601e77076c0b6644"
  },
  {
   "cell_type": "markdown",
   "source": [
    "Tabla comparativo donde la persona que ha padecido el accidente ha dado positivo en drogas."
   ],
   "metadata": {
    "collapsed": false
   },
   "id": "f6f45fc4943e898e"
  },
  {
   "cell_type": "code",
   "execution_count": 200,
   "outputs": [
    {
     "data": {
      "text/plain": "<Figure size 640x480 with 1 Axes>",
      "image/png": "[encoded data removed]"
     },
     "metadata": {},
     "output_type": "display_data"
    }
   ],
   "source": [
    "accidentes = data_loader.data['datasets/accidentalidad']\n",
    "positivos = accidentes[accidentes['POSITIVA_DROGA'] == 1]\n",
    "negativos = accidentes[accidentes['POSITIVA_DROGA'] == 0]\n",
    "labels = ['Positivo en Drogas', 'Negativo en Drogras', 'No se realizó la prueba']\n",
    "values = [len(positivos), len(negativos), len(accidentes) - len(positivos) - len(negativos)]\n",
    "plt.bar(labels, values)\n",
    "plt.xlabel('Resultado de Alcohol')\n",
    "plt.ylabel('Número de Accidentes')\n",
    "plt.title('Comparación de Accidentes con y sin Positivo en Drogas')\n",
    "plt.show()"
   ],
   "metadata": {
    "collapsed": false,
    "ExecuteTime": {
     "end_time": "2023-11-23T16:58:40.914352300Z",
     "start_time": "2023-11-23T16:58:40.791579900Z"
    }
   },
   "id": "8bae355c6468a9d3"
  },
  {
   "cell_type": "markdown",
   "source": [
    "Tabla comparativa que relaciona los accidente en los que la persona ha dado positivo en alcohol y drogas"
   ],
   "metadata": {
    "collapsed": false
   },
   "id": "c5e368d617231990"
  },
  {
   "cell_type": "code",
   "execution_count": 201,
   "outputs": [
    {
     "data": {
      "text/plain": "<Figure size 640x480 with 1 Axes>",
      "image/png": "[encoded data removed]"
     },
     "metadata": {},
     "output_type": "display_data"
    }
   ],
   "source": [
    "accidentes = data_loader.data['datasets/accidentalidad']\n",
    "positivos_alcohol = accidentes[accidentes['POSITIVA_ALCOHOL'] == 'S']\n",
    "positivos_drogas = accidentes[accidentes['POSITIVA_DROGA'] == 1]\n",
    "positivos_alcohol_drogas = positivos_alcohol[positivos_alcohol['POSITIVA_DROGA'] == 1]\n",
    "positivos_alcohol_drogas = len(positivos_alcohol_drogas)\n",
    "negativos = len(accidentes) - positivos_alcohol_drogas\n",
    "labels = ['Positivo en Alcohol y Drogas', 'Negativo en Alcohol y Drogas']\n",
    "values = [positivos_alcohol_drogas, negativos]\n",
    "plt.bar(labels, values)\n",
    "plt.xlabel('Resultado de Alcohol')\n",
    "plt.ylabel('Número de Accidentes')\n",
    "plt.title('Comparación de Accidentes con y sin Positivo en Alcohol')\n",
    "plt.show()"
   ],
   "metadata": {
    "collapsed": false,
    "ExecuteTime": {
     "end_time": "2023-11-23T16:58:42.637552400Z",
     "start_time": "2023-11-23T16:58:42.439537300Z"
    }
   },
   "id": "202b3d4f57dd8b28"
  },
  {
   "cell_type": "markdown",
   "source": [
    "De estos datos podemos extraer que la policía no le asigna dato a negativo en drogas, ya que en todo el dataframe solo existe el valor \"1\". Por lo tanto, no se puede distinguir los casos en los que no se realiza la prueba o a dado negativo."
   ],
   "metadata": {
    "collapsed": false
   },
   "id": "144248e693b9aaf7"
  },
  {
   "cell_type": "markdown",
   "source": [],
   "metadata": {
    "collapsed": false
   },
   "id": "3cf5829de9e13e2e"
  }
 ],
 "metadata": {
  "kernelspec": {
   "display_name": "Python 3",
   "language": "python",
   "name": "python3"
  },
  "language_info": {
   "codemirror_mode": {
    "name": "ipython",
    "version": 3
   },
   "file_extension": ".py",
   "mimetype": "text/x-python",
   "name": "python",
   "nbconvert_exporter": "python",
   "pygments_lexer": "ipython3",
   "version": "3.11.6"
  }
 },
 "nbformat": 4,
 "nbformat_minor": 5
}
