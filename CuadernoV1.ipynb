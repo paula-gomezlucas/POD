{
 "cells": [
  {
   "cell_type": "markdown",
   "id": "403b90b536e46321",
   "metadata": {
    "collapsed": false
   },
   "source": [
    "# Proyecto Open Data I\n",
    "## Radares, y su eficiencia en la CAM\n",
    "### Recopilación, limpieza y tratamiento de los datos\n",
    "Este cuaderno pretende enseñar el proceso de limpieza de los datos relativos a los radares en la CAM\n",
    "_Paula Gómez Lucas, Alejandro Majado Martínez_"
   ]
  },
  {
   "cell_type": "code",
   "execution_count": null,
   "id": "44d3e82a2b2af617",
   "metadata": {
    "ExecuteTime": {
     "end_time": "2023-12-20T11:02:33.787092400Z",
     "start_time": "2023-12-20T11:02:33.775238600Z"
    },
    "collapsed": false
   },
   "outputs": [],
   "source": [
    "# Importar librerías\n",
    "import os\n",
    "import pandas as pd\n",
    "import matplotlib.pyplot as plt\n",
    "from matplotlib.ticker import PercentFormatter\n",
    "import seaborn as sns\n",
    "import numpy as np\n",
    "from pandas_summary import DataFrameSummary\n",
    "import textwrap\n",
    "\n",
    "from scipy.stats import chisquare"
   ]
  },
  {
   "cell_type": "markdown",
   "id": "ae30c35b38b2cfe",
   "metadata": {
    "collapsed": false
   },
   "source": [
    "A continuación, se muestra la clase que está compuesta de todos los métodos que se encargan de la limpieza y transformación de los datos"
   ]
  },
  {
   "cell_type": "code",
   "execution_count": null,
   "id": "18d478fe7f47cd57",
   "metadata": {
    "ExecuteTime": {
     "end_time": "2023-12-20T11:02:33.810650400Z",
     "start_time": "2023-12-20T11:02:33.787092400Z"
    },
    "collapsed": false
   },
   "outputs": [],
   "source": [
    "class CSVDataLoader:\n",
    "    \"\"\"\n",
    "    A class for loading and cleaning CSV data from a specified folder path.\n",
    "\n",
    "    Attributes:\n",
    "    -----------\n",
    "    folder_path : str\n",
    "        The path to the folder containing the CSV files to be loaded.\n",
    "\n",
    "    data : dict\n",
    "        A dictionary containing the loaded CSV data, where the keys are the file names and the values are the corresponding dataframes.\n",
    "    \"\"\"\n",
    "\n",
    "    def __init__(self, folder_path):\n",
    "        \"\"\"\n",
    "        Initializes a CSVDataLoader object with the specified folder path.\n",
    "\n",
    "        Parameters:\n",
    "        -----------\n",
    "        folder_path : str\n",
    "            The path to the folder containing the CSV files to be loaded.\n",
    "        \"\"\"\n",
    "        self.folder_path = folder_path\n",
    "        self.data = {}\n",
    "        self.filename = []\n",
    "        self.keys = []\n",
    "\n",
    "    def load_data(self):\n",
    "        \"\"\"\n",
    "        Loads CSV data from the specified folder path into a dictionary.\n",
    "\n",
    "        Returns:\n",
    "        --------\n",
    "        None\n",
    "        \"\"\"\n",
    "        csv_files = [f for f in os.listdir(self.folder_path) if f.endswith('.csv')]\n",
    "        folders = (\"datasets/actuacionesBomberos\", \"datasets/estaciones\", \"datasets/accidentalidad\")\n",
    "        for folder in folders:\n",
    "            df = None\n",
    "            for file in os.listdir(folder):\n",
    "                filepath = folder + \"/\" + file\n",
    "                df1 = pd.read_csv(filepath, sep=';', encoding='utf-8', low_memory=False)\n",
    "                df = pd.concat([df, df1])\n",
    "            self.data[str(folder)] = df\n",
    "\n",
    "        for file_name in csv_files:\n",
    "            file_path = os.path.join(self.folder_path, file_name)\n",
    "            try:\n",
    "                df = pd.read_csv(file_path, sep=';', encoding='latin-1', low_memory=False)\n",
    "                self.data[str(file_name)] = df\n",
    "                self.filename.append(file_name)\n",
    "            except Exception as e:\n",
    "                print(f\"Error al leer {file_name}: {str(e)}\")\n",
    "\n",
    "        for value in self.data.keys():\n",
    "            self.keys.append(value)\n",
    "\n",
    "    def clean_data(self):\n",
    "        \"\"\"\n",
    "        Cleans the loaded CSV data by renaming columns, removing whitespace, dropping null values and duplicates, and converting date columns to datetime format.\n",
    "\n",
    "        Returns:\n",
    "        --------\n",
    "        None\n",
    "        \"\"\"\n",
    "        columna_borrar = \"Unnamed\"\n",
    "        for df in self.data:\n",
    "            for j in self.data[df].columns:\n",
    "                if columna_borrar in j:\n",
    "                    while j in self.data[df].columns:\n",
    "                        self.data[df] = self.data[df].drop(j, axis=1)\n",
    "                        self.data[df] = self.data[df].dropna(how='all', axis=0)\n",
    "                        \n",
    "            self.data[df] = self.data[df].rename(columns = lambda x: x.strip().lower().replace(' ', '_'))\n",
    "            self.data[df] = self.data[df].map(lambda x: x.strip() if isinstance(x, str) else x)\n",
    "            self.data[df] = self.data[df].dropna(how='all', axis=0)\n",
    "            self.data[df] = self.data[df].drop_duplicates()\n",
    "            self.data[df] = self.data[df].loc[:, ~self.data[df].columns.duplicated()]\n",
    "            self.data[df].columns = map(str.upper, self.data[df].columns)\n",
    "\n",
    "            if 'FECHA' in self.data[df].columns:\n",
    "                self.data[df]['FECHA'] = pd.to_datetime(self.data[df]['FECHA'], format='%d/%m/%Y')\n",
    "\n",
    "#           num_cols = self.data[i].select_dtypes(include='number').columns\n",
    "#           for col in num_cols:\n",
    "#               self.data[i][col] = self.data[i][col].fillna(self.data[i][col].mean())\n",
    "\n",
    "    def get_info(self, filename):\n",
    "        print(self.data[filename].isnull().sum())\n",
    "        print(self.data[filename].info())\n",
    "        \n",
    "    def get_nan_columns(self):\n",
    "        j = 0\n",
    "        for i in self.data:\n",
    "            print(self.keys[j])\n",
    "            self.get_info(i)\n",
    "            j+=1\n",
    "      \n",
    "    def get_cleaned_data(self):\n",
    "        \"\"\"\n",
    "        Returns the cleaned CSV data as a dictionary.\n",
    "\n",
    "        Returns:\n",
    "        --------\n",
    "        dict\n",
    "            A dictionary containing the cleaned CSV data, where the keys are the file names and the values are the corresponding dataframes.\n",
    "        \"\"\"\n",
    "        return self.data\n",
    "\n",
    "    def create_graph(df, colummn, name):\n",
    "        frec = df[''+str(colummn)].value_counts()\n",
    "        aux_df = pd.DataFrame(frec)\n",
    "        aux_df.columns = [\"Frecuencia absoluta\"]\n",
    "        aux_df[\"Frecuencia relativa\"] = 100*aux_df[\"Frecuencia absoluta\"] / len(df)\n",
    "        frec_rel_cumsum = aux_df[\"Frecuencia relativa\"].cumsum()\n",
    "        aux_df[\"Frecuencia relativa acumulada\"] = frec_rel_cumsum\n",
    "        fig = plt.figure()\n",
    "        ax = fig.add_subplot(1,1,1)\n",
    "        ax.set_title('Distribución de '+ str(name))\n",
    "        ax.bar(aux_df.index, aux_df['Frecuencia absoluta'], color='blue')\n",
    "        ax2 = ax.twinx()\n",
    "        ax2.plot(aux_df.index, aux_df['Frecuencia relativa acumulada'], color='red', marker='o', ms = 5)\n",
    "        ax2.yaxis.set_major_formatter(PercentFormatter())\n",
    "        ax.tick_params(axis='y', color = 'blue')\n",
    "        ax2.tick_params(axis='y', color = 'red')\n",
    "        ax.set_xticklabels(aux_df.index, rotation=90)\n",
    "        plt.show()\n",
    "\n",
    "    def dataframe_summary(self, filename):\n",
    "\n",
    "        numeric_mask = self.data[filename].select_dtypes(include='number').columns\n",
    "\n",
    "        # Create a DataFrameSummary object\n",
    "        summary = DataFrameSummary(self.data[filename][numeric_mask])\n",
    "    \n",
    "        # Display summary statistics\n",
    "        summary_stats = summary.summary()\n",
    "    \n",
    "        # Plot correlation matrix for all numeric columns\n",
    "        self.data[filename][numeric_mask].corr(method='pearson', numeric_only=True)\n",
    "\n",
    "        # Boxplot of each variable\n",
    "        #self.data[filename][numeric_mask].boxplot(figsize=(10, 8))\n",
    "\n",
    "        return summary_stats"
   ]
  },
  {
   "cell_type": "markdown",
   "id": "dd85edb70ad193c8",
   "metadata": {
    "collapsed": false
   },
   "source": [
    "Una vez está definida la clase con sus métodos, procedemos a declarar las variables que nos permiten trabajar con ello"
   ]
  },
  {
   "cell_type": "code",
   "execution_count": null,
   "id": "283a71997af30bfb",
   "metadata": {
    "ExecuteTime": {
     "end_time": "2023-12-20T11:02:33.860654700Z",
     "start_time": "2023-12-20T11:02:33.808691700Z"
    },
    "collapsed": false
   },
   "outputs": [],
   "source": [
    "folder_path = \"datasets\"\n",
    "data_loader = CSVDataLoader(folder_path)"
   ]
  },
  {
   "cell_type": "markdown",
   "id": "63352d6285012f0e",
   "metadata": {
    "collapsed": false
   },
   "source": [
    "La siguiente función carga los datos de los csv a los dataframes"
   ]
  },
  {
   "cell_type": "code",
   "execution_count": null,
   "id": "665ff0b29c363cd8",
   "metadata": {
    "ExecuteTime": {
     "end_time": "2023-12-20T11:02:37.170916700Z",
     "start_time": "2023-12-20T11:02:33.813664Z"
    },
    "collapsed": false
   },
   "outputs": [],
   "source": [
    "data_loader.load_data()"
   ]
  },
  {
   "cell_type": "markdown",
   "id": "aa768687373638fb",
   "metadata": {
    "collapsed": false
   },
   "source": [
    "Limpiamos los datos eliminando las columnas autogeneradas con NaNs, renombramos las columnas para que sean uniformes (minúsculas y con barra bajas), eliminamos las filas de NaNs, eliminamos las filas duplicadas, formateamos todas las variables fecha para que sean consistentes (dd/mm/aaaa), sustituimos los NaNs de las variables numéricas con la media correspondiente a su variable."
   ]
  },
  {
   "cell_type": "code",
   "execution_count": null,
   "id": "f1f338f27e9e6e88",
   "metadata": {
    "ExecuteTime": {
     "end_time": "2023-12-20T11:02:42.774744500Z",
     "start_time": "2023-12-20T11:02:37.170916700Z"
    },
    "collapsed": false
   },
   "outputs": [],
   "source": [
    "data_loader.clean_data()\n",
    "data = data_loader.get_cleaned_data()"
   ]
  },
  {
   "cell_type": "markdown",
   "id": "5c4457e965ecfd44",
   "metadata": {
    "collapsed": false
   },
   "source": [
    "Por último, para confirmar que los datos se han cargado bien, utilizamos el método get_nan_columns para ver cuántos datos en cada columna quedan nulos, así como usamos el método info() de pandas para ver un resumen de todas las columnas y comprobamos también que todo el formateo de las columnas se ha realizado sin problema."
   ]
  },
  {
   "cell_type": "code",
   "execution_count": null,
   "id": "6f5f32ab8fbcc715",
   "metadata": {
    "ExecuteTime": {
     "end_time": "2023-12-20T11:02:43.574872400Z",
     "start_time": "2023-12-20T11:02:42.774744500Z"
    },
    "collapsed": false
   },
   "outputs": [],
   "source": [
    "data_loader.get_nan_columns()"
   ]
  },
  {
   "cell_type": "markdown",
   "id": "3c50537c6d13dcad",
   "metadata": {
    "collapsed": false
   },
   "source": [
    "Efectivamente, se realiza sin problemas. El siguiente paso es el análisis de los datasets columna a columna para revisar qué método usar para rellenar los datos faltantes dependiendo de cada atributo.  "
   ]
  },
  {
   "cell_type": "markdown",
   "id": "806080163c94c164",
   "metadata": {
    "collapsed": false
   },
   "source": [
    "### Sustitución de valores faltantes\n",
    "Los datasets actuaciones bomberos y estaciones no tienen datos faltantes, por lo que sólo nos queda trabajar con los otros 8 datasets, que podemos observar aquí:"
   ]
  },
  {
   "cell_type": "code",
   "execution_count": null,
   "id": "f3082c6e4ff58ef7",
   "metadata": {
    "ExecuteTime": {
     "end_time": "2023-12-20T11:02:43.574872400Z",
     "start_time": "2023-12-20T11:02:43.569245500Z"
    },
    "collapsed": false
   },
   "outputs": [],
   "source": [
    "for i in data.keys():\n",
    "    print(i)"
   ]
  },
  {
   "cell_type": "markdown",
   "id": "861c0394be81dc0e",
   "metadata": {
    "collapsed": false
   },
   "source": [
    "Empecemos con accidentalidad: "
   ]
  },
  {
   "cell_type": "code",
   "execution_count": null,
   "id": "587e7d49e462e29",
   "metadata": {
    "ExecuteTime": {
     "end_time": "2023-12-20T11:02:43.813886300Z",
     "start_time": "2023-12-20T11:02:43.574872400Z"
    },
    "collapsed": false
   },
   "outputs": [],
   "source": [
    "data_loader.get_info('datasets/accidentalidad')\n",
    "data_loader.data['datasets/accidentalidad']"
   ]
  },
  {
   "cell_type": "markdown",
   "id": "34a3185975249614",
   "metadata": {
    "collapsed": false
   },
   "source": [
    "Hay algunos datos faltantes que tiene sentido que lo sean, y podemos sustituir por un buzzword de algún tipo que nos haga saber que se trate de esto, como lo es que en un accidente en el que no se han producido lesiones, la lesividad sea nula y tampoco haya código de la misma, y como ambas cifras coinciden, es lógico pensar que se trata de las mismas situaciones. Podemos sustituir entonces todos los NaNs de Lesividad faltantes por 'Se desconoce' y el código por 77."
   ]
  },
  {
   "cell_type": "code",
   "execution_count": null,
   "id": "7c2fcca273dee177",
   "metadata": {
    "ExecuteTime": {
     "end_time": "2023-12-20T11:02:43.813886300Z",
     "start_time": "2023-12-20T11:02:43.794219700Z"
    }
   },
   "outputs": [],
   "source": [
    "print(data_loader.data['datasets/accidentalidad']['COD_LESIVIDAD'].unique())"
   ]
  },
  {
   "cell_type": "code",
   "execution_count": null,
   "id": "c0cb2e35",
   "metadata": {
    "ExecuteTime": {
     "end_time": "2023-12-20T11:02:43.939059200Z",
     "start_time": "2023-12-20T11:02:43.803509100Z"
    }
   },
   "outputs": [],
   "source": [
    "data_loader.data['datasets/accidentalidad']['LESIVIDAD'].where(data_loader.data['datasets/accidentalidad']['COD_LESIVIDAD']==1)\n"
   ]
  },
  {
   "cell_type": "code",
   "execution_count": null,
   "id": "db73e37a9c97118d",
   "metadata": {
    "ExecuteTime": {
     "end_time": "2023-12-20T11:02:44.003245300Z",
     "start_time": "2023-12-20T11:02:43.813886300Z"
    },
    "collapsed": false
   },
   "outputs": [],
   "source": [
    "data_loader.data['datasets/accidentalidad']['LESIVIDAD'].where(data_loader.data['datasets/accidentalidad']['COD_LESIVIDAD']==2)"
   ]
  },
  {
   "cell_type": "code",
   "execution_count": null,
   "id": "9bd5d7f494a15bd3",
   "metadata": {
    "ExecuteTime": {
     "end_time": "2023-12-20T11:02:44.049500700Z",
     "start_time": "2023-12-20T11:02:43.834940900Z"
    },
    "collapsed": false
   },
   "outputs": [],
   "source": [
    "data_loader.data['datasets/accidentalidad']['LESIVIDAD'].where(data_loader.data['datasets/accidentalidad']['COD_LESIVIDAD']==3)"
   ]
  },
  {
   "cell_type": "code",
   "execution_count": null,
   "id": "bbd88d206769050c",
   "metadata": {
    "ExecuteTime": {
     "end_time": "2023-12-20T11:02:44.049500700Z",
     "start_time": "2023-12-20T11:02:43.844742100Z"
    },
    "collapsed": false
   },
   "outputs": [],
   "source": [
    "data_loader.data['datasets/accidentalidad']['LESIVIDAD'].where(data_loader.data['datasets/accidentalidad']['COD_LESIVIDAD']==4)"
   ]
  },
  {
   "cell_type": "code",
   "execution_count": null,
   "id": "bc004c773d928874",
   "metadata": {
    "ExecuteTime": {
     "end_time": "2023-12-20T11:02:44.049500700Z",
     "start_time": "2023-12-20T11:02:43.855324900Z"
    },
    "collapsed": false
   },
   "outputs": [],
   "source": [
    "data_loader.data['datasets/accidentalidad']['LESIVIDAD'].where(data_loader.data['datasets/accidentalidad']['COD_LESIVIDAD']==5)"
   ]
  },
  {
   "cell_type": "code",
   "execution_count": null,
   "id": "49c0af8f7e1dffe4",
   "metadata": {
    "ExecuteTime": {
     "end_time": "2023-12-20T11:02:44.049500700Z",
     "start_time": "2023-12-20T11:02:43.867646500Z"
    },
    "collapsed": false
   },
   "outputs": [],
   "source": [
    "data_loader.data['datasets/accidentalidad']['LESIVIDAD'].where(data_loader.data['datasets/accidentalidad']['COD_LESIVIDAD']==6)"
   ]
  },
  {
   "cell_type": "code",
   "execution_count": null,
   "id": "9313599b81855c77",
   "metadata": {
    "ExecuteTime": {
     "end_time": "2023-12-20T11:02:44.049500700Z",
     "start_time": "2023-12-20T11:02:43.875989200Z"
    },
    "collapsed": false
   },
   "outputs": [],
   "source": [
    "data_loader.data['datasets/accidentalidad']['LESIVIDAD'].where(data_loader.data['datasets/accidentalidad']['COD_LESIVIDAD']==7)"
   ]
  },
  {
   "cell_type": "code",
   "execution_count": null,
   "id": "cb90af5352dc3e6",
   "metadata": {
    "ExecuteTime": {
     "end_time": "2023-12-20T11:02:44.103519100Z",
     "start_time": "2023-12-20T11:02:43.885916300Z"
    },
    "collapsed": false
   },
   "outputs": [],
   "source": [
    "data_loader.data['datasets/accidentalidad']['LESIVIDAD'].where(data_loader.data['datasets/accidentalidad']['COD_LESIVIDAD']==14)"
   ]
  },
  {
   "cell_type": "code",
   "execution_count": null,
   "id": "b4d61119ab1b9a45",
   "metadata": {
    "ExecuteTime": {
     "end_time": "2023-12-20T11:02:44.103519100Z",
     "start_time": "2023-12-20T11:02:43.893368300Z"
    },
    "collapsed": false
   },
   "outputs": [],
   "source": [
    "data_loader.data['datasets/accidentalidad']['LESIVIDAD'].where(data_loader.data['datasets/accidentalidad']['COD_LESIVIDAD']==77)"
   ]
  },
  {
   "cell_type": "code",
   "execution_count": null,
   "id": "62ad54e1",
   "metadata": {
    "ExecuteTime": {
     "end_time": "2023-12-20T11:02:44.198136100Z",
     "start_time": "2023-12-20T11:02:43.907808500Z"
    }
   },
   "outputs": [],
   "source": [
    "# Mapping dictionary\n",
    "mapping_dict = {\n",
    "    1: 'Atención en urgencias sin posterior ingreso',\n",
    "    2: 'Ingreso inferior o igual a 24 horas',\n",
    "    3: 'Ingreso superior a 24 horas',\n",
    "    4: 'Fallecido 24 horas',\n",
    "    5: 'Asistencia sanitaria ambulatoria con posterioridad',\n",
    "    6: 'Asistencia sanitaria inmediata en centro de salud o mutua',\n",
    "    7: 'Asistencia sanitaria sólo en el lugar del accidente',\n",
    "    14: 'Sin asistencia sanitaria',\n",
    "    77: 'Se desconoce',\n",
    "}\n",
    "\n",
    "# Fill missing values using the mapping dictionary\n",
    "data_loader.data['datasets/accidentalidad']['LESIVIDAD'] = data_loader.data['datasets/accidentalidad']['LESIVIDAD'].fillna(data_loader.data['datasets/accidentalidad']['COD_LESIVIDAD'].map(mapping_dict))\n",
    "data_loader.data['datasets/accidentalidad']['COD_LESIVIDAD'] = data_loader.data['datasets/accidentalidad']['COD_LESIVIDAD'].fillna(data_loader.data['datasets/accidentalidad']['LESIVIDAD'].map({v: k for k, v in mapping_dict.items()}))\n",
    "\n",
    "data_loader.data['datasets/accidentalidad']['LESIVIDAD'].fillna('Se desconoce', inplace=True)\n",
    "data_loader.data['datasets/accidentalidad']['COD_LESIVIDAD'].fillna(77, inplace=True)\n"
   ]
  },
  {
   "cell_type": "markdown",
   "id": "2d6a142e6af20ddc",
   "metadata": {
    "collapsed": false
   },
   "source": [
    "Por otro lado, positivo en droga tiene valor sólo si daba positivo, por lo que rellenar los valores faltantes con 0 es lo más lógico (siendo 0 negativo en droga). "
   ]
  },
  {
   "cell_type": "code",
   "execution_count": null,
   "id": "6f0770e842c6602b",
   "metadata": {
    "ExecuteTime": {
     "end_time": "2023-12-20T11:02:44.214145900Z",
     "start_time": "2023-12-20T11:02:43.965495500Z"
    },
    "collapsed": false
   },
   "outputs": [],
   "source": [
    "data_loader.data['datasets/accidentalidad']['POSITIVA_DROGA'] = data_loader.data['datasets/accidentalidad']['POSITIVA_DROGA'].fillna(0)"
   ]
  },
  {
   "cell_type": "markdown",
   "id": "cfef480eb314978e",
   "metadata": {
    "collapsed": false
   },
   "source": [
    "Número, código de distrito, tipo de accidente, coordenadas (x e y), son atributos a los que sólo les falta un dato cada uno, por lo que no es representativo esta falta de datos y podemos rellenarlos con el valor más habitual. "
   ]
  },
  {
   "cell_type": "code",
   "execution_count": null,
   "id": "523ced2bbb542e56",
   "metadata": {
    "ExecuteTime": {
     "end_time": "2023-12-20T11:02:44.467628100Z",
     "start_time": "2023-12-20T11:02:43.973110400Z"
    },
    "collapsed": false
   },
   "outputs": [],
   "source": [
    "numero = data_loader.data['datasets/accidentalidad']['COD_DISTRITO'].mode().iat[0]\n",
    "codDistrito = data_loader.data['datasets/accidentalidad']['COD_DISTRITO'].mode().iat[0]\n",
    "distrito = data_loader.data['datasets/accidentalidad']['COD_DISTRITO'].mode().iat[0]\n",
    "accidente = data_loader.data['datasets/accidentalidad']['COD_DISTRITO'].mode().iat[0]\n",
    "coorX = data_loader.data['datasets/accidentalidad']['COD_DISTRITO'].mode().iat[0]\n",
    "coorY = data_loader.data['datasets/accidentalidad']['COD_DISTRITO'].mode().iat[0]\n",
    "\n",
    "\n",
    "data_loader.data['datasets/accidentalidad']['NUMERO'] = data_loader.data['datasets/accidentalidad']['NUMERO'].fillna(numero)\n",
    "data_loader.data['datasets/accidentalidad']['COD_DISTRITO'] = data_loader.data['datasets/accidentalidad']['COD_DISTRITO'].fillna(codDistrito)\n",
    "data_loader.data['datasets/accidentalidad']['DISTRITO'] = data_loader.data['datasets/accidentalidad']['DISTRITO'].fillna(distrito)\n",
    "data_loader.data['datasets/accidentalidad']['TIPO_ACCIDENTE'] = data_loader.data['datasets/accidentalidad']['TIPO_ACCIDENTE'].fillna(accidente)\n",
    "data_loader.data['datasets/accidentalidad']['COORDENADA_X_UTM'] = data_loader.data['datasets/accidentalidad']['COORDENADA_X_UTM'].fillna(coorX)\n",
    "data_loader.data['datasets/accidentalidad']['COORDENADA_Y_UTM'] = data_loader.data['datasets/accidentalidad']['COORDENADA_Y_UTM'].fillna(coorY)\n"
   ]
  },
  {
   "cell_type": "markdown",
   "id": "c1ffcefbaed71bb7",
   "metadata": {
    "collapsed": false
   },
   "source": [
    "Por último, donde queda dilema es en positivo alcohol, tipo de vehículo y estado meteorológico. En esta situación, lo más apropiado es ver si, relacionando estos atributos con algún otro, es más probable que los atributos valgan uno u otro valor.\n",
    "\n",
    "- Estado meteorológico. Hay 7 valores posibles: despejado, lluvia débil, lluvia intensa, granizando, nevando, nublado, se desconoce. Aquí, por lo tanto, hay 3 vías de actuación:\n",
    "    - Rellenar con \"se desconoce\", i.e.: ser fieles a lo que se sabe, reducir la proporción de datos artificiales (hay un 11% de datos faltantes), solución sencilla.\n",
    "    - Rellenar con el valor más frecuente: despejado (representa el 75% de los datos), i.e.: solución con datos artificiales más sencilla.\n",
    "    - Rellenar con valores aleatorios según la proporción en la que aparecen los datos, i.e.: el 75% de los datos faltantes se rellenan arbitrariamente con \"Despejado\".\n",
    "\n",
    "    Lo que mejor preserva los datos es, rellenar con \"se desconoce\", pues la variable existe previamente."
   ]
  },
  {
   "cell_type": "code",
   "execution_count": null,
   "id": "b19e895537b3fefc",
   "metadata": {
    "ExecuteTime": {
     "end_time": "2023-12-20T11:02:44.467628100Z",
     "start_time": "2023-12-20T11:02:44.069899300Z"
    },
    "collapsed": false
   },
   "outputs": [],
   "source": [
    "data_loader.data['datasets/accidentalidad']['ESTADO_METEOROLÓGICO'] = data_loader.data['datasets/accidentalidad']['ESTADO_METEOROLÓGICO'].fillna('Se desconoce')"
   ]
  },
  {
   "cell_type": "markdown",
   "id": "a1c3ed47a75517d2",
   "metadata": {
    "collapsed": false
   },
   "source": [
    "- Tipo de vehículo. Hay 34 valores posibles: Ambulancia SAMUR, autobús EMT, autobús, autobús articulado, autobús articulado EMT, autocaravana, bicicleta, bicicleta EPAC (pedaleo asistido), camión de bomberos, camión rígido, ciclo, ciclomotor, ciclomotor de dos ruedas L1e-B, cuadriciclo ligero, cuadriciclo no ligero, furgoneta, maquinaria de obras, microbús <= 17 plazas, moto de tres ruedas > 125cc, moto de tres ruedas hasta 125cc, motocicleta > 125cc, motocicleta hasta 125cc, otros vehículos con motor, otros vehículos sin motor, patinete no eléctrico, remolque, semirremolque, sin especificar, todo terreno, tractocamión, tren/metro, turismo (68%), VMU eléctrico, vehículo articulado. En esta variable hay 0.6% de valores faltantes, lo cual no es significativo, i.e.: la sustitución que elijamos tendrá menos repercusión en el estudio final. Aquí, por lo tanto, hay 2 vías de actuación:\n",
    "    - Rellenar con \"sin especificar\", i.e.: solución sencilla y descriptiva pero que puede dar lugar a interpretaciones erróneas, pues puede haber sido otro tipo de vehículo que no se había registrado.\n",
    "    - Rellenar con el valor más probable según otro atributo (por ejemplo, código de lesividad).\n",
    "    \n",
    "    La solución más apropiada es rellenar con el valor más probable según código de lesividad, por lo que vamos a ver primero cómo se relacionan ambos atributos y después rellenaremos los valores faltantes con el valor más probable."
   ]
  },
  {
   "cell_type": "code",
   "execution_count": null,
   "id": "7cab20107357cf63",
   "metadata": {
    "ExecuteTime": {
     "end_time": "2023-12-20T11:02:44.561922200Z",
     "start_time": "2023-12-20T11:02:44.097015400Z"
    },
    "collapsed": false
   },
   "outputs": [],
   "source": [
    "data_loader.data['datasets/accidentalidad']['TIPO_VEHICULO'] = data_loader.data['datasets/accidentalidad']['TIPO_VEHICULO'].fillna(data_loader.data['datasets/accidentalidad'].groupby('COD_LESIVIDAD')['TIPO_VEHICULO'].transform(lambda x:x.mode().iat[0]))"
   ]
  },
  {
   "cell_type": "markdown",
   "id": "1327182514854e40",
   "metadata": {
    "collapsed": false
   },
   "source": [
    "Para rellenar los datos de positivo en alcohol, usaremos lo más habitual según grupo de edad, sexo y lesividad de la persona"
   ]
  },
  {
   "cell_type": "code",
   "execution_count": null,
   "id": "d5616191f4311771",
   "metadata": {
    "ExecuteTime": {
     "end_time": "2023-12-20T11:02:44.750749500Z",
     "start_time": "2023-12-20T11:02:44.166680500Z"
    },
    "collapsed": false
   },
   "outputs": [],
   "source": [
    "data_loader.data['datasets/accidentalidad'][\"POSITIVA_ALCOHOL\"] = data_loader.data['datasets/accidentalidad'].groupby(['RANGO_EDAD','SEXO','LESIVIDAD'])['POSITIVA_ALCOHOL'].transform(lambda x: x.fillna(x.mode()[0] if not x.mode().empty                                                                                                        else \"Empty\"))"
   ]
  },
  {
   "cell_type": "markdown",
   "id": "454c21c49c4303b3",
   "metadata": {
    "collapsed": false
   },
   "source": [
    "Para determinar el tipo de persona, usaremos de criterio el rango de edad y la lesividad -si bien sólo faltan 3 datos, en esta situación podemos realizar un ajuste más específico-"
   ]
  },
  {
   "cell_type": "code",
   "execution_count": null,
   "id": "4b1a47a31c2d409e",
   "metadata": {
    "ExecuteTime": {
     "end_time": "2023-12-20T11:02:44.766726Z",
     "start_time": "2023-12-20T11:02:44.408135400Z"
    },
    "collapsed": false
   },
   "outputs": [],
   "source": [
    "data_loader.data['datasets/accidentalidad'][\"TIPO_PERSONA\"] = data_loader.data['datasets/accidentalidad'].groupby(['RANGO_EDAD','LESIVIDAD'])['TIPO_PERSONA'].transform(lambda x: x.fillna(x.mode()[0] if not x.mode().empty                                                                                                        else \"Empty\"))"
   ]
  },
  {
   "cell_type": "code",
   "execution_count": null,
   "id": "c790703d72ed5412",
   "metadata": {
    "ExecuteTime": {
     "end_time": "2023-12-20T11:02:44.988004Z",
     "start_time": "2023-12-20T11:02:44.656443400Z"
    },
    "collapsed": false
   },
   "outputs": [],
   "source": [
    "data_loader.get_info('datasets/accidentalidad')"
   ]
  },
  {
   "cell_type": "markdown",
   "id": "4f8ee4fcf06fd0e",
   "metadata": {
    "collapsed": false
   },
   "source": [
    "Como podemos comprobar, no quedan datos faltantes. Pasamos a Actuaciones Bomberos:"
   ]
  },
  {
   "cell_type": "code",
   "execution_count": null,
   "id": "7ac790cf4043dacd",
   "metadata": {
    "ExecuteTime": {
     "end_time": "2023-12-20T11:02:44.993152800Z",
     "start_time": "2023-12-20T11:02:44.976761600Z"
    },
    "collapsed": false
   },
   "outputs": [],
   "source": [
    "data_loader.get_info('datasets/actuacionesBomberos')"
   ]
  },
  {
   "cell_type": "markdown",
   "id": "15497bda9537b85",
   "metadata": {
    "ExecuteTime": {
     "end_time": "2023-12-20T10:21:00.738871500Z",
     "start_time": "2023-12-20T10:20:30.905663800Z"
    },
    "collapsed": false
   },
   "source": [
    "Este dataset no tiene datos faltantes, pasamos al siguiente. Estaciones:"
   ]
  },
  {
   "cell_type": "code",
   "execution_count": null,
   "id": "f00a27c56abd08bc",
   "metadata": {
    "ExecuteTime": {
     "end_time": "2023-12-20T11:02:45.246025100Z",
     "start_time": "2023-12-20T11:02:44.992210100Z"
    },
    "collapsed": false
   },
   "outputs": [],
   "source": [
    "data_loader.get_info('datasets/estaciones')\n",
    "data_loader.data['datasets/estaciones']"
   ]
  },
  {
   "cell_type": "markdown",
   "id": "c59a84bcb078339c",
   "metadata": {
    "ExecuteTime": {
     "end_time": "2023-12-20T10:21:00.738871500Z",
     "start_time": "2023-12-20T10:20:30.914326Z"
    },
    "collapsed": false
   },
   "source": [
    "Este dataset tampoco tiene datos faltantes. Apreciamos que FSEN, aparte de indicar el sentido del tráfico, también indica si son las primeras 12h del día (1- y 2-), o las últimas (1=, 2=). Hacemos 12 nuevos atributos para suplir esto en un formato 24h que es más cómodo."
   ]
  },
  {
   "cell_type": "code",
   "execution_count": null,
   "id": "c8894e7acc85e84b",
   "metadata": {
    "ExecuteTime": {
     "end_time": "2023-12-20T11:02:45.325193100Z",
     "start_time": "2023-12-20T11:02:45.143466300Z"
    },
    "collapsed": false
   },
   "outputs": [],
   "source": [
    "# Convert 'date' column to datetime if it's not already\n",
    "data_loader.data['datasets/estaciones']['FDIA'] = pd.to_datetime(data_loader.data['datasets/estaciones']['FDIA'], format='mixed', dayfirst=True)"
   ]
  },
  {
   "cell_type": "code",
   "execution_count": null,
   "id": "8f1b7c4c5894715c",
   "metadata": {
    "ExecuteTime": {
     "end_time": "2023-12-20T11:02:45.325193100Z",
     "start_time": "2023-12-20T11:02:45.198811200Z"
    },
    "collapsed": false
   },
   "outputs": [],
   "source": [
    "data_loader.get_info('datasets/estaciones')"
   ]
  },
  {
   "cell_type": "code",
   "execution_count": null,
   "id": "5b39986ae60da02a",
   "metadata": {
    "ExecuteTime": {
     "end_time": "2023-12-20T11:02:45.655486500Z",
     "start_time": "2023-12-20T11:02:45.221690700Z"
    },
    "collapsed": false
   },
   "outputs": [],
   "source": [
    "df = data_loader.data['datasets/estaciones']\n",
    "# Split the FSEN values into direction and hour parts\n",
    "df[['FSEN_DIRECTION', 'FSEN_AMPM']] = df['FSEN'].str.extract(r'(\\d)([=-])')\n",
    "\n",
    "# Drop unnecessary columns\n",
    "df.drop(['FSEN'], axis=1, inplace=True)\n",
    "\n",
    "index = ['FDIA', 'FEST', 'FSEN_DIRECTION', 'FSEN_AMPM', 'HOR1', 'HOR2', 'HOR3', 'HOR4', 'HOR5', 'HOR6', 'HOR7', 'HOR8', 'HOR9', 'HOR10', 'HOR11', 'HOR12', 'HOR13', 'HOR14', 'HOR15', 'HOR16', 'HOR17', 'HOR18', 'HOR19', 'HOR20', 'HOR21', 'HOR22', 'HOR23', 'HOR24']\n",
    "\n",
    "df.reindex(columns=index)"
   ]
  },
  {
   "cell_type": "code",
   "execution_count": null,
   "id": "2748eab1e83d0af0",
   "metadata": {
    "ExecuteTime": {
     "end_time": "2023-12-20T11:02:45.655486500Z",
     "start_time": "2023-12-20T11:02:45.597077400Z"
    },
    "collapsed": false
   },
   "outputs": [],
   "source": [
    "def group_fn(dff: pd.DataFrame):\n",
    "    # dff contiene 2 rows de am y pm\n",
    "    am = dff.loc[dff['FSEN_AMPM'] == \"-\"].iloc[0]\n",
    "    pm = dff.loc[dff['FSEN_AMPM'] == \"=\"].iloc[0]\n",
    "    par = am[['HOR1', 'HOR2', 'HOR3', 'HOR4', 'HOR5', 'HOR6', 'HOR7', 'HOR8', 'HOR9', 'HOR10', 'HOR11', 'HOR12']].copy()\n",
    "    \n",
    "    par['HOR13'] = pm['HOR1']\n",
    "    par['HOR14'] = pm['HOR2']\n",
    "    par['HOR15'] = pm['HOR3']\n",
    "    par['HOR16'] = pm['HOR4']\n",
    "    par['HOR17'] = pm['HOR5']\n",
    "    par['HOR18'] = pm['HOR6']\n",
    "    par['HOR19'] = pm['HOR7']\n",
    "    par['HOR20'] = pm['HOR8']\n",
    "    par['HOR21'] = pm['HOR9']\n",
    "    par['HOR22'] = pm['HOR10']\n",
    "    par['HOR23'] = pm['HOR11']\n",
    "    par['HOR24'] = pm['HOR12']\n",
    "\n",
    "    return par"
   ]
  },
  {
   "cell_type": "code",
   "execution_count": null,
   "id": "558dcca8006dc4d3",
   "metadata": {
    "ExecuteTime": {
     "end_time": "2023-12-20T11:05:04.957164900Z",
     "start_time": "2023-12-20T11:02:45.605180400Z"
    },
    "collapsed": false
   },
   "outputs": [],
   "source": [
    "data_loader.data['datasets/estaciones'] = df.groupby(['FEST', 'FDIA', 'FSEN_DIRECTION']).apply(group_fn)\n",
    "data_loader.data['datasets/estaciones']"
   ]
  },
  {
   "cell_type": "code",
   "execution_count": null,
   "id": "5eae3a39",
   "metadata": {
    "ExecuteTime": {
     "end_time": "2023-12-20T11:05:05.051760600Z",
     "start_time": "2023-12-20T11:05:04.952662100Z"
    }
   },
   "outputs": [],
   "source": [
    "data_loader.get_info('datasets/estaciones')"
   ]
  },
  {
   "cell_type": "code",
   "execution_count": null,
   "id": "711f8cc4bd68c162",
   "metadata": {
    "ExecuteTime": {
     "end_time": "2023-12-20T11:05:05.354115800Z",
     "start_time": "2023-12-20T11:05:04.979186900Z"
    },
    "collapsed": false
   },
   "outputs": [],
   "source": [
    "data_loader.dataframe_summary('datasets/estaciones')"
   ]
  },
  {
   "cell_type": "code",
   "execution_count": null,
   "id": "2eba0393162bfffc",
   "metadata": {
    "ExecuteTime": {
     "end_time": "2023-12-20T11:05:05.653648Z",
     "start_time": "2023-12-20T11:05:05.247151200Z"
    },
    "collapsed": false
   },
   "outputs": [],
   "source": [
    "data_loader.get_info('DireccionesEvolucionHistorica_20231004.csv')"
   ]
  },
  {
   "cell_type": "markdown",
   "id": "71335ecc8091c383",
   "metadata": {
    "ExecuteTime": {
     "end_time": "2023-12-20T10:24:09.118649900Z",
     "start_time": "2023-12-20T10:24:08.122750300Z"
    },
    "collapsed": false
   },
   "source": [
    "Como podemos observar, faltan datos de las columnas VIA_SQC (secuencia de la denominación), con 371584 NaNs; VIA_PAR (partícula de la denominación), con 17997; CALIFICADOR (del número de la policía), con 322826; FECHA_DE_BAJA (de la dirección), con 211657; y TIPO_NDP (tipo de número: portal, garaje, fachada, etc.) con 16248."
   ]
  },
  {
   "cell_type": "code",
   "execution_count": null,
   "id": "53ad97490c0d3bf6",
   "metadata": {
    "ExecuteTime": {
     "end_time": "2023-12-20T11:05:05.702634400Z",
     "start_time": "2023-12-20T11:05:05.622Z"
    },
    "collapsed": false
   },
   "outputs": [],
   "source": [
    "data_loader.data['DireccionesEvolucionHistorica_20231004.csv']"
   ]
  },
  {
   "cell_type": "markdown",
   "id": "8fdb88335b0cb04a",
   "metadata": {
    "ExecuteTime": {
     "end_time": "2023-12-20T10:24:09.120643600Z",
     "start_time": "2023-12-20T10:24:09.026926700Z"
    },
    "collapsed": false
   },
   "source": [
    "La secuencia de denominación (VIA_SQC) es solo NaNs, por lo que lo más lógico es eliminar la columna directamente"
   ]
  },
  {
   "cell_type": "code",
   "execution_count": null,
   "id": "33e322239ade1660",
   "metadata": {
    "ExecuteTime": {
     "end_time": "2023-12-20T11:05:05.813891700Z",
     "start_time": "2023-12-20T11:05:05.641365900Z"
    },
    "collapsed": false
   },
   "outputs": [],
   "source": [
    "data_loader.data['DireccionesEvolucionHistorica_20231004.csv'] = data_loader.data['DireccionesEvolucionHistorica_20231004.csv'].drop('VIA_SQC', axis=1)"
   ]
  },
  {
   "cell_type": "markdown",
   "id": "7af35e4df35809c5",
   "metadata": {
    "ExecuteTime": {
     "end_time": "2023-12-20T10:24:09.314861Z",
     "start_time": "2023-12-20T10:24:09.073864900Z"
    },
    "collapsed": false
   },
   "source": [
    "Ahora, pasamos a la partícula de denominación (VIA_PAR), hay 7 valores distintos de entre la lista posible de 20 (DE, EL, A, DEL, LA, AL, DE LA, LAS, A LA, DE LAS, LO, A LAS, DE LO, LOS, A LO, DE LO, DE LOS, POR EL, A LOS, POR LA), de los cuales el primero es A LA y el último es DEL. Por lo tanto, parece que no se ha rellenado con Null o espacio vacío aquellas direcciones en las que no hay partícula:"
   ]
  },
  {
   "cell_type": "code",
   "execution_count": null,
   "id": "d202e69235d0ab01",
   "metadata": {
    "ExecuteTime": {
     "end_time": "2023-12-20T11:05:05.908579100Z",
     "start_time": "2023-12-20T11:05:05.701502Z"
    },
    "collapsed": false
   },
   "outputs": [],
   "source": [
    "data_loader.data['DireccionesEvolucionHistorica_20231004.csv']['VIA_PAR'] = data_loader.data['DireccionesEvolucionHistorica_20231004.csv']['VIA_PAR'].fillna(' ')"
   ]
  },
  {
   "cell_type": "markdown",
   "id": "1db212a61b1e1bd3",
   "metadata": {
    "ExecuteTime": {
     "end_time": "2023-12-20T10:24:09.367168200Z",
     "start_time": "2023-12-20T10:24:09.267648900Z"
    },
    "collapsed": false
   },
   "source": [
    "Fecha de baja, si no hay valor, es que está aún de alta, así que también sustituimos por un valor que represente que sigue dado de alta:"
   ]
  },
  {
   "cell_type": "code",
   "execution_count": null,
   "id": "9b8f7fad32ae837d",
   "metadata": {
    "ExecuteTime": {
     "end_time": "2023-12-20T11:05:05.908579100Z",
     "start_time": "2023-12-20T11:05:05.734181800Z"
    },
    "collapsed": false
   },
   "outputs": [],
   "source": [
    "data_loader.data['DireccionesEvolucionHistorica_20231004.csv']['FECHA_DE_BAJA'] = data_loader.data['DireccionesEvolucionHistorica_20231004.csv']['FECHA_DE_BAJA'].fillna('--/--/----')"
   ]
  },
  {
   "cell_type": "markdown",
   "id": "44d148bf682fc67a",
   "metadata": {
    "ExecuteTime": {
     "end_time": "2023-12-20T10:24:09.515437100Z",
     "start_time": "2023-12-20T10:24:09.328000900Z"
    },
    "collapsed": false
   },
   "source": [
    "Para Tipo de número de policía, rellenaremos con el dato más habitual: PORTAL"
   ]
  },
  {
   "cell_type": "code",
   "execution_count": null,
   "id": "ae4df31ebd3ffe4d",
   "metadata": {
    "ExecuteTime": {
     "end_time": "2023-12-20T11:05:06.065620Z",
     "start_time": "2023-12-20T11:05:05.768987100Z"
    },
    "collapsed": false
   },
   "outputs": [],
   "source": [
    "tipoNDP = data_loader.data['DireccionesEvolucionHistorica_20231004.csv']['TIPO_NDP'].mode().iat[0]\n",
    "data_loader.data['DireccionesEvolucionHistorica_20231004.csv']['TIPO_NDP'] = data_loader.data['DireccionesEvolucionHistorica_20231004.csv']['TIPO_NDP'].fillna(tipoNDP)"
   ]
  },
  {
   "cell_type": "markdown",
   "id": "b163ec9c56e9997d",
   "metadata": {
    "ExecuteTime": {
     "end_time": "2023-12-20T10:24:09.517430600Z",
     "start_time": "2023-12-20T10:24:09.392993700Z"
    },
    "collapsed": false
   },
   "source": [
    "Para Calificador, como no sabemos realmente cuál es el criterio y la mayoría de datos son faltantes (322826 faltan de 371584), lo más prudente es eliminar la columna directamente"
   ]
  },
  {
   "cell_type": "code",
   "execution_count": null,
   "id": "bba9f65e884e8e32",
   "metadata": {
    "ExecuteTime": {
     "end_time": "2023-12-20T11:05:06.154761800Z",
     "start_time": "2023-12-20T11:05:05.851785900Z"
    },
    "collapsed": false
   },
   "outputs": [],
   "source": [
    "data_loader.data['DireccionesEvolucionHistorica_20231004.csv'] = data_loader.data['DireccionesEvolucionHistorica_20231004.csv'].drop('CALIFICADOR', axis=1)"
   ]
  },
  {
   "cell_type": "code",
   "execution_count": null,
   "id": "8e0bcbee8072aedf",
   "metadata": {
    "ExecuteTime": {
     "end_time": "2023-12-20T11:05:06.650063200Z",
     "start_time": "2023-12-20T11:05:06.005585200Z"
    },
    "collapsed": false
   },
   "outputs": [],
   "source": [
    "data_loader.get_info('DireccionesEvolucionHistorica_20231004.csv')"
   ]
  },
  {
   "cell_type": "markdown",
   "id": "b9ef6c57a553c5c8",
   "metadata": {
    "ExecuteTime": {
     "end_time": "2023-12-20T10:24:10.368287400Z",
     "start_time": "2023-12-20T10:24:09.618008600Z"
    },
    "collapsed": false
   },
   "source": [
    "Efectivamente no quedan Missing Values. Pasamos a las direcciones vigentes:"
   ]
  },
  {
   "cell_type": "code",
   "execution_count": null,
   "id": "4f82e37e67a7882f",
   "metadata": {
    "ExecuteTime": {
     "end_time": "2023-12-20T11:05:06.827823800Z",
     "start_time": "2023-12-20T11:05:06.625050900Z"
    },
    "collapsed": false
   },
   "outputs": [],
   "source": [
    "data_loader.get_info('DireccionesVigentes_20231004.csv')"
   ]
  },
  {
   "cell_type": "markdown",
   "id": "aeb871bbb35080c3",
   "metadata": {
    "ExecuteTime": {
     "end_time": "2023-12-20T10:24:10.786415300Z",
     "start_time": "2023-12-20T10:24:10.342056500Z"
    },
    "collapsed": false
   },
   "source": [
    "Faltan valores en Vía Par (3381) y en Calificador (178838), los sustituimos con el mismo criterio que en el dataset anterior:"
   ]
  },
  {
   "cell_type": "code",
   "execution_count": null,
   "id": "a0e93663ef57a9d0",
   "metadata": {
    "ExecuteTime": {
     "end_time": "2023-12-20T11:05:06.968630300Z",
     "start_time": "2023-12-20T11:05:06.813188800Z"
    },
    "collapsed": false
   },
   "outputs": [],
   "source": [
    "data_loader.data['DireccionesVigentes_20231004.csv']['VIA_PAR'] = data_loader.data['DireccionesVigentes_20231004.csv']['VIA_PAR'].fillna(' ')"
   ]
  },
  {
   "cell_type": "code",
   "execution_count": null,
   "id": "e50e3f26ec95b96c",
   "metadata": {
    "ExecuteTime": {
     "end_time": "2023-12-20T11:05:06.969132900Z",
     "start_time": "2023-12-20T11:05:06.843209600Z"
    },
    "collapsed": false
   },
   "outputs": [],
   "source": [
    "data_loader.data['DireccionesVigentes_20231004.csv'] = data_loader.data['DireccionesVigentes_20231004.csv'].drop('CALIFICADOR', axis=1)"
   ]
  },
  {
   "cell_type": "code",
   "execution_count": null,
   "id": "3411e74e317e1a85",
   "metadata": {
    "ExecuteTime": {
     "end_time": "2023-12-20T11:05:08.041227Z",
     "start_time": "2023-12-20T11:05:06.936489200Z"
    },
    "collapsed": false
   },
   "outputs": [],
   "source": [
    "data_loader.get_info('DireccionesVigentes_20231004.csv')"
   ]
  },
  {
   "cell_type": "markdown",
   "id": "df40afa8bfe1448a",
   "metadata": {
    "ExecuteTime": {
     "end_time": "2023-12-20T10:24:11.283087900Z",
     "start_time": "2023-12-20T10:24:10.894079200Z"
    },
    "collapsed": false
   },
   "source": [
    "Pasamos al dataset estrella: radares."
   ]
  },
  {
   "cell_type": "code",
   "execution_count": null,
   "id": "87ebf931090f5b36",
   "metadata": {
    "ExecuteTime": {
     "end_time": "2023-12-20T11:05:08.047443700Z",
     "start_time": "2023-12-20T11:05:08.010840800Z"
    },
    "collapsed": false
   },
   "outputs": [],
   "source": [
    "data_loader.get_info('RADARES_FIJOS_vDTT.csv')\n",
    "data_loader.data['RADARES_FIJOS_vDTT.csv']"
   ]
  },
  {
   "cell_type": "markdown",
   "id": "2d905c8e47009d00",
   "metadata": {
    "ExecuteTime": {
     "end_time": "2023-12-20T10:24:11.355667800Z",
     "start_time": "2023-12-20T10:24:11.276738Z"
    },
    "collapsed": false
   },
   "source": [
    "Carretera o vial, PK, sentido y tipo tienen muy poca frecuencia de NaNs, por lo que solo sustituimos por los valores más frecuentes"
   ]
  },
  {
   "cell_type": "code",
   "execution_count": null,
   "id": "26e0c08228f8afa9",
   "metadata": {
    "ExecuteTime": {
     "end_time": "2023-12-20T11:05:08.047443700Z",
     "start_time": "2023-12-20T11:05:08.020698100Z"
    },
    "collapsed": false
   },
   "outputs": [],
   "source": [
    "carretera = data_loader.data['RADARES_FIJOS_vDTT.csv']['CARRETARA_O_VIAL'].mode().iat[0]\n",
    "pk = data_loader.data['RADARES_FIJOS_vDTT.csv']['PK'].mode().iat[0]\n",
    "sentido = data_loader.data['RADARES_FIJOS_vDTT.csv']['SENTIDO'].mode().iat[0]\n",
    "tipo = data_loader.data['RADARES_FIJOS_vDTT.csv']['TIPO'].mode().iat[0]\n",
    "\n",
    "data_loader.data['RADARES_FIJOS_vDTT.csv']['CARRETARA_O_VIAL'] = data_loader.data['RADARES_FIJOS_vDTT.csv']['CARRETARA_O_VIAL'].fillna(carretera)\n",
    "data_loader.data['RADARES_FIJOS_vDTT.csv']['PK'] = data_loader.data['RADARES_FIJOS_vDTT.csv']['PK'].fillna(pk)\n",
    "data_loader.data['RADARES_FIJOS_vDTT.csv']['SENTIDO'] = data_loader.data['RADARES_FIJOS_vDTT.csv']['SENTIDO'].fillna(sentido)\n",
    "data_loader.data['RADARES_FIJOS_vDTT.csv']['TIPO'] = data_loader.data['RADARES_FIJOS_vDTT.csv']['TIPO'].fillna(tipo)"
   ]
  },
  {
   "cell_type": "code",
   "execution_count": null,
   "id": "3ca4f5a1e0c803c8",
   "metadata": {
    "ExecuteTime": {
     "end_time": "2023-12-20T11:05:08.051702600Z",
     "start_time": "2023-12-20T11:05:08.020698100Z"
    },
    "collapsed": false
   },
   "outputs": [],
   "source": [
    "data_loader.get_info('RADARES_FIJOS_vDTT.csv')"
   ]
  },
  {
   "cell_type": "code",
   "execution_count": null,
   "id": "e3b3221a",
   "metadata": {
    "ExecuteTime": {
     "end_time": "2023-12-20T11:05:08.051702600Z",
     "start_time": "2023-12-20T11:05:08.021699400Z"
    }
   },
   "outputs": [],
   "source": [
    "data_loader.data['RADARES_FIJOS_vDTT.csv'].loc[11, 'X_(WGS84)'] = 441011.00\n",
    "data_loader.data['RADARES_FIJOS_vDTT.csv'].loc[11, 'Y_(WGS84)'] = 4470920.00\n",
    "\n",
    "data_loader.data['RADARES_FIJOS_vDTT.csv'].loc[14, 'X_(WGS84)'] = 439732.00\n",
    "data_loader.data['RADARES_FIJOS_vDTT.csv'].loc[14, 'Y_(WGS84)'] = 4470920.00"
   ]
  },
  {
   "cell_type": "markdown",
   "id": "38e979c862be7478",
   "metadata": {
    "ExecuteTime": {
     "end_time": "2023-12-20T10:24:11.526423600Z",
     "start_time": "2023-12-20T10:24:11.351636300Z"
    },
    "collapsed": false
   },
   "source": [
    "A continuación identificamos los faltantes en la evolución histórica de viales:\n"
   ]
  },
  {
   "cell_type": "code",
   "execution_count": null,
   "id": "739ceaa025ea1e68",
   "metadata": {
    "ExecuteTime": {
     "end_time": "2023-12-20T11:05:08.051702600Z",
     "start_time": "2023-12-20T11:05:08.021846700Z"
    },
    "collapsed": false
   },
   "outputs": [],
   "source": [
    "data_loader.get_info('VialesEvolucionHistorica_20231004.csv')\n",
    "data_loader.data['VialesEvolucionHistorica_20231004.csv']"
   ]
  },
  {
   "cell_type": "markdown",
   "id": "d0d8a01fa01d3990",
   "metadata": {
    "ExecuteTime": {
     "end_time": "2023-12-20T10:24:11.694178100Z",
     "start_time": "2023-12-20T10:24:11.364035300Z"
    },
    "collapsed": false
   },
   "source": [
    "Faltan VIA_PAR y FECHA_DE_BAJA, que ya se han tratado en dataframes previos y manejaremos de la misma manera:"
   ]
  },
  {
   "cell_type": "code",
   "execution_count": null,
   "id": "e955cbac059f661a",
   "metadata": {
    "ExecuteTime": {
     "end_time": "2023-12-20T11:05:08.053815500Z",
     "start_time": "2023-12-20T11:05:08.021846700Z"
    },
    "collapsed": false
   },
   "outputs": [],
   "source": [
    "data_loader.data['VialesEvolucionHistorica_20231004.csv']['VIA_PAR'] = data_loader.data['VialesEvolucionHistorica_20231004.csv']['VIA_PAR'].fillna(' ')\n",
    "data_loader.data['VialesEvolucionHistorica_20231004.csv']['FECHA_DE_BAJA'] = data_loader.data['VialesEvolucionHistorica_20231004.csv']['FECHA_DE_BAJA'].fillna('--/--/----')"
   ]
  },
  {
   "cell_type": "code",
   "execution_count": null,
   "id": "644265a90f2738f4",
   "metadata": {
    "ExecuteTime": {
     "end_time": "2023-12-20T11:05:08.053815500Z",
     "start_time": "2023-12-20T11:05:08.021846700Z"
    },
    "collapsed": false
   },
   "outputs": [],
   "source": [
    "data_loader.get_info('VialesEvolucionHistorica_20231004.csv')"
   ]
  },
  {
   "cell_type": "markdown",
   "id": "c0c1cf0193600a6a",
   "metadata": {
    "ExecuteTime": {
     "end_time": "2023-12-20T10:24:11.748696600Z",
     "start_time": "2023-12-20T10:24:11.426211Z"
    },
    "collapsed": false
   },
   "source": [
    "Pasamos al dataframe de viales vigentes distritos barrios:"
   ]
  },
  {
   "cell_type": "code",
   "execution_count": null,
   "id": "cf24c803b1fda249",
   "metadata": {
    "ExecuteTime": {
     "end_time": "2023-12-20T11:05:08.175526600Z",
     "start_time": "2023-12-20T11:05:08.034243300Z"
    },
    "collapsed": false
   },
   "outputs": [],
   "source": [
    "data_loader.get_info('VialesVigentesDistritosBarrios_20231004.csv')\n",
    "data_loader.data['VialesVigentesDistritosBarrios_20231004.csv']"
   ]
  },
  {
   "cell_type": "markdown",
   "id": "87a176100893c4a7",
   "metadata": {
    "ExecuteTime": {
     "end_time": "2023-12-20T10:24:11.748696600Z",
     "start_time": "2023-12-20T10:24:11.467351700Z"
    },
    "collapsed": false
   },
   "source": [
    "VIA_PAR hacemos la misma solución que previamente:"
   ]
  },
  {
   "cell_type": "code",
   "execution_count": null,
   "id": "d1858f7329ca7cdd",
   "metadata": {
    "ExecuteTime": {
     "end_time": "2023-12-20T11:05:08.336972Z",
     "start_time": "2023-12-20T11:05:08.069150800Z"
    },
    "collapsed": false
   },
   "outputs": [],
   "source": [
    "data_loader.data['VialesVigentesDistritosBarrios_20231004.csv']['VIA_PAR'] = data_loader.data['VialesVigentesDistritosBarrios_20231004.csv']['VIA_PAR'].fillna(' ')"
   ]
  },
  {
   "cell_type": "markdown",
   "id": "de63dc5a5cefba5e",
   "metadata": {
    "ExecuteTime": {
     "end_time": "2023-12-20T10:24:11.748696600Z",
     "start_time": "2023-12-20T10:24:11.510180300Z"
    },
    "collapsed": false
   },
   "source": [
    "PAR_MIN, PAR_MAX, IMPAR_MAX e IMPAR_MIN tienen un valor para los casos en los que no hay calificador: '-', y es lo que usaremos para sustituir los datos faltantes."
   ]
  },
  {
   "cell_type": "code",
   "execution_count": null,
   "id": "2a9308beaa5604b6",
   "metadata": {
    "ExecuteTime": {
     "end_time": "2023-12-20T11:05:08.352914900Z",
     "start_time": "2023-12-20T11:05:08.075105100Z"
    },
    "collapsed": false
   },
   "outputs": [],
   "source": [
    "data_loader.data['VialesVigentesDistritosBarrios_20231004.csv']['IMPAR_MAX'] = data_loader.data['VialesVigentesDistritosBarrios_20231004.csv']['IMPAR_MAX'].fillna('-')\n",
    "data_loader.data['VialesVigentesDistritosBarrios_20231004.csv']['IMPAR_MIN'] = data_loader.data['VialesVigentesDistritosBarrios_20231004.csv']['IMPAR_MIN'].fillna('-')\n",
    "data_loader.data['VialesVigentesDistritosBarrios_20231004.csv']['PAR_MAX'] = data_loader.data['VialesVigentesDistritosBarrios_20231004.csv']['PAR_MAX'].fillna('-')\n",
    "data_loader.data['VialesVigentesDistritosBarrios_20231004.csv']['PAR_MIN'] = data_loader.data['VialesVigentesDistritosBarrios_20231004.csv']['PAR_MIN'].fillna('-')"
   ]
  },
  {
   "cell_type": "markdown",
   "id": "6f0e9cc95e7b61",
   "metadata": {
    "ExecuteTime": {
     "end_time": "2023-12-20T10:24:11.779332600Z",
     "start_time": "2023-12-20T10:24:11.523162100Z"
    },
    "collapsed": false
   },
   "source": [
    "Pasamos a viales vigentes distritos:"
   ]
  },
  {
   "cell_type": "code",
   "execution_count": null,
   "id": "bf8887ac2c174220",
   "metadata": {
    "ExecuteTime": {
     "end_time": "2023-12-20T11:05:08.391150700Z",
     "start_time": "2023-12-20T11:05:08.084848300Z"
    },
    "collapsed": false
   },
   "outputs": [],
   "source": [
    "data_loader.get_info('VialesVigentesDistritos_20231004.csv')\n",
    "data_loader.data['VialesVigentesDistritos_20231004.csv']"
   ]
  },
  {
   "cell_type": "code",
   "execution_count": null,
   "id": "150befcd8408be60",
   "metadata": {
    "ExecuteTime": {
     "end_time": "2023-12-20T11:05:08.391150700Z",
     "start_time": "2023-12-20T11:05:08.107610800Z"
    },
    "collapsed": false
   },
   "outputs": [],
   "source": [
    "data_loader.data['VialesVigentesDistritos_20231004.csv']['VIA_PAR'] = data_loader.data['VialesVigentesDistritos_20231004.csv']['VIA_PAR'].fillna(' ')\n",
    "data_loader.data['VialesVigentesDistritos_20231004.csv']['IMPAR_MAX'] = data_loader.data['VialesVigentesDistritos_20231004.csv']['IMPAR_MAX'].fillna('-')\n",
    "data_loader.data['VialesVigentesDistritos_20231004.csv']['IMPAR_MIN'] = data_loader.data['VialesVigentesDistritos_20231004.csv']['IMPAR_MIN'].fillna('-')\n",
    "data_loader.data['VialesVigentesDistritos_20231004.csv']['PAR_MAX'] = data_loader.data['VialesVigentesDistritos_20231004.csv']['PAR_MAX'].fillna('-')\n",
    "data_loader.data['VialesVigentesDistritos_20231004.csv']['PAR_MIN'] = data_loader.data['VialesVigentesDistritos_20231004.csv']['PAR_MIN'].fillna('-')"
   ]
  },
  {
   "cell_type": "markdown",
   "id": "1dc8314cb0cb69c8",
   "metadata": {
    "ExecuteTime": {
     "end_time": "2023-12-20T10:24:11.782676900Z",
     "start_time": "2023-12-20T10:24:11.578057500Z"
    },
    "collapsed": false
   },
   "source": [
    "Pasamos al último dataset: viales vigentes a 4/10/2023"
   ]
  },
  {
   "cell_type": "code",
   "execution_count": null,
   "id": "f4e6ce39904327ec",
   "metadata": {
    "ExecuteTime": {
     "end_time": "2023-12-20T11:05:08.391150700Z",
     "start_time": "2023-12-20T11:05:08.118536500Z"
    },
    "collapsed": false
   },
   "outputs": [],
   "source": [
    "data_loader.get_info('VialesVigentes_20231004.csv')\n",
    "data_loader.data['VialesVigentes_20231004.csv']"
   ]
  },
  {
   "cell_type": "markdown",
   "id": "d4e16e380fe162eb",
   "metadata": {
    "ExecuteTime": {
     "end_time": "2023-12-20T10:24:12.025510400Z",
     "start_time": "2023-12-20T10:24:11.653762200Z"
    },
    "collapsed": false
   },
   "source": [
    "Particula termina y partícula comienza está estrechamente relacionada con vía par, por lo que la sustitución de valores es igual"
   ]
  },
  {
   "cell_type": "code",
   "execution_count": null,
   "id": "b927758b032f83cd",
   "metadata": {
    "ExecuteTime": {
     "end_time": "2023-12-20T11:05:08.391150700Z",
     "start_time": "2023-12-20T11:05:08.138421700Z"
    },
    "collapsed": false
   },
   "outputs": [],
   "source": [
    "data_loader.data['VialesVigentes_20231004.csv']['VIA_PAR'] = data_loader.data['VialesVigentes_20231004.csv']['VIA_PAR'].fillna(' ')\n",
    "data_loader.data['VialesVigentes_20231004.csv']['PARTICULA_TERMINA'] = data_loader.data['VialesVigentes_20231004.csv']['PARTICULA_TERMINA'].fillna(' ')\n",
    "data_loader.data['VialesVigentes_20231004.csv']['PARTICULA_COMIENZA'] = data_loader.data['VialesVigentes_20231004.csv']['PARTICULA_COMIENZA'].fillna(' ')"
   ]
  },
  {
   "cell_type": "markdown",
   "id": "b407d7ca20ce92a2",
   "metadata": {
    "ExecuteTime": {
     "end_time": "2023-12-20T10:24:12.183157800Z",
     "start_time": "2023-12-20T10:24:11.694178100Z"
    },
    "collapsed": false
   },
   "source": [
    "### Análisis Descriptivo de los Datos\n",
    "A continuación, veremos, dataframe a dataframe, el análisis descriptivo\n"
   ]
  },
  {
   "cell_type": "code",
   "execution_count": null,
   "id": "cb5baaca6a903147",
   "metadata": {
    "ExecuteTime": {
     "end_time": "2023-12-20T11:05:08.391150700Z",
     "start_time": "2023-12-20T11:05:08.148312600Z"
    },
    "collapsed": false
   },
   "outputs": [],
   "source": [
    "for i in data.keys():\n",
    "    print(i)"
   ]
  },
  {
   "cell_type": "markdown",
   "id": "7c6445aace2ede28",
   "metadata": {
    "ExecuteTime": {
     "end_time": "2023-12-20T10:24:12.183157800Z",
     "start_time": "2023-12-20T10:24:11.760022800Z"
    },
    "collapsed": false
   },
   "source": [
    "Empezando con el dataframe de actuaciones bomberos:"
   ]
  },
  {
   "cell_type": "code",
   "execution_count": null,
   "id": "cd27515035700ee8",
   "metadata": {
    "ExecuteTime": {
     "end_time": "2023-12-20T11:05:08.432759200Z",
     "start_time": "2023-12-20T11:05:08.150044300Z"
    },
    "collapsed": false
   },
   "outputs": [],
   "source": [
    "data_loader.dataframe_summary('datasets/actuacionesBomberos')"
   ]
  },
  {
   "cell_type": "code",
   "execution_count": null,
   "id": "e035476b",
   "metadata": {
    "ExecuteTime": {
     "end_time": "2023-12-20T11:05:09.659722700Z",
     "start_time": "2023-12-20T11:05:08.180030400Z"
    }
   },
   "outputs": [],
   "source": [
    "pd.DataFrame.boxplot(data_loader.data['datasets/actuacionesBomberos'], column=['FUEGOS', 'DAÑOS_EN_CONSTRUCCION', 'SALVAMENTOS_Y_RESCATES','DAÑOS_POR_AGUA','INCIDENTES_DIVERSOS'], figsize=[15, 8])"
   ]
  },
  {
   "cell_type": "code",
   "execution_count": null,
   "id": "d44b9276",
   "metadata": {
    "ExecuteTime": {
     "end_time": "2023-12-20T11:05:09.659722700Z",
     "start_time": "2023-12-20T11:05:08.383545200Z"
    }
   },
   "outputs": [],
   "source": [
    "horas = ['HOR1', 'HOR2','HOR3', 'HOR4', 'HOR5', 'HOR6', 'HOR7', 'HOR8', 'HOR9', 'HOR10' , 'HOR11', 'HOR12', 'HOR13', 'HOR14', 'HOR15', 'HOR16', 'HOR17', 'HOR18', 'HOR19', 'HOR20', 'HOR21', 'HOR22', 'HOR23', 'HOR24']\n",
    "#data_loader.data['datasets/estaciones'].plot.bar(x=horas, y=)"
   ]
  },
  {
   "cell_type": "code",
   "execution_count": null,
   "id": "7d2e8240",
   "metadata": {
    "ExecuteTime": {
     "end_time": "2023-12-20T11:05:09.958546300Z",
     "start_time": "2023-12-20T11:05:08.388976700Z"
    }
   },
   "outputs": [],
   "source": [
    "data_loader.get_info('datasets/accidentalidad')"
   ]
  },
  {
   "cell_type": "markdown",
   "id": "9b75c00e",
   "metadata": {},
   "source": []
  },
  {
   "cell_type": "code",
   "execution_count": null,
   "id": "0ddb744f",
   "metadata": {
    "ExecuteTime": {
     "end_time": "2023-12-20T11:05:09.958546300Z",
     "start_time": "2023-12-20T11:05:08.576484100Z"
    }
   },
   "outputs": [],
   "source": [
    "data_loader.dataframe_summary('datasets/estaciones')"
   ]
  },
  {
   "cell_type": "markdown",
   "id": "d5283b12",
   "metadata": {
    "ExecuteTime": {
     "end_time": "2023-12-20T10:24:12.549576300Z",
     "start_time": "2023-12-20T10:24:12.214572100Z"
    }
   },
   "source": []
  },
  {
   "cell_type": "code",
   "execution_count": null,
   "id": "1323530a",
   "metadata": {
    "ExecuteTime": {
     "end_time": "2023-12-20T11:05:09.974175400Z",
     "start_time": "2023-12-20T11:05:08.580175900Z"
    }
   },
   "outputs": [],
   "source": [
    "data_loader.dataframe_summary('DireccionesEvolucionHistorica_20231004.csv')"
   ]
  },
  {
   "cell_type": "markdown",
   "id": "796c49a4",
   "metadata": {
    "ExecuteTime": {
     "end_time": "2023-12-20T10:24:12.886971600Z",
     "start_time": "2023-12-20T10:24:12.423444200Z"
    }
   },
   "source": []
  },
  {
   "cell_type": "code",
   "execution_count": null,
   "id": "809a96c0",
   "metadata": {
    "ExecuteTime": {
     "end_time": "2023-12-20T11:05:09.974175400Z",
     "start_time": "2023-12-20T11:05:08.583496400Z"
    }
   },
   "outputs": [],
   "source": [
    "data_loader.dataframe_summary('DireccionesVigentes_20231004.csv')"
   ]
  },
  {
   "cell_type": "markdown",
   "id": "1c667f6a",
   "metadata": {
    "ExecuteTime": {
     "end_time": "2023-12-20T10:24:12.958451500Z",
     "start_time": "2023-12-20T10:24:12.711333700Z"
    }
   },
   "source": []
  },
  {
   "cell_type": "code",
   "execution_count": null,
   "id": "f71c74d4",
   "metadata": {
    "ExecuteTime": {
     "end_time": "2023-12-20T11:05:09.974175400Z",
     "start_time": "2023-12-20T11:05:08.586569600Z"
    }
   },
   "outputs": [],
   "source": [
    "data_loader.dataframe_summary('iluminacion.csv')"
   ]
  },
  {
   "cell_type": "markdown",
   "id": "11f778af",
   "metadata": {
    "ExecuteTime": {
     "end_time": "2023-12-20T10:24:13.152560500Z",
     "start_time": "2023-12-20T10:24:12.902719500Z"
    }
   },
   "source": []
  },
  {
   "cell_type": "code",
   "execution_count": null,
   "id": "9512cba9",
   "metadata": {
    "ExecuteTime": {
     "end_time": "2023-12-20T11:05:09.974175400Z",
     "start_time": "2023-12-20T11:05:08.589925300Z"
    }
   },
   "outputs": [],
   "source": [
    "data_loader.dataframe_summary('padron22.csv')"
   ]
  },
  {
   "cell_type": "markdown",
   "id": "948cdaa58aab5592",
   "metadata": {
    "ExecuteTime": {
     "end_time": "2023-12-20T10:24:13.272382900Z",
     "start_time": "2023-12-20T10:24:13.147178700Z"
    }
   },
   "source": []
  },
  {
   "cell_type": "code",
   "execution_count": null,
   "id": "55693a1d",
   "metadata": {},
   "outputs": [],
   "source": [
    "data_loader.dataframe_summary('RADARES_FIJOS_vDTT.csv')"
   ]
  },
  {
   "cell_type": "markdown",
   "id": "b05a3b11",
   "metadata": {},
   "source": []
  },
  {
   "cell_type": "code",
   "execution_count": null,
   "id": "defa7673",
   "metadata": {},
   "outputs": [],
   "source": [
    "data_loader.dataframe_summary('VialesEvolucionHistorica_20231004.csv')"
   ]
  },
  {
   "cell_type": "markdown",
   "id": "35f643a3",
   "metadata": {},
   "source": []
  },
  {
   "cell_type": "code",
   "execution_count": null,
   "id": "f839b9c0",
   "metadata": {},
   "outputs": [],
   "source": [
    "data_loader.dataframe_summary('VialesVigentesDistritosBarrios_20231004.csv')"
   ]
  },
  {
   "cell_type": "markdown",
   "id": "38450f89",
   "metadata": {},
   "source": []
  },
  {
   "cell_type": "code",
   "execution_count": null,
   "id": "ce53a31d",
   "metadata": {},
   "outputs": [],
   "source": [
    "data_loader.dataframe_summary('VialesVigentesDistritos_20231004.csv')"
   ]
  },
  {
   "cell_type": "markdown",
   "id": "564a4d70",
   "metadata": {},
   "source": []
  },
  {
   "cell_type": "code",
   "execution_count": null,
   "id": "a27d1410",
   "metadata": {},
   "outputs": [],
   "source": [
    "data_loader.dataframe_summary('VialesVigentes_20231004.csv')"
   ]
  },
  {
   "cell_type": "markdown",
   "id": "dce4901c45ba66b4",
   "metadata": {
    "collapsed": false
   },
   "source": [
    "\n",
    "Tabla de frecuencia relativa de accidentes por distritos. En esta tabla se obtiene la frecuencia de accidentes en todos los distritos de madrid, esto hace que se pueda obtener también el tráfico de coches en el distrito. Aunque no sea una relación proporcional, a mayor número de accidentes supone un tráfico mayor en la zona."
   ]
  },
  {
   "cell_type": "code",
   "execution_count": null,
   "id": "d70f9fd41f615607",
   "metadata": {
    "ExecuteTime": {
     "end_time": "2023-12-20T11:05:11.648469100Z",
     "start_time": "2023-12-20T11:05:08.590506300Z"
    },
    "collapsed": false
   },
   "outputs": [],
   "source": [
    "data_loader.data['datasets/accidentalidad']['DISTRITO'] = data_loader.data['datasets/accidentalidad']['DISTRITO'].astype(str)\n",
    "CSVDataLoader.create_graph(data_loader.data['datasets/accidentalidad'], 'DISTRITO', 'accidentes por distrito')"
   ]
  },
  {
   "cell_type": "markdown",
   "id": "497870164c2d82ad",
   "metadata": {
    "collapsed": false
   },
   "source": [
    "Tabla comparativa que muestra los accidentes donde la persona que lo ha padecido ha dado positivo en alcohol."
   ]
  },
  {
   "cell_type": "code",
   "execution_count": null,
   "id": "2d3e2067238bb9c0",
   "metadata": {
    "ExecuteTime": {
     "end_time": "2023-12-20T11:05:11.988501300Z",
     "start_time": "2023-12-20T11:05:09.838143300Z"
    },
    "collapsed": false
   },
   "outputs": [],
   "source": [
    "accidentes = data_loader.data['datasets/accidentalidad']\n",
    "positivos = accidentes[accidentes['POSITIVA_ALCOHOL'] == 'S']\n",
    "negativos = accidentes[accidentes['POSITIVA_ALCOHOL'] == 'N']\n",
    "labels = ['Positivo en Alcohol', 'Negativo en Alcohol', 'No se realizó la prueba']\n",
    "values = [len(positivos), len(negativos), len(accidentes) - len(positivos) - len(negativos)]\n",
    "plt.bar(labels, values)\n",
    "plt.xlabel('Resultado de Alcohol')\n",
    "plt.ylabel('Número de Accidentes')\n",
    "plt.title('Comparación de Accidentes con y sin Positivo en Alcohol')\n",
    "plt.show()"
   ]
  },
  {
   "cell_type": "markdown",
   "id": "cb565aef2c2b75e5",
   "metadata": {
    "ExecuteTime": {
     "end_time": "2023-12-20T10:11:16.835615Z",
     "start_time": "2023-12-20T10:11:15.894873500Z"
    },
    "collapsed": false
   },
   "source": [
    "Tabla comparativo donde la persona que ha padecido el accidente ha dado positivo en drogas."
   ]
  },
  {
   "cell_type": "code",
   "execution_count": null,
   "id": "fa1d86625f10a896",
   "metadata": {
    "ExecuteTime": {
     "end_time": "2023-12-20T11:05:12.162575100Z",
     "start_time": "2023-12-20T11:05:10.112883400Z"
    },
    "collapsed": false
   },
   "outputs": [],
   "source": [
    "accidentes = data_loader.data['datasets/accidentalidad']\n",
    "positivos = accidentes[accidentes['POSITIVA_DROGA'] == 1]\n",
    "negativos = accidentes[accidentes['POSITIVA_DROGA'] == 0]\n",
    "labels = ['Positivo en Drogas', 'Negativo en Drogas']\n",
    "values = [len(positivos), len(negativos)]\n",
    "plt.bar(labels, values)\n",
    "plt.xlabel('Resultado de Drogas')\n",
    "plt.ylabel('Número de Accidentes')\n",
    "plt.title('Comparación de Accidentes con y sin Positivo en Drogas')\n",
    "plt.show()"
   ]
  },
  {
   "cell_type": "markdown",
   "id": "f068efedb4cf5a7d",
   "metadata": {
    "ExecuteTime": {
     "end_time": "2023-12-20T10:11:17.044945Z",
     "start_time": "2023-12-20T10:11:16.835615Z"
    },
    "collapsed": false
   },
   "source": [
    "Tabla comparativa que relaciona los accidente en los que la persona ha dado positivo en alcohol y drogas"
   ]
  },
  {
   "cell_type": "code",
   "execution_count": null,
   "id": "ebf549ace378442e",
   "metadata": {
    "ExecuteTime": {
     "end_time": "2023-12-20T11:05:12.162575100Z",
     "start_time": "2023-12-20T11:05:11.185381400Z"
    },
    "collapsed": false
   },
   "outputs": [],
   "source": [
    "accidentes = data_loader.data['datasets/accidentalidad']\n",
    "positivos_alcohol = accidentes[accidentes['POSITIVA_ALCOHOL'] == 'S']\n",
    "positivos_drogas = accidentes[accidentes['POSITIVA_DROGA'] == 1]\n",
    "positivos_alcohol_drogas = positivos_alcohol[positivos_alcohol['POSITIVA_DROGA'] == 1]\n",
    "positivos_alcohol_drogas = len(positivos_alcohol_drogas)\n",
    "negativos = len(accidentes) - positivos_alcohol_drogas\n",
    "labels = ['Positivo en Alcohol y Drogas', 'Negativo en Alcohol y Drogas']\n",
    "values = [positivos_alcohol_drogas, negativos]\n",
    "plt.bar(labels, values)\n",
    "plt.xlabel('Resultado de Alcohol')\n",
    "plt.ylabel('Número de Accidentes')\n",
    "plt.title('Comparación de Accidentes con y sin Positivo en Alcohol')\n",
    "plt.show()"
   ]
  },
  {
   "cell_type": "code",
   "execution_count": null,
   "id": "1abb6fb352c875ab",
   "metadata": {
    "ExecuteTime": {
     "end_time": "2023-12-20T11:05:12.792118200Z",
     "start_time": "2023-12-20T11:05:11.397188Z"
    },
    "collapsed": false
   },
   "outputs": [],
   "source": [
    "accidentes = data_loader.data['datasets/accidentalidad']\n",
    "labels = accidentes['TIPO_ACCIDENTE'].unique()\n",
    "values = accidentes['TIPO_ACCIDENTE'].value_counts()\n",
    "percentages = (values / len(accidentes)) * 100\n",
    "plt.pie(values, shadow=True, startangle=90)\n",
    "plt.title('Tipos de Accidentes')\n",
    "legend_labels = [f'{label} ({percentage:.2f}%)' for label, percentage in zip(labels, percentages)]\n",
    "plt.legend(labels=legend_labels, loc='center left', bbox_to_anchor=(1.2, 0.5))\n",
    "plt.show()"
   ]
  },
  {
   "cell_type": "code",
   "execution_count": null,
   "id": "ddb61036",
   "metadata": {},
   "outputs": [],
   "source": [
    "# Create a cross-tabulation of TIPO_PERSONA and TIPO_ACCIDENTE\n",
    "cross_tab = pd.crosstab(accidentes['TIPO_PERSONA'], accidentes['TIPO_ACCIDENTE'])\n",
    "\n",
    "# Plotting the heatmap\n",
    "plt.figure(figsize=(10, 6))\n",
    "sns.heatmap(cross_tab, annot=True, cmap=\"YlGnBu\", fmt='g')\n",
    "plt.title('Relación tipo de accidente y tipo persona')\n",
    "plt.xlabel('Accidente')\n",
    "plt.ylabel('Persona')\n",
    "\n",
    "plt.show()"
   ]
  },
  {
   "cell_type": "code",
   "execution_count": null,
   "id": "902935f9",
   "metadata": {},
   "outputs": [],
   "source": [
    "# Create a faceted plot\n",
    "g = sns.FacetGrid(accidentes, col='LESIVIDAD', height=4, col_wrap=3)\n",
    "g.map_dataframe(sns.countplot, x='TIPO_PERSONA', hue='TIPO_ACCIDENTE', palette='Set1')\n",
    "g.set_axis_labels('TIPO_PERSONA', 'Count')\n",
    "g.set_titles(col_template='{col_name}')\n",
    "\n",
    "# Add a legend\n",
    "g.add_legend(title='TIPO_ACCIDENTE')\n",
    "\n",
    "plt.show()"
   ]
  },
  {
   "cell_type": "code",
   "execution_count": null,
   "id": "6b1d23d2",
   "metadata": {},
   "outputs": [],
   "source": [
    "# Filter the DataFrame for cases where TIPO_PERSONA is 'Driver'\n",
    "df_driver = accidentes[accidentes['TIPO_PERSONA'] == 'Conductor']\n",
    "\n",
    "# Create a grouped bar plot\n",
    "plt.figure(figsize=(10, 6))\n",
    "plot = sns.countplot(data=df_driver, x='LESIVIDAD', hue='TIPO_ACCIDENTE', palette='Set1')\n",
    "\n",
    "# Wrap the x-axis labels\n",
    "wrapped_labels = [textwrap.fill(label.get_text(), 10) for label in plot.get_xticklabels()]\n",
    "plot.set_xticklabels(wrapped_labels)\n",
    "\n",
    "plt.title('Relación entre tipo de lesividad y tipo de accidente para conductor')\n",
    "plt.xlabel('LESIVIDAD')\n",
    "plt.ylabel('Count')\n",
    "plt.legend(title='Accidente')\n",
    "\n",
    "plt.show()"
   ]
  },
  {
   "cell_type": "code",
   "execution_count": null,
   "id": "306ebc08",
   "metadata": {},
   "outputs": [],
   "source": [
    "df_dead = accidentes[accidentes['COD_LESIVIDAD'] == 4]\n",
    "\n",
    "# Create a grouped bar plot\n",
    "plt.figure(figsize=(10, 6))\n",
    "plot = sns.countplot(data=df_dead, x='TIPO_PERSONA', hue='TIPO_ACCIDENTE', palette='Set1')\n",
    "\n",
    "# Wrap the x-axis labels\n",
    "wrapped_labels = [textwrap.fill(label.get_text(), 10) for label in plot.get_xticklabels()]\n",
    "plot.set_xticklabels(wrapped_labels)\n",
    "\n",
    "plt.title('Relación entre tipo de persona y tipo de accidente que resultó en fallecimiento')\n",
    "plt.xlabel('LESIVIDAD')\n",
    "plt.ylabel('Count')\n",
    "plt.legend(title='Accidente')\n",
    "\n",
    "plt.show()"
   ]
  },
  {
   "cell_type": "code",
   "execution_count": null,
   "id": "642aae8a",
   "metadata": {},
   "outputs": [],
   "source": [
    "df_peaton = accidentes[(accidentes['TIPO_PERSONA'] == 'Peatón') & (accidentes['COD_LESIVIDAD'] == 4)]\n",
    "\n",
    "# Plot the count of ESTADO_METEOROLOGICO\n",
    "plt.figure(figsize=(8, 6))\n",
    "sns.countplot(data=df_peaton, x='ESTADO_METEOROLÓGICO', palette='dark')\n",
    "plt.title('Clima con víctimas mortales peatones')\n",
    "plt.show()"
   ]
  },
  {
   "cell_type": "code",
   "execution_count": null,
   "id": "3ac016cd",
   "metadata": {},
   "outputs": [],
   "source": [
    "estaciones = data_loader.data['datasets/estaciones']\n"
   ]
  },
  {
   "cell_type": "code",
   "execution_count": null,
   "id": "9aa3ee4f",
   "metadata": {},
   "outputs": [],
   "source": [
    "direccionesvigentes = data_loader.data['DireccionesVigentes_20231004.csv']"
   ]
  },
  {
   "cell_type": "code",
   "execution_count": null,
   "id": "9d51d4ef",
   "metadata": {},
   "outputs": [],
   "source": [
    "data_loader.get_info('padron22.csv')"
   ]
  },
  {
   "cell_type": "code",
   "execution_count": null,
   "id": "16e44f49",
   "metadata": {},
   "outputs": [],
   "source": [
    "data_loader.data['padron22.csv'] = data_loader.data['padron22.csv'].rename(columns={'TIPO_VEHÃCULO': 'TIPO_VEHICULO'})\n",
    "data_loader.data['padron22.csv'] = data_loader.data['padron22.csv'].rename(columns={'COD_TIPO_VEHÃCULO': 'COD_TIPO_VEHICULO'})\n",
    "\n",
    "padron = data_loader.data['padron22.csv']\n",
    "print(data_loader.data['padron22.csv']['COD_TIPO_VEHICULO'].unique())\n",
    "\n"
   ]
  },
  {
   "cell_type": "code",
   "execution_count": null,
   "id": "211ff804",
   "metadata": {},
   "outputs": [],
   "source": [
    "census_proportions = padron['TIPO_VEHICULO'].value_counts(normalize=True)\n",
    "\n",
    "accidentalidad_proportions = accidentes['TIPO_VEHICULO'].value_counts(normalize=True)\n",
    "\n",
    "value_mapping_dict = {\n",
    "    'Autobús': 'AUTOBUS',\n",
    "    'Autobus EMT': 'AUTOBUS',\n",
    "    'Autobús articulado': 'AUTOBUS',\n",
    "    'Autobús articulado EMT': 'AUTOBUS',\n",
    "    'Camión de bomberos': 'CAMION',\n",
    "    'Camión rígido': 'CAMION',\n",
    "    'Ciclomotor': 'CICLOMOTOR',\n",
    "    'Ciclomotor de tres ruedas': 'CICLOMOTOR',\n",
    "    'Ciclomotor de dos ruedas L1e-B': 'CICLOMOTOR',\n",
    "    'Moto de tres ruedas > 125cc': 'MOTOCICLETA',\n",
    "    'Moto de tres ruedas hasta 125cc': 'MOTOCICLETA',\n",
    "    'Motocicleta > 125cc': 'MOTOCICLETA',\n",
    "    'Motocicleta hasta 125cc': 'MOTOCICLETA',\n",
    "    'Remolque': 'REMOLQUE',\n",
    "    'Semirremolque': 'SEMIRREMOLQUE',\n",
    "    'Tractocamión': 'TRACTOR',\n",
    "    'Turismo': 'TURISMO',\n",
    "}\n",
    "\n",
    "columnasAcc = ['TIPO_VEHICULO', 'COD_LESIVIDAD', 'TIPO_ACCIDENTE']\n",
    "accidenteSubset = accidentes[columnasAcc]\n",
    "padronSubset = padron['TIPO_VEHICULO']\n",
    "\n",
    "\n",
    "accidenteSubset.loc[:, 'TIPO_VEHICULO'] = accidenteSubset['TIPO_VEHICULO'].replace(value_mapping_dict)\n",
    "\n",
    "# Merge the datasets on the common column(s)\n",
    "merged_data = pd.merge(accidenteSubset, padronSubset, on='TIPO_VEHICULO', how='inner')\n",
    "\n",
    "# Create a DataFrame with proportions for the merged data\n",
    "proportions_df = pd.DataFrame({\n",
    "    'Accidentalidad': merged_data['TIPO_VEHICULO'].value_counts(normalize=True),\n",
    "    'Census': merged_data['Proportion_Column'].value_counts(normalize=True)\n",
    "})\n",
    "\n",
    "proportions_df = pd.DataFrame({\n",
    "    'Census': census_proportions,\n",
    "    'Accidentalidad': accidentalidad_proportions\n",
    "})\n",
    "\n",
    "# Step 4: Compare Distributions using Heatmap\n",
    "plt.figure(figsize=(12, 6))\n",
    "\n",
    "sns.heatmap(proportions_df.T, annot=False, cmap=\"\", cbar=True)\n",
    "plt.title('Proportions of Vehicle Types in Census and Accidentalidad Datasets')\n",
    "\n",
    "\n",
    "plt.show()"
   ]
  },
  {
   "cell_type": "markdown",
   "id": "89fd5e376942949c",
   "metadata": {
    "ExecuteTime": {
     "end_time": "2023-12-20T10:24:13.764788200Z",
     "start_time": "2023-12-20T10:24:13.496499300Z"
    },
    "collapsed": false
   },
   "source": [
    "Este gráfico muestra los distintos tipos de accidentes registrados. Se puede ver que la colisión frontal-lateral y el alcance son las mauores causas de accidentes."
   ]
  },
  {
   "cell_type": "code",
   "execution_count": null,
   "id": "937efa42e8d40b66",
   "metadata": {
    "ExecuteTime": {
     "end_time": "2023-12-20T11:05:12.854867700Z",
     "start_time": "2023-12-20T11:05:12.070882300Z"
    },
    "collapsed": false
   },
   "outputs": [],
   "source": [
    "accidentes = data_loader.data['datasets/accidentalidad']\n",
    "labels = accidentes['LESIVIDAD'].unique()\n",
    "values = accidentes['LESIVIDAD'].value_counts()\n",
    "percentages = (values / len(accidentes)) * 100\n",
    "plt.pie(values, shadow=True, startangle=90)\n",
    "plt.title('Lesividad')\n",
    "legend_labels = [f'{label} ({percentage:.2f}%)' for label, percentage in zip(labels, percentages)]\n",
    "plt.legend(labels=legend_labels, loc='center left', bbox_to_anchor=(1, 0.5))\n",
    "plt.show()"
   ]
  },
  {
   "cell_type": "markdown",
   "id": "2d33ffb88e93acb",
   "metadata": {
    "ExecuteTime": {
     "end_time": "2023-12-20T10:24:13.766783700Z",
     "start_time": "2023-12-20T10:24:13.539827500Z"
    },
    "collapsed": false
   },
   "source": [
    "Este gráfico muestra el tipo de lesividad del accidente. Se aprecia que 3 de cada 4 personas no necesitan asistencia sanitaria."
   ]
  }
 ],
 "metadata": {
  "kernelspec": {
   "display_name": "Python 3",
   "language": "python",
   "name": "python3"
  },
  "language_info": {
   "codemirror_mode": {
    "name": "ipython",
    "version": 3
   },
   "file_extension": ".py",
   "mimetype": "text/x-python",
   "name": "python",
   "nbconvert_exporter": "python",
   "pygments_lexer": "ipython3",
   "version": "3.11.6"
  }
 },
 "nbformat": 4,
 "nbformat_minor": 5
}
